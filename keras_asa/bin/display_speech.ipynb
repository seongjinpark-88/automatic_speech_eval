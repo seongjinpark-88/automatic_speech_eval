{
 "cells": [
  {
   "cell_type": "markdown",
   "metadata": {
    "colab_type": "text",
    "id": "AWoGFqtmgRes"
   },
   "source": [
    "## Import Google Drive Here"
   ]
  },
  {
   "cell_type": "code",
   "execution_count": 0,
   "metadata": {
    "colab": {},
    "colab_type": "code",
    "id": "1RTlVrhHmBkP"
   },
   "outputs": [],
   "source": [
    "import torch"
   ]
  },
  {
   "cell_type": "code",
   "execution_count": 0,
   "metadata": {
    "colab": {
     "base_uri": "https://localhost:8080/",
     "height": 127
    },
    "colab_type": "code",
    "executionInfo": {
     "elapsed": 24721,
     "status": "ok",
     "timestamp": 1575267254865,
     "user": {
      "displayName": "Seongjin Park",
      "photoUrl": "",
      "userId": "18359754870170751753"
     },
     "user_tz": 420
    },
    "id": "f_yyBqtB0SVe",
    "outputId": "d00796a2-5280-4e25-fed0-096a58262732"
   },
   "outputs": [
    {
     "name": "stdout",
     "output_type": "stream",
     "text": [
      "Go to this URL in a browser: https://accounts.google.com/o/oauth2/auth?client_id=947318989803-6bn6qk8qdgf4n4g3pfee6491hc0brc4i.apps.googleusercontent.com&redirect_uri=urn%3aietf%3awg%3aoauth%3a2.0%3aoob&response_type=code&scope=email%20https%3a%2f%2fwww.googleapis.com%2fauth%2fdocs.test%20https%3a%2f%2fwww.googleapis.com%2fauth%2fdrive%20https%3a%2f%2fwww.googleapis.com%2fauth%2fdrive.photos.readonly%20https%3a%2f%2fwww.googleapis.com%2fauth%2fpeopleapi.readonly\n",
      "\n",
      "Enter your authorization code:\n",
      "··········\n",
      "Mounted at /content/drive\n"
     ]
    }
   ],
   "source": [
    "from google.colab import drive\n",
    "drive.mount('/content/drive')"
   ]
  },
  {
   "cell_type": "markdown",
   "metadata": {
    "colab_type": "text",
    "id": "MqLxW68mgbTL"
   },
   "source": [
    "## Import modules"
   ]
  },
  {
   "cell_type": "code",
   "execution_count": 0,
   "metadata": {
    "colab": {},
    "colab_type": "code",
    "id": "E-24mDdF0PK5"
   },
   "outputs": [],
   "source": [
    "import os\n",
    "import pickle\n",
    "\n",
    "from os.path import isdir, join\n",
    "from pathlib import Path\n",
    "\n",
    "import librosa\n",
    "import librosa.display\n",
    "\n",
    "import matplotlib.pyplot as plt\n",
    "%matplotlib inline\n",
    "\n",
    "import numpy as np\n",
    "import tensorflow as tf\n",
    "import keras\n",
    "from keras.models import Sequential, Model\n",
    "from keras.layers import Dense, Dropout, Flatten\n",
    "from keras.layers import Conv2D, MaxPooling2D, LSTM, GRU\n",
    "from keras.utils import to_categorical\n",
    "\n",
    "from sklearn.model_selection import train_test_split"
   ]
  },
  {
   "cell_type": "markdown",
   "metadata": {
    "colab_type": "text",
    "id": "04d_BZQkgeTp"
   },
   "source": [
    "## Check googld drive is mounted"
   ]
  },
  {
   "cell_type": "code",
   "execution_count": 0,
   "metadata": {
    "colab": {
     "base_uri": "https://localhost:8080/",
     "height": 161
    },
    "colab_type": "code",
    "executionInfo": {
     "elapsed": 1221,
     "status": "ok",
     "timestamp": 1575244026602,
     "user": {
      "displayName": "Seongjin Park",
      "photoUrl": "",
      "userId": "18359754870170751753"
     },
     "user_tz": 420
    },
    "id": "SLCejrVe0ok9",
    "outputId": "80f43c2e-500c-4252-9f07-db0e96ee8162"
   },
   "outputs": [
    {
     "name": "stdout",
     "output_type": "stream",
     "text": [
      " ASA2019NonNativeSpeech_edSP_JC.pptx   list1.csv\n",
      " ASA2019NonNativeSpeech_edSP.pptx      meeting03112019.txt\n",
      " ASA2019NonNativeSpeech.pptx\t       Participants_List_SeongjinPark.xlsx\n",
      " bin\t\t\t\t       Participants_List.xlsx\n",
      " experiment\t\t\t       pic\n",
      "'~$LabMeeting20181129.pptx'\t       reading.xlsx\n",
      " LabMeeting20181129.pptx\t       recordings\n",
      " letter_SeongjinPark.docx\t       result\n"
     ]
    }
   ],
   "source": [
    "!ls \"/content/drive/My Drive/ASR/\""
   ]
  },
  {
   "cell_type": "markdown",
   "metadata": {
    "colab_type": "text",
    "id": "dpE7GTb0gpoL"
   },
   "source": [
    "## Check the directory of WAV files"
   ]
  },
  {
   "cell_type": "code",
   "execution_count": 0,
   "metadata": {
    "colab": {
     "base_uri": "https://localhost:8080/",
     "height": 55
    },
    "colab_type": "code",
    "executionInfo": {
     "elapsed": 1216,
     "status": "ok",
     "timestamp": 1575244026603,
     "user": {
      "displayName": "Seongjin Park",
      "photoUrl": "",
      "userId": "18359754870170751753"
     },
     "user_tz": 420
    },
    "id": "llLMAaOM0PLF",
    "outputId": "9fbc0177-28c6-4809-fa9d-bea909af6609"
   },
   "outputs": [
    {
     "name": "stdout",
     "output_type": "stream",
     "text": [
      "['S25_How-Permanent-Are.wav', 'S05_Pam-Gives-Driving.wav', 'S09_Gently-Place-Jims.wav', 'S02_He-Ate-Four.wav', 'S24_Ralph-Prepared-Red.wav', 'S09_The-Surplus-Shoes.wav', 'S02_The-Tooth-Fairy.wav', 'S04_They-All-Like.wav', 'S19_Any-Organism-That.wav', 'S25_Gregory-And-Tom.wav']\n"
     ]
    }
   ],
   "source": [
    "audio_path = '/content/drive/My Drive/ASR/recordings/extract/wavs/'\n",
    "print(os.listdir(audio_path)[:10])"
   ]
  },
  {
   "cell_type": "code",
   "execution_count": 0,
   "metadata": {
    "colab": {},
    "colab_type": "code",
    "id": "Vi9us3Fj0PLM"
   },
   "outputs": [],
   "source": [
    "wav2idx = {}\n",
    "melspec_dict = {}\n",
    "mfcc_dict = {}\n",
    "wav_names = [wav for wav in os.listdir(audio_path) if wav.endswith(\"wav\")]\n",
    "\n",
    "samples = 132300\n",
    "max_len = 0\n",
    "\n",
    "for i, w in enumerate(wav_names):\n",
    "    wav2idx[w] = i\n",
    "    wav_path = audio_path + w\n",
    "    \n",
    "    y, sr = librosa.load(wav_path) \n",
    "    \n",
    "#     sample = sr * 5\n",
    "    \n",
    "    if 0 < len(y): # workaround: 0 length causes error\n",
    "        y, _ = librosa.effects.trim(y)\n",
    "\n",
    "    if len(y) > samples: # long enough\n",
    "        y = y[0:0+samples]\n",
    "\n",
    "    else: # pad blank\n",
    "        padding = samples - len(y)\n",
    "        offset = padding // 2\n",
    "        y = np.pad(y, (offset, samples - len(y) - offset), 'constant')\n",
    "    \n",
    "    \n",
    "    mel_data = librosa.feature.melspectrogram(y = y, sr= sr)\n",
    "    mfcc_data = librosa.feature.mfcc(y = y, sr = sr, n_mfcc = 13)\n",
    "    mfcc_delta = librosa.feature.delta(mfcc_data)\n",
    "    mfcc_delta2 = librosa.feature.delta(mfcc_data, order = 2)\n",
    "\n",
    "    mfcc = np.vstack((mfcc_data, mfcc_delta, mfcc_delta2))\n",
    "#     if (np.shape(mel_data)[1] > max_len):\n",
    "#         max_len = np.shape(mel_data)[1] \n",
    "    \n",
    "    melspec_dict[i] = mel_data\n",
    "    mfcc_dict[i] = mfcc"
   ]
  },
  {
   "cell_type": "code",
   "execution_count": 0,
   "metadata": {
    "colab": {
     "base_uri": "https://localhost:8080/",
     "height": 233
    },
    "colab_type": "code",
    "executionInfo": {
     "elapsed": 224295,
     "status": "ok",
     "timestamp": 1575244249692,
     "user": {
      "displayName": "Seongjin Park",
      "photoUrl": "",
      "userId": "18359754870170751753"
     },
     "user_tz": 420
    },
    "id": "ZBhKmyET0PLQ",
    "outputId": "d6f5a73e-65ba-484e-a3fd-d90e30678c44"
   },
   "outputs": [
    {
     "name": "stdout",
     "output_type": "stream",
     "text": [
      "0\n",
      "110250\n",
      "(128, 259)\n",
      "(128, 259)\n",
      "(128, 259)\n",
      "(128, 259)\n",
      "(128, 259)\n",
      "(128, 259)\n",
      "(128, 259)\n",
      "(128, 259)\n",
      "(128, 259)\n",
      "(128, 259)\n"
     ]
    }
   ],
   "source": [
    "print(max_len)\n",
    "print(sr * 5)\n",
    "for i in list(melspec_dict.keys())[:10]:\n",
    "    print(melspec_dict[i].shape)\n"
   ]
  },
  {
   "cell_type": "code",
   "execution_count": 0,
   "metadata": {
    "colab": {},
    "colab_type": "code",
    "id": "taWcxsPY0PLW"
   },
   "outputs": [],
   "source": [
    "with open(\"/content/drive/My Drive/ASR/result/fluency_data.csv\", \"r\") as f:\n",
    "    data = f.readlines()"
   ]
  },
  {
   "cell_type": "code",
   "execution_count": 0,
   "metadata": {
    "colab": {
     "base_uri": "https://localhost:8080/",
     "height": 53
    },
    "colab_type": "code",
    "executionInfo": {
     "elapsed": 225281,
     "status": "ok",
     "timestamp": 1575244250689,
     "user": {
      "displayName": "Seongjin Park",
      "photoUrl": "",
      "userId": "18359754870170751753"
     },
     "user_tz": 420
    },
    "id": "1_cFdo_Q0PLa",
    "outputId": "7095333c-1c99-4065-c29d-27b865e834c0"
   },
   "outputs": [
    {
     "name": "stdout",
     "output_type": "stream",
     "text": [
      "(11100, 39, 259)\n",
      "(11100,)\n"
     ]
    }
   ],
   "source": [
    "X = []\n",
    "Y = []\n",
    "\n",
    "zeros = np.zeros(128)\n",
    "for i in range(1, len(data)):\n",
    "    line = data[i].rstrip()\n",
    "    \n",
    "    accented, stim, wav_name = line.split(\",\")\n",
    "    wav_idx = wav2idx[wav_name]\n",
    "    \n",
    "#     x = np.zeros(shape = (128, max_len))\n",
    "    # x_data = np.vstack((melspec_dict[wav_idx],mfcc_dict[wav_idx]))\n",
    "    x_data = mfcc_dict[wav_idx]\n",
    "\n",
    "#     print(np.shape(x), np.shape(x_data))\n",
    "    \n",
    "#     for i in range(0, np.shape(x_data)[0]):\n",
    "#         for j in range(0, np.shape(x_data)[1]):\n",
    "#             x[i][j] = x_data[i][j]\n",
    "    \n",
    "    X.append(x_data)\n",
    "    Y.append(int(accented)-1)\n",
    "\n",
    "print(np.shape(X))\n",
    "print(np.shape(Y))"
   ]
  },
  {
   "cell_type": "code",
   "execution_count": 0,
   "metadata": {
    "colab": {
     "base_uri": "https://localhost:8080/",
     "height": 53
    },
    "colab_type": "code",
    "executionInfo": {
     "elapsed": 225430,
     "status": "ok",
     "timestamp": 1575244250845,
     "user": {
      "displayName": "Seongjin Park",
      "photoUrl": "",
      "userId": "18359754870170751753"
     },
     "user_tz": 420
    },
    "id": "sj3dtAOb0PLe",
    "outputId": "104195e0-10d6-4bad-912a-40cb52ee1eb8"
   },
   "outputs": [
    {
     "name": "stdout",
     "output_type": "stream",
     "text": [
      "(11100, 39, 259)\n",
      "(11100, 6)\n"
     ]
    }
   ],
   "source": [
    "Y_onehot = to_categorical(Y)\n",
    "print(np.shape(X))\n",
    "print(np.shape(Y_onehot))"
   ]
  },
  {
   "cell_type": "code",
   "execution_count": 0,
   "metadata": {
    "colab": {},
    "colab_type": "code",
    "id": "7xinzeES0PLi"
   },
   "outputs": [],
   "source": [
    "X_train, X_test, y_train, y_test = train_test_split(X, Y_onehot, test_size=0.3, random_state=42)"
   ]
  },
  {
   "cell_type": "code",
   "execution_count": 0,
   "metadata": {
    "colab": {},
    "colab_type": "code",
    "id": "4clwrKVg0PLn"
   },
   "outputs": [],
   "source": [
    "# hyperparameters\n",
    "lr = 0.001\n",
    "batch_size = 64\n",
    "drop_out_rate = 0.25\n",
    "num_dense_unit = 256\n",
    "num_epochs = 50\n",
    "\n",
    "num_classes = np.shape(Y_onehot)[1]\n",
    "num_mel = np.shape(X)[1]\n",
    "max_time = np.shape(X)[2]\n",
    "\n"
   ]
  },
  {
   "cell_type": "code",
   "execution_count": 0,
   "metadata": {
    "colab": {
     "base_uri": "https://localhost:8080/",
     "height": 53
    },
    "colab_type": "code",
    "executionInfo": {
     "elapsed": 226165,
     "status": "ok",
     "timestamp": 1575244251594,
     "user": {
      "displayName": "Seongjin Park",
      "photoUrl": "",
      "userId": "18359754870170751753"
     },
     "user_tz": 420
    },
    "id": "44kOZQpY0PLq",
    "outputId": "304f3dae-89c5-4be9-95b8-d73df68f6862"
   },
   "outputs": [
    {
     "name": "stdout",
     "output_type": "stream",
     "text": [
      "(7770, 39, 259, 1)\n",
      "(3330, 39, 259, 1)\n"
     ]
    }
   ],
   "source": [
    "# reshape\n",
    "input_shape = (num_mel, max_time, 1)\n",
    "X_train = np.array(X_train)\n",
    "X_test = np.array(X_test)\n",
    "\n",
    "X_train = X_train.reshape(X_train.shape[0], num_mel, max_time, 1)\n",
    "X_test = X_test.reshape(X_test.shape[0], num_mel, max_time, 1)\n",
    "print(np.shape(X_train))\n",
    "print(np.shape(X_test))"
   ]
  },
  {
   "cell_type": "code",
   "execution_count": 0,
   "metadata": {
    "colab": {
     "base_uri": "https://localhost:8080/",
     "height": 89
    },
    "colab_type": "code",
    "executionInfo": {
     "elapsed": 226280,
     "status": "ok",
     "timestamp": 1575244251716,
     "user": {
      "displayName": "Seongjin Park",
      "photoUrl": "",
      "userId": "18359754870170751753"
     },
     "user_tz": 420
    },
    "id": "_A0RMwrS0PLx",
    "outputId": "84329ced-1e99-4671-9529-91d2093715cb"
   },
   "outputs": [
    {
     "name": "stdout",
     "output_type": "stream",
     "text": [
      "X_train shape:  (7770, 39, 259, 1)\n",
      "7770 train samples\n",
      "3330 test samples\n",
      "(7770, 6) (3330, 6)\n"
     ]
    }
   ],
   "source": [
    "X_train = X_train.astype('float32')\n",
    "X_test = X_test.astype('float32')\n",
    "\n",
    "print('X_train shape: ', X_train.shape)\n",
    "print(X_train.shape[0], 'train samples')\n",
    "print(X_test.shape[0], 'test samples')\n",
    "print(np.shape(y_train), np.shape(y_test))"
   ]
  },
  {
   "cell_type": "code",
   "execution_count": 0,
   "metadata": {
    "colab": {
     "base_uri": "https://localhost:8080/",
     "height": 665
    },
    "colab_type": "code",
    "executionInfo": {
     "elapsed": 226666,
     "status": "ok",
     "timestamp": 1575244252110,
     "user": {
      "displayName": "Seongjin Park",
      "photoUrl": "",
      "userId": "18359754870170751753"
     },
     "user_tz": 420
    },
    "id": "4K_8B4hK0PL3",
    "outputId": "bf7c1edf-4fb3-497f-d9b0-43da96f11f72"
   },
   "outputs": [
    {
     "name": "stdout",
     "output_type": "stream",
     "text": [
      "Model: \"sequential_1\"\n",
      "_________________________________________________________________\n",
      "Layer (type)                 Output Shape              Param #   \n",
      "=================================================================\n",
      "conv2d_1 (Conv2D)            (None, 37, 257, 64)       640       \n",
      "_________________________________________________________________\n",
      "max_pooling2d_1 (MaxPooling2 (None, 18, 128, 64)       0         \n",
      "_________________________________________________________________\n",
      "dropout_1 (Dropout)          (None, 18, 128, 64)       0         \n",
      "_________________________________________________________________\n",
      "conv2d_2 (Conv2D)            (None, 16, 126, 32)       18464     \n",
      "_________________________________________________________________\n",
      "max_pooling2d_2 (MaxPooling2 (None, 8, 63, 32)         0         \n",
      "_________________________________________________________________\n",
      "dropout_2 (Dropout)          (None, 8, 63, 32)         0         \n",
      "_________________________________________________________________\n",
      "conv2d_3 (Conv2D)            (None, 7, 62, 16)         2064      \n",
      "_________________________________________________________________\n",
      "max_pooling2d_3 (MaxPooling2 (None, 3, 31, 16)         0         \n",
      "_________________________________________________________________\n",
      "flatten_1 (Flatten)          (None, 1488)              0         \n",
      "_________________________________________________________________\n",
      "dense_1 (Dense)              (None, 256)               381184    \n",
      "_________________________________________________________________\n",
      "dropout_3 (Dropout)          (None, 256)               0         \n",
      "_________________________________________________________________\n",
      "dense_2 (Dense)              (None, 128)               32896     \n",
      "_________________________________________________________________\n",
      "dropout_4 (Dropout)          (None, 128)               0         \n",
      "_________________________________________________________________\n",
      "dense_3 (Dense)              (None, 6)                 774       \n",
      "=================================================================\n",
      "Total params: 436,022\n",
      "Trainable params: 436,022\n",
      "Non-trainable params: 0\n",
      "_________________________________________________________________\n"
     ]
    }
   ],
   "source": [
    "model = Sequential()\n",
    "model.add(Conv2D(64, kernel_size = (3, 3), activation = 'relu', input_shape = input_shape))\n",
    "model.add(MaxPooling2D(pool_size = (2, 2)))\n",
    "model.add(Dropout(drop_out_rate))\n",
    "model.add(Conv2D(32, kernel_size = (3, 3), activation = 'relu'))\n",
    "model.add(MaxPooling2D(pool_size = (2, 2)))\n",
    "model.add(Dropout(drop_out_rate))\n",
    "model.add(Conv2D(16, kernel_size = (2, 2), activation = 'relu'))\n",
    "model.add(MaxPooling2D(pool_size = (2, 2)))\n",
    "# model.add(Dropout(drop_out_rate))\n",
    "# model.add(Conv2D(128, kernel_size = (3, 3), activation = 'relu'))\n",
    "# model.add(MaxPooling2D(pool_size = (2, 2)))\n",
    "# model.add(Dropout(drop_out_rate))\n",
    "# model.add(Conv2D(256, kernel_size = (3, 3), activation = 'relu'))\n",
    "# model.add(MaxPooling2D(pool_size = (2, 2)))\n",
    "# model.add(Dropout(drop_out_rate))\n",
    "model.add(Flatten())\n",
    "\n",
    "model.add(Dense(num_dense_unit, activation = 'relu'))\n",
    "model.add(Dropout(drop_out_rate))\n",
    "model.add(Dense(128, activation = 'relu'))\n",
    "model.add(Dropout(drop_out_rate))\n",
    "\n",
    "model.add(Dense(num_classes, activation = 'softmax'))\n",
    "\n",
    "# use adam optimizer\n",
    "adam = keras.optimizers.Adam(lr = lr)\n",
    "\n",
    "# compile the model\n",
    "model.compile(optimizer=adam, loss=\"categorical_crossentropy\", metrics=[\"accuracy\"])\n",
    "\n",
    "model.summary()"
   ]
  },
  {
   "cell_type": "code",
   "execution_count": 0,
   "metadata": {
    "colab": {},
    "colab_type": "code",
    "id": "b5vP4N3F0PL6"
   },
   "outputs": [],
   "source": [
    "from datetime import datetime\n",
    "logdir = \"logs/scalars/\" + datetime.now().strftime(\"%Y%m%d-%H%M%S\")\n",
    "tensorboard_callback = keras.callbacks.TensorBoard(log_dir=logdir)\n"
   ]
  },
  {
   "cell_type": "code",
   "execution_count": 0,
   "metadata": {
    "colab": {
     "base_uri": "https://localhost:8080/",
     "height": 430
    },
    "colab_type": "code",
    "executionInfo": {
     "elapsed": 33586,
     "status": "error",
     "timestamp": 1575250901623,
     "user": {
      "displayName": "Seongjin Park",
      "photoUrl": "",
      "userId": "18359754870170751753"
     },
     "user_tz": 420
    },
    "id": "MGDzFtVl0PL9",
    "outputId": "9b7ea543-4988-4a8a-d954-2ddeaf1baac7"
   },
   "outputs": [
    {
     "name": "stdout",
     "output_type": "stream",
     "text": [
      "Train on 7770 samples, validate on 3330 samples\n",
      "Epoch 1/50\n",
      "2048/7770 [======>.......................] - ETA: 1:28 - loss: 1.2649 - acc: 0.4731"
     ]
    },
    {
     "ename": "KeyboardInterrupt",
     "evalue": "ignored",
     "output_type": "error",
     "traceback": [
      "\u001b[0;31m---------------------------------------------------------------------------\u001b[0m",
      "\u001b[0;31mKeyboardInterrupt\u001b[0m                         Traceback (most recent call last)",
      "\u001b[0;32m<ipython-input-46-b2258b258865>\u001b[0m in \u001b[0;36m<module>\u001b[0;34m()\u001b[0m\n\u001b[1;32m      1\u001b[0m history = model.fit(X_train, y_train, batch_size = batch_size, epochs = 50, shuffle = False, class_weight = None,\n\u001b[0;32m----> 2\u001b[0;31m          verbose = 1, validation_data = (X_test, y_test), callbacks=[tensorboard_callback])\n\u001b[0m\u001b[1;32m      3\u001b[0m \u001b[0;34m\u001b[0m\u001b[0m\n\u001b[1;32m      4\u001b[0m \u001b[0mmodel\u001b[0m\u001b[0;34m.\u001b[0m\u001b[0msave\u001b[0m\u001b[0;34m(\u001b[0m\u001b[0;34m'/content/drive/My Drive/ASR/result/CNN_fluency_model_50_deltas.h5'\u001b[0m\u001b[0;34m)\u001b[0m\u001b[0;34m\u001b[0m\u001b[0;34m\u001b[0m\u001b[0m\n",
      "\u001b[0;32m/usr/local/lib/python3.6/dist-packages/keras/engine/training.py\u001b[0m in \u001b[0;36mfit\u001b[0;34m(self, x, y, batch_size, epochs, verbose, callbacks, validation_split, validation_data, shuffle, class_weight, sample_weight, initial_epoch, steps_per_epoch, validation_steps, validation_freq, max_queue_size, workers, use_multiprocessing, **kwargs)\u001b[0m\n\u001b[1;32m   1176\u001b[0m                                         \u001b[0msteps_per_epoch\u001b[0m\u001b[0;34m=\u001b[0m\u001b[0msteps_per_epoch\u001b[0m\u001b[0;34m,\u001b[0m\u001b[0;34m\u001b[0m\u001b[0;34m\u001b[0m\u001b[0m\n\u001b[1;32m   1177\u001b[0m                                         \u001b[0mvalidation_steps\u001b[0m\u001b[0;34m=\u001b[0m\u001b[0mvalidation_steps\u001b[0m\u001b[0;34m,\u001b[0m\u001b[0;34m\u001b[0m\u001b[0;34m\u001b[0m\u001b[0m\n\u001b[0;32m-> 1178\u001b[0;31m                                         validation_freq=validation_freq)\n\u001b[0m\u001b[1;32m   1179\u001b[0m \u001b[0;34m\u001b[0m\u001b[0m\n\u001b[1;32m   1180\u001b[0m     def evaluate(self,\n",
      "\u001b[0;32m/usr/local/lib/python3.6/dist-packages/keras/engine/training_arrays.py\u001b[0m in \u001b[0;36mfit_loop\u001b[0;34m(model, fit_function, fit_inputs, out_labels, batch_size, epochs, verbose, callbacks, val_function, val_inputs, shuffle, callback_metrics, initial_epoch, steps_per_epoch, validation_steps, validation_freq)\u001b[0m\n\u001b[1;32m    202\u001b[0m                     \u001b[0mins_batch\u001b[0m\u001b[0;34m[\u001b[0m\u001b[0mi\u001b[0m\u001b[0;34m]\u001b[0m \u001b[0;34m=\u001b[0m \u001b[0mins_batch\u001b[0m\u001b[0;34m[\u001b[0m\u001b[0mi\u001b[0m\u001b[0;34m]\u001b[0m\u001b[0;34m.\u001b[0m\u001b[0mtoarray\u001b[0m\u001b[0;34m(\u001b[0m\u001b[0;34m)\u001b[0m\u001b[0;34m\u001b[0m\u001b[0;34m\u001b[0m\u001b[0m\n\u001b[1;32m    203\u001b[0m \u001b[0;34m\u001b[0m\u001b[0m\n\u001b[0;32m--> 204\u001b[0;31m                 \u001b[0mouts\u001b[0m \u001b[0;34m=\u001b[0m \u001b[0mfit_function\u001b[0m\u001b[0;34m(\u001b[0m\u001b[0mins_batch\u001b[0m\u001b[0;34m)\u001b[0m\u001b[0;34m\u001b[0m\u001b[0;34m\u001b[0m\u001b[0m\n\u001b[0m\u001b[1;32m    205\u001b[0m                 \u001b[0mouts\u001b[0m \u001b[0;34m=\u001b[0m \u001b[0mto_list\u001b[0m\u001b[0;34m(\u001b[0m\u001b[0mouts\u001b[0m\u001b[0;34m)\u001b[0m\u001b[0;34m\u001b[0m\u001b[0;34m\u001b[0m\u001b[0m\n\u001b[1;32m    206\u001b[0m                 \u001b[0;32mfor\u001b[0m \u001b[0ml\u001b[0m\u001b[0;34m,\u001b[0m \u001b[0mo\u001b[0m \u001b[0;32min\u001b[0m \u001b[0mzip\u001b[0m\u001b[0;34m(\u001b[0m\u001b[0mout_labels\u001b[0m\u001b[0;34m,\u001b[0m \u001b[0mouts\u001b[0m\u001b[0;34m)\u001b[0m\u001b[0;34m:\u001b[0m\u001b[0;34m\u001b[0m\u001b[0;34m\u001b[0m\u001b[0m\n",
      "\u001b[0;32m/usr/local/lib/python3.6/dist-packages/keras/backend/tensorflow_backend.py\u001b[0m in \u001b[0;36m__call__\u001b[0;34m(self, inputs)\u001b[0m\n\u001b[1;32m   2977\u001b[0m                     \u001b[0;32mreturn\u001b[0m \u001b[0mself\u001b[0m\u001b[0;34m.\u001b[0m\u001b[0m_legacy_call\u001b[0m\u001b[0;34m(\u001b[0m\u001b[0minputs\u001b[0m\u001b[0;34m)\u001b[0m\u001b[0;34m\u001b[0m\u001b[0;34m\u001b[0m\u001b[0m\n\u001b[1;32m   2978\u001b[0m \u001b[0;34m\u001b[0m\u001b[0m\n\u001b[0;32m-> 2979\u001b[0;31m             \u001b[0;32mreturn\u001b[0m \u001b[0mself\u001b[0m\u001b[0;34m.\u001b[0m\u001b[0m_call\u001b[0m\u001b[0;34m(\u001b[0m\u001b[0minputs\u001b[0m\u001b[0;34m)\u001b[0m\u001b[0;34m\u001b[0m\u001b[0;34m\u001b[0m\u001b[0m\n\u001b[0m\u001b[1;32m   2980\u001b[0m         \u001b[0;32melse\u001b[0m\u001b[0;34m:\u001b[0m\u001b[0;34m\u001b[0m\u001b[0;34m\u001b[0m\u001b[0m\n\u001b[1;32m   2981\u001b[0m             \u001b[0;32mif\u001b[0m \u001b[0mpy_any\u001b[0m\u001b[0;34m(\u001b[0m\u001b[0mis_tensor\u001b[0m\u001b[0;34m(\u001b[0m\u001b[0mx\u001b[0m\u001b[0;34m)\u001b[0m \u001b[0;32mfor\u001b[0m \u001b[0mx\u001b[0m \u001b[0;32min\u001b[0m \u001b[0minputs\u001b[0m\u001b[0;34m)\u001b[0m\u001b[0;34m:\u001b[0m\u001b[0;34m\u001b[0m\u001b[0;34m\u001b[0m\u001b[0m\n",
      "\u001b[0;32m/usr/local/lib/python3.6/dist-packages/keras/backend/tensorflow_backend.py\u001b[0m in \u001b[0;36m_call\u001b[0;34m(self, inputs)\u001b[0m\n\u001b[1;32m   2935\u001b[0m             \u001b[0mfetched\u001b[0m \u001b[0;34m=\u001b[0m \u001b[0mself\u001b[0m\u001b[0;34m.\u001b[0m\u001b[0m_callable_fn\u001b[0m\u001b[0;34m(\u001b[0m\u001b[0;34m*\u001b[0m\u001b[0marray_vals\u001b[0m\u001b[0;34m,\u001b[0m \u001b[0mrun_metadata\u001b[0m\u001b[0;34m=\u001b[0m\u001b[0mself\u001b[0m\u001b[0;34m.\u001b[0m\u001b[0mrun_metadata\u001b[0m\u001b[0;34m)\u001b[0m\u001b[0;34m\u001b[0m\u001b[0;34m\u001b[0m\u001b[0m\n\u001b[1;32m   2936\u001b[0m         \u001b[0;32melse\u001b[0m\u001b[0;34m:\u001b[0m\u001b[0;34m\u001b[0m\u001b[0;34m\u001b[0m\u001b[0m\n\u001b[0;32m-> 2937\u001b[0;31m             \u001b[0mfetched\u001b[0m \u001b[0;34m=\u001b[0m \u001b[0mself\u001b[0m\u001b[0;34m.\u001b[0m\u001b[0m_callable_fn\u001b[0m\u001b[0;34m(\u001b[0m\u001b[0;34m*\u001b[0m\u001b[0marray_vals\u001b[0m\u001b[0;34m)\u001b[0m\u001b[0;34m\u001b[0m\u001b[0;34m\u001b[0m\u001b[0m\n\u001b[0m\u001b[1;32m   2938\u001b[0m         \u001b[0;32mreturn\u001b[0m \u001b[0mfetched\u001b[0m\u001b[0;34m[\u001b[0m\u001b[0;34m:\u001b[0m\u001b[0mlen\u001b[0m\u001b[0;34m(\u001b[0m\u001b[0mself\u001b[0m\u001b[0;34m.\u001b[0m\u001b[0moutputs\u001b[0m\u001b[0;34m)\u001b[0m\u001b[0;34m]\u001b[0m\u001b[0;34m\u001b[0m\u001b[0;34m\u001b[0m\u001b[0m\n\u001b[1;32m   2939\u001b[0m \u001b[0;34m\u001b[0m\u001b[0m\n",
      "\u001b[0;32m/usr/local/lib/python3.6/dist-packages/tensorflow_core/python/client/session.py\u001b[0m in \u001b[0;36m__call__\u001b[0;34m(self, *args, **kwargs)\u001b[0m\n\u001b[1;32m   1470\u001b[0m         ret = tf_session.TF_SessionRunCallable(self._session._session,\n\u001b[1;32m   1471\u001b[0m                                                \u001b[0mself\u001b[0m\u001b[0;34m.\u001b[0m\u001b[0m_handle\u001b[0m\u001b[0;34m,\u001b[0m \u001b[0margs\u001b[0m\u001b[0;34m,\u001b[0m\u001b[0;34m\u001b[0m\u001b[0;34m\u001b[0m\u001b[0m\n\u001b[0;32m-> 1472\u001b[0;31m                                                run_metadata_ptr)\n\u001b[0m\u001b[1;32m   1473\u001b[0m         \u001b[0;32mif\u001b[0m \u001b[0mrun_metadata\u001b[0m\u001b[0;34m:\u001b[0m\u001b[0;34m\u001b[0m\u001b[0;34m\u001b[0m\u001b[0m\n\u001b[1;32m   1474\u001b[0m           \u001b[0mproto_data\u001b[0m \u001b[0;34m=\u001b[0m \u001b[0mtf_session\u001b[0m\u001b[0;34m.\u001b[0m\u001b[0mTF_GetBuffer\u001b[0m\u001b[0;34m(\u001b[0m\u001b[0mrun_metadata_ptr\u001b[0m\u001b[0;34m)\u001b[0m\u001b[0;34m\u001b[0m\u001b[0;34m\u001b[0m\u001b[0m\n",
      "\u001b[0;31mKeyboardInterrupt\u001b[0m: "
     ]
    }
   ],
   "source": [
    "history = model.fit(X_train, y_train, batch_size = batch_size, epochs = 50, shuffle = False, class_weight = None,\n",
    "         verbose = 1, validation_data = (X_test, y_test), callbacks=[tensorboard_callback])\n",
    "\n",
    "model.save('/content/drive/My Drive/ASR/result/CNN_fluency_model_50_deltas.h5')"
   ]
  },
  {
   "cell_type": "code",
   "execution_count": 0,
   "metadata": {
    "colab": {
     "base_uri": "https://localhost:8080/",
     "height": 573
    },
    "colab_type": "code",
    "executionInfo": {
     "elapsed": 281,
     "status": "ok",
     "timestamp": 1575250854579,
     "user": {
      "displayName": "Seongjin Park",
      "photoUrl": "",
      "userId": "18359754870170751753"
     },
     "user_tz": 420
    },
    "id": "SGEugFNZo9PH",
    "outputId": "c4a50be3-6d7f-4499-e8b4-4603c680a0b9"
   },
   "outputs": [
    {
     "data": {
      "image/png": "[encoded data removed]",
      "text/plain": [
       "<Figure size 432x288 with 1 Axes>"
      ]
     },
     "metadata": {
      "tags": []
     },
     "output_type": "display_data"
    },
    {
     "data": {
      "image/png": "[encoded data removed]",
      "text/plain": [
       "<Figure size 432x288 with 1 Axes>"
      ]
     },
     "metadata": {
      "tags": []
     },
     "output_type": "display_data"
    }
   ],
   "source": [
    "plt.plot(history.history['acc'])\n",
    "plt.plot(history.history['val_acc'])\n",
    "plt.title('model accuracy')\n",
    "plt.ylabel('accuracy')\n",
    "plt.xlabel('epoch')\n",
    "plt.legend(['train', 'test'], loc='upper left')\n",
    "plt.show()\n",
    "# summarize history for loss\n",
    "plt.plot(history.history['loss'])\n",
    "plt.plot(history.history['val_loss'])\n",
    "plt.title('model loss')\n",
    "plt.ylabel('loss')\n",
    "plt.xlabel('epoch')\n",
    "plt.legend(['train', 'test'], loc='upper left')\n",
    "plt.show()"
   ]
  },
  {
   "cell_type": "code",
   "execution_count": 0,
   "metadata": {
    "colab": {},
    "colab_type": "code",
    "id": "l2M_hFufQI4Z"
   },
   "outputs": [],
   "source": [
    "model = keras.models.load_model('/content/drive/My Drive/ASR/result/CNN_fluency_model_50_deltas.h5')"
   ]
  },
  {
   "cell_type": "code",
   "execution_count": 0,
   "metadata": {
    "colab": {},
    "colab_type": "code",
    "id": "AkII_x41QhLy"
   },
   "outputs": [],
   "source": [
    "y_predictions = model.predict(X_test)"
   ]
  },
  {
   "cell_type": "code",
   "execution_count": 0,
   "metadata": {
    "colab": {},
    "colab_type": "code",
    "id": "qWR2Z1YFQvYJ"
   },
   "outputs": [],
   "source": [
    "y_true = np.argmax(y_test, axis = -1)\n",
    "y_pred = np.argmax(y_predictions, axis = -1)"
   ]
  },
  {
   "cell_type": "code",
   "execution_count": 0,
   "metadata": {
    "colab": {
     "base_uri": "https://localhost:8080/",
     "height": 35
    },
    "colab_type": "code",
    "executionInfo": {
     "elapsed": 279,
     "status": "ok",
     "timestamp": 1575251042221,
     "user": {
      "displayName": "Seongjin Park",
      "photoUrl": "",
      "userId": "18359754870170751753"
     },
     "user_tz": 420
    },
    "id": "yd8LDATT0Day",
    "outputId": "46f10d1f-fd59-472a-fa02-47abf3dfccc7"
   },
   "outputs": [
    {
     "name": "stdout",
     "output_type": "stream",
     "text": [
      "0.43663663663663665\n"
     ]
    }
   ],
   "source": [
    "count = 0\n",
    "\n",
    "for i in range(len(y_pred)):\n",
    "  if y_true[i] == y_pred[i]:\n",
    "    count += 1\n",
    "\n",
    "print(count/len(y_true))"
   ]
  },
  {
   "cell_type": "code",
   "execution_count": 0,
   "metadata": {
    "colab": {},
    "colab_type": "code",
    "id": "Sjn2cDMXRz7P"
   },
   "outputs": [],
   "source": [
    "from pandas import DataFrame\n",
    "import numpy as np\n",
    "import matplotlib.pyplot as plt\n",
    "import matplotlib.font_manager as fm\n",
    "from matplotlib.collections import QuadMesh\n",
    "import seaborn as sn\n",
    "\n",
    "\n",
    "def get_new_fig(fn, figsize=[9,9]):\n",
    "    \"\"\" Init graphics \"\"\"\n",
    "    fig1 = plt.figure(fn, figsize)\n",
    "    ax1 = fig1.gca()   #Get Current Axis\n",
    "    ax1.cla() # clear existing plot\n",
    "    return fig1, ax1\n",
    "#\n",
    "\n",
    "def configcell_text_and_colors(array_df, lin, col, oText, facecolors, posi, fz, fmt, show_null_values=0):\n",
    "    \"\"\"\n",
    "      config cell text and colors\n",
    "      and return text elements to add and to dell\n",
    "      @TODO: use fmt\n",
    "    \"\"\"\n",
    "    text_add = []; text_del = [];\n",
    "    cell_val = array_df[lin][col]\n",
    "    tot_all = array_df[-1][-1]\n",
    "    per = (float(cell_val) / tot_all) * 100\n",
    "    curr_column = array_df[:,col]\n",
    "    ccl = len(curr_column)\n",
    "\n",
    "    #last line  and/or last column\n",
    "    if(col == (ccl - 1)) or (lin == (ccl - 1)):\n",
    "        #tots and percents\n",
    "        if(cell_val != 0):\n",
    "            if(col == ccl - 1) and (lin == ccl - 1):\n",
    "                tot_rig = 0\n",
    "                for i in range(array_df.shape[0] - 1):\n",
    "                    tot_rig += array_df[i][i]\n",
    "                per_ok = (float(tot_rig) / cell_val) * 100\n",
    "            elif(col == ccl - 1):\n",
    "                tot_rig = array_df[lin][lin]\n",
    "                per_ok = (float(tot_rig) / cell_val) * 100\n",
    "            elif(lin == ccl - 1):\n",
    "                tot_rig = array_df[col][col]\n",
    "                per_ok = (float(tot_rig) / cell_val) * 100\n",
    "            per_err = 100 - per_ok\n",
    "        else:\n",
    "            per_ok = per_err = 0\n",
    "\n",
    "        per_ok_s = ['%.2f%%'%(per_ok), '100%'] [per_ok == 100]\n",
    "\n",
    "        #text to DEL\n",
    "        text_del.append(oText)\n",
    "\n",
    "        #text to ADD\n",
    "        font_prop = fm.FontProperties(weight='bold', size=fz)\n",
    "        text_kwargs = dict(color='w', ha=\"center\", va=\"center\", gid='sum', fontproperties=font_prop)\n",
    "        lis_txt = ['%d'%(cell_val), per_ok_s, '%.2f%%'%(per_err)]\n",
    "        lis_kwa = [text_kwargs]\n",
    "        dic = text_kwargs.copy(); dic['color'] = 'g'; lis_kwa.append(dic);\n",
    "        dic = text_kwargs.copy(); dic['color'] = 'r'; lis_kwa.append(dic);\n",
    "        lis_pos = [(oText._x, oText._y-0.3), (oText._x, oText._y), (oText._x, oText._y+0.3)]\n",
    "        for i in range(len(lis_txt)):\n",
    "            newText = dict(x=lis_pos[i][0], y=lis_pos[i][1], text=lis_txt[i], kw=lis_kwa[i])\n",
    "            #print 'lin: %s, col: %s, newText: %s' %(lin, col, newText)\n",
    "            text_add.append(newText)\n",
    "        #print '\\n'\n",
    "\n",
    "        #set background color for sum cells (last line and last column)\n",
    "        carr = [0.27, 0.30, 0.27, 1.0]\n",
    "        if(col == ccl - 1) and (lin == ccl - 1):\n",
    "            carr = [0.17, 0.20, 0.17, 1.0]\n",
    "        facecolors[posi] = carr\n",
    "\n",
    "    else:\n",
    "        if(per > 0):\n",
    "            txt = '%s\\n%.2f%%' %(cell_val, per)\n",
    "        else:\n",
    "            if(show_null_values == 0):\n",
    "                txt = ''\n",
    "            elif(show_null_values == 1):\n",
    "                txt = '0'\n",
    "            else:\n",
    "                txt = '0\\n0.0%'\n",
    "        oText.set_text(txt)\n",
    "\n",
    "        #main diagonal\n",
    "        if(col == lin):\n",
    "            #set color of the textin the diagonal to white\n",
    "            oText.set_color('w')\n",
    "            # set background color in the diagonal to blue\n",
    "            facecolors[posi] = [0.35, 0.8, 0.55, 1.0]\n",
    "        else:\n",
    "            oText.set_color('r')\n",
    "\n",
    "    return text_add, text_del\n",
    "#\n",
    "\n",
    "def insert_totals(df_cm):\n",
    "    \"\"\" insert total column and line (the last ones) \"\"\"\n",
    "    sum_col = []\n",
    "    for c in df_cm.columns:\n",
    "        sum_col.append( df_cm[c].sum() )\n",
    "    sum_lin = []\n",
    "    for item_line in df_cm.iterrows():\n",
    "        sum_lin.append( item_line[1].sum() )\n",
    "    df_cm['sum_lin'] = sum_lin\n",
    "    sum_col.append(np.sum(sum_lin))\n",
    "    df_cm.loc['sum_col'] = sum_col\n",
    "    #print ('\\ndf_cm:\\n', df_cm, '\\n\\b\\n')\n",
    "#\n",
    "\n",
    "def pretty_plot_confusion_matrix(df_cm, annot=True, cmap=\"Oranges\", fmt='.2f', fz=11,\n",
    "      lw=0.5, cbar=False, figsize=[8,8], show_null_values=0, pred_val_axis='y'):\n",
    "    \"\"\"\n",
    "      print conf matrix with default layout (like matlab)\n",
    "      params:\n",
    "        df_cm          dataframe (pandas) without totals\n",
    "        annot          print text in each cell\n",
    "        cmap           Oranges,Oranges_r,YlGnBu,Blues,RdBu, ... see:\n",
    "        fz             fontsize\n",
    "        lw             linewidth\n",
    "        pred_val_axis  where to show the prediction values (x or y axis)\n",
    "                        'col' or 'x': show predicted values in columns (x axis) instead lines\n",
    "                        'lin' or 'y': show predicted values in lines   (y axis)\n",
    "    \"\"\"\n",
    "    if(pred_val_axis in ('col', 'x')):\n",
    "        xlbl = 'Predicted'\n",
    "        ylbl = 'Actual'\n",
    "    else:\n",
    "        xlbl = 'Actual'\n",
    "        ylbl = 'Predicted'\n",
    "        df_cm = df_cm.T\n",
    "\n",
    "    # create \"Total\" column\n",
    "    insert_totals(df_cm)\n",
    "\n",
    "    #this is for print allways in the same window\n",
    "    fig, ax1 = get_new_fig('Conf matrix default', figsize)\n",
    "\n",
    "    #thanks for seaborn\n",
    "    ax = sn.heatmap(df_cm, annot=annot, annot_kws={\"size\": fz}, linewidths=lw, ax=ax1,\n",
    "                    cbar=cbar, cmap=cmap, linecolor='w', fmt=fmt)\n",
    "\n",
    "    #set ticklabels rotation\n",
    "    ax.set_xticklabels(ax.get_xticklabels(), rotation = 45, fontsize = 10)\n",
    "    ax.set_yticklabels(ax.get_yticklabels(), rotation = 25, fontsize = 10)\n",
    "\n",
    "    # Turn off all the ticks\n",
    "    for t in ax.xaxis.get_major_ticks():\n",
    "        t.tick1On = False\n",
    "        t.tick2On = False\n",
    "    for t in ax.yaxis.get_major_ticks():\n",
    "        t.tick1On = False\n",
    "        t.tick2On = False\n",
    "\n",
    "    #face colors list\n",
    "    quadmesh = ax.findobj(QuadMesh)[0]\n",
    "    facecolors = quadmesh.get_facecolors()\n",
    "\n",
    "    #iter in text elements\n",
    "    array_df = np.array( df_cm.to_records(index=False).tolist() )\n",
    "    text_add = []; text_del = [];\n",
    "    posi = -1 #from left to right, bottom to top.\n",
    "    for t in ax.collections[0].axes.texts: #ax.texts:\n",
    "        pos = np.array( t.get_position()) - [0.5,0.5]\n",
    "        lin = int(pos[1]); col = int(pos[0]);\n",
    "        posi += 1\n",
    "        #print ('>>> pos: %s, posi: %s, val: %s, txt: %s' %(pos, posi, array_df[lin][col], t.get_text()))\n",
    "\n",
    "        #set text\n",
    "        txt_res = configcell_text_and_colors(array_df, lin, col, t, facecolors, posi, fz, fmt, show_null_values)\n",
    "\n",
    "        text_add.extend(txt_res[0])\n",
    "        text_del.extend(txt_res[1])\n",
    "\n",
    "    #remove the old ones\n",
    "    for item in text_del:\n",
    "        item.remove()\n",
    "    #append the new ones\n",
    "    for item in text_add:\n",
    "        ax.text(item['x'], item['y'], item['text'], **item['kw'])\n",
    "\n",
    "    #titles and legends\n",
    "    ax.set_title('Confusion matrix')\n",
    "    ax.set_xlabel(xlbl)\n",
    "    ax.set_ylabel(ylbl)\n",
    "    plt.tight_layout()  #set layout slim\n",
    "    plt.show()\n",
    "#\n",
    "def plot_confusion_matrix_from_data(y_test, predictions, columns=None, annot=True, cmap=\"Oranges\",\n",
    "      fmt='.2f', fz=11, lw=0.5, cbar=False, figsize=[8,8], show_null_values=0, pred_val_axis='lin'):\n",
    "    \"\"\"\n",
    "        plot confusion matrix function with y_test (actual values) and predictions (predic),\n",
    "        whitout a confusion matrix yet\n",
    "    \"\"\"\n",
    "    from sklearn.metrics import confusion_matrix\n",
    "    from pandas import DataFrame\n",
    "\n",
    "    #data\n",
    "    if(not columns):\n",
    "        #labels axis integer:\n",
    "        ##columns = range(1, len(np.unique(y_test))+1)\n",
    "        #labels axis string:\n",
    "        from string import ascii_uppercase\n",
    "        columns = ['class %s' %(i) for i in list(ascii_uppercase)[0:len(np.unique(y_test))]]\n",
    "\n",
    "    confm = confusion_matrix(y_test, predictions)\n",
    "    cmap = 'Oranges';\n",
    "    fz = 11;\n",
    "    figsize=[9,9];\n",
    "    show_null_values = 2\n",
    "    df_cm = DataFrame(confm, index=columns, columns=columns)\n",
    "    pretty_plot_confusion_matrix(df_cm, fz=fz, cmap=cmap, figsize=figsize, show_null_values=show_null_values, pred_val_axis=pred_val_axis)"
   ]
  },
  {
   "cell_type": "code",
   "execution_count": 0,
   "metadata": {
    "colab": {
     "base_uri": "https://localhost:8080/",
     "height": 822
    },
    "colab_type": "code",
    "executionInfo": {
     "elapsed": 1104,
     "status": "ok",
     "timestamp": 1575251071138,
     "user": {
      "displayName": "Seongjin Park",
      "photoUrl": "",
      "userId": "18359754870170751753"
     },
     "user_tz": 420
    },
    "id": "IhrTh8HDRz8w",
    "outputId": "45eae499-f2d6-4327-87a0-6911ee255368"
   },
   "outputs": [
    {
     "name": "stderr",
     "output_type": "stream",
     "text": [
      "/usr/local/lib/python3.6/dist-packages/ipykernel_launcher.py:150: MatplotlibDeprecationWarning: \n",
      "The tick1On function was deprecated in Matplotlib 3.1 and will be removed in 3.3. Use Tick.tick1line.set_visible instead.\n",
      "/usr/local/lib/python3.6/dist-packages/ipykernel_launcher.py:151: MatplotlibDeprecationWarning: \n",
      "The tick2On function was deprecated in Matplotlib 3.1 and will be removed in 3.3. Use Tick.tick2line.set_visible instead.\n",
      "/usr/local/lib/python3.6/dist-packages/ipykernel_launcher.py:153: MatplotlibDeprecationWarning: \n",
      "The tick1On function was deprecated in Matplotlib 3.1 and will be removed in 3.3. Use Tick.tick1line.set_visible instead.\n",
      "/usr/local/lib/python3.6/dist-packages/ipykernel_launcher.py:154: MatplotlibDeprecationWarning: \n",
      "The tick2On function was deprecated in Matplotlib 3.1 and will be removed in 3.3. Use Tick.tick2line.set_visible instead.\n",
      "/usr/local/lib/python3.6/dist-packages/ipykernel_launcher.py:49: DeprecationWarning: In future, it will be an error for 'np.bool_' scalars to be interpreted as an index\n"
     ]
    },
    {
     "data": {
      "image/png": "[encoded data removed]",
      "text/plain": [
       "<Figure size 648x648 with 1 Axes>"
      ]
     },
     "metadata": {
      "tags": []
     },
     "output_type": "display_data"
    }
   ],
   "source": [
    "plot_confusion_matrix_from_data(y_true, y_pred, columns = [], annot = True, cmap = \"Oranges\")"
   ]
  },
  {
   "cell_type": "code",
   "execution_count": 0,
   "metadata": {
    "colab": {
     "base_uri": "https://localhost:8080/",
     "height": 69
    },
    "colab_type": "code",
    "executionInfo": {
     "elapsed": 363,
     "status": "ok",
     "timestamp": 1574805679353,
     "user": {
      "displayName": "Seongjin Park",
      "photoUrl": "",
      "userId": "18359754870170751753"
     },
     "user_tz": 420
    },
    "id": "SXF4e7TwDHtk",
    "outputId": "eff310ed-d5e9-4f68-e31b-db4cd369d113"
   },
   "outputs": [
    {
     "name": "stdout",
     "output_type": "stream",
     "text": [
      "(7564, 259, 39, 1)\n",
      "(3242, 259, 39, 1)\n",
      "(7564, 6, 1) (3242, 6, 1)\n"
     ]
    }
   ],
   "source": [
    "# reshape\n",
    "X_train = np.array(X_train)\n",
    "X_test = np.array(X_test)\n",
    "\n",
    "X_train = X_train.reshape(X_train.shape[0], max_time, num_mel, 1)\n",
    "X_test = X_test.reshape(X_test.shape[0], max_time, num_mel, 1)\n",
    "\n",
    "\n",
    "\n",
    "print(np.shape(X_train))\n",
    "print(np.shape(X_test))\n",
    "y_train = y_train.reshape(y_train.shape[0], num_classes, 1)\n",
    "y_test = y_test.reshape(y_test.shape[0], num_classes, 1)\n",
    "print(np.shape(y_train), np.shape(y_test))\n",
    "# input_shape = (num_mel, max_time, 1)\n",
    "\n",
    "\n",
    "# print(np.shape(X_train))\n",
    "# print(np.shape(X_test))"
   ]
  },
  {
   "cell_type": "code",
   "execution_count": 0,
   "metadata": {
    "colab": {
     "base_uri": "https://localhost:8080/",
     "height": 312
    },
    "colab_type": "code",
    "executionInfo": {
     "elapsed": 4612,
     "status": "ok",
     "timestamp": 1574804362716,
     "user": {
      "displayName": "Seongjin Park",
      "photoUrl": "",
      "userId": "18359754870170751753"
     },
     "user_tz": 420
    },
    "id": "uskEf8dlo9eG",
    "outputId": "be5b24f9-a384-48df-fb51-5d0e5ab20a4a"
   },
   "outputs": [
    {
     "name": "stdout",
     "output_type": "stream",
     "text": [
      "Collecting git+https://www.github.com/keras-team/keras-contrib.git\n",
      "  Cloning https://www.github.com/keras-team/keras-contrib.git to /tmp/pip-req-build-_swzya6s\n",
      "  Running command git clone -q https://www.github.com/keras-team/keras-contrib.git /tmp/pip-req-build-_swzya6s\n",
      "Requirement already satisfied (use --upgrade to upgrade): keras-contrib==2.0.8 from git+https://www.github.com/keras-team/keras-contrib.git in /usr/local/lib/python3.6/dist-packages\n",
      "Requirement already satisfied: keras in /usr/local/lib/python3.6/dist-packages (from keras-contrib==2.0.8) (2.2.5)\n",
      "Requirement already satisfied: six>=1.9.0 in /usr/local/lib/python3.6/dist-packages (from keras->keras-contrib==2.0.8) (1.12.0)\n",
      "Requirement already satisfied: keras-preprocessing>=1.1.0 in /usr/local/lib/python3.6/dist-packages (from keras->keras-contrib==2.0.8) (1.1.0)\n",
      "Requirement already satisfied: scipy>=0.14 in /usr/local/lib/python3.6/dist-packages (from keras->keras-contrib==2.0.8) (1.3.2)\n",
      "Requirement already satisfied: numpy>=1.9.1 in /usr/local/lib/python3.6/dist-packages (from keras->keras-contrib==2.0.8) (1.17.4)\n",
      "Requirement already satisfied: pyyaml in /usr/local/lib/python3.6/dist-packages (from keras->keras-contrib==2.0.8) (3.13)\n",
      "Requirement already satisfied: h5py in /usr/local/lib/python3.6/dist-packages (from keras->keras-contrib==2.0.8) (2.8.0)\n",
      "Requirement already satisfied: keras-applications>=1.0.8 in /usr/local/lib/python3.6/dist-packages (from keras->keras-contrib==2.0.8) (1.0.8)\n",
      "Building wheels for collected packages: keras-contrib\n",
      "  Building wheel for keras-contrib (setup.py) ... \u001b[?25l\u001b[?25hdone\n",
      "  Created wheel for keras-contrib: filename=keras_contrib-2.0.8-cp36-none-any.whl size=101065 sha256=a5e925aaf0c7eb15fb1a7e193ae96d461a5761557c0538a83af117fe64d79f73\n",
      "  Stored in directory: /tmp/pip-ephem-wheel-cache-8s480prb/wheels/11/27/c8/4ed56de7b55f4f61244e2dc6ef3cdbaff2692527a2ce6502ba\n",
      "Successfully built keras-contrib\n"
     ]
    }
   ],
   "source": [
    "!pip install git+https://www.github.com/keras-team/keras-contrib.git"
   ]
  },
  {
   "cell_type": "code",
   "execution_count": 0,
   "metadata": {
    "colab": {
     "base_uri": "https://localhost:8080/",
     "height": 452
    },
    "colab_type": "code",
    "executionInfo": {
     "elapsed": 924,
     "status": "error",
     "timestamp": 1574805683339,
     "user": {
      "displayName": "Seongjin Park",
      "photoUrl": "",
      "userId": "18359754870170751753"
     },
     "user_tz": 420
    },
    "id": "ug5qIYly0PMB",
    "outputId": "a7a5beb8-9a7a-4ca0-88ce-8fbf41232308"
   },
   "outputs": [
    {
     "ename": "ValueError",
     "evalue": "ignored",
     "output_type": "error",
     "traceback": [
      "\u001b[0;31m---------------------------------------------------------------------------\u001b[0m",
      "\u001b[0;31mInvalidArgumentError\u001b[0m                      Traceback (most recent call last)",
      "\u001b[0;32m/usr/local/lib/python3.6/dist-packages/tensorflow_core/python/framework/ops.py\u001b[0m in \u001b[0;36m_create_c_op\u001b[0;34m(graph, node_def, inputs, control_inputs)\u001b[0m\n\u001b[1;32m   1606\u001b[0m   \u001b[0;32mtry\u001b[0m\u001b[0;34m:\u001b[0m\u001b[0;34m\u001b[0m\u001b[0;34m\u001b[0m\u001b[0m\n\u001b[0;32m-> 1607\u001b[0;31m     \u001b[0mc_op\u001b[0m \u001b[0;34m=\u001b[0m \u001b[0mc_api\u001b[0m\u001b[0;34m.\u001b[0m\u001b[0mTF_FinishOperation\u001b[0m\u001b[0;34m(\u001b[0m\u001b[0mop_desc\u001b[0m\u001b[0;34m)\u001b[0m\u001b[0;34m\u001b[0m\u001b[0;34m\u001b[0m\u001b[0m\n\u001b[0m\u001b[1;32m   1608\u001b[0m   \u001b[0;32mexcept\u001b[0m \u001b[0merrors\u001b[0m\u001b[0;34m.\u001b[0m\u001b[0mInvalidArgumentError\u001b[0m \u001b[0;32mas\u001b[0m \u001b[0me\u001b[0m\u001b[0;34m:\u001b[0m\u001b[0;34m\u001b[0m\u001b[0;34m\u001b[0m\u001b[0m\n",
      "\u001b[0;31mInvalidArgumentError\u001b[0m: Index out of range using input dim 2; input has only 2 dims for 'crf_8/strided_slice' (op: 'StridedSlice') with input shapes: [?,6], [3], [3], [3] and with computed input tensors: input[3] = <1 1 1>.",
      "\nDuring handling of the above exception, another exception occurred:\n",
      "\u001b[0;31mValueError\u001b[0m                                Traceback (most recent call last)",
      "\u001b[0;32m<ipython-input-53-a8ca37d5b69b>\u001b[0m in \u001b[0;36m<module>\u001b[0;34m()\u001b[0m\n\u001b[1;32m     27\u001b[0m \u001b[0mmodel\u001b[0m \u001b[0;34m=\u001b[0m \u001b[0mDense\u001b[0m\u001b[0;34m(\u001b[0m\u001b[0mnum_dense_unit\u001b[0m\u001b[0;34m,\u001b[0m \u001b[0mactivation\u001b[0m\u001b[0;34m=\u001b[0m\u001b[0;34m\"relu\"\u001b[0m\u001b[0;34m)\u001b[0m\u001b[0;34m(\u001b[0m\u001b[0mmodel\u001b[0m\u001b[0;34m)\u001b[0m  \u001b[0;31m# a dense layer as suggested by neuralNer\u001b[0m\u001b[0;34m\u001b[0m\u001b[0;34m\u001b[0m\u001b[0m\n\u001b[1;32m     28\u001b[0m \u001b[0mcrf\u001b[0m \u001b[0;34m=\u001b[0m \u001b[0mCRF\u001b[0m\u001b[0;34m(\u001b[0m\u001b[0munits\u001b[0m \u001b[0;34m=\u001b[0m \u001b[0mnum_classes\u001b[0m\u001b[0;34m)\u001b[0m  \u001b[0;31m# CRF layer\u001b[0m\u001b[0;34m\u001b[0m\u001b[0;34m\u001b[0m\u001b[0m\n\u001b[0;32m---> 29\u001b[0;31m \u001b[0mout\u001b[0m \u001b[0;34m=\u001b[0m \u001b[0mcrf\u001b[0m\u001b[0;34m(\u001b[0m\u001b[0mmodel\u001b[0m\u001b[0;34m)\u001b[0m  \u001b[0;31m# output\u001b[0m\u001b[0;34m\u001b[0m\u001b[0;34m\u001b[0m\u001b[0m\n\u001b[0m",
      "\u001b[0;32m/usr/local/lib/python3.6/dist-packages/keras/engine/base_layer.py\u001b[0m in \u001b[0;36m__call__\u001b[0;34m(self, inputs, **kwargs)\u001b[0m\n\u001b[1;32m    449\u001b[0m             \u001b[0;31m# Actually call the layer,\u001b[0m\u001b[0;34m\u001b[0m\u001b[0;34m\u001b[0m\u001b[0;34m\u001b[0m\u001b[0m\n\u001b[1;32m    450\u001b[0m             \u001b[0;31m# collecting output(s), mask(s), and shape(s).\u001b[0m\u001b[0;34m\u001b[0m\u001b[0;34m\u001b[0m\u001b[0;34m\u001b[0m\u001b[0m\n\u001b[0;32m--> 451\u001b[0;31m             \u001b[0moutput\u001b[0m \u001b[0;34m=\u001b[0m \u001b[0mself\u001b[0m\u001b[0;34m.\u001b[0m\u001b[0mcall\u001b[0m\u001b[0;34m(\u001b[0m\u001b[0minputs\u001b[0m\u001b[0;34m,\u001b[0m \u001b[0;34m**\u001b[0m\u001b[0mkwargs\u001b[0m\u001b[0;34m)\u001b[0m\u001b[0;34m\u001b[0m\u001b[0;34m\u001b[0m\u001b[0m\n\u001b[0m\u001b[1;32m    452\u001b[0m             \u001b[0moutput_mask\u001b[0m \u001b[0;34m=\u001b[0m \u001b[0mself\u001b[0m\u001b[0;34m.\u001b[0m\u001b[0mcompute_mask\u001b[0m\u001b[0;34m(\u001b[0m\u001b[0minputs\u001b[0m\u001b[0;34m,\u001b[0m \u001b[0mprevious_mask\u001b[0m\u001b[0;34m)\u001b[0m\u001b[0;34m\u001b[0m\u001b[0;34m\u001b[0m\u001b[0m\n\u001b[1;32m    453\u001b[0m \u001b[0;34m\u001b[0m\u001b[0m\n",
      "\u001b[0;32m/usr/local/lib/python3.6/dist-packages/keras_contrib/layers/crf.py\u001b[0m in \u001b[0;36mcall\u001b[0;34m(self, X, mask)\u001b[0m\n\u001b[1;32m    290\u001b[0m \u001b[0;34m\u001b[0m\u001b[0m\n\u001b[1;32m    291\u001b[0m         \u001b[0;32mif\u001b[0m \u001b[0mself\u001b[0m\u001b[0;34m.\u001b[0m\u001b[0mtest_mode\u001b[0m \u001b[0;34m==\u001b[0m \u001b[0;34m'viterbi'\u001b[0m\u001b[0;34m:\u001b[0m\u001b[0;34m\u001b[0m\u001b[0;34m\u001b[0m\u001b[0m\n\u001b[0;32m--> 292\u001b[0;31m             \u001b[0mtest_output\u001b[0m \u001b[0;34m=\u001b[0m \u001b[0mself\u001b[0m\u001b[0;34m.\u001b[0m\u001b[0mviterbi_decoding\u001b[0m\u001b[0;34m(\u001b[0m\u001b[0mX\u001b[0m\u001b[0;34m,\u001b[0m \u001b[0mmask\u001b[0m\u001b[0;34m)\u001b[0m\u001b[0;34m\u001b[0m\u001b[0;34m\u001b[0m\u001b[0m\n\u001b[0m\u001b[1;32m    293\u001b[0m         \u001b[0;32melse\u001b[0m\u001b[0;34m:\u001b[0m\u001b[0;34m\u001b[0m\u001b[0;34m\u001b[0m\u001b[0m\n\u001b[1;32m    294\u001b[0m             \u001b[0mtest_output\u001b[0m \u001b[0;34m=\u001b[0m \u001b[0mself\u001b[0m\u001b[0;34m.\u001b[0m\u001b[0mget_marginal_prob\u001b[0m\u001b[0;34m(\u001b[0m\u001b[0mX\u001b[0m\u001b[0;34m,\u001b[0m \u001b[0mmask\u001b[0m\u001b[0;34m)\u001b[0m\u001b[0;34m\u001b[0m\u001b[0;34m\u001b[0m\u001b[0m\n",
      "\u001b[0;32m/usr/local/lib/python3.6/dist-packages/keras_contrib/layers/crf.py\u001b[0m in \u001b[0;36mviterbi_decoding\u001b[0;34m(self, X, mask)\u001b[0m\n\u001b[1;32m    560\u001b[0m         \u001b[0;32mif\u001b[0m \u001b[0mself\u001b[0m\u001b[0;34m.\u001b[0m\u001b[0muse_boundary\u001b[0m\u001b[0;34m:\u001b[0m\u001b[0;34m\u001b[0m\u001b[0;34m\u001b[0m\u001b[0m\n\u001b[1;32m    561\u001b[0m             input_energy = self.add_boundary_energy(\n\u001b[0;32m--> 562\u001b[0;31m                 input_energy, mask, self.left_boundary, self.right_boundary)\n\u001b[0m\u001b[1;32m    563\u001b[0m \u001b[0;34m\u001b[0m\u001b[0m\n\u001b[1;32m    564\u001b[0m         \u001b[0margmin_tables\u001b[0m \u001b[0;34m=\u001b[0m \u001b[0mself\u001b[0m\u001b[0;34m.\u001b[0m\u001b[0mrecursion\u001b[0m\u001b[0;34m(\u001b[0m\u001b[0minput_energy\u001b[0m\u001b[0;34m,\u001b[0m \u001b[0mmask\u001b[0m\u001b[0;34m,\u001b[0m \u001b[0mreturn_logZ\u001b[0m\u001b[0;34m=\u001b[0m\u001b[0;32mFalse\u001b[0m\u001b[0;34m)\u001b[0m\u001b[0;34m\u001b[0m\u001b[0;34m\u001b[0m\u001b[0m\n",
      "\u001b[0;32m/usr/local/lib/python3.6/dist-packages/keras_contrib/layers/crf.py\u001b[0m in \u001b[0;36madd_boundary_energy\u001b[0;34m(self, energy, mask, start, end)\u001b[0m\n\u001b[1;32m    394\u001b[0m         \u001b[0mend\u001b[0m \u001b[0;34m=\u001b[0m \u001b[0mK\u001b[0m\u001b[0;34m.\u001b[0m\u001b[0mexpand_dims\u001b[0m\u001b[0;34m(\u001b[0m\u001b[0mK\u001b[0m\u001b[0;34m.\u001b[0m\u001b[0mexpand_dims\u001b[0m\u001b[0;34m(\u001b[0m\u001b[0mend\u001b[0m\u001b[0;34m,\u001b[0m \u001b[0;36m0\u001b[0m\u001b[0;34m)\u001b[0m\u001b[0;34m,\u001b[0m \u001b[0;36m0\u001b[0m\u001b[0;34m)\u001b[0m\u001b[0;34m\u001b[0m\u001b[0;34m\u001b[0m\u001b[0m\n\u001b[1;32m    395\u001b[0m         \u001b[0;32mif\u001b[0m \u001b[0mmask\u001b[0m \u001b[0;32mis\u001b[0m \u001b[0;32mNone\u001b[0m\u001b[0;34m:\u001b[0m\u001b[0;34m\u001b[0m\u001b[0;34m\u001b[0m\u001b[0m\n\u001b[0;32m--> 396\u001b[0;31m             energy = K.concatenate([energy[:, :1, :] + start, energy[:, 1:, :]],\n\u001b[0m\u001b[1;32m    397\u001b[0m                                    axis=1)\n\u001b[1;32m    398\u001b[0m             energy = K.concatenate([energy[:, :-1, :], energy[:, -1:, :] + end],\n",
      "\u001b[0;32m/usr/local/lib/python3.6/dist-packages/tensorflow_core/python/ops/array_ops.py\u001b[0m in \u001b[0;36m_slice_helper\u001b[0;34m(tensor, slice_spec, var)\u001b[0m\n\u001b[1;32m    800\u001b[0m         \u001b[0mellipsis_mask\u001b[0m\u001b[0;34m=\u001b[0m\u001b[0mellipsis_mask\u001b[0m\u001b[0;34m,\u001b[0m\u001b[0;34m\u001b[0m\u001b[0;34m\u001b[0m\u001b[0m\n\u001b[1;32m    801\u001b[0m         \u001b[0mvar\u001b[0m\u001b[0;34m=\u001b[0m\u001b[0mvar\u001b[0m\u001b[0;34m,\u001b[0m\u001b[0;34m\u001b[0m\u001b[0;34m\u001b[0m\u001b[0m\n\u001b[0;32m--> 802\u001b[0;31m         name=name)\n\u001b[0m\u001b[1;32m    803\u001b[0m \u001b[0;34m\u001b[0m\u001b[0m\n\u001b[1;32m    804\u001b[0m \u001b[0;34m\u001b[0m\u001b[0m\n",
      "\u001b[0;32m/usr/local/lib/python3.6/dist-packages/tensorflow_core/python/ops/array_ops.py\u001b[0m in \u001b[0;36mstrided_slice\u001b[0;34m(input_, begin, end, strides, begin_mask, end_mask, ellipsis_mask, new_axis_mask, shrink_axis_mask, var, name)\u001b[0m\n\u001b[1;32m    966\u001b[0m       \u001b[0mellipsis_mask\u001b[0m\u001b[0;34m=\u001b[0m\u001b[0mellipsis_mask\u001b[0m\u001b[0;34m,\u001b[0m\u001b[0;34m\u001b[0m\u001b[0;34m\u001b[0m\u001b[0m\n\u001b[1;32m    967\u001b[0m       \u001b[0mnew_axis_mask\u001b[0m\u001b[0;34m=\u001b[0m\u001b[0mnew_axis_mask\u001b[0m\u001b[0;34m,\u001b[0m\u001b[0;34m\u001b[0m\u001b[0;34m\u001b[0m\u001b[0m\n\u001b[0;32m--> 968\u001b[0;31m       shrink_axis_mask=shrink_axis_mask)\n\u001b[0m\u001b[1;32m    969\u001b[0m \u001b[0;34m\u001b[0m\u001b[0m\n\u001b[1;32m    970\u001b[0m   \u001b[0mparent_name\u001b[0m \u001b[0;34m=\u001b[0m \u001b[0mname\u001b[0m\u001b[0;34m\u001b[0m\u001b[0;34m\u001b[0m\u001b[0m\n",
      "\u001b[0;32m/usr/local/lib/python3.6/dist-packages/tensorflow_core/python/ops/gen_array_ops.py\u001b[0m in \u001b[0;36mstrided_slice\u001b[0;34m(input, begin, end, strides, begin_mask, end_mask, ellipsis_mask, new_axis_mask, shrink_axis_mask, name)\u001b[0m\n\u001b[1;32m  10390\u001b[0m                         \u001b[0mellipsis_mask\u001b[0m\u001b[0;34m=\u001b[0m\u001b[0mellipsis_mask\u001b[0m\u001b[0;34m,\u001b[0m\u001b[0;34m\u001b[0m\u001b[0;34m\u001b[0m\u001b[0m\n\u001b[1;32m  10391\u001b[0m                         \u001b[0mnew_axis_mask\u001b[0m\u001b[0;34m=\u001b[0m\u001b[0mnew_axis_mask\u001b[0m\u001b[0;34m,\u001b[0m\u001b[0;34m\u001b[0m\u001b[0;34m\u001b[0m\u001b[0m\n\u001b[0;32m> 10392\u001b[0;31m                         shrink_axis_mask=shrink_axis_mask, name=name)\n\u001b[0m\u001b[1;32m  10393\u001b[0m   \u001b[0m_result\u001b[0m \u001b[0;34m=\u001b[0m \u001b[0m_op\u001b[0m\u001b[0;34m.\u001b[0m\u001b[0moutputs\u001b[0m\u001b[0;34m[\u001b[0m\u001b[0;34m:\u001b[0m\u001b[0;34m]\u001b[0m\u001b[0;34m\u001b[0m\u001b[0;34m\u001b[0m\u001b[0m\n\u001b[1;32m  10394\u001b[0m   \u001b[0m_inputs_flat\u001b[0m \u001b[0;34m=\u001b[0m \u001b[0m_op\u001b[0m\u001b[0;34m.\u001b[0m\u001b[0minputs\u001b[0m\u001b[0;34m\u001b[0m\u001b[0;34m\u001b[0m\u001b[0m\n",
      "\u001b[0;32m/usr/local/lib/python3.6/dist-packages/tensorflow_core/python/framework/op_def_library.py\u001b[0m in \u001b[0;36m_apply_op_helper\u001b[0;34m(self, op_type_name, name, **keywords)\u001b[0m\n\u001b[1;32m    792\u001b[0m         op = g.create_op(op_type_name, inputs, dtypes=None, name=scope,\n\u001b[1;32m    793\u001b[0m                          \u001b[0minput_types\u001b[0m\u001b[0;34m=\u001b[0m\u001b[0minput_types\u001b[0m\u001b[0;34m,\u001b[0m \u001b[0mattrs\u001b[0m\u001b[0;34m=\u001b[0m\u001b[0mattr_protos\u001b[0m\u001b[0;34m,\u001b[0m\u001b[0;34m\u001b[0m\u001b[0;34m\u001b[0m\u001b[0m\n\u001b[0;32m--> 794\u001b[0;31m                          op_def=op_def)\n\u001b[0m\u001b[1;32m    795\u001b[0m \u001b[0;34m\u001b[0m\u001b[0m\n\u001b[1;32m    796\u001b[0m       \u001b[0;31m# Conditionally invoke tfdbg v2's op callback(s).\u001b[0m\u001b[0;34m\u001b[0m\u001b[0;34m\u001b[0m\u001b[0;34m\u001b[0m\u001b[0m\n",
      "\u001b[0;32m/usr/local/lib/python3.6/dist-packages/tensorflow_core/python/util/deprecation.py\u001b[0m in \u001b[0;36mnew_func\u001b[0;34m(*args, **kwargs)\u001b[0m\n\u001b[1;32m    505\u001b[0m                 \u001b[0;34m'in a future version'\u001b[0m \u001b[0;32mif\u001b[0m \u001b[0mdate\u001b[0m \u001b[0;32mis\u001b[0m \u001b[0;32mNone\u001b[0m \u001b[0;32melse\u001b[0m \u001b[0;34m(\u001b[0m\u001b[0;34m'after %s'\u001b[0m \u001b[0;34m%\u001b[0m \u001b[0mdate\u001b[0m\u001b[0;34m)\u001b[0m\u001b[0;34m,\u001b[0m\u001b[0;34m\u001b[0m\u001b[0;34m\u001b[0m\u001b[0m\n\u001b[1;32m    506\u001b[0m                 instructions)\n\u001b[0;32m--> 507\u001b[0;31m       \u001b[0;32mreturn\u001b[0m \u001b[0mfunc\u001b[0m\u001b[0;34m(\u001b[0m\u001b[0;34m*\u001b[0m\u001b[0margs\u001b[0m\u001b[0;34m,\u001b[0m \u001b[0;34m**\u001b[0m\u001b[0mkwargs\u001b[0m\u001b[0;34m)\u001b[0m\u001b[0;34m\u001b[0m\u001b[0;34m\u001b[0m\u001b[0m\n\u001b[0m\u001b[1;32m    508\u001b[0m \u001b[0;34m\u001b[0m\u001b[0m\n\u001b[1;32m    509\u001b[0m     doc = _add_deprecated_arg_notice_to_docstring(\n",
      "\u001b[0;32m/usr/local/lib/python3.6/dist-packages/tensorflow_core/python/framework/ops.py\u001b[0m in \u001b[0;36mcreate_op\u001b[0;34m(***failed resolving arguments***)\u001b[0m\n\u001b[1;32m   3355\u001b[0m         \u001b[0;32mraise\u001b[0m \u001b[0mTypeError\u001b[0m\u001b[0;34m(\u001b[0m\u001b[0;34m\"Input #%d is not a tensor: %s\"\u001b[0m \u001b[0;34m%\u001b[0m \u001b[0;34m(\u001b[0m\u001b[0midx\u001b[0m\u001b[0;34m,\u001b[0m \u001b[0ma\u001b[0m\u001b[0;34m)\u001b[0m\u001b[0;34m)\u001b[0m\u001b[0;34m\u001b[0m\u001b[0;34m\u001b[0m\u001b[0m\n\u001b[1;32m   3356\u001b[0m     return self._create_op_internal(op_type, inputs, dtypes, input_types, name,\n\u001b[0;32m-> 3357\u001b[0;31m                                     attrs, op_def, compute_device)\n\u001b[0m\u001b[1;32m   3358\u001b[0m \u001b[0;34m\u001b[0m\u001b[0m\n\u001b[1;32m   3359\u001b[0m   def _create_op_internal(\n",
      "\u001b[0;32m/usr/local/lib/python3.6/dist-packages/tensorflow_core/python/framework/ops.py\u001b[0m in \u001b[0;36m_create_op_internal\u001b[0;34m(self, op_type, inputs, dtypes, input_types, name, attrs, op_def, compute_device)\u001b[0m\n\u001b[1;32m   3424\u001b[0m           \u001b[0minput_types\u001b[0m\u001b[0;34m=\u001b[0m\u001b[0minput_types\u001b[0m\u001b[0;34m,\u001b[0m\u001b[0;34m\u001b[0m\u001b[0;34m\u001b[0m\u001b[0m\n\u001b[1;32m   3425\u001b[0m           \u001b[0moriginal_op\u001b[0m\u001b[0;34m=\u001b[0m\u001b[0mself\u001b[0m\u001b[0;34m.\u001b[0m\u001b[0m_default_original_op\u001b[0m\u001b[0;34m,\u001b[0m\u001b[0;34m\u001b[0m\u001b[0;34m\u001b[0m\u001b[0m\n\u001b[0;32m-> 3426\u001b[0;31m           op_def=op_def)\n\u001b[0m\u001b[1;32m   3427\u001b[0m       \u001b[0mself\u001b[0m\u001b[0;34m.\u001b[0m\u001b[0m_create_op_helper\u001b[0m\u001b[0;34m(\u001b[0m\u001b[0mret\u001b[0m\u001b[0;34m,\u001b[0m \u001b[0mcompute_device\u001b[0m\u001b[0;34m=\u001b[0m\u001b[0mcompute_device\u001b[0m\u001b[0;34m)\u001b[0m\u001b[0;34m\u001b[0m\u001b[0;34m\u001b[0m\u001b[0m\n\u001b[1;32m   3428\u001b[0m     \u001b[0;32mreturn\u001b[0m \u001b[0mret\u001b[0m\u001b[0;34m\u001b[0m\u001b[0;34m\u001b[0m\u001b[0m\n",
      "\u001b[0;32m/usr/local/lib/python3.6/dist-packages/tensorflow_core/python/framework/ops.py\u001b[0m in \u001b[0;36m__init__\u001b[0;34m(self, node_def, g, inputs, output_types, control_inputs, input_types, original_op, op_def)\u001b[0m\n\u001b[1;32m   1768\u001b[0m           op_def, inputs, node_def.attr)\n\u001b[1;32m   1769\u001b[0m       self._c_op = _create_c_op(self._graph, node_def, grouped_inputs,\n\u001b[0;32m-> 1770\u001b[0;31m                                 control_input_ops)\n\u001b[0m\u001b[1;32m   1771\u001b[0m     \u001b[0;31m# pylint: enable=protected-access\u001b[0m\u001b[0;34m\u001b[0m\u001b[0;34m\u001b[0m\u001b[0;34m\u001b[0m\u001b[0m\n\u001b[1;32m   1772\u001b[0m \u001b[0;34m\u001b[0m\u001b[0m\n",
      "\u001b[0;32m/usr/local/lib/python3.6/dist-packages/tensorflow_core/python/framework/ops.py\u001b[0m in \u001b[0;36m_create_c_op\u001b[0;34m(graph, node_def, inputs, control_inputs)\u001b[0m\n\u001b[1;32m   1608\u001b[0m   \u001b[0;32mexcept\u001b[0m \u001b[0merrors\u001b[0m\u001b[0;34m.\u001b[0m\u001b[0mInvalidArgumentError\u001b[0m \u001b[0;32mas\u001b[0m \u001b[0me\u001b[0m\u001b[0;34m:\u001b[0m\u001b[0;34m\u001b[0m\u001b[0;34m\u001b[0m\u001b[0m\n\u001b[1;32m   1609\u001b[0m     \u001b[0;31m# Convert to ValueError for backwards compatibility.\u001b[0m\u001b[0;34m\u001b[0m\u001b[0;34m\u001b[0m\u001b[0;34m\u001b[0m\u001b[0m\n\u001b[0;32m-> 1610\u001b[0;31m     \u001b[0;32mraise\u001b[0m \u001b[0mValueError\u001b[0m\u001b[0;34m(\u001b[0m\u001b[0mstr\u001b[0m\u001b[0;34m(\u001b[0m\u001b[0me\u001b[0m\u001b[0;34m)\u001b[0m\u001b[0;34m)\u001b[0m\u001b[0;34m\u001b[0m\u001b[0;34m\u001b[0m\u001b[0m\n\u001b[0m\u001b[1;32m   1611\u001b[0m \u001b[0;34m\u001b[0m\u001b[0m\n\u001b[1;32m   1612\u001b[0m   \u001b[0;32mreturn\u001b[0m \u001b[0mc_op\u001b[0m\u001b[0;34m\u001b[0m\u001b[0;34m\u001b[0m\u001b[0m\n",
      "\u001b[0;31mValueError\u001b[0m: Index out of range using input dim 2; input has only 2 dims for 'crf_8/strided_slice' (op: 'StridedSlice') with input shapes: [?,6], [3], [3], [3] and with computed input tensors: input[3] = <1 1 1>."
     ]
    }
   ],
   "source": [
    "from keras_contrib.layers import CRF\n",
    "from keras.layers import Bidirectional, TimeDistributed\n",
    "from keras.models import Model, Input\n",
    "\n",
    "# input_shape = (num_mel, max_time)\n",
    "\n",
    "\n",
    "# model = Sequential()\n",
    "\n",
    "# model.add(GRU(512, input_shape = input_shape))\n",
    "# model.add(Dropout(drop_out_rate))\n",
    "# model.add(Dense(num_dense_unit * 2, activation = 'relu'))\n",
    "# model.add(Dense(num_dense_unit, activation='relu'))\n",
    "# model.add(CRF())\n",
    "\n",
    "# # use adam optimizer\n",
    "# adam = keras.optimizers.Adam(lr = lr)\n",
    "\n",
    "# # compile the model\n",
    "# model.compile(optimizer=adam, loss=\"categorical_crossentropy\", metrics=[\"accuracy\"])\n",
    "\n",
    "# model.summary()\n",
    "\n",
    "input = Input(shape=(max_time, num_mel))\n",
    "\n",
    "model = Bidirectional(LSTM(units=50, return_sequences=False, recurrent_dropout=0.1))(input)  # variational biLSTM\n",
    "model = Dense(num_dense_unit, activation=\"relu\")(model)  # a dense layer as suggested by neuralNer\n",
    "crf = CRF(units = num_classes)  # CRF layer\n",
    "out = crf(model)  # output"
   ]
  },
  {
   "cell_type": "code",
   "execution_count": 0,
   "metadata": {
    "colab": {},
    "colab_type": "code",
    "id": "RWzqvTHgDAMN"
   },
   "outputs": [],
   "source": [
    "model = Model(input, out)"
   ]
  },
  {
   "cell_type": "code",
   "execution_count": 0,
   "metadata": {
    "colab": {},
    "colab_type": "code",
    "id": "VqowdqwoDDkZ"
   },
   "outputs": [],
   "source": [
    "model.compile(optimizer=\"rmsprop\", loss=crf.loss_function, metrics=[crf.accuracy])"
   ]
  },
  {
   "cell_type": "code",
   "execution_count": 0,
   "metadata": {
    "colab": {},
    "colab_type": "code",
    "id": "hJDDdAn7DGJG"
   },
   "outputs": [],
   "source": [
    "model.summary()"
   ]
  },
  {
   "cell_type": "code",
   "execution_count": 0,
   "metadata": {
    "colab": {
     "base_uri": "https://localhost:8080/",
     "height": 1000
    },
    "colab_type": "code",
    "executionInfo": {
     "elapsed": 618737,
     "status": "ok",
     "timestamp": 1570913042843,
     "user": {
      "displayName": "Seongjin Park",
      "photoUrl": "",
      "userId": "18359754870170751753"
     },
     "user_tz": 420
    },
    "id": "pcOUHSxiDmDK",
    "outputId": "63b84a03-b083-4c97-bd84-d23793fdcf0e"
   },
   "outputs": [
    {
     "name": "stdout",
     "output_type": "stream",
     "text": [
      "Train on 7564 samples, validate on 3242 samples\n",
      "Epoch 1/50\n",
      "7564/7564 [==============================] - 13s 2ms/step - loss: 1.6030 - acc: 0.3817 - val_loss: 1.4400 - val_acc: 0.4244\n",
      "Epoch 2/50\n",
      "7564/7564 [==============================] - 12s 2ms/step - loss: 1.4005 - acc: 0.4483 - val_loss: 1.4275 - val_acc: 0.4337\n",
      "Epoch 3/50\n",
      "7564/7564 [==============================] - 12s 2ms/step - loss: 1.3542 - acc: 0.4622 - val_loss: 1.4293 - val_acc: 0.4426\n",
      "Epoch 4/50\n",
      "7564/7564 [==============================] - 12s 2ms/step - loss: 1.3256 - acc: 0.4664 - val_loss: 1.4158 - val_acc: 0.4436\n",
      "Epoch 5/50\n",
      "7564/7564 [==============================] - 12s 2ms/step - loss: 1.3034 - acc: 0.4800 - val_loss: 1.4111 - val_acc: 0.4417\n",
      "Epoch 6/50\n",
      "7564/7564 [==============================] - 12s 2ms/step - loss: 1.2871 - acc: 0.4828 - val_loss: 1.3997 - val_acc: 0.4411\n",
      "Epoch 7/50\n",
      "7564/7564 [==============================] - 12s 2ms/step - loss: 1.2717 - acc: 0.4828 - val_loss: 1.4086 - val_acc: 0.4439\n",
      "Epoch 8/50\n",
      "7564/7564 [==============================] - 12s 2ms/step - loss: 1.2605 - acc: 0.4861 - val_loss: 1.4068 - val_acc: 0.4451\n",
      "Epoch 9/50\n",
      "7564/7564 [==============================] - 12s 2ms/step - loss: 1.2560 - acc: 0.4853 - val_loss: 1.3911 - val_acc: 0.4436\n",
      "Epoch 10/50\n",
      "7564/7564 [==============================] - 13s 2ms/step - loss: 1.2482 - acc: 0.4880 - val_loss: 1.3949 - val_acc: 0.4451\n",
      "Epoch 11/50\n",
      "7564/7564 [==============================] - 12s 2ms/step - loss: 1.2424 - acc: 0.4864 - val_loss: 1.3960 - val_acc: 0.4420\n",
      "Epoch 12/50\n",
      "7564/7564 [==============================] - 12s 2ms/step - loss: 1.2358 - acc: 0.4881 - val_loss: 1.3988 - val_acc: 0.4476\n",
      "Epoch 13/50\n",
      "7564/7564 [==============================] - 12s 2ms/step - loss: 1.2356 - acc: 0.4860 - val_loss: 1.3994 - val_acc: 0.4454\n",
      "Epoch 14/50\n",
      "7564/7564 [==============================] - 12s 2ms/step - loss: 1.2312 - acc: 0.4892 - val_loss: 1.3953 - val_acc: 0.4525\n",
      "Epoch 15/50\n",
      "7564/7564 [==============================] - 12s 2ms/step - loss: 1.2268 - acc: 0.4925 - val_loss: 1.4031 - val_acc: 0.4485\n",
      "Epoch 16/50\n",
      "7564/7564 [==============================] - 12s 2ms/step - loss: 1.2240 - acc: 0.4893 - val_loss: 1.4010 - val_acc: 0.4537\n",
      "Epoch 17/50\n",
      "7564/7564 [==============================] - 12s 2ms/step - loss: 1.2229 - acc: 0.4892 - val_loss: 1.3993 - val_acc: 0.4510\n",
      "Epoch 18/50\n",
      "7564/7564 [==============================] - 12s 2ms/step - loss: 1.2197 - acc: 0.4972 - val_loss: 1.4036 - val_acc: 0.4506\n",
      "Epoch 19/50\n",
      "7564/7564 [==============================] - 12s 2ms/step - loss: 1.2184 - acc: 0.4888 - val_loss: 1.4001 - val_acc: 0.4494\n",
      "Epoch 20/50\n",
      "7564/7564 [==============================] - 12s 2ms/step - loss: 1.2171 - acc: 0.4950 - val_loss: 1.3938 - val_acc: 0.4559\n",
      "Epoch 21/50\n",
      "7564/7564 [==============================] - 12s 2ms/step - loss: 1.2157 - acc: 0.4956 - val_loss: 1.3968 - val_acc: 0.4534\n",
      "Epoch 22/50\n",
      "7564/7564 [==============================] - 12s 2ms/step - loss: 1.2125 - acc: 0.4983 - val_loss: 1.4062 - val_acc: 0.4568\n",
      "Epoch 23/50\n",
      "7564/7564 [==============================] - 12s 2ms/step - loss: 1.2059 - acc: 0.5011 - val_loss: 1.4268 - val_acc: 0.4463\n",
      "Epoch 24/50\n",
      "7564/7564 [==============================] - 12s 2ms/step - loss: 1.2027 - acc: 0.5015 - val_loss: 1.4356 - val_acc: 0.4420\n",
      "Epoch 25/50\n",
      "7564/7564 [==============================] - 12s 2ms/step - loss: 1.2018 - acc: 0.4985 - val_loss: 1.4401 - val_acc: 0.4426\n",
      "Epoch 26/50\n",
      "7564/7564 [==============================] - 12s 2ms/step - loss: 1.1987 - acc: 0.5011 - val_loss: 1.4475 - val_acc: 0.4414\n",
      "Epoch 27/50\n",
      "7564/7564 [==============================] - 12s 2ms/step - loss: 1.1960 - acc: 0.5021 - val_loss: 1.4492 - val_acc: 0.4432\n",
      "Epoch 28/50\n",
      "7564/7564 [==============================] - 12s 2ms/step - loss: 1.1896 - acc: 0.5081 - val_loss: 1.4535 - val_acc: 0.4426\n",
      "Epoch 29/50\n",
      "7564/7564 [==============================] - 12s 2ms/step - loss: 1.1862 - acc: 0.5085 - val_loss: 1.4555 - val_acc: 0.4494\n",
      "Epoch 30/50\n",
      "7564/7564 [==============================] - 12s 2ms/step - loss: 1.1876 - acc: 0.5061 - val_loss: 1.4486 - val_acc: 0.4466\n",
      "Epoch 31/50\n",
      "7564/7564 [==============================] - 12s 2ms/step - loss: 1.1837 - acc: 0.5087 - val_loss: 1.4439 - val_acc: 0.4426\n",
      "Epoch 32/50\n",
      "7564/7564 [==============================] - 12s 2ms/step - loss: 1.1829 - acc: 0.5063 - val_loss: 1.4362 - val_acc: 0.4442\n",
      "Epoch 33/50\n",
      "7564/7564 [==============================] - 12s 2ms/step - loss: 1.1800 - acc: 0.5094 - val_loss: 1.4386 - val_acc: 0.4399\n",
      "Epoch 34/50\n",
      "7564/7564 [==============================] - 12s 2ms/step - loss: 1.1816 - acc: 0.5052 - val_loss: 1.4422 - val_acc: 0.4439\n",
      "Epoch 35/50\n",
      "7564/7564 [==============================] - 12s 2ms/step - loss: 1.1783 - acc: 0.5069 - val_loss: 1.4557 - val_acc: 0.4340\n",
      "Epoch 36/50\n",
      "7564/7564 [==============================] - 12s 2ms/step - loss: 1.1780 - acc: 0.5079 - val_loss: 1.4501 - val_acc: 0.4392\n",
      "Epoch 37/50\n",
      "7564/7564 [==============================] - 12s 2ms/step - loss: 1.1773 - acc: 0.5120 - val_loss: 1.4639 - val_acc: 0.4386\n",
      "Epoch 38/50\n",
      "7564/7564 [==============================] - 12s 2ms/step - loss: 1.1749 - acc: 0.5165 - val_loss: 1.4733 - val_acc: 0.4340\n",
      "Epoch 39/50\n",
      "7564/7564 [==============================] - 12s 2ms/step - loss: 1.1756 - acc: 0.5108 - val_loss: 1.4916 - val_acc: 0.4402\n",
      "Epoch 40/50\n",
      "7564/7564 [==============================] - 12s 2ms/step - loss: 1.1762 - acc: 0.5097 - val_loss: 1.5007 - val_acc: 0.4371\n",
      "Epoch 41/50\n",
      "7564/7564 [==============================] - 12s 2ms/step - loss: 1.1763 - acc: 0.5066 - val_loss: 1.4946 - val_acc: 0.4287\n",
      "Epoch 42/50\n",
      "7564/7564 [==============================] - 12s 2ms/step - loss: 1.1743 - acc: 0.5058 - val_loss: 1.4746 - val_acc: 0.4324\n",
      "Epoch 43/50\n",
      "7564/7564 [==============================] - 12s 2ms/step - loss: 1.1676 - acc: 0.5097 - val_loss: 1.4838 - val_acc: 0.4300\n",
      "Epoch 44/50\n",
      "7564/7564 [==============================] - 12s 2ms/step - loss: 1.1637 - acc: 0.5081 - val_loss: 1.4780 - val_acc: 0.4324\n",
      "Epoch 45/50\n",
      "7564/7564 [==============================] - 12s 2ms/step - loss: 1.1609 - acc: 0.5119 - val_loss: 1.4969 - val_acc: 0.4309\n",
      "Epoch 46/50\n",
      "7564/7564 [==============================] - 12s 2ms/step - loss: 1.1622 - acc: 0.5112 - val_loss: 1.4930 - val_acc: 0.4365\n",
      "Epoch 47/50\n",
      "7564/7564 [==============================] - 12s 2ms/step - loss: 1.1576 - acc: 0.5123 - val_loss: 1.5097 - val_acc: 0.4343\n",
      "Epoch 48/50\n",
      "7564/7564 [==============================] - 12s 2ms/step - loss: 1.1597 - acc: 0.5114 - val_loss: 1.5016 - val_acc: 0.4294\n",
      "Epoch 49/50\n",
      "7564/7564 [==============================] - 12s 2ms/step - loss: 1.1530 - acc: 0.5136 - val_loss: 1.5078 - val_acc: 0.4312\n",
      "Epoch 50/50\n",
      "7564/7564 [==============================] - 12s 2ms/step - loss: 1.1512 - acc: 0.5164 - val_loss: 1.5235 - val_acc: 0.4278\n",
      "Accuracy: 42.78%\n"
     ]
    }
   ],
   "source": [
    "history = model.fit(X_train, y_train, batch_size = batch_size, epochs = num_epochs, shuffle = False, class_weight = None,\n",
    "         verbose = 1, validation_data = (X_test, y_test), callbacks=[tensorboard_callback])\n",
    "\n",
    "model.save('/content/drive/My Drive/ASR/result/RNN_model_deltas_fluency_50.h5')\n",
    "# Final evaluation of the model\n",
    "scores = model.evaluate(X_test, y_test, verbose=0)\n",
    "print(\"Accuracy: %.2f%%\" % (scores[1]*100))"
   ]
  },
  {
   "cell_type": "code",
   "execution_count": 0,
   "metadata": {
    "colab": {
     "base_uri": "https://localhost:8080/",
     "height": 573
    },
    "colab_type": "code",
    "executionInfo": {
     "elapsed": 1113,
     "status": "ok",
     "timestamp": 1570055106841,
     "user": {
      "displayName": "Seongjin Park",
      "photoUrl": "",
      "userId": "18359754870170751753"
     },
     "user_tz": 420
    },
    "id": "t3vr_Tw30PME",
    "outputId": "ca992641-cd36-4c07-90e7-99818e8e2adc"
   },
   "outputs": [
    {
     "data": {
      "image/png": "[encoded data removed]",
      "text/plain": [
       "<Figure size 432x288 with 1 Axes>"
      ]
     },
     "metadata": {
      "tags": []
     },
     "output_type": "display_data"
    },
    {
     "data": {
      "image/png": "[encoded data removed]",
      "text/plain": [
       "<Figure size 432x288 with 1 Axes>"
      ]
     },
     "metadata": {
      "tags": []
     },
     "output_type": "display_data"
    }
   ],
   "source": [
    "plt.plot(history.history['acc'])\n",
    "plt.plot(history.history['val_acc'])\n",
    "plt.title('model accuracy')\n",
    "plt.ylabel('accuracy')\n",
    "plt.xlabel('epoch')\n",
    "plt.legend(['train', 'test'], loc='upper left')\n",
    "plt.show()\n",
    "# summarize history for loss\n",
    "plt.plot(history.history['loss'])\n",
    "plt.plot(history.history['val_loss'])\n",
    "plt.title('model loss')\n",
    "plt.ylabel('loss')\n",
    "plt.xlabel('epoch')\n",
    "plt.legend(['train', 'test'], loc='upper left')\n",
    "plt.show()"
   ]
  },
  {
   "cell_type": "code",
   "execution_count": 0,
   "metadata": {
    "colab": {
     "base_uri": "https://localhost:8080/",
     "height": 36
    },
    "colab_type": "code",
    "executionInfo": {
     "elapsed": 3859,
     "status": "ok",
     "timestamp": 1568617987445,
     "user": {
      "displayName": "Seongjin Park",
      "photoUrl": "",
      "userId": "18359754870170751753"
     },
     "user_tz": 420
    },
    "id": "9fNo2SF45-Bx",
    "outputId": "f9b65318-7ad5-4d0a-e092-5e45e74f05e2"
   },
   "outputs": [
    {
     "name": "stdout",
     "output_type": "stream",
     "text": [
      "Found GPU at: /device:GPU:0\n"
     ]
    }
   ],
   "source": [
    "import tensorflow as tf\n",
    "device_name = tf.test.gpu_device_name()\n",
    "if device_name != '/device:GPU:0':\n",
    "  raise SystemError('GPU device not found')\n",
    "print('Found GPU at: {}'.format(device_name))"
   ]
  },
  {
   "cell_type": "code",
   "execution_count": 0,
   "metadata": {
    "colab": {
     "base_uri": "https://localhost:8080/",
     "height": 602
    },
    "colab_type": "code",
    "executionInfo": {
     "elapsed": 1782,
     "status": "ok",
     "timestamp": 1568618745687,
     "user": {
      "displayName": "Seongjin Park",
      "photoUrl": "",
      "userId": "18359754870170751753"
     },
     "user_tz": 420
    },
    "id": "Eju_GIuA5-JF",
    "outputId": "a48f59a9-627a-4f73-c7d3-128166dbcb58"
   },
   "outputs": [
    {
     "name": "stdout",
     "output_type": "stream",
     "text": [
      "WARNING:tensorflow:From /usr/local/lib/python3.6/dist-packages/keras/backend/tensorflow_backend.py:66: The name tf.get_default_graph is deprecated. Please use tf.compat.v1.get_default_graph instead.\n",
      "\n",
      "WARNING:tensorflow:From /usr/local/lib/python3.6/dist-packages/keras/backend/tensorflow_backend.py:541: The name tf.placeholder is deprecated. Please use tf.compat.v1.placeholder instead.\n",
      "\n",
      "WARNING:tensorflow:From /usr/local/lib/python3.6/dist-packages/keras/backend/tensorflow_backend.py:4432: The name tf.random_uniform is deprecated. Please use tf.random.uniform instead.\n",
      "\n",
      "WARNING:tensorflow:From /usr/local/lib/python3.6/dist-packages/keras/backend/tensorflow_backend.py:148: The name tf.placeholder_with_default is deprecated. Please use tf.compat.v1.placeholder_with_default instead.\n",
      "\n",
      "WARNING:tensorflow:From /usr/local/lib/python3.6/dist-packages/keras/backend/tensorflow_backend.py:3733: calling dropout (from tensorflow.python.ops.nn_ops) with keep_prob is deprecated and will be removed in a future version.\n",
      "Instructions for updating:\n",
      "Please use `rate` instead of `keep_prob`. Rate should be set to `rate = 1 - keep_prob`.\n",
      "WARNING:tensorflow:From /usr/local/lib/python3.6/dist-packages/keras/optimizers.py:793: The name tf.train.Optimizer is deprecated. Please use tf.compat.v1.train.Optimizer instead.\n",
      "\n",
      "WARNING:tensorflow:From /usr/local/lib/python3.6/dist-packages/keras/backend/tensorflow_backend.py:3576: The name tf.log is deprecated. Please use tf.math.log instead.\n",
      "\n",
      "Model: \"sequential_1\"\n",
      "_________________________________________________________________\n",
      "Layer (type)                 Output Shape              Param #   \n",
      "=================================================================\n",
      "gru_1 (GRU)                  (None, 512)               1185792   \n",
      "_________________________________________________________________\n",
      "dropout_1 (Dropout)          (None, 512)               0         \n",
      "_________________________________________________________________\n",
      "dense_1 (Dense)              (None, 256)               131328    \n",
      "_________________________________________________________________\n",
      "dense_2 (Dense)              (None, 6)                 1542      \n",
      "=================================================================\n",
      "Total params: 1,318,662\n",
      "Trainable params: 1,318,662\n",
      "Non-trainable params: 0\n",
      "_________________________________________________________________\n"
     ]
    }
   ],
   "source": [
    "input_shape = (num_mel, max_time)\n",
    "\n",
    "model = Sequential()\n",
    "\n",
    "model.add(GRU(512, input_shape = input_shape))\n",
    "model.add(Dropout(drop_out_rate))\n",
    "model.add(Dense(num_dense_unit))\n",
    "model.add(Dense(num_classes, activation='softmax'))\n",
    "\n",
    "# use adam optimizer\n",
    "adam = keras.optimizers.Adam(lr = lr)\n",
    "\n",
    "# compile the model\n",
    "model.compile(optimizer=adam, loss=\"categorical_crossentropy\", metrics=[\"accuracy\"])\n",
    "\n",
    "model.summary()"
   ]
  },
  {
   "cell_type": "code",
   "execution_count": 0,
   "metadata": {
    "colab": {},
    "colab_type": "code",
    "id": "mi1r2jOm99Ws"
   },
   "outputs": [],
   "source": [
    "from datetime import datetime\n",
    "logdir = \"logs/scalars/\" + datetime.now().strftime(\"%Y%m%d-%H%M%S\")\n",
    "tensorboard_callback = keras.callbacks.TensorBoard(log_dir=logdir)"
   ]
  },
  {
   "cell_type": "code",
   "execution_count": 0,
   "metadata": {
    "colab": {
     "base_uri": "https://localhost:8080/",
     "height": 1000
    },
    "colab_type": "code",
    "executionInfo": {
     "elapsed": 8771862,
     "status": "ok",
     "timestamp": 1568632203978,
     "user": {
      "displayName": "Seongjin Park",
      "photoUrl": "",
      "userId": "18359754870170751753"
     },
     "user_tz": 420
    },
    "id": "sRy5WQBL63S9",
    "outputId": "03da760b-19d4-47be-b91c-48b827483b11"
   },
   "outputs": [
    {
     "name": "stdout",
     "output_type": "stream",
     "text": [
      "Train on 7564 samples, validate on 3242 samples\n",
      "Epoch 1/400\n",
      "7564/7564 [==============================] - 22s 3ms/step - loss: 1.2014 - acc: 0.5164 - val_loss: 1.4275 - val_acc: 0.4605\n",
      "Epoch 2/400\n",
      "7564/7564 [==============================] - 22s 3ms/step - loss: 1.2003 - acc: 0.5144 - val_loss: 1.4425 - val_acc: 0.4547\n",
      "Epoch 3/400\n",
      "7564/7564 [==============================] - 22s 3ms/step - loss: 1.2111 - acc: 0.5107 - val_loss: 1.4115 - val_acc: 0.4525\n",
      "Epoch 4/400\n",
      "7564/7564 [==============================] - 22s 3ms/step - loss: 1.2118 - acc: 0.5128 - val_loss: 1.4349 - val_acc: 0.4426\n",
      "Epoch 5/400\n",
      "7564/7564 [==============================] - 22s 3ms/step - loss: 1.2110 - acc: 0.5118 - val_loss: 1.4384 - val_acc: 0.4457\n",
      "Epoch 6/400\n",
      "7564/7564 [==============================] - 22s 3ms/step - loss: 1.2211 - acc: 0.5085 - val_loss: 1.3750 - val_acc: 0.4608\n",
      "Epoch 7/400\n",
      "7564/7564 [==============================] - 22s 3ms/step - loss: 1.2209 - acc: 0.5032 - val_loss: 1.4093 - val_acc: 0.4411\n",
      "Epoch 8/400\n",
      "7564/7564 [==============================] - 22s 3ms/step - loss: 1.2151 - acc: 0.5049 - val_loss: 1.4153 - val_acc: 0.4556\n",
      "Epoch 9/400\n",
      "7564/7564 [==============================] - 22s 3ms/step - loss: 1.2186 - acc: 0.5085 - val_loss: 1.4217 - val_acc: 0.4550\n",
      "Epoch 10/400\n",
      "7564/7564 [==============================] - 22s 3ms/step - loss: 1.2247 - acc: 0.5049 - val_loss: 1.4053 - val_acc: 0.4630\n",
      "Epoch 11/400\n",
      "7564/7564 [==============================] - 22s 3ms/step - loss: 1.2380 - acc: 0.4968 - val_loss: 1.3580 - val_acc: 0.4676\n",
      "Epoch 12/400\n",
      "7564/7564 [==============================] - 22s 3ms/step - loss: 1.2283 - acc: 0.4983 - val_loss: 1.3634 - val_acc: 0.4658\n",
      "Epoch 13/400\n",
      "7564/7564 [==============================] - 22s 3ms/step - loss: 1.2214 - acc: 0.4989 - val_loss: 1.3656 - val_acc: 0.4664\n",
      "Epoch 14/400\n",
      "7564/7564 [==============================] - 22s 3ms/step - loss: 1.2127 - acc: 0.4989 - val_loss: 1.3629 - val_acc: 0.4584\n",
      "Epoch 15/400\n",
      "7564/7564 [==============================] - 22s 3ms/step - loss: 1.2125 - acc: 0.5053 - val_loss: 1.3724 - val_acc: 0.4651\n",
      "Epoch 16/400\n",
      "7564/7564 [==============================] - 22s 3ms/step - loss: 1.2157 - acc: 0.5046 - val_loss: 1.3668 - val_acc: 0.4596\n",
      "Epoch 17/400\n",
      "7564/7564 [==============================] - 22s 3ms/step - loss: 1.2134 - acc: 0.5033 - val_loss: 1.3666 - val_acc: 0.4651\n",
      "Epoch 18/400\n",
      "7564/7564 [==============================] - 22s 3ms/step - loss: 1.2091 - acc: 0.5038 - val_loss: 1.3690 - val_acc: 0.4658\n",
      "Epoch 19/400\n",
      "7564/7564 [==============================] - 22s 3ms/step - loss: 1.2186 - acc: 0.5108 - val_loss: 1.3768 - val_acc: 0.4651\n",
      "Epoch 20/400\n",
      "7564/7564 [==============================] - 22s 3ms/step - loss: 1.2082 - acc: 0.5058 - val_loss: 1.3758 - val_acc: 0.4664\n",
      "Epoch 21/400\n",
      "7564/7564 [==============================] - 22s 3ms/step - loss: 1.2080 - acc: 0.5057 - val_loss: 1.3739 - val_acc: 0.4614\n",
      "Epoch 22/400\n",
      "7564/7564 [==============================] - 22s 3ms/step - loss: 1.2087 - acc: 0.5062 - val_loss: 1.3812 - val_acc: 0.4685\n",
      "Epoch 23/400\n",
      "7564/7564 [==============================] - 22s 3ms/step - loss: 1.2068 - acc: 0.5070 - val_loss: 1.3667 - val_acc: 0.4642\n",
      "Epoch 24/400\n",
      "7564/7564 [==============================] - 22s 3ms/step - loss: 1.2106 - acc: 0.5087 - val_loss: 1.3548 - val_acc: 0.4661\n",
      "Epoch 25/400\n",
      "7564/7564 [==============================] - 22s 3ms/step - loss: 1.2174 - acc: 0.5033 - val_loss: 1.3592 - val_acc: 0.4658\n",
      "Epoch 26/400\n",
      "7564/7564 [==============================] - 22s 3ms/step - loss: 1.2202 - acc: 0.5004 - val_loss: 1.3804 - val_acc: 0.4633\n",
      "Epoch 27/400\n",
      "7564/7564 [==============================] - 22s 3ms/step - loss: 1.2152 - acc: 0.4996 - val_loss: 1.3843 - val_acc: 0.4565\n",
      "Epoch 28/400\n",
      "7564/7564 [==============================] - 22s 3ms/step - loss: 1.2137 - acc: 0.5091 - val_loss: 1.3709 - val_acc: 0.4611\n",
      "Epoch 29/400\n",
      "7564/7564 [==============================] - 22s 3ms/step - loss: 1.2180 - acc: 0.5024 - val_loss: 1.3601 - val_acc: 0.4476\n",
      "Epoch 30/400\n",
      "7564/7564 [==============================] - 22s 3ms/step - loss: 1.2367 - acc: 0.4995 - val_loss: 1.3596 - val_acc: 0.4577\n",
      "Epoch 31/400\n",
      "7564/7564 [==============================] - 22s 3ms/step - loss: 1.2138 - acc: 0.5073 - val_loss: 1.3702 - val_acc: 0.4556\n",
      "Epoch 32/400\n",
      "7564/7564 [==============================] - 22s 3ms/step - loss: 1.2174 - acc: 0.5071 - val_loss: 1.3541 - val_acc: 0.4621\n",
      "Epoch 33/400\n",
      "7564/7564 [==============================] - 22s 3ms/step - loss: 1.2333 - acc: 0.4976 - val_loss: 1.3671 - val_acc: 0.4587\n",
      "Epoch 34/400\n",
      "7564/7564 [==============================] - 22s 3ms/step - loss: 1.2233 - acc: 0.5019 - val_loss: 1.3615 - val_acc: 0.4568\n",
      "Epoch 35/400\n",
      "7564/7564 [==============================] - 22s 3ms/step - loss: 1.2204 - acc: 0.5024 - val_loss: 1.3716 - val_acc: 0.4587\n",
      "Epoch 36/400\n",
      "7564/7564 [==============================] - 22s 3ms/step - loss: 1.2267 - acc: 0.5001 - val_loss: 1.3755 - val_acc: 0.4633\n",
      "Epoch 37/400\n",
      "7564/7564 [==============================] - 22s 3ms/step - loss: 1.2071 - acc: 0.5106 - val_loss: 1.3718 - val_acc: 0.4513\n",
      "Epoch 38/400\n",
      "7564/7564 [==============================] - 22s 3ms/step - loss: 1.1978 - acc: 0.5135 - val_loss: 1.3722 - val_acc: 0.4624\n",
      "Epoch 39/400\n",
      "7564/7564 [==============================] - 22s 3ms/step - loss: 1.1978 - acc: 0.5159 - val_loss: 1.3919 - val_acc: 0.4639\n",
      "Epoch 40/400\n",
      "7564/7564 [==============================] - 22s 3ms/step - loss: 1.2113 - acc: 0.5050 - val_loss: 1.3881 - val_acc: 0.4722\n",
      "Epoch 41/400\n",
      "7564/7564 [==============================] - 22s 3ms/step - loss: 1.2110 - acc: 0.5094 - val_loss: 1.3911 - val_acc: 0.4692\n",
      "Epoch 42/400\n",
      "7564/7564 [==============================] - 22s 3ms/step - loss: 1.2038 - acc: 0.5130 - val_loss: 1.3799 - val_acc: 0.4679\n",
      "Epoch 43/400\n",
      "7564/7564 [==============================] - 22s 3ms/step - loss: 1.2106 - acc: 0.5116 - val_loss: 1.3756 - val_acc: 0.4655\n",
      "Epoch 44/400\n",
      "7564/7564 [==============================] - 22s 3ms/step - loss: 1.2014 - acc: 0.5181 - val_loss: 1.3738 - val_acc: 0.4621\n",
      "Epoch 45/400\n",
      "7564/7564 [==============================] - 22s 3ms/step - loss: 1.2122 - acc: 0.5099 - val_loss: 1.4012 - val_acc: 0.4565\n",
      "Epoch 46/400\n",
      "7564/7564 [==============================] - 22s 3ms/step - loss: 1.2481 - acc: 0.5007 - val_loss: 1.3737 - val_acc: 0.4581\n",
      "Epoch 47/400\n",
      "7564/7564 [==============================] - 22s 3ms/step - loss: 1.5332 - acc: 0.3880 - val_loss: 1.7837 - val_acc: 0.2887\n",
      "Epoch 48/400\n",
      "7564/7564 [==============================] - 22s 3ms/step - loss: 1.8452 - acc: 0.2441 - val_loss: 1.7960 - val_acc: 0.2557\n",
      "Epoch 49/400\n",
      "7564/7564 [==============================] - 22s 3ms/step - loss: 1.9126 - acc: 0.2425 - val_loss: 1.6715 - val_acc: 0.3146\n",
      "Epoch 50/400\n",
      "7564/7564 [==============================] - 22s 3ms/step - loss: 1.7083 - acc: 0.3092 - val_loss: 1.6376 - val_acc: 0.3476\n",
      "Epoch 51/400\n",
      "7564/7564 [==============================] - 22s 3ms/step - loss: 1.6705 - acc: 0.3215 - val_loss: 1.6244 - val_acc: 0.3448\n",
      "Epoch 52/400\n",
      "7564/7564 [==============================] - 22s 3ms/step - loss: 1.6609 - acc: 0.3293 - val_loss: 1.6159 - val_acc: 0.3544\n",
      "Epoch 53/400\n",
      "7564/7564 [==============================] - 22s 3ms/step - loss: 1.6428 - acc: 0.3399 - val_loss: 1.6183 - val_acc: 0.3353\n",
      "Epoch 54/400\n",
      "7564/7564 [==============================] - 22s 3ms/step - loss: 1.6335 - acc: 0.3398 - val_loss: 1.6006 - val_acc: 0.3563\n",
      "Epoch 55/400\n",
      "7564/7564 [==============================] - 22s 3ms/step - loss: 1.6376 - acc: 0.3388 - val_loss: 1.6146 - val_acc: 0.3442\n",
      "Epoch 56/400\n",
      "7564/7564 [==============================] - 22s 3ms/step - loss: 1.6338 - acc: 0.3437 - val_loss: 1.6044 - val_acc: 0.3374\n",
      "Epoch 57/400\n",
      "7564/7564 [==============================] - 22s 3ms/step - loss: 1.6316 - acc: 0.3407 - val_loss: 1.5872 - val_acc: 0.3448\n",
      "Epoch 58/400\n",
      "7564/7564 [==============================] - 22s 3ms/step - loss: 1.6224 - acc: 0.3431 - val_loss: 1.6061 - val_acc: 0.3415\n",
      "Epoch 59/400\n",
      "7564/7564 [==============================] - 22s 3ms/step - loss: 1.6235 - acc: 0.3425 - val_loss: 1.5966 - val_acc: 0.3452\n",
      "Epoch 60/400\n",
      "7564/7564 [==============================] - 22s 3ms/step - loss: 1.6176 - acc: 0.3425 - val_loss: 1.6010 - val_acc: 0.3479\n",
      "Epoch 61/400\n",
      "7564/7564 [==============================] - 22s 3ms/step - loss: 1.6148 - acc: 0.3507 - val_loss: 1.6088 - val_acc: 0.3415\n",
      "Epoch 62/400\n",
      "7564/7564 [==============================] - 22s 3ms/step - loss: 1.6257 - acc: 0.3391 - val_loss: 1.6013 - val_acc: 0.3498\n",
      "Epoch 63/400\n",
      "7564/7564 [==============================] - 22s 3ms/step - loss: 1.6275 - acc: 0.3458 - val_loss: 1.6037 - val_acc: 0.3411\n",
      "Epoch 64/400\n",
      "7564/7564 [==============================] - 22s 3ms/step - loss: 1.6182 - acc: 0.3486 - val_loss: 1.6048 - val_acc: 0.3513\n",
      "Epoch 65/400\n",
      "7564/7564 [==============================] - 22s 3ms/step - loss: 1.6160 - acc: 0.3511 - val_loss: 1.5957 - val_acc: 0.3455\n",
      "Epoch 66/400\n",
      "7564/7564 [==============================] - 22s 3ms/step - loss: 1.6225 - acc: 0.3548 - val_loss: 1.6122 - val_acc: 0.3415\n",
      "Epoch 67/400\n",
      "7564/7564 [==============================] - 22s 3ms/step - loss: 1.6265 - acc: 0.3511 - val_loss: 1.6133 - val_acc: 0.3334\n",
      "Epoch 68/400\n",
      "7564/7564 [==============================] - 22s 3ms/step - loss: 1.6233 - acc: 0.3477 - val_loss: 1.6168 - val_acc: 0.3328\n",
      "Epoch 69/400\n",
      "7564/7564 [==============================] - 22s 3ms/step - loss: 1.6230 - acc: 0.3460 - val_loss: 1.6143 - val_acc: 0.3334\n",
      "Epoch 70/400\n",
      "7564/7564 [==============================] - 22s 3ms/step - loss: 1.6104 - acc: 0.3469 - val_loss: 1.5965 - val_acc: 0.3560\n",
      "Epoch 71/400\n",
      "7564/7564 [==============================] - 22s 3ms/step - loss: 1.6205 - acc: 0.3431 - val_loss: 1.6064 - val_acc: 0.3424\n",
      "Epoch 72/400\n",
      "7564/7564 [==============================] - 22s 3ms/step - loss: 1.6163 - acc: 0.3505 - val_loss: 1.6023 - val_acc: 0.3560\n",
      "Epoch 73/400\n",
      "7564/7564 [==============================] - 22s 3ms/step - loss: 1.6144 - acc: 0.3498 - val_loss: 1.6002 - val_acc: 0.3402\n",
      "Epoch 74/400\n",
      "7564/7564 [==============================] - 22s 3ms/step - loss: 1.6140 - acc: 0.3499 - val_loss: 1.5986 - val_acc: 0.3510\n",
      "Epoch 75/400\n",
      "7564/7564 [==============================] - 22s 3ms/step - loss: 1.6164 - acc: 0.3498 - val_loss: 1.6042 - val_acc: 0.3563\n",
      "Epoch 76/400\n",
      "7564/7564 [==============================] - 22s 3ms/step - loss: 1.6096 - acc: 0.3555 - val_loss: 1.5955 - val_acc: 0.3504\n",
      "Epoch 77/400\n",
      "7564/7564 [==============================] - 22s 3ms/step - loss: 1.6142 - acc: 0.3496 - val_loss: 1.5974 - val_acc: 0.3547\n",
      "Epoch 78/400\n",
      "7564/7564 [==============================] - 22s 3ms/step - loss: 1.6067 - acc: 0.3563 - val_loss: 1.5987 - val_acc: 0.3489\n",
      "Epoch 79/400\n",
      "7564/7564 [==============================] - 22s 3ms/step - loss: 1.6059 - acc: 0.3534 - val_loss: 1.6111 - val_acc: 0.3353\n",
      "Epoch 80/400\n",
      "7564/7564 [==============================] - 22s 3ms/step - loss: 1.6155 - acc: 0.3480 - val_loss: 1.5896 - val_acc: 0.3523\n",
      "Epoch 81/400\n",
      "7564/7564 [==============================] - 22s 3ms/step - loss: 1.6190 - acc: 0.3522 - val_loss: 1.6104 - val_acc: 0.3445\n",
      "Epoch 82/400\n",
      "7564/7564 [==============================] - 22s 3ms/step - loss: 1.6077 - acc: 0.3566 - val_loss: 1.5934 - val_acc: 0.3381\n",
      "Epoch 83/400\n",
      "7564/7564 [==============================] - 22s 3ms/step - loss: 1.6169 - acc: 0.3472 - val_loss: 1.5912 - val_acc: 0.3402\n",
      "Epoch 84/400\n",
      "7564/7564 [==============================] - 22s 3ms/step - loss: 1.6071 - acc: 0.3539 - val_loss: 1.6045 - val_acc: 0.3421\n",
      "Epoch 85/400\n",
      "7564/7564 [==============================] - 22s 3ms/step - loss: 1.6137 - acc: 0.3525 - val_loss: 1.6153 - val_acc: 0.3310\n",
      "Epoch 86/400\n",
      "7564/7564 [==============================] - 22s 3ms/step - loss: 1.6200 - acc: 0.3347 - val_loss: 1.6154 - val_acc: 0.3408\n",
      "Epoch 87/400\n",
      "7564/7564 [==============================] - 22s 3ms/step - loss: 1.6097 - acc: 0.3591 - val_loss: 1.6223 - val_acc: 0.3322\n",
      "Epoch 88/400\n",
      "7564/7564 [==============================] - 22s 3ms/step - loss: 1.6179 - acc: 0.3481 - val_loss: 1.6071 - val_acc: 0.3402\n",
      "Epoch 89/400\n",
      "7564/7564 [==============================] - 22s 3ms/step - loss: 1.6155 - acc: 0.3494 - val_loss: 1.6060 - val_acc: 0.3504\n",
      "Epoch 90/400\n",
      "7564/7564 [==============================] - 22s 3ms/step - loss: 1.6059 - acc: 0.3461 - val_loss: 1.5987 - val_acc: 0.3482\n",
      "Epoch 91/400\n",
      "7564/7564 [==============================] - 22s 3ms/step - loss: 1.6137 - acc: 0.3470 - val_loss: 1.6165 - val_acc: 0.3390\n",
      "Epoch 92/400\n",
      "7564/7564 [==============================] - 22s 3ms/step - loss: 1.6160 - acc: 0.3494 - val_loss: 1.6157 - val_acc: 0.3421\n",
      "Epoch 93/400\n",
      "7564/7564 [==============================] - 22s 3ms/step - loss: 1.6216 - acc: 0.3502 - val_loss: 1.6243 - val_acc: 0.3402\n",
      "Epoch 94/400\n",
      "7564/7564 [==============================] - 22s 3ms/step - loss: 1.6175 - acc: 0.3453 - val_loss: 1.6007 - val_acc: 0.3507\n",
      "Epoch 95/400\n",
      "7564/7564 [==============================] - 22s 3ms/step - loss: 1.6132 - acc: 0.3480 - val_loss: 1.6142 - val_acc: 0.3467\n",
      "Epoch 96/400\n",
      "7564/7564 [==============================] - 22s 3ms/step - loss: 1.6224 - acc: 0.3432 - val_loss: 1.6126 - val_acc: 0.3448\n",
      "Epoch 97/400\n",
      "7564/7564 [==============================] - 22s 3ms/step - loss: 1.6170 - acc: 0.3424 - val_loss: 1.5992 - val_acc: 0.3362\n",
      "Epoch 98/400\n",
      "7564/7564 [==============================] - 22s 3ms/step - loss: 1.6170 - acc: 0.3371 - val_loss: 1.6104 - val_acc: 0.3492\n",
      "Epoch 99/400\n",
      "7564/7564 [==============================] - 22s 3ms/step - loss: 1.6162 - acc: 0.3499 - val_loss: 1.6057 - val_acc: 0.3436\n",
      "Epoch 100/400\n",
      "7564/7564 [==============================] - 22s 3ms/step - loss: 1.6082 - acc: 0.3529 - val_loss: 1.6047 - val_acc: 0.3402\n",
      "Epoch 101/400\n",
      "7564/7564 [==============================] - 22s 3ms/step - loss: 1.6076 - acc: 0.3488 - val_loss: 1.6012 - val_acc: 0.3544\n",
      "Epoch 102/400\n",
      "7564/7564 [==============================] - 22s 3ms/step - loss: 1.6162 - acc: 0.3562 - val_loss: 1.6008 - val_acc: 0.3526\n",
      "Epoch 103/400\n",
      "7564/7564 [==============================] - 22s 3ms/step - loss: 1.6171 - acc: 0.3507 - val_loss: 1.6120 - val_acc: 0.3368\n",
      "Epoch 104/400\n",
      "7564/7564 [==============================] - 22s 3ms/step - loss: 1.6168 - acc: 0.3482 - val_loss: 1.6109 - val_acc: 0.3408\n",
      "Epoch 105/400\n",
      "7564/7564 [==============================] - 22s 3ms/step - loss: 1.6149 - acc: 0.3420 - val_loss: 1.6155 - val_acc: 0.3325\n",
      "Epoch 106/400\n",
      "7564/7564 [==============================] - 22s 3ms/step - loss: 1.6174 - acc: 0.3451 - val_loss: 1.5946 - val_acc: 0.3569\n",
      "Epoch 107/400\n",
      "7564/7564 [==============================] - 22s 3ms/step - loss: 1.6214 - acc: 0.3492 - val_loss: 1.6191 - val_acc: 0.3507\n",
      "Epoch 108/400\n",
      "7564/7564 [==============================] - 22s 3ms/step - loss: 1.6362 - acc: 0.3392 - val_loss: 1.6325 - val_acc: 0.3331\n",
      "Epoch 109/400\n",
      "7564/7564 [==============================] - 22s 3ms/step - loss: 1.6314 - acc: 0.3453 - val_loss: 1.6097 - val_acc: 0.3476\n",
      "Epoch 110/400\n",
      "7564/7564 [==============================] - 22s 3ms/step - loss: 1.6692 - acc: 0.3251 - val_loss: 1.6201 - val_acc: 0.3359\n",
      "Epoch 111/400\n",
      "7564/7564 [==============================] - 22s 3ms/step - loss: 1.6241 - acc: 0.3481 - val_loss: 1.5735 - val_acc: 0.3550\n",
      "Epoch 112/400\n",
      "7564/7564 [==============================] - 22s 3ms/step - loss: 1.5974 - acc: 0.3595 - val_loss: 1.5491 - val_acc: 0.3705\n",
      "Epoch 113/400\n",
      "7564/7564 [==============================] - 22s 3ms/step - loss: 1.5753 - acc: 0.3736 - val_loss: 1.5363 - val_acc: 0.3806\n",
      "Epoch 114/400\n",
      "7564/7564 [==============================] - 22s 3ms/step - loss: 1.5658 - acc: 0.3731 - val_loss: 1.5200 - val_acc: 0.3927\n",
      "Epoch 115/400\n",
      "7564/7564 [==============================] - 22s 3ms/step - loss: 1.5533 - acc: 0.3825 - val_loss: 1.5180 - val_acc: 0.3920\n",
      "Epoch 116/400\n",
      "7564/7564 [==============================] - 22s 3ms/step - loss: 1.5550 - acc: 0.3794 - val_loss: 1.5222 - val_acc: 0.3899\n",
      "Epoch 117/400\n",
      "7564/7564 [==============================] - 22s 3ms/step - loss: 1.5405 - acc: 0.3908 - val_loss: 1.5032 - val_acc: 0.3988\n",
      "Epoch 118/400\n",
      "7564/7564 [==============================] - 22s 3ms/step - loss: 1.5459 - acc: 0.3887 - val_loss: 1.5077 - val_acc: 0.3859\n",
      "Epoch 119/400\n",
      "7564/7564 [==============================] - 21s 3ms/step - loss: 1.5436 - acc: 0.3874 - val_loss: 1.5212 - val_acc: 0.3899\n",
      "Epoch 120/400\n",
      "7564/7564 [==============================] - 22s 3ms/step - loss: 1.5417 - acc: 0.3923 - val_loss: 1.5035 - val_acc: 0.3988\n",
      "Epoch 121/400\n",
      "7564/7564 [==============================] - 22s 3ms/step - loss: 1.5353 - acc: 0.3896 - val_loss: 1.5006 - val_acc: 0.3970\n",
      "Epoch 122/400\n",
      "7564/7564 [==============================] - 22s 3ms/step - loss: 1.5383 - acc: 0.3886 - val_loss: 1.5115 - val_acc: 0.3911\n",
      "Epoch 123/400\n",
      "7564/7564 [==============================] - 22s 3ms/step - loss: 1.5415 - acc: 0.3925 - val_loss: 1.5218 - val_acc: 0.3831\n",
      "Epoch 124/400\n",
      "7564/7564 [==============================] - 22s 3ms/step - loss: 1.5437 - acc: 0.3850 - val_loss: 1.5174 - val_acc: 0.3846\n",
      "Epoch 125/400\n",
      "7564/7564 [==============================] - 22s 3ms/step - loss: 1.5355 - acc: 0.3889 - val_loss: 1.5137 - val_acc: 0.3976\n",
      "Epoch 126/400\n",
      "7564/7564 [==============================] - 22s 3ms/step - loss: 1.5317 - acc: 0.3909 - val_loss: 1.5132 - val_acc: 0.3924\n",
      "Epoch 127/400\n",
      "7564/7564 [==============================] - 22s 3ms/step - loss: 1.5325 - acc: 0.3886 - val_loss: 1.5281 - val_acc: 0.3822\n",
      "Epoch 128/400\n",
      "7564/7564 [==============================] - 22s 3ms/step - loss: 1.5402 - acc: 0.3835 - val_loss: 1.5249 - val_acc: 0.3905\n",
      "Epoch 129/400\n",
      "7564/7564 [==============================] - 22s 3ms/step - loss: 1.5271 - acc: 0.3979 - val_loss: 1.5027 - val_acc: 0.3982\n",
      "Epoch 130/400\n",
      "7564/7564 [==============================] - 21s 3ms/step - loss: 1.5404 - acc: 0.3917 - val_loss: 1.5091 - val_acc: 0.3914\n",
      "Epoch 131/400\n",
      "7564/7564 [==============================] - 21s 3ms/step - loss: 1.5428 - acc: 0.3848 - val_loss: 1.5176 - val_acc: 0.3893\n",
      "Epoch 132/400\n",
      "7564/7564 [==============================] - 22s 3ms/step - loss: 1.5269 - acc: 0.3893 - val_loss: 1.5071 - val_acc: 0.4044\n",
      "Epoch 133/400\n",
      "7564/7564 [==============================] - 22s 3ms/step - loss: 1.5204 - acc: 0.3970 - val_loss: 1.5137 - val_acc: 0.3865\n",
      "Epoch 134/400\n",
      "7564/7564 [==============================] - 21s 3ms/step - loss: 1.5322 - acc: 0.3900 - val_loss: 1.5187 - val_acc: 0.3874\n",
      "Epoch 135/400\n",
      "7564/7564 [==============================] - 22s 3ms/step - loss: 1.5317 - acc: 0.3962 - val_loss: 1.5185 - val_acc: 0.3880\n",
      "Epoch 136/400\n",
      "7564/7564 [==============================] - 22s 3ms/step - loss: 1.5313 - acc: 0.3933 - val_loss: 1.5128 - val_acc: 0.3933\n",
      "Epoch 137/400\n",
      "7564/7564 [==============================] - 22s 3ms/step - loss: 1.5260 - acc: 0.3953 - val_loss: 1.5054 - val_acc: 0.4044\n",
      "Epoch 138/400\n",
      "7564/7564 [==============================] - 22s 3ms/step - loss: 1.5290 - acc: 0.4023 - val_loss: 1.5140 - val_acc: 0.4007\n",
      "Epoch 139/400\n",
      "7564/7564 [==============================] - 22s 3ms/step - loss: 1.5233 - acc: 0.3919 - val_loss: 1.5087 - val_acc: 0.3924\n",
      "Epoch 140/400\n",
      "7564/7564 [==============================] - 22s 3ms/step - loss: 1.5373 - acc: 0.3909 - val_loss: 1.5140 - val_acc: 0.3927\n",
      "Epoch 141/400\n",
      "7564/7564 [==============================] - 22s 3ms/step - loss: 1.5394 - acc: 0.3838 - val_loss: 1.5169 - val_acc: 0.3988\n",
      "Epoch 142/400\n",
      "7564/7564 [==============================] - 22s 3ms/step - loss: 1.5247 - acc: 0.3986 - val_loss: 1.5120 - val_acc: 0.3920\n",
      "Epoch 143/400\n",
      "7564/7564 [==============================] - 22s 3ms/step - loss: 1.5320 - acc: 0.3944 - val_loss: 1.5273 - val_acc: 0.3853\n",
      "Epoch 144/400\n",
      "7564/7564 [==============================] - 22s 3ms/step - loss: 1.5362 - acc: 0.3899 - val_loss: 1.5114 - val_acc: 0.3951\n",
      "Epoch 145/400\n",
      "7564/7564 [==============================] - 22s 3ms/step - loss: 1.5280 - acc: 0.3933 - val_loss: 1.5090 - val_acc: 0.3985\n",
      "Epoch 146/400\n",
      "7564/7564 [==============================] - 22s 3ms/step - loss: 1.5298 - acc: 0.3892 - val_loss: 1.5180 - val_acc: 0.3957\n",
      "Epoch 147/400\n",
      "7564/7564 [==============================] - 22s 3ms/step - loss: 1.5216 - acc: 0.3930 - val_loss: 1.5075 - val_acc: 0.4010\n",
      "Epoch 148/400\n",
      "7564/7564 [==============================] - 22s 3ms/step - loss: 1.5285 - acc: 0.3973 - val_loss: 1.5133 - val_acc: 0.3917\n",
      "Epoch 149/400\n",
      "7564/7564 [==============================] - 22s 3ms/step - loss: 1.5288 - acc: 0.3911 - val_loss: 1.5183 - val_acc: 0.3896\n",
      "Epoch 150/400\n",
      "7564/7564 [==============================] - 22s 3ms/step - loss: 1.5248 - acc: 0.3923 - val_loss: 1.5110 - val_acc: 0.3930\n",
      "Epoch 151/400\n",
      "7564/7564 [==============================] - 22s 3ms/step - loss: 1.5298 - acc: 0.3998 - val_loss: 1.5227 - val_acc: 0.3871\n",
      "Epoch 152/400\n",
      "7564/7564 [==============================] - 22s 3ms/step - loss: 1.5322 - acc: 0.3874 - val_loss: 1.5121 - val_acc: 0.3917\n",
      "Epoch 153/400\n",
      "7564/7564 [==============================] - 22s 3ms/step - loss: 1.5296 - acc: 0.3933 - val_loss: 1.5165 - val_acc: 0.3834\n",
      "Epoch 154/400\n",
      "7564/7564 [==============================] - 22s 3ms/step - loss: 1.5553 - acc: 0.3792 - val_loss: 1.5361 - val_acc: 0.3782\n",
      "Epoch 155/400\n",
      "7564/7564 [==============================] - 22s 3ms/step - loss: 1.5529 - acc: 0.3866 - val_loss: 1.5396 - val_acc: 0.3757\n",
      "Epoch 156/400\n",
      "7564/7564 [==============================] - 22s 3ms/step - loss: 1.5506 - acc: 0.3842 - val_loss: 1.5206 - val_acc: 0.3877\n",
      "Epoch 157/400\n",
      "7564/7564 [==============================] - 22s 3ms/step - loss: 1.5358 - acc: 0.3879 - val_loss: 1.5199 - val_acc: 0.3868\n",
      "Epoch 158/400\n",
      "7564/7564 [==============================] - 22s 3ms/step - loss: 1.5323 - acc: 0.3899 - val_loss: 1.5163 - val_acc: 0.3942\n",
      "Epoch 159/400\n",
      "7564/7564 [==============================] - 22s 3ms/step - loss: 1.5372 - acc: 0.3909 - val_loss: 1.5174 - val_acc: 0.4001\n",
      "Epoch 160/400\n",
      "7564/7564 [==============================] - 22s 3ms/step - loss: 1.5374 - acc: 0.3937 - val_loss: 1.5170 - val_acc: 0.3970\n",
      "Epoch 161/400\n",
      "7564/7564 [==============================] - 22s 3ms/step - loss: 1.5327 - acc: 0.3930 - val_loss: 1.5060 - val_acc: 0.3982\n",
      "Epoch 162/400\n",
      "7564/7564 [==============================] - 22s 3ms/step - loss: 1.5268 - acc: 0.3911 - val_loss: 1.5213 - val_acc: 0.3933\n",
      "Epoch 163/400\n",
      "7564/7564 [==============================] - 22s 3ms/step - loss: 1.5361 - acc: 0.3950 - val_loss: 1.5232 - val_acc: 0.3828\n",
      "Epoch 164/400\n",
      "7564/7564 [==============================] - 22s 3ms/step - loss: 1.5319 - acc: 0.3979 - val_loss: 1.5283 - val_acc: 0.3779\n",
      "Epoch 165/400\n",
      "7564/7564 [==============================] - 22s 3ms/step - loss: 1.5346 - acc: 0.3933 - val_loss: 1.5092 - val_acc: 0.3954\n",
      "Epoch 166/400\n",
      "7564/7564 [==============================] - 22s 3ms/step - loss: 1.5371 - acc: 0.3946 - val_loss: 1.5240 - val_acc: 0.3880\n",
      "Epoch 167/400\n",
      "7564/7564 [==============================] - 22s 3ms/step - loss: 1.5303 - acc: 0.4004 - val_loss: 1.5273 - val_acc: 0.3757\n",
      "Epoch 168/400\n",
      "7564/7564 [==============================] - 22s 3ms/step - loss: 1.5346 - acc: 0.3916 - val_loss: 1.5212 - val_acc: 0.3856\n",
      "Epoch 169/400\n",
      "7564/7564 [==============================] - 22s 3ms/step - loss: 1.5384 - acc: 0.3915 - val_loss: 1.5211 - val_acc: 0.3788\n",
      "Epoch 170/400\n",
      "7564/7564 [==============================] - 22s 3ms/step - loss: 1.5312 - acc: 0.3966 - val_loss: 1.5198 - val_acc: 0.3924\n",
      "Epoch 171/400\n",
      "7564/7564 [==============================] - 22s 3ms/step - loss: 1.5323 - acc: 0.3937 - val_loss: 1.5216 - val_acc: 0.3825\n",
      "Epoch 172/400\n",
      "7564/7564 [==============================] - 22s 3ms/step - loss: 1.5327 - acc: 0.3889 - val_loss: 1.5212 - val_acc: 0.3788\n",
      "Epoch 173/400\n",
      "7564/7564 [==============================] - 22s 3ms/step - loss: 1.5296 - acc: 0.3907 - val_loss: 1.5182 - val_acc: 0.3877\n",
      "Epoch 174/400\n",
      "7564/7564 [==============================] - 22s 3ms/step - loss: 1.5420 - acc: 0.3870 - val_loss: 1.5214 - val_acc: 0.3911\n",
      "Epoch 175/400\n",
      "7564/7564 [==============================] - 22s 3ms/step - loss: 1.5284 - acc: 0.3933 - val_loss: 1.5230 - val_acc: 0.3902\n",
      "Epoch 176/400\n",
      "7564/7564 [==============================] - 22s 3ms/step - loss: 1.5353 - acc: 0.3896 - val_loss: 1.5340 - val_acc: 0.3840\n",
      "Epoch 177/400\n",
      "7564/7564 [==============================] - 22s 3ms/step - loss: 1.5424 - acc: 0.3940 - val_loss: 1.5361 - val_acc: 0.3834\n",
      "Epoch 178/400\n",
      "7564/7564 [==============================] - 22s 3ms/step - loss: 1.5479 - acc: 0.3856 - val_loss: 1.5258 - val_acc: 0.3849\n",
      "Epoch 179/400\n",
      "7564/7564 [==============================] - 22s 3ms/step - loss: 1.5441 - acc: 0.3904 - val_loss: 1.5314 - val_acc: 0.3754\n",
      "Epoch 180/400\n",
      "7564/7564 [==============================] - 22s 3ms/step - loss: 1.5349 - acc: 0.3911 - val_loss: 1.5199 - val_acc: 0.3883\n",
      "Epoch 181/400\n",
      "7564/7564 [==============================] - 22s 3ms/step - loss: 1.5325 - acc: 0.3926 - val_loss: 1.5177 - val_acc: 0.3970\n",
      "Epoch 182/400\n",
      "7564/7564 [==============================] - 22s 3ms/step - loss: 1.5345 - acc: 0.3875 - val_loss: 1.5151 - val_acc: 0.3930\n",
      "Epoch 183/400\n",
      "7564/7564 [==============================] - 22s 3ms/step - loss: 1.5358 - acc: 0.3905 - val_loss: 1.5314 - val_acc: 0.3843\n",
      "Epoch 184/400\n",
      "7564/7564 [==============================] - 22s 3ms/step - loss: 1.5414 - acc: 0.3936 - val_loss: 1.5362 - val_acc: 0.3760\n",
      "Epoch 185/400\n",
      "7564/7564 [==============================] - 22s 3ms/step - loss: 1.5378 - acc: 0.3965 - val_loss: 1.5350 - val_acc: 0.3856\n",
      "Epoch 186/400\n",
      "7564/7564 [==============================] - 22s 3ms/step - loss: 1.5419 - acc: 0.3826 - val_loss: 1.5367 - val_acc: 0.3794\n",
      "Epoch 187/400\n",
      "7564/7564 [==============================] - 22s 3ms/step - loss: 1.5363 - acc: 0.3834 - val_loss: 1.5365 - val_acc: 0.3729\n",
      "Epoch 188/400\n",
      "7564/7564 [==============================] - 22s 3ms/step - loss: 1.5384 - acc: 0.3938 - val_loss: 1.5191 - val_acc: 0.3973\n",
      "Epoch 189/400\n",
      "7564/7564 [==============================] - 22s 3ms/step - loss: 1.5377 - acc: 0.3933 - val_loss: 1.5248 - val_acc: 0.3825\n",
      "Epoch 190/400\n",
      "7564/7564 [==============================] - 22s 3ms/step - loss: 1.5410 - acc: 0.3883 - val_loss: 1.5287 - val_acc: 0.3954\n",
      "Epoch 191/400\n",
      "7564/7564 [==============================] - 22s 3ms/step - loss: 1.5280 - acc: 0.3908 - val_loss: 1.5285 - val_acc: 0.3911\n",
      "Epoch 192/400\n",
      "7564/7564 [==============================] - 22s 3ms/step - loss: 1.5892 - acc: 0.3591 - val_loss: 1.5613 - val_acc: 0.3732\n",
      "Epoch 193/400\n",
      "7564/7564 [==============================] - 22s 3ms/step - loss: 1.5678 - acc: 0.3696 - val_loss: 1.5351 - val_acc: 0.3745\n",
      "Epoch 194/400\n",
      "7564/7564 [==============================] - 22s 3ms/step - loss: 1.5575 - acc: 0.3813 - val_loss: 1.5243 - val_acc: 0.3859\n",
      "Epoch 195/400\n",
      "7564/7564 [==============================] - 22s 3ms/step - loss: 1.5480 - acc: 0.3843 - val_loss: 1.5139 - val_acc: 0.3896\n",
      "Epoch 196/400\n",
      "7564/7564 [==============================] - 22s 3ms/step - loss: 1.5428 - acc: 0.3855 - val_loss: 1.5083 - val_acc: 0.3973\n",
      "Epoch 197/400\n",
      "7564/7564 [==============================] - 22s 3ms/step - loss: 1.5385 - acc: 0.3826 - val_loss: 1.5071 - val_acc: 0.3902\n",
      "Epoch 198/400\n",
      "7564/7564 [==============================] - 22s 3ms/step - loss: 1.5316 - acc: 0.3880 - val_loss: 1.4969 - val_acc: 0.4090\n",
      "Epoch 199/400\n",
      "7564/7564 [==============================] - 22s 3ms/step - loss: 1.5303 - acc: 0.3913 - val_loss: 1.4968 - val_acc: 0.3908\n",
      "Epoch 200/400\n",
      "7564/7564 [==============================] - 22s 3ms/step - loss: 1.5240 - acc: 0.3868 - val_loss: 1.4963 - val_acc: 0.4001\n",
      "Epoch 201/400\n",
      "7564/7564 [==============================] - 22s 3ms/step - loss: 1.5185 - acc: 0.3944 - val_loss: 1.4927 - val_acc: 0.4044\n",
      "Epoch 202/400\n",
      "7564/7564 [==============================] - 22s 3ms/step - loss: 1.5175 - acc: 0.4002 - val_loss: 1.4913 - val_acc: 0.4025\n",
      "Epoch 203/400\n",
      "7564/7564 [==============================] - 22s 3ms/step - loss: 1.5204 - acc: 0.3961 - val_loss: 1.4927 - val_acc: 0.4047\n",
      "Epoch 204/400\n",
      "7564/7564 [==============================] - 22s 3ms/step - loss: 1.5101 - acc: 0.3966 - val_loss: 1.4715 - val_acc: 0.4090\n",
      "Epoch 205/400\n",
      "7564/7564 [==============================] - 22s 3ms/step - loss: 1.5100 - acc: 0.4003 - val_loss: 1.4787 - val_acc: 0.4056\n",
      "Epoch 206/400\n",
      "7564/7564 [==============================] - 22s 3ms/step - loss: 1.5114 - acc: 0.4022 - val_loss: 1.4778 - val_acc: 0.4158\n",
      "Epoch 207/400\n",
      "7564/7564 [==============================] - 22s 3ms/step - loss: 1.5103 - acc: 0.4060 - val_loss: 1.4727 - val_acc: 0.4130\n",
      "Epoch 208/400\n",
      "7564/7564 [==============================] - 22s 3ms/step - loss: 1.5060 - acc: 0.4012 - val_loss: 1.4814 - val_acc: 0.4124\n",
      "Epoch 209/400\n",
      "7564/7564 [==============================] - 22s 3ms/step - loss: 1.4967 - acc: 0.4079 - val_loss: 1.4761 - val_acc: 0.4059\n",
      "Epoch 210/400\n",
      "7564/7564 [==============================] - 22s 3ms/step - loss: 1.5042 - acc: 0.4059 - val_loss: 1.4750 - val_acc: 0.4118\n",
      "Epoch 211/400\n",
      "7564/7564 [==============================] - 22s 3ms/step - loss: 1.5044 - acc: 0.4010 - val_loss: 1.4697 - val_acc: 0.4176\n",
      "Epoch 212/400\n",
      "7564/7564 [==============================] - 22s 3ms/step - loss: 1.5044 - acc: 0.4034 - val_loss: 1.4783 - val_acc: 0.4056\n",
      "Epoch 213/400\n",
      "7564/7564 [==============================] - 22s 3ms/step - loss: 1.5038 - acc: 0.4035 - val_loss: 1.4705 - val_acc: 0.4112\n",
      "Epoch 214/400\n",
      "7564/7564 [==============================] - 22s 3ms/step - loss: 1.5304 - acc: 0.3846 - val_loss: 1.5332 - val_acc: 0.3812\n",
      "Epoch 215/400\n",
      "7564/7564 [==============================] - 22s 3ms/step - loss: 1.5497 - acc: 0.3764 - val_loss: 1.5201 - val_acc: 0.3871\n",
      "Epoch 216/400\n",
      "7564/7564 [==============================] - 22s 3ms/step - loss: 1.5357 - acc: 0.3864 - val_loss: 1.5118 - val_acc: 0.3868\n",
      "Epoch 217/400\n",
      "7564/7564 [==============================] - 22s 3ms/step - loss: 1.5415 - acc: 0.3847 - val_loss: 1.5113 - val_acc: 0.3899\n",
      "Epoch 218/400\n",
      "7564/7564 [==============================] - 22s 3ms/step - loss: 1.5352 - acc: 0.3843 - val_loss: 1.5078 - val_acc: 0.3945\n",
      "Epoch 219/400\n",
      "7564/7564 [==============================] - 22s 3ms/step - loss: 1.5285 - acc: 0.3937 - val_loss: 1.5046 - val_acc: 0.4062\n",
      "Epoch 220/400\n",
      "7564/7564 [==============================] - 22s 3ms/step - loss: 1.5257 - acc: 0.3919 - val_loss: 1.5077 - val_acc: 0.3942\n",
      "Epoch 221/400\n",
      "7564/7564 [==============================] - 22s 3ms/step - loss: 1.5317 - acc: 0.3915 - val_loss: 1.5020 - val_acc: 0.4090\n",
      "Epoch 222/400\n",
      "7564/7564 [==============================] - 22s 3ms/step - loss: 1.5259 - acc: 0.3942 - val_loss: 1.5094 - val_acc: 0.3930\n",
      "Epoch 223/400\n",
      "7564/7564 [==============================] - 22s 3ms/step - loss: 1.5274 - acc: 0.3928 - val_loss: 1.4977 - val_acc: 0.3994\n",
      "Epoch 224/400\n",
      "7564/7564 [==============================] - 22s 3ms/step - loss: 1.5162 - acc: 0.3950 - val_loss: 1.4889 - val_acc: 0.4127\n",
      "Epoch 225/400\n",
      "7564/7564 [==============================] - 22s 3ms/step - loss: 1.5248 - acc: 0.3921 - val_loss: 1.5019 - val_acc: 0.3930\n",
      "Epoch 226/400\n",
      "7564/7564 [==============================] - 22s 3ms/step - loss: 1.5260 - acc: 0.3889 - val_loss: 1.5129 - val_acc: 0.3945\n",
      "Epoch 227/400\n",
      "7564/7564 [==============================] - 22s 3ms/step - loss: 1.5311 - acc: 0.3911 - val_loss: 1.5121 - val_acc: 0.3936\n",
      "Epoch 228/400\n",
      "7564/7564 [==============================] - 22s 3ms/step - loss: 1.5384 - acc: 0.3937 - val_loss: 1.5183 - val_acc: 0.3865\n",
      "Epoch 229/400\n",
      "7564/7564 [==============================] - 22s 3ms/step - loss: 1.5344 - acc: 0.3880 - val_loss: 1.5137 - val_acc: 0.3708\n",
      "Epoch 230/400\n",
      "7564/7564 [==============================] - 22s 3ms/step - loss: 1.5318 - acc: 0.3880 - val_loss: 1.5118 - val_acc: 0.3856\n",
      "Epoch 231/400\n",
      "7564/7564 [==============================] - 22s 3ms/step - loss: 1.5362 - acc: 0.3944 - val_loss: 1.5165 - val_acc: 0.3834\n",
      "Epoch 232/400\n",
      "7564/7564 [==============================] - 22s 3ms/step - loss: 1.5295 - acc: 0.3926 - val_loss: 1.5080 - val_acc: 0.3782\n",
      "Epoch 233/400\n",
      "7564/7564 [==============================] - 22s 3ms/step - loss: 1.5379 - acc: 0.3874 - val_loss: 1.5062 - val_acc: 0.4035\n",
      "Epoch 234/400\n",
      "7564/7564 [==============================] - 22s 3ms/step - loss: 1.5258 - acc: 0.3953 - val_loss: 1.5261 - val_acc: 0.3843\n",
      "Epoch 235/400\n",
      "7564/7564 [==============================] - 22s 3ms/step - loss: 1.5342 - acc: 0.3847 - val_loss: 1.5123 - val_acc: 0.3883\n",
      "Epoch 236/400\n",
      "7564/7564 [==============================] - 22s 3ms/step - loss: 1.5417 - acc: 0.3967 - val_loss: 1.5149 - val_acc: 0.3809\n",
      "Epoch 237/400\n",
      "7564/7564 [==============================] - 22s 3ms/step - loss: 1.5233 - acc: 0.3936 - val_loss: 1.5122 - val_acc: 0.3954\n",
      "Epoch 238/400\n",
      "7564/7564 [==============================] - 22s 3ms/step - loss: 1.5293 - acc: 0.3892 - val_loss: 1.5089 - val_acc: 0.3859\n",
      "Epoch 239/400\n",
      "7564/7564 [==============================] - 22s 3ms/step - loss: 1.5268 - acc: 0.3912 - val_loss: 1.5064 - val_acc: 0.3877\n",
      "Epoch 240/400\n",
      "7564/7564 [==============================] - 22s 3ms/step - loss: 1.5342 - acc: 0.3921 - val_loss: 1.5085 - val_acc: 0.3914\n",
      "Epoch 241/400\n",
      "7564/7564 [==============================] - 22s 3ms/step - loss: 1.5303 - acc: 0.3936 - val_loss: 1.5068 - val_acc: 0.3957\n",
      "Epoch 242/400\n",
      "7564/7564 [==============================] - 22s 3ms/step - loss: 1.5275 - acc: 0.3956 - val_loss: 1.5031 - val_acc: 0.3911\n",
      "Epoch 243/400\n",
      "7564/7564 [==============================] - 22s 3ms/step - loss: 1.5235 - acc: 0.3969 - val_loss: 1.4955 - val_acc: 0.3846\n",
      "Epoch 244/400\n",
      "7564/7564 [==============================] - 22s 3ms/step - loss: 1.5245 - acc: 0.3930 - val_loss: 1.5030 - val_acc: 0.3865\n",
      "Epoch 245/400\n",
      "7564/7564 [==============================] - 22s 3ms/step - loss: 1.5249 - acc: 0.3917 - val_loss: 1.5069 - val_acc: 0.3788\n",
      "Epoch 246/400\n",
      "7564/7564 [==============================] - 22s 3ms/step - loss: 1.5345 - acc: 0.3956 - val_loss: 1.5129 - val_acc: 0.3877\n",
      "Epoch 247/400\n",
      "7564/7564 [==============================] - 22s 3ms/step - loss: 1.5300 - acc: 0.3909 - val_loss: 1.5116 - val_acc: 0.3819\n",
      "Epoch 248/400\n",
      "7564/7564 [==============================] - 22s 3ms/step - loss: 1.5357 - acc: 0.3847 - val_loss: 1.5249 - val_acc: 0.3779\n",
      "Epoch 249/400\n",
      "7564/7564 [==============================] - 22s 3ms/step - loss: 1.5319 - acc: 0.3896 - val_loss: 1.5185 - val_acc: 0.3834\n",
      "Epoch 250/400\n",
      "7564/7564 [==============================] - 22s 3ms/step - loss: 1.5366 - acc: 0.3891 - val_loss: 1.5171 - val_acc: 0.3785\n",
      "Epoch 251/400\n",
      "7564/7564 [==============================] - 22s 3ms/step - loss: 1.5304 - acc: 0.3933 - val_loss: 1.5167 - val_acc: 0.3902\n",
      "Epoch 252/400\n",
      "7564/7564 [==============================] - 22s 3ms/step - loss: 1.5380 - acc: 0.3886 - val_loss: 1.5329 - val_acc: 0.3806\n",
      "Epoch 253/400\n",
      "7564/7564 [==============================] - 22s 3ms/step - loss: 1.5401 - acc: 0.3920 - val_loss: 1.5210 - val_acc: 0.3893\n",
      "Epoch 254/400\n",
      "7564/7564 [==============================] - 22s 3ms/step - loss: 1.5298 - acc: 0.3913 - val_loss: 1.5192 - val_acc: 0.3834\n",
      "Epoch 255/400\n",
      "7564/7564 [==============================] - 22s 3ms/step - loss: 1.5357 - acc: 0.3870 - val_loss: 1.5103 - val_acc: 0.3961\n",
      "Epoch 256/400\n",
      "7564/7564 [==============================] - 22s 3ms/step - loss: 1.5287 - acc: 0.3945 - val_loss: 1.5099 - val_acc: 0.3920\n",
      "Epoch 257/400\n",
      "7564/7564 [==============================] - 22s 3ms/step - loss: 1.5272 - acc: 0.3975 - val_loss: 1.5011 - val_acc: 0.3825\n",
      "Epoch 258/400\n",
      "7564/7564 [==============================] - 22s 3ms/step - loss: 1.5197 - acc: 0.3990 - val_loss: 1.5232 - val_acc: 0.3856\n",
      "Epoch 259/400\n",
      "7564/7564 [==============================] - 22s 3ms/step - loss: 1.5404 - acc: 0.3888 - val_loss: 1.5169 - val_acc: 0.3877\n",
      "Epoch 260/400\n",
      "7564/7564 [==============================] - 22s 3ms/step - loss: 1.5381 - acc: 0.3895 - val_loss: 1.5061 - val_acc: 0.4022\n",
      "Epoch 261/400\n",
      "7564/7564 [==============================] - 22s 3ms/step - loss: 1.5465 - acc: 0.3851 - val_loss: 1.5217 - val_acc: 0.3849\n",
      "Epoch 262/400\n",
      "7564/7564 [==============================] - 22s 3ms/step - loss: 1.5735 - acc: 0.3691 - val_loss: 1.5627 - val_acc: 0.3634\n",
      "Epoch 263/400\n",
      "7564/7564 [==============================] - 22s 3ms/step - loss: 1.5799 - acc: 0.3715 - val_loss: 1.5541 - val_acc: 0.3698\n",
      "Epoch 264/400\n",
      "7564/7564 [==============================] - 22s 3ms/step - loss: 1.5776 - acc: 0.3719 - val_loss: 1.5487 - val_acc: 0.3831\n",
      "Epoch 265/400\n",
      "7564/7564 [==============================] - 22s 3ms/step - loss: 1.5605 - acc: 0.3724 - val_loss: 1.5365 - val_acc: 0.3899\n",
      "Epoch 266/400\n",
      "7564/7564 [==============================] - 22s 3ms/step - loss: 1.5595 - acc: 0.3767 - val_loss: 1.5365 - val_acc: 0.3825\n",
      "Epoch 267/400\n",
      "7564/7564 [==============================] - 22s 3ms/step - loss: 1.5556 - acc: 0.3757 - val_loss: 1.5307 - val_acc: 0.3920\n",
      "Epoch 268/400\n",
      "7564/7564 [==============================] - 22s 3ms/step - loss: 1.5482 - acc: 0.3782 - val_loss: 1.5179 - val_acc: 0.3936\n",
      "Epoch 269/400\n",
      "7564/7564 [==============================] - 22s 3ms/step - loss: 1.5497 - acc: 0.3809 - val_loss: 1.5264 - val_acc: 0.3905\n",
      "Epoch 270/400\n",
      "7564/7564 [==============================] - 22s 3ms/step - loss: 1.5483 - acc: 0.3843 - val_loss: 1.5329 - val_acc: 0.3899\n",
      "Epoch 271/400\n",
      "7564/7564 [==============================] - 22s 3ms/step - loss: 1.5529 - acc: 0.3759 - val_loss: 1.5316 - val_acc: 0.3800\n",
      "Epoch 272/400\n",
      "7564/7564 [==============================] - 22s 3ms/step - loss: 1.5492 - acc: 0.3800 - val_loss: 1.5286 - val_acc: 0.3853\n",
      "Epoch 273/400\n",
      "7564/7564 [==============================] - 22s 3ms/step - loss: 1.5418 - acc: 0.3833 - val_loss: 1.5205 - val_acc: 0.3775\n",
      "Epoch 274/400\n",
      "7564/7564 [==============================] - 22s 3ms/step - loss: 1.5345 - acc: 0.3930 - val_loss: 1.5111 - val_acc: 0.3961\n",
      "Epoch 275/400\n",
      "7564/7564 [==============================] - 22s 3ms/step - loss: 1.5392 - acc: 0.3887 - val_loss: 1.5149 - val_acc: 0.3933\n",
      "Epoch 276/400\n",
      "7564/7564 [==============================] - 22s 3ms/step - loss: 1.5455 - acc: 0.3899 - val_loss: 1.5386 - val_acc: 0.3819\n",
      "Epoch 277/400\n",
      "7564/7564 [==============================] - 22s 3ms/step - loss: 1.5542 - acc: 0.3770 - val_loss: 1.5260 - val_acc: 0.3954\n",
      "Epoch 278/400\n",
      "7564/7564 [==============================] - 22s 3ms/step - loss: 1.5491 - acc: 0.3838 - val_loss: 1.5311 - val_acc: 0.3880\n",
      "Epoch 279/400\n",
      "7564/7564 [==============================] - 22s 3ms/step - loss: 1.5619 - acc: 0.3782 - val_loss: 1.5518 - val_acc: 0.3745\n",
      "Epoch 280/400\n",
      "7564/7564 [==============================] - 22s 3ms/step - loss: 1.5567 - acc: 0.3761 - val_loss: 1.5366 - val_acc: 0.3939\n",
      "Epoch 281/400\n",
      "7564/7564 [==============================] - 22s 3ms/step - loss: 1.5487 - acc: 0.3900 - val_loss: 1.5315 - val_acc: 0.3880\n",
      "Epoch 282/400\n",
      "7564/7564 [==============================] - 22s 3ms/step - loss: 1.5416 - acc: 0.3863 - val_loss: 1.5312 - val_acc: 0.3871\n",
      "Epoch 283/400\n",
      "7564/7564 [==============================] - 22s 3ms/step - loss: 1.5514 - acc: 0.3848 - val_loss: 1.5219 - val_acc: 0.3951\n",
      "Epoch 284/400\n",
      "7564/7564 [==============================] - 22s 3ms/step - loss: 1.5381 - acc: 0.3851 - val_loss: 1.5227 - val_acc: 0.3828\n",
      "Epoch 285/400\n",
      "7564/7564 [==============================] - 22s 3ms/step - loss: 1.5344 - acc: 0.3854 - val_loss: 1.5093 - val_acc: 0.3936\n",
      "Epoch 286/400\n",
      "7564/7564 [==============================] - 22s 3ms/step - loss: 1.5220 - acc: 0.4003 - val_loss: 1.5038 - val_acc: 0.3982\n",
      "Epoch 287/400\n",
      "7564/7564 [==============================] - 22s 3ms/step - loss: 1.5189 - acc: 0.3978 - val_loss: 1.5029 - val_acc: 0.4022\n",
      "Epoch 288/400\n",
      "7564/7564 [==============================] - 22s 3ms/step - loss: 1.5146 - acc: 0.3981 - val_loss: 1.5078 - val_acc: 0.3945\n",
      "Epoch 289/400\n",
      "7564/7564 [==============================] - 22s 3ms/step - loss: 1.5154 - acc: 0.3957 - val_loss: 1.5074 - val_acc: 0.3948\n",
      "Epoch 290/400\n",
      "7564/7564 [==============================] - 22s 3ms/step - loss: 1.5005 - acc: 0.4002 - val_loss: 1.4977 - val_acc: 0.3998\n",
      "Epoch 291/400\n",
      "7564/7564 [==============================] - 22s 3ms/step - loss: 1.5057 - acc: 0.4039 - val_loss: 1.4860 - val_acc: 0.4053\n",
      "Epoch 292/400\n",
      "7564/7564 [==============================] - 22s 3ms/step - loss: 1.4999 - acc: 0.4059 - val_loss: 1.4799 - val_acc: 0.4056\n",
      "Epoch 293/400\n",
      "7564/7564 [==============================] - 22s 3ms/step - loss: 1.5020 - acc: 0.4002 - val_loss: 1.4945 - val_acc: 0.3930\n",
      "Epoch 294/400\n",
      "7564/7564 [==============================] - 22s 3ms/step - loss: 1.5063 - acc: 0.3982 - val_loss: 1.4930 - val_acc: 0.3930\n",
      "Epoch 295/400\n",
      "7564/7564 [==============================] - 22s 3ms/step - loss: 1.5063 - acc: 0.4031 - val_loss: 1.4878 - val_acc: 0.4028\n",
      "Epoch 296/400\n",
      "7564/7564 [==============================] - 22s 3ms/step - loss: 1.4977 - acc: 0.4075 - val_loss: 1.4903 - val_acc: 0.4019\n",
      "Epoch 297/400\n",
      "7564/7564 [==============================] - 22s 3ms/step - loss: 1.5011 - acc: 0.4053 - val_loss: 1.4914 - val_acc: 0.4038\n",
      "Epoch 298/400\n",
      "7564/7564 [==============================] - 22s 3ms/step - loss: 1.5089 - acc: 0.4061 - val_loss: 1.5010 - val_acc: 0.3883\n",
      "Epoch 299/400\n",
      "7564/7564 [==============================] - 22s 3ms/step - loss: 1.5148 - acc: 0.3949 - val_loss: 1.5165 - val_acc: 0.3914\n",
      "Epoch 300/400\n",
      "7564/7564 [==============================] - 22s 3ms/step - loss: 1.5203 - acc: 0.3989 - val_loss: 1.5024 - val_acc: 0.3970\n",
      "Epoch 301/400\n",
      "7564/7564 [==============================] - 22s 3ms/step - loss: 1.5063 - acc: 0.4024 - val_loss: 1.5696 - val_acc: 0.3735\n",
      "Epoch 302/400\n",
      "7564/7564 [==============================] - 22s 3ms/step - loss: 1.5816 - acc: 0.3670 - val_loss: 1.5345 - val_acc: 0.3883\n",
      "Epoch 303/400\n",
      "7564/7564 [==============================] - 22s 3ms/step - loss: 1.5515 - acc: 0.3805 - val_loss: 1.5124 - val_acc: 0.3924\n",
      "Epoch 304/400\n",
      "7564/7564 [==============================] - 22s 3ms/step - loss: 1.5240 - acc: 0.3942 - val_loss: 1.4978 - val_acc: 0.4010\n",
      "Epoch 305/400\n",
      "7564/7564 [==============================] - 22s 3ms/step - loss: 1.5138 - acc: 0.4011 - val_loss: 1.4910 - val_acc: 0.4001\n",
      "Epoch 306/400\n",
      "7564/7564 [==============================] - 22s 3ms/step - loss: 1.5156 - acc: 0.3945 - val_loss: 1.4891 - val_acc: 0.4050\n",
      "Epoch 307/400\n",
      "7564/7564 [==============================] - 22s 3ms/step - loss: 1.5053 - acc: 0.4002 - val_loss: 1.4831 - val_acc: 0.4022\n",
      "Epoch 308/400\n",
      "7564/7564 [==============================] - 22s 3ms/step - loss: 1.4998 - acc: 0.3995 - val_loss: 1.4759 - val_acc: 0.4105\n",
      "Epoch 309/400\n",
      "7564/7564 [==============================] - 22s 3ms/step - loss: 1.4929 - acc: 0.4044 - val_loss: 1.4762 - val_acc: 0.4112\n",
      "Epoch 310/400\n",
      "7564/7564 [==============================] - 21s 3ms/step - loss: 1.4956 - acc: 0.4059 - val_loss: 1.4819 - val_acc: 0.4136\n",
      "Epoch 311/400\n",
      "7564/7564 [==============================] - 22s 3ms/step - loss: 1.4756 - acc: 0.4143 - val_loss: 1.4720 - val_acc: 0.4170\n",
      "Epoch 312/400\n",
      "7564/7564 [==============================] - 22s 3ms/step - loss: 1.4836 - acc: 0.4126 - val_loss: 1.4696 - val_acc: 0.4004\n",
      "Epoch 313/400\n",
      "7564/7564 [==============================] - 22s 3ms/step - loss: 1.4712 - acc: 0.4221 - val_loss: 1.4632 - val_acc: 0.4109\n",
      "Epoch 314/400\n",
      "7564/7564 [==============================] - 22s 3ms/step - loss: 1.4820 - acc: 0.4125 - val_loss: 1.4659 - val_acc: 0.4149\n",
      "Epoch 315/400\n",
      "7564/7564 [==============================] - 22s 3ms/step - loss: 1.4807 - acc: 0.4090 - val_loss: 1.4632 - val_acc: 0.4127\n",
      "Epoch 316/400\n",
      "7564/7564 [==============================] - 22s 3ms/step - loss: 1.4681 - acc: 0.4184 - val_loss: 1.4624 - val_acc: 0.4220\n",
      "Epoch 317/400\n",
      "7564/7564 [==============================] - 22s 3ms/step - loss: 1.4683 - acc: 0.4172 - val_loss: 1.4520 - val_acc: 0.4306\n",
      "Epoch 318/400\n",
      "7564/7564 [==============================] - 22s 3ms/step - loss: 1.4614 - acc: 0.4262 - val_loss: 1.4524 - val_acc: 0.4269\n",
      "Epoch 319/400\n",
      "7564/7564 [==============================] - 21s 3ms/step - loss: 1.4555 - acc: 0.4249 - val_loss: 1.4488 - val_acc: 0.4250\n",
      "Epoch 320/400\n",
      "7564/7564 [==============================] - 22s 3ms/step - loss: 1.4505 - acc: 0.4278 - val_loss: 1.4495 - val_acc: 0.4164\n",
      "Epoch 321/400\n",
      "7564/7564 [==============================] - 22s 3ms/step - loss: 1.4484 - acc: 0.4272 - val_loss: 1.4398 - val_acc: 0.4254\n",
      "Epoch 322/400\n",
      "7564/7564 [==============================] - 22s 3ms/step - loss: 1.4465 - acc: 0.4217 - val_loss: 1.4392 - val_acc: 0.4254\n",
      "Epoch 323/400\n",
      "7564/7564 [==============================] - 22s 3ms/step - loss: 1.4487 - acc: 0.4297 - val_loss: 1.4322 - val_acc: 0.4272\n",
      "Epoch 324/400\n",
      "7564/7564 [==============================] - 22s 3ms/step - loss: 1.4443 - acc: 0.4313 - val_loss: 1.4321 - val_acc: 0.4244\n",
      "Epoch 325/400\n",
      "7564/7564 [==============================] - 22s 3ms/step - loss: 1.4233 - acc: 0.4335 - val_loss: 1.4304 - val_acc: 0.4312\n",
      "Epoch 326/400\n",
      "7564/7564 [==============================] - 22s 3ms/step - loss: 1.4302 - acc: 0.4352 - val_loss: 1.4271 - val_acc: 0.4263\n",
      "Epoch 327/400\n",
      "7564/7564 [==============================] - 22s 3ms/step - loss: 1.4268 - acc: 0.4336 - val_loss: 1.4206 - val_acc: 0.4244\n",
      "Epoch 328/400\n",
      "7564/7564 [==============================] - 22s 3ms/step - loss: 1.4141 - acc: 0.4397 - val_loss: 1.4159 - val_acc: 0.4331\n",
      "Epoch 329/400\n",
      "7564/7564 [==============================] - 22s 3ms/step - loss: 1.4300 - acc: 0.4338 - val_loss: 1.4172 - val_acc: 0.4337\n",
      "Epoch 330/400\n",
      "7564/7564 [==============================] - 22s 3ms/step - loss: 1.4182 - acc: 0.4351 - val_loss: 1.4163 - val_acc: 0.4254\n",
      "Epoch 331/400\n",
      "7564/7564 [==============================] - 22s 3ms/step - loss: 1.4138 - acc: 0.4360 - val_loss: 1.4136 - val_acc: 0.4346\n",
      "Epoch 332/400\n",
      "7564/7564 [==============================] - 22s 3ms/step - loss: 1.4160 - acc: 0.4397 - val_loss: 1.4155 - val_acc: 0.4213\n",
      "Epoch 333/400\n",
      "7564/7564 [==============================] - 22s 3ms/step - loss: 1.4410 - acc: 0.4375 - val_loss: 1.5805 - val_acc: 0.3655\n",
      "Epoch 334/400\n",
      "7564/7564 [==============================] - 22s 3ms/step - loss: 1.5678 - acc: 0.3683 - val_loss: 1.5269 - val_acc: 0.4035\n",
      "Epoch 335/400\n",
      "7564/7564 [==============================] - 22s 3ms/step - loss: 1.5277 - acc: 0.3909 - val_loss: 1.4957 - val_acc: 0.4013\n",
      "Epoch 336/400\n",
      "7564/7564 [==============================] - 22s 3ms/step - loss: 1.5037 - acc: 0.4022 - val_loss: 1.4774 - val_acc: 0.4173\n",
      "Epoch 337/400\n",
      "7564/7564 [==============================] - 22s 3ms/step - loss: 1.4906 - acc: 0.4106 - val_loss: 1.4667 - val_acc: 0.4146\n",
      "Epoch 338/400\n",
      "7564/7564 [==============================] - 22s 3ms/step - loss: 1.4901 - acc: 0.4055 - val_loss: 1.4760 - val_acc: 0.4102\n",
      "Epoch 339/400\n",
      "7564/7564 [==============================] - 22s 3ms/step - loss: 1.4911 - acc: 0.4051 - val_loss: 1.4789 - val_acc: 0.4143\n",
      "Epoch 340/400\n",
      "7564/7564 [==============================] - 22s 3ms/step - loss: 1.4695 - acc: 0.4121 - val_loss: 1.4588 - val_acc: 0.4247\n",
      "Epoch 341/400\n",
      "7564/7564 [==============================] - 22s 3ms/step - loss: 1.4667 - acc: 0.4221 - val_loss: 1.4647 - val_acc: 0.4226\n",
      "Epoch 342/400\n",
      "7564/7564 [==============================] - 22s 3ms/step - loss: 1.4745 - acc: 0.4109 - val_loss: 1.5011 - val_acc: 0.4013\n",
      "Epoch 343/400\n",
      "7564/7564 [==============================] - 22s 3ms/step - loss: 1.4902 - acc: 0.4110 - val_loss: 1.4734 - val_acc: 0.4093\n",
      "Epoch 344/400\n",
      "7564/7564 [==============================] - 22s 3ms/step - loss: 1.4874 - acc: 0.4155 - val_loss: 1.4746 - val_acc: 0.4084\n",
      "Epoch 345/400\n",
      "7564/7564 [==============================] - 22s 3ms/step - loss: 1.4675 - acc: 0.4180 - val_loss: 1.4685 - val_acc: 0.4143\n",
      "Epoch 346/400\n",
      "7564/7564 [==============================] - 22s 3ms/step - loss: 1.4713 - acc: 0.4155 - val_loss: 1.4585 - val_acc: 0.4170\n",
      "Epoch 347/400\n",
      "7564/7564 [==============================] - 22s 3ms/step - loss: 1.4542 - acc: 0.4204 - val_loss: 1.4647 - val_acc: 0.4229\n",
      "Epoch 348/400\n",
      "7564/7564 [==============================] - 22s 3ms/step - loss: 1.4509 - acc: 0.4298 - val_loss: 1.4538 - val_acc: 0.4139\n",
      "Epoch 349/400\n",
      "7564/7564 [==============================] - 22s 3ms/step - loss: 1.4420 - acc: 0.4261 - val_loss: 1.4358 - val_acc: 0.4346\n",
      "Epoch 350/400\n",
      "7564/7564 [==============================] - 22s 3ms/step - loss: 1.4378 - acc: 0.4328 - val_loss: 1.4574 - val_acc: 0.4130\n",
      "Epoch 351/400\n",
      "7564/7564 [==============================] - 22s 3ms/step - loss: 1.4963 - acc: 0.4101 - val_loss: 1.6208 - val_acc: 0.3421\n",
      "Epoch 352/400\n",
      "7564/7564 [==============================] - 22s 3ms/step - loss: 1.6505 - acc: 0.3306 - val_loss: 1.6033 - val_acc: 0.3541\n",
      "Epoch 353/400\n",
      "7564/7564 [==============================] - 22s 3ms/step - loss: 1.6214 - acc: 0.3452 - val_loss: 1.5619 - val_acc: 0.3738\n",
      "Epoch 354/400\n",
      "7564/7564 [==============================] - 22s 3ms/step - loss: 1.5884 - acc: 0.3703 - val_loss: 1.5570 - val_acc: 0.3708\n",
      "Epoch 355/400\n",
      "7564/7564 [==============================] - 22s 3ms/step - loss: 1.5834 - acc: 0.3628 - val_loss: 1.5430 - val_acc: 0.3834\n",
      "Epoch 356/400\n",
      "7564/7564 [==============================] - 22s 3ms/step - loss: 1.5684 - acc: 0.3685 - val_loss: 1.5476 - val_acc: 0.3837\n",
      "Epoch 357/400\n",
      "7564/7564 [==============================] - 22s 3ms/step - loss: 1.5762 - acc: 0.3704 - val_loss: 1.5537 - val_acc: 0.3816\n",
      "Epoch 358/400\n",
      "7564/7564 [==============================] - 22s 3ms/step - loss: 1.5618 - acc: 0.3735 - val_loss: 1.5337 - val_acc: 0.3939\n",
      "Epoch 359/400\n",
      "7564/7564 [==============================] - 22s 3ms/step - loss: 1.5437 - acc: 0.3839 - val_loss: 1.5180 - val_acc: 0.3979\n",
      "Epoch 360/400\n",
      "7564/7564 [==============================] - 22s 3ms/step - loss: 1.5336 - acc: 0.3893 - val_loss: 1.5053 - val_acc: 0.3994\n",
      "Epoch 361/400\n",
      "7564/7564 [==============================] - 22s 3ms/step - loss: 1.5298 - acc: 0.3866 - val_loss: 1.5107 - val_acc: 0.4062\n",
      "Epoch 362/400\n",
      "7564/7564 [==============================] - 23s 3ms/step - loss: 1.5242 - acc: 0.3929 - val_loss: 1.4959 - val_acc: 0.4013\n",
      "Epoch 363/400\n",
      "7564/7564 [==============================] - 23s 3ms/step - loss: 1.5259 - acc: 0.3946 - val_loss: 1.4997 - val_acc: 0.4041\n",
      "Epoch 364/400\n",
      "7564/7564 [==============================] - 23s 3ms/step - loss: 1.5174 - acc: 0.3967 - val_loss: 1.4990 - val_acc: 0.4050\n",
      "Epoch 365/400\n",
      "7564/7564 [==============================] - 22s 3ms/step - loss: 1.5256 - acc: 0.3872 - val_loss: 1.5162 - val_acc: 0.4056\n",
      "Epoch 366/400\n",
      "7564/7564 [==============================] - 23s 3ms/step - loss: 1.5418 - acc: 0.3814 - val_loss: 1.5279 - val_acc: 0.3822\n",
      "Epoch 367/400\n",
      "7564/7564 [==============================] - 23s 3ms/step - loss: 1.5380 - acc: 0.3892 - val_loss: 1.5268 - val_acc: 0.3831\n",
      "Epoch 368/400\n",
      "7564/7564 [==============================] - 23s 3ms/step - loss: 1.5298 - acc: 0.3926 - val_loss: 1.5118 - val_acc: 0.3936\n",
      "Epoch 369/400\n",
      "7564/7564 [==============================] - 22s 3ms/step - loss: 1.5205 - acc: 0.3928 - val_loss: 1.4981 - val_acc: 0.4025\n",
      "Epoch 370/400\n",
      "7564/7564 [==============================] - 22s 3ms/step - loss: 1.5196 - acc: 0.4007 - val_loss: 1.4993 - val_acc: 0.3942\n",
      "Epoch 371/400\n",
      "7564/7564 [==============================] - 23s 3ms/step - loss: 1.5046 - acc: 0.3993 - val_loss: 1.4998 - val_acc: 0.3951\n",
      "Epoch 372/400\n",
      "7564/7564 [==============================] - 22s 3ms/step - loss: 1.5072 - acc: 0.4052 - val_loss: 1.4955 - val_acc: 0.4065\n",
      "Epoch 373/400\n",
      "7564/7564 [==============================] - 22s 3ms/step - loss: 1.5082 - acc: 0.4044 - val_loss: 1.4956 - val_acc: 0.4081\n",
      "Epoch 374/400\n",
      "7564/7564 [==============================] - 22s 3ms/step - loss: 1.5121 - acc: 0.4022 - val_loss: 1.5023 - val_acc: 0.4004\n",
      "Epoch 375/400\n",
      "7564/7564 [==============================] - 23s 3ms/step - loss: 1.5147 - acc: 0.4040 - val_loss: 1.5057 - val_acc: 0.3920\n",
      "Epoch 376/400\n",
      "7564/7564 [==============================] - 22s 3ms/step - loss: 1.5158 - acc: 0.3949 - val_loss: 1.4922 - val_acc: 0.3911\n",
      "Epoch 377/400\n",
      "7564/7564 [==============================] - 22s 3ms/step - loss: 1.4991 - acc: 0.4049 - val_loss: 1.4939 - val_acc: 0.3970\n",
      "Epoch 378/400\n",
      "7564/7564 [==============================] - 22s 3ms/step - loss: 1.5067 - acc: 0.4040 - val_loss: 1.4964 - val_acc: 0.3979\n",
      "Epoch 379/400\n",
      "7564/7564 [==============================] - 22s 3ms/step - loss: 1.5231 - acc: 0.3942 - val_loss: 1.5145 - val_acc: 0.4099\n",
      "Epoch 380/400\n",
      "7564/7564 [==============================] - 22s 3ms/step - loss: 1.5255 - acc: 0.3958 - val_loss: 1.5035 - val_acc: 0.3988\n",
      "Epoch 381/400\n",
      "7564/7564 [==============================] - 22s 3ms/step - loss: 1.5251 - acc: 0.3930 - val_loss: 1.5305 - val_acc: 0.3973\n",
      "Epoch 382/400\n",
      "7564/7564 [==============================] - 23s 3ms/step - loss: 1.5559 - acc: 0.3767 - val_loss: 1.5266 - val_acc: 0.3859\n",
      "Epoch 383/400\n",
      "7564/7564 [==============================] - 22s 3ms/step - loss: 1.5487 - acc: 0.3900 - val_loss: 1.5198 - val_acc: 0.3914\n",
      "Epoch 384/400\n",
      "7564/7564 [==============================] - 22s 3ms/step - loss: 1.5369 - acc: 0.3900 - val_loss: 1.5096 - val_acc: 0.4010\n",
      "Epoch 385/400\n",
      "7564/7564 [==============================] - 22s 3ms/step - loss: 1.5268 - acc: 0.3940 - val_loss: 1.5126 - val_acc: 0.4056\n",
      "Epoch 386/400\n",
      "7564/7564 [==============================] - 22s 3ms/step - loss: 1.5272 - acc: 0.3978 - val_loss: 1.5070 - val_acc: 0.3994\n",
      "Epoch 387/400\n",
      "7564/7564 [==============================] - 22s 3ms/step - loss: 1.5193 - acc: 0.3979 - val_loss: 1.4992 - val_acc: 0.3988\n",
      "Epoch 388/400\n",
      "7564/7564 [==============================] - 22s 3ms/step - loss: 1.5116 - acc: 0.4028 - val_loss: 1.4966 - val_acc: 0.4016\n",
      "Epoch 389/400\n",
      "7564/7564 [==============================] - 23s 3ms/step - loss: 1.5165 - acc: 0.4011 - val_loss: 1.5038 - val_acc: 0.3985\n",
      "Epoch 390/400\n",
      "7564/7564 [==============================] - 22s 3ms/step - loss: 1.4985 - acc: 0.4079 - val_loss: 1.4915 - val_acc: 0.4031\n",
      "Epoch 391/400\n",
      "7564/7564 [==============================] - 22s 3ms/step - loss: 1.5007 - acc: 0.4049 - val_loss: 1.4833 - val_acc: 0.3982\n",
      "Epoch 392/400\n",
      "7564/7564 [==============================] - 22s 3ms/step - loss: 1.5024 - acc: 0.4044 - val_loss: 1.5048 - val_acc: 0.3991\n",
      "Epoch 393/400\n",
      "7564/7564 [==============================] - 23s 3ms/step - loss: 1.5309 - acc: 0.3880 - val_loss: 1.5360 - val_acc: 0.3846\n",
      "Epoch 394/400\n",
      "7564/7564 [==============================] - 22s 3ms/step - loss: 1.5572 - acc: 0.3733 - val_loss: 1.5388 - val_acc: 0.3822\n",
      "Epoch 395/400\n",
      "7564/7564 [==============================] - 23s 3ms/step - loss: 1.5480 - acc: 0.3831 - val_loss: 1.5243 - val_acc: 0.3868\n",
      "Epoch 396/400\n",
      "7564/7564 [==============================] - 22s 3ms/step - loss: 1.5534 - acc: 0.3813 - val_loss: 1.5371 - val_acc: 0.3862\n",
      "Epoch 397/400\n",
      "7564/7564 [==============================] - 23s 3ms/step - loss: 1.5557 - acc: 0.3797 - val_loss: 1.5686 - val_acc: 0.3717\n",
      "Epoch 398/400\n",
      "7564/7564 [==============================] - 22s 3ms/step - loss: 1.5721 - acc: 0.3689 - val_loss: 1.5491 - val_acc: 0.3769\n",
      "Epoch 399/400\n",
      "7564/7564 [==============================] - 23s 3ms/step - loss: 1.5662 - acc: 0.3681 - val_loss: 1.5376 - val_acc: 0.3825\n",
      "Epoch 400/400\n",
      "7564/7564 [==============================] - 23s 3ms/step - loss: 1.5528 - acc: 0.3834 - val_loss: 1.5238 - val_acc: 0.3936\n",
      "Accuracy: 39.36%\n"
     ]
    }
   ],
   "source": [
    "num_epochs = 400\n",
    "model.load_weights('/content/drive/My Drive/ASR/result/RNN_model_200.h5')\n",
    "\n",
    "history = model.fit(X_train, y_train, batch_size = batch_size, epochs = num_epochs, shuffle = False, class_weight = None,\n",
    "         verbose = 1, validation_data = (X_test, y_test), callbacks=[tensorboard_callback])\n",
    "\n",
    "model.save('/content/drive/My Drive/ASR/result/RNN_model_400.h5')\n",
    "# Final evaluation of the model\n",
    "scores = model.evaluate(X_test, y_test, verbose=0)\n",
    "print(\"Accuracy: %.2f%%\" % (scores[1]*100))"
   ]
  },
  {
   "cell_type": "code",
   "execution_count": 0,
   "metadata": {
    "colab": {
     "base_uri": "https://localhost:8080/",
     "height": 573
    },
    "colab_type": "code",
    "executionInfo": {
     "elapsed": 3356,
     "status": "ok",
     "timestamp": 1568623408479,
     "user": {
      "displayName": "Seongjin Park",
      "photoUrl": "",
      "userId": "18359754870170751753"
     },
     "user_tz": 420
    },
    "id": "zwUWhkcaPXTe",
    "outputId": "50619497-b43b-4130-bbf5-63717548f241"
   },
   "outputs": [
    {
     "data": {
      "image/png": "[encoded data removed]",
      "text/plain": [
       "<Figure size 432x288 with 1 Axes>"
      ]
     },
     "metadata": {
      "tags": []
     },
     "output_type": "display_data"
    },
    {
     "data": {
      "image/png": "[encoded data removed]",
      "text/plain": [
       "<Figure size 432x288 with 1 Axes>"
      ]
     },
     "metadata": {
      "tags": []
     },
     "output_type": "display_data"
    }
   ],
   "source": [
    "plt.plot(history.history['acc'])\n",
    "plt.plot(history.history['val_acc'])\n",
    "plt.title('model accuracy')\n",
    "plt.ylabel('accuracy')\n",
    "plt.xlabel('epoch')\n",
    "plt.legend(['train', 'test'], loc='upper left')\n",
    "plt.show()\n",
    "# summarize history for loss\n",
    "plt.plot(history.history['loss'])\n",
    "plt.plot(history.history['val_loss'])\n",
    "plt.title('model loss')\n",
    "plt.ylabel('loss')\n",
    "plt.xlabel('epoch')\n",
    "plt.legend(['train', 'test'], loc='upper left')\n",
    "plt.show()"
   ]
  }
 ],
 "metadata": {
  "accelerator": "TPU",
  "colab": {
   "collapsed_sections": [],
   "name": "display_speech.ipynb",
   "provenance": []
  },
  "kernelspec": {
   "display_name": "Python 3",
   "language": "python",
   "name": "python3"
  },
  "language_info": {
   "codemirror_mode": {
    "name": "ipython",
    "version": 3
   },
   "file_extension": ".py",
   "mimetype": "text/x-python",
   "name": "python",
   "nbconvert_exporter": "python",
   "pygments_lexer": "ipython3",
   "version": "3.7.5"
  }
 },
 "nbformat": 4,
 "nbformat_minor": 1
}
