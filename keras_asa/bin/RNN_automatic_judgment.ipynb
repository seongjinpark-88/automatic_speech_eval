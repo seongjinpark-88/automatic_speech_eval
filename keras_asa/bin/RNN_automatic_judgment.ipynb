{
 "cells": [
  {
   "cell_type": "markdown",
   "metadata": {
    "colab_type": "text",
    "id": "io3htdIajyFK"
   },
   "source": [
    "### Import modules"
   ]
  },
  {
   "cell_type": "code",
   "execution_count": 1,
   "metadata": {
    "colab": {},
    "colab_type": "code",
    "id": "jY_kKl4oj0wQ"
   },
   "outputs": [
    {
     "name": "stderr",
     "output_type": "stream",
     "text": [
      "/home/seongjinpark/.conda/envs/pytorch/lib/python3.7/site-packages/tensorflow/python/framework/dtypes.py:516: FutureWarning: Passing (type, 1) or '1type' as a synonym of type is deprecated; in a future version of numpy, it will be understood as (type, (1,)) / '(1,)type'.\n",
      "  _np_qint8 = np.dtype([(\"qint8\", np.int8, 1)])\n",
      "/home/seongjinpark/.conda/envs/pytorch/lib/python3.7/site-packages/tensorflow/python/framework/dtypes.py:517: FutureWarning: Passing (type, 1) or '1type' as a synonym of type is deprecated; in a future version of numpy, it will be understood as (type, (1,)) / '(1,)type'.\n",
      "  _np_quint8 = np.dtype([(\"quint8\", np.uint8, 1)])\n",
      "/home/seongjinpark/.conda/envs/pytorch/lib/python3.7/site-packages/tensorflow/python/framework/dtypes.py:518: FutureWarning: Passing (type, 1) or '1type' as a synonym of type is deprecated; in a future version of numpy, it will be understood as (type, (1,)) / '(1,)type'.\n",
      "  _np_qint16 = np.dtype([(\"qint16\", np.int16, 1)])\n",
      "/home/seongjinpark/.conda/envs/pytorch/lib/python3.7/site-packages/tensorflow/python/framework/dtypes.py:519: FutureWarning: Passing (type, 1) or '1type' as a synonym of type is deprecated; in a future version of numpy, it will be understood as (type, (1,)) / '(1,)type'.\n",
      "  _np_quint16 = np.dtype([(\"quint16\", np.uint16, 1)])\n",
      "/home/seongjinpark/.conda/envs/pytorch/lib/python3.7/site-packages/tensorflow/python/framework/dtypes.py:520: FutureWarning: Passing (type, 1) or '1type' as a synonym of type is deprecated; in a future version of numpy, it will be understood as (type, (1,)) / '(1,)type'.\n",
      "  _np_qint32 = np.dtype([(\"qint32\", np.int32, 1)])\n",
      "/home/seongjinpark/.conda/envs/pytorch/lib/python3.7/site-packages/tensorflow/python/framework/dtypes.py:525: FutureWarning: Passing (type, 1) or '1type' as a synonym of type is deprecated; in a future version of numpy, it will be understood as (type, (1,)) / '(1,)type'.\n",
      "  np_resource = np.dtype([(\"resource\", np.ubyte, 1)])\n",
      "/home/seongjinpark/.conda/envs/pytorch/lib/python3.7/site-packages/tensorboard/compat/tensorflow_stub/dtypes.py:541: FutureWarning: Passing (type, 1) or '1type' as a synonym of type is deprecated; in a future version of numpy, it will be understood as (type, (1,)) / '(1,)type'.\n",
      "  _np_qint8 = np.dtype([(\"qint8\", np.int8, 1)])\n",
      "/home/seongjinpark/.conda/envs/pytorch/lib/python3.7/site-packages/tensorboard/compat/tensorflow_stub/dtypes.py:542: FutureWarning: Passing (type, 1) or '1type' as a synonym of type is deprecated; in a future version of numpy, it will be understood as (type, (1,)) / '(1,)type'.\n",
      "  _np_quint8 = np.dtype([(\"quint8\", np.uint8, 1)])\n",
      "/home/seongjinpark/.conda/envs/pytorch/lib/python3.7/site-packages/tensorboard/compat/tensorflow_stub/dtypes.py:543: FutureWarning: Passing (type, 1) or '1type' as a synonym of type is deprecated; in a future version of numpy, it will be understood as (type, (1,)) / '(1,)type'.\n",
      "  _np_qint16 = np.dtype([(\"qint16\", np.int16, 1)])\n",
      "/home/seongjinpark/.conda/envs/pytorch/lib/python3.7/site-packages/tensorboard/compat/tensorflow_stub/dtypes.py:544: FutureWarning: Passing (type, 1) or '1type' as a synonym of type is deprecated; in a future version of numpy, it will be understood as (type, (1,)) / '(1,)type'.\n",
      "  _np_quint16 = np.dtype([(\"quint16\", np.uint16, 1)])\n",
      "/home/seongjinpark/.conda/envs/pytorch/lib/python3.7/site-packages/tensorboard/compat/tensorflow_stub/dtypes.py:545: FutureWarning: Passing (type, 1) or '1type' as a synonym of type is deprecated; in a future version of numpy, it will be understood as (type, (1,)) / '(1,)type'.\n",
      "  _np_qint32 = np.dtype([(\"qint32\", np.int32, 1)])\n",
      "/home/seongjinpark/.conda/envs/pytorch/lib/python3.7/site-packages/tensorboard/compat/tensorflow_stub/dtypes.py:550: FutureWarning: Passing (type, 1) or '1type' as a synonym of type is deprecated; in a future version of numpy, it will be understood as (type, (1,)) / '(1,)type'.\n",
      "  np_resource = np.dtype([(\"resource\", np.ubyte, 1)])\n",
      "Using TensorFlow backend.\n"
     ]
    }
   ],
   "source": [
    "import os\n",
    "import pickle\n",
    "\n",
    "from os.path import isdir, join\n",
    "from pathlib import Path\n",
    "\n",
    "import librosa\n",
    "import librosa.display\n",
    "\n",
    "import matplotlib.pyplot as plt\n",
    "%matplotlib inline\n",
    "\n",
    "import numpy as np\n",
    "import tensorflow as tf\n",
    "import keras\n",
    "from keras.models import Sequential, Model\n",
    "from keras.layers import Dense, Dropout, Flatten\n",
    "from keras.layers import Conv2D, MaxPooling2D, LSTM, GRU, Bidirectional\n",
    "from keras.utils import to_categorical\n",
    "\n",
    "from sklearn.model_selection import KFold, train_test_split"
   ]
  },
  {
   "cell_type": "code",
   "execution_count": 2,
   "metadata": {},
   "outputs": [
    {
     "data": {
      "text/plain": [
       "True"
      ]
     },
     "execution_count": 2,
     "metadata": {},
     "output_type": "execute_result"
    }
   ],
   "source": [
    "tf.test.is_gpu_available()"
   ]
  },
  {
   "cell_type": "code",
   "execution_count": 3,
   "metadata": {},
   "outputs": [
    {
     "name": "stdout",
     "output_type": "stream",
     "text": [
      "WARNING:tensorflow:From /home/seongjinpark/.conda/envs/pytorch/lib/python3.7/site-packages/keras/backend/tensorflow_backend.py:174: The name tf.get_default_session is deprecated. Please use tf.compat.v1.get_default_session instead.\n",
      "\n",
      "WARNING:tensorflow:From /home/seongjinpark/.conda/envs/pytorch/lib/python3.7/site-packages/keras/backend/tensorflow_backend.py:181: The name tf.ConfigProto is deprecated. Please use tf.compat.v1.ConfigProto instead.\n",
      "\n",
      "WARNING:tensorflow:From /home/seongjinpark/.conda/envs/pytorch/lib/python3.7/site-packages/keras/backend/tensorflow_backend.py:186: The name tf.Session is deprecated. Please use tf.compat.v1.Session instead.\n",
      "\n",
      "WARNING:tensorflow:From /home/seongjinpark/.conda/envs/pytorch/lib/python3.7/site-packages/keras/backend/tensorflow_backend.py:190: The name tf.global_variables is deprecated. Please use tf.compat.v1.global_variables instead.\n",
      "\n"
     ]
    },
    {
     "data": {
      "text/plain": [
       "['/job:localhost/replica:0/task:0/device:GPU:0']"
      ]
     },
     "execution_count": 3,
     "metadata": {},
     "output_type": "execute_result"
    }
   ],
   "source": [
    "from keras import backend as K\n",
    "K.tensorflow_backend._get_available_gpus()"
   ]
  },
  {
   "cell_type": "code",
   "execution_count": null,
   "metadata": {},
   "outputs": [],
   "source": []
  },
  {
   "cell_type": "markdown",
   "metadata": {
    "colab_type": "text",
    "id": "W5ClbVSTkDXs"
   },
   "source": [
    "### Check the location of WAV files"
   ]
  },
  {
   "cell_type": "code",
   "execution_count": 4,
   "metadata": {
    "colab": {},
    "colab_type": "code",
    "id": "3Yxhw3xWkFy-"
   },
   "outputs": [
    {
     "name": "stdout",
     "output_type": "stream",
     "text": [
      "S02_Almost-All-Colleges.wav\t     S19_Military-Personnel-Are.wav\r\n",
      "S02_A-Monstrous-Shadow.wav\t     S19_Nothing-Has-Been.wav\r\n",
      "S02_An-Adult-Male.wav\t\t     S19_Of-Course-Dear.wav\r\n",
      "S02_Any-Organism-That.wav\t     S19_Only-The-Most.wav\r\n",
      "S02_Are-You-Looking.wav\t\t     S19_Pam-Gives-Driving.wav\r\n",
      "S02_Before-Thursdays-Exam.wav\t     S19_Ralph-Prepared-Red.wav\r\n",
      "S02_Carl-Lives-In.wav\t\t     S19_She-Had-Your.wav\r\n",
      "S02_Combine-All-The.wav\t\t     S19_Steve-Collects-Rare.wav\r\n",
      "S02_Continental-Drift-Is.wav\t     S19_The-Moisture-In.wav\r\n",
      "S02_Did-Shawn-Catch.wav\t\t     S19_The-Small-Boy.wav\r\n",
      "S02_Dont-Ask-Me.wav\t\t     S19_The-Surplus-Shoes.wav\r\n",
      "S02_Gently-Place-Jims.wav\t     S19_The-Tooth-Fairy.wav\r\n",
      "S02_George-And-Tom.wav\t\t     S19_They-All-Like.wav\r\n",
      "S02_Gregory-And-Tom.wav\t\t     S19_They-Enjoy-It.wav\r\n",
      "S02_He-Ate-Four.wav\t\t     S19_They-Were-Already.wav\r\n",
      "S02_He-Shrugged-Casually.wav\t     S19_Those-Answers-Will.wav\r\n",
      "S02_How-Oily-Do.wav\t\t     S19_Thus-Technical-Efficiency.wav\r\n",
      "S02_How-Permanent-Are.wav\t     S19_Too-Much-Curiosity.wav\r\n",
      "S02_In-Every-Major.wav\t\t     S19_Tradition-Requires-Parental.wav\r\n",
      "S02_In-The-Long.wav\t\t     S19_Try-To-Recall.wav\r\n",
      "S02_It-Took-Him.wav\t\t     S21_Almost-All-Colleges.wav\r\n",
      "S02_Military-Personnel-Are.wav\t     S21_A-Monstrous-Shadow.wav\r\n",
      "S02_Nothing-Has-Been.wav\t     S21_An-Adult-Male.wav\r\n",
      "S02_Of-Course-Dear.wav\t\t     S21_Any-Organism-That.wav\r\n",
      "S02_Only-The-Most.wav\t\t     S21_Are-You-Looking.wav\r\n",
      "S02_Pam-Gives-Driving.wav\t     S21_Before-Thursdays-Exam.wav\r\n",
      "S02_Ralph-Prepared-Red.wav\t     S21_Carl-Lives-In.wav\r\n",
      "S02_She-Had-Your.wav\t\t     S21_Combine-All-The.wav\r\n",
      "S02_Steve-Collects-Rare.wav\t     S21_Continental-Drift-Is.wav\r\n",
      "S02_The-Moisture-In.wav\t\t     S21_Did-Shawn-Catch.wav\r\n",
      "S02_The-Small-Boy.wav\t\t     S21_Dont-Ask-Me.wav\r\n",
      "S02_The-Surplus-Shoes.wav\t     S21_Gently-Place-Jims.wav\r\n",
      "S02_The-Tooth-Fairy.wav\t\t     S21_Gregory-And-Tom.wav\r\n",
      "S02_They-All-Like.wav\t\t     S21_He-Ate-Four.wav\r\n",
      "S02_They-Enjoy-It.wav\t\t     S21_He-Shrugged-Casually.wav\r\n",
      "S02_They-Were-Already.wav\t     S21_How-Oily-Do.wav\r\n",
      "S02_Those-Answers-Will.wav\t     S21_How-Permanent-Are.wav\r\n",
      "S02_Thus-Technical-Efficiency.wav    S21_In-Every-Major.wav\r\n",
      "S02_Too-Much-Curiosity.wav\t     S21_In-The-Long.wav\r\n",
      "S02_Tradition-Requires-Parental.wav  S21_It-Took-Him.wav\r\n",
      "S02_Try-To-Recall.wav\t\t     S21_Military-Personnel-Are.wav\r\n",
      "S03_Almost-All-Colleges.wav\t     S21_Nothing-Has-Been.wav\r\n",
      "S03_A-Monstrous-Shadow.wav\t     S21_Of-Course-Dear.wav\r\n",
      "S03_An-Adult-Male.wav\t\t     S21_Only-The-Most.wav\r\n",
      "S03_Any-Organism-That.wav\t     S21_Pam-Gives-Driving.wav\r\n",
      "S03_Are-You-Looking.wav\t\t     S21_Ralph-Prepared-Red.wav\r\n",
      "S03_Before-Thursdays-Exam.wav\t     S21_She-Had-Your.wav\r\n",
      "S03_Carl-Lives-In.wav\t\t     S21_Steve-Collects-Rare.wav\r\n",
      "S03_Combine-All-The.wav\t\t     S21_The-Moisture-In.wav\r\n",
      "S03_Continental-Drift-Is.wav\t     S21_The-Small-Boy.wav\r\n",
      "S03_Did-Shawn-Catch.wav\t\t     S21_The-Surplus-Shoes.wav\r\n",
      "S03_Dont-Ask-Me.wav\t\t     S21_The-Tooth-Fairy.wav\r\n",
      "S03_Gently-Place-Jims.wav\t     S21_They-All-Like.wav\r\n",
      "S03_Gregory-And-Tom.wav\t\t     S21_They-Enjoy-It.wav\r\n",
      "S03_He-Ate-Four.wav\t\t     S21_They-Were-Already.wav\r\n",
      "S03_He-Shrugged-Casually.wav\t     S21_Those-Answers-Will.wav\r\n",
      "S03_How-Oily-Do.wav\t\t     S21_Thus-Technical-Efficiency.wav\r\n",
      "S03_How-Permanent-Are.wav\t     S21_Too-Much-Curiosity.wav\r\n",
      "S03_In-Every-Major.wav\t\t     S21_Tradition-Requires-Parental.wav\r\n",
      "S03_In-The-Long.wav\t\t     S21_Try-To-Recall.wav\r\n",
      "S03_It-Took-Him.wav\t\t     S22_Almost-All-Colleges.wav\r\n",
      "S03_Military-Personnel-Are.wav\t     S22_A-Monstrous-Shadow.wav\r\n",
      "S03_Nothing-Has-Been.wav\t     S22_An-Adult-Male.wav\r\n",
      "S03_Of-Course-Dear.wav\t\t     S22_Any-Organism-That.wav\r\n",
      "S03_Only-The-Most.wav\t\t     S22_Are-You-Looking.wav\r\n",
      "S03_Pam-Gives-Driving.wav\t     S22_Before-Thursdays-Exam.wav\r\n",
      "S03_Ralph-Prepared-Red.wav\t     S22_Carl-Lives-In.wav\r\n",
      "S03_She-Had-Your.wav\t\t     S22_Combine-All-The.wav\r\n",
      "S03_Steve-Collects-Rare.wav\t     S22_Continental-Drift-Is.wav\r\n",
      "S03_The-Moisture-In.wav\t\t     S22_Did-Shawn-Catch.wav\r\n",
      "S03_The-Small-Boy.wav\t\t     S22_Dont-Ask-Me.wav\r\n",
      "S03_The-Surplus-Shoes.wav\t     S22_Gently-Place-Jims.wav\r\n",
      "S03_The-Tooth-Fairy.wav\t\t     S22_Gregory-And-Tom.wav\r\n",
      "S03_They-All-Like.wav\t\t     S22_He-Ate-Four.wav\r\n",
      "S03_They-Enjoy-It.wav\t\t     S22_He-Shrugged-Casually.wav\r\n",
      "S03_They-Were-Already.wav\t     S22_How-Oily-Do.wav\r\n",
      "S03_Those-Answers-Will.wav\t     S22_How-Permanent-Are.wav\r\n",
      "S03_Thus-Technical-Efficiency.wav    S22_In-Every-Major.wav\r\n",
      "S03_Too-Much-Curiosity.wav\t     S22_In-The-Long.wav\r\n",
      "S03_Tradition-Requires-Parental.wav  S22_It-Took-Him.wav\r\n",
      "S03_Try-To-Recall.wav\t\t     S22_Military-Personnel-Are.wav\r\n",
      "S04_Almost-All-Colleges.wav\t     S22_Nothing-Has-Been.wav\r\n",
      "S04_A-Monstrous-Shadow.wav\t     S22_Of-Course-Dear.wav\r\n",
      "S04_An-Adult-Male.wav\t\t     S22_Only-The-Most.wav\r\n",
      "S04_Any-Organism-That.wav\t     S22_Pam-Gives-Driving.wav\r\n",
      "S04_Are-You-Looking.wav\t\t     S22_Ralph-Prepared-Red.wav\r\n",
      "S04_Before-Thursdays-Exam.wav\t     S22_She-Had-Your.wav\r\n",
      "S04_Carl-Lives-In.wav\t\t     S22_Steve-Collects-Rare.wav\r\n",
      "S04_Combine-All-The.wav\t\t     S22_The-Moisture-In.wav\r\n",
      "S04_Continental-Drift-Is.wav\t     S22_The-Small-Boy.wav\r\n",
      "S04_Did-Shawn-Catch.wav\t\t     S22_The-Surplus-Shoes.wav\r\n",
      "S04_Dont-Ask-Me.wav\t\t     S22_The-Tooth-Fairy.wav\r\n",
      "S04_Gently-Place-Jims.wav\t     S22_They-All-Like.wav\r\n",
      "S04_Gregory-And-Tom.wav\t\t     S22_They-Enjoy-It.wav\r\n",
      "S04_He-Ate-Four.wav\t\t     S22_They-Were-Already.wav\r\n",
      "S04_He-Shrugged-Casually.wav\t     S22_Those-Answers-Will.wav\r\n",
      "S04_How-Oily-Do.wav\t\t     S22_Thus-Technical-Efficiency.wav\r\n",
      "S04_How-Permanent-Are.wav\t     S22_Too-Much-Curiosity.wav\r\n",
      "S04_In-Every-Major.wav\t\t     S22_Tradition-Requires-Parental.wav\r\n",
      "S04_In-The-Long.wav\t\t     S22_Try-To-Recall.wav\r\n",
      "S04_It-Took-Him.wav\t\t     S23_Almost-All-Colleges.wav\r\n",
      "S04_Military-Personnel-Are.wav\t     S23_A-Monstrous-Shadow.wav\r\n",
      "S04_Nothing-Has-Been.wav\t     S23_An-Adult-Male.wav\r\n",
      "S04_Of-Course-Dear.wav\t\t     S23_Any-Organism-That.wav\r\n",
      "S04_Only-The-Most.wav\t\t     S23_Are-You-Looking.wav\r\n",
      "S04_Pam-Gives-Driving.wav\t     S23_Before-Thursdays-Exam.wav\r\n",
      "S04_Ralph-Prepared-Red.wav\t     S23_Carl-Lives-In.wav\r\n",
      "S04_She-Had-Your.wav\t\t     S23_Combine-All-The.wav\r\n",
      "S04_Steve-Collects-Rare.wav\t     S23_Continental-Drift-Is.wav\r\n",
      "S04_The-Moisture-In.wav\t\t     S23_Did-Shawn-Catch.wav\r\n",
      "S04_The-Small-Boy.wav\t\t     S23_Dont-Ask-Me.wav\r\n",
      "S04_The-Surplus-Shoes.wav\t     S23_Gently-Place-Jims.wav\r\n",
      "S04_The-Tooth-Fairy.wav\t\t     S23_Gregory-And-Tom.wav\r\n",
      "S04_They-All-Like.wav\t\t     S23_He-Ate-Four.wav\r\n",
      "S04_They-Enjoy-It.wav\t\t     S23_He-Shrugged-Casually.wav\r\n",
      "S04_They-Were-Already.wav\t     S23_How-Oily-Do.wav\r\n",
      "S04_Those-Answers-Will.wav\t     S23_How-Permanent-Are.wav\r\n",
      "S04_Thus-Technical-Efficiency.wav    S23_In-Every-Major.wav\r\n",
      "S04_Too-Much-Curiosity.wav\t     S23_In-The-Long.wav\r\n",
      "S04_Tradition-Requires-Parental.wav  S23_It-Took-Him.wav\r\n",
      "S04_Try-To-Recall.wav\t\t     S23_Military-Personnel-Are.wav\r\n",
      "S05_Almost-All-Colleges.wav\t     S23_Nothing-Has-Been.wav\r\n",
      "S05_A-Monstrous-Shadow.wav\t     S23_Of-Course-Dear.wav\r\n",
      "S05_An-Adult-Male.wav\t\t     S23_Only-The-Most.wav\r\n",
      "S05_Any-Organism-That.wav\t     S23_Pam-Gives-Driving.wav\r\n",
      "S05_Are-You-Looking.wav\t\t     S23_Ralph-Prepared-Red.wav\r\n",
      "S05_Before-Thursdays-Exam.wav\t     S23_She-Had-Your.wav\r\n",
      "S05_Carl-Lives-In.wav\t\t     S23_Steve-Collects-Rare.wav\r\n",
      "S05_Combine-All-The.wav\t\t     S23_The-Moisture-In.wav\r\n",
      "S05_Continental-Drift-Is.wav\t     S23_The-Small-Boy.wav\r\n",
      "S05_Did-Shawn-Catch.wav\t\t     S23_The-Surplus-Shoes.wav\r\n",
      "S05_Dont-Ask-Me.wav\t\t     S23_The-Tooth-Fairy.wav\r\n",
      "S05_Gently-Place-Jims.wav\t     S23_They-All-Like.wav\r\n",
      "S05_Gregory-And-Tom.wav\t\t     S23_They-Enjoy-It.wav\r\n",
      "S05_He-Ate-Four.wav\t\t     S23_They-Were-Already.wav\r\n",
      "S05_He-Shrugged-Casually.wav\t     S23_Those-Answers-Will.wav\r\n",
      "S05_How-Oily-Do.wav\t\t     S23_Thus-Technical-Efficiency.wav\r\n",
      "S05_How-Permanent-Are.wav\t     S23_Too-Much-Curiosity.wav\r\n",
      "S05_In-Every-Major.wav\t\t     S23_Tradition-Requires-Parental.wav\r\n",
      "S05_In-The-Long.wav\t\t     S23_Try-To-Recall.wav\r\n",
      "S05_It-Took-Him.wav\t\t     S24_Almost-All-Colleges.wav\r\n",
      "S05_Military-Personnel-Are.wav\t     S24_A-Monstrous-Shadow.wav\r\n",
      "S05_Nothing-Has-Been.wav\t     S24_An-Adult-Male.wav\r\n",
      "S05_Of-Course-Dear.wav\t\t     S24_Any-Organism-That.wav\r\n",
      "S05_Only-The-Most.wav\t\t     S24_Are-You-Looking.wav\r\n",
      "S05_Pam-Gives-Driving.wav\t     S24_Before-Thursdays-Exam.wav\r\n",
      "S05_Ralph-Prepared-Red.wav\t     S24_Carl-Lives-In.wav\r\n",
      "S05_She-Had-Your.wav\t\t     S24_Combine-All-The.wav\r\n",
      "S05_Steve-Collects-Rare.wav\t     S24_Continental-Drift-Is.wav\r\n",
      "S05_The-Moisture-In.wav\t\t     S24_Did-Shawn-Catch.wav\r\n",
      "S05_The-Small-Boy.wav\t\t     S24_Dont-Ask-Me.wav\r\n",
      "S05_The-Surplus-Shoes.wav\t     S24_Gently-Place-Jims.wav\r\n",
      "S05_The-Tooth-Fairy.wav\t\t     S24_Gregory-And-Tom.wav\r\n",
      "S05_They-All-Like.wav\t\t     S24_He-Ate-Four.wav\r\n",
      "S05_They-Enjoy-It.wav\t\t     S24_He-Shrugged-Casually.wav\r\n",
      "S05_They-Were-Already.wav\t     S24_How-Oily-Do.wav\r\n",
      "S05_Those-Answers-Will.wav\t     S24_How-Permanent-Are.wav\r\n",
      "S05_Thus-Technical-Efficiency.wav    S24_In-Every-Major.wav\r\n",
      "S05_Too-Much-Curiosity.wav\t     S24_In-The-Long.wav\r\n",
      "S05_Tradition-Requires-Parental.wav  S24_It-Took-Him.wav\r\n",
      "S05_Try-To-Recall.wav\t\t     S24_Military-Personnel-Are.wav\r\n",
      "S07_Almost-All-Colleges.wav\t     S24_Nothing-Has-Been.wav\r\n",
      "S07_A-Monstrous-Shadow.wav\t     S24_Of-Course-Dear.wav\r\n",
      "S07_An-Adult-Male.wav\t\t     S24_Only-The-Most.wav\r\n",
      "S07_Any-Organism-That.wav\t     S24_Pam-Gives-Driving.wav\r\n",
      "S07_Are-You-Looking.wav\t\t     S24_Ralph-Prepared-Red.wav\r\n",
      "S07_Before-Thursdays-Exam.wav\t     S24_She-Had-Your.wav\r\n",
      "S07_Carl-Lives-In.wav\t\t     S24_Steve-Collects-Rare.wav\r\n",
      "S07_Combine-All-The.wav\t\t     S24_The-Moisture-In.wav\r\n",
      "S07_Continental-Drift-Is.wav\t     S24_The-Small-Boy.wav\r\n",
      "S07_Did-Shawn-Catch.wav\t\t     S24_The-Surplus-Shoes.wav\r\n",
      "S07_Dont-Ask-Me.wav\t\t     S24_The-Tooth-Fairy.wav\r\n",
      "S07_Gently-Place-Jims.wav\t     S24_They-All-Like.wav\r\n",
      "S07_Gregory-And-Tom.wav\t\t     S24_They-Enjoy-It.wav\r\n",
      "S07_He-Ate-Four.wav\t\t     S24_They-Were-Already.wav\r\n",
      "S07_He-Shrugged-Casually.wav\t     S24_Those-Answers-Will.wav\r\n",
      "S07_How-Oily-Do.wav\t\t     S24_Thus-Technical-Efficiency.wav\r\n",
      "S07_How-Permanent-Are.wav\t     S24_Too-Much-Curiosity.wav\r\n",
      "S07_In-Every-Major.wav\t\t     S24_Tradition-Requires-Parental.wav\r\n",
      "S07_In-The-Long.wav\t\t     S24_Try-To-Recall.wav\r\n",
      "S07_It-Took-Him.wav\t\t     S25_Almost-All-Colleges.wav\r\n",
      "S07_Military-Personnel-Are.wav\t     S25_A-Monstrous-Shadow.wav\r\n",
      "S07_Nothing-Has-Been.wav\t     S25_An-Adult-Male.wav\r\n",
      "S07_Of-Course-Dear.wav\t\t     S25_Any-Organism-That.wav\r\n",
      "S07_Only-The-Most.wav\t\t     S25_Are-You-Looking.wav\r\n",
      "S07_Pam-Gives-Driving.wav\t     S25_Before-Thursdays-Exam.wav\r\n",
      "S07_Ralph-Prepared-Red.wav\t     S25_Carl-Lives-In.wav\r\n",
      "S07_She-Had-Your.wav\t\t     S25_Combine-All-The.wav\r\n",
      "S07_Steve-Collects-Rare.wav\t     S25_Continental-Drift-Is.wav\r\n",
      "S07_The-Moisture-In.wav\t\t     S25_Did-Shawn-Catch.wav\r\n",
      "S07_The-Small-Boy.wav\t\t     S25_Dont-Ask-Me.wav\r\n",
      "S07_The-Surplus-Shoes.wav\t     S25_Gently-Place-Jims.wav\r\n",
      "S07_The-Tooth-Fairy.wav\t\t     S25_Gregory-And-Tom.wav\r\n",
      "S07_They-All-Like.wav\t\t     S25_He-Ate-Four.wav\r\n",
      "S07_They-Enjoy-It.wav\t\t     S25_He-Shrugged-Casually.wav\r\n",
      "S07_They-Were-Already.wav\t     S25_How-Oily-Do.wav\r\n",
      "S07_Those-Answers-Will.wav\t     S25_How-Permanent-Are.wav\r\n",
      "S07_Thus-Technical-Efficiency.wav    S25_In-Every-Major.wav\r\n",
      "S07_Too-Much-Curiosity.wav\t     S25_In-The-Long.wav\r\n",
      "S07_Tradition-Requires-Parental.wav  S25_It-Took-Him.wav\r\n",
      "S07_Try-To-Recall.wav\t\t     S25_Military-Personnel-Are.wav\r\n",
      "S08_Almost-All-Colleges.wav\t     S25_Nothing-Has-Been.wav\r\n",
      "S08_A-Monstrous-Shadow.wav\t     S25_Of-Course-Dear.wav\r\n",
      "S08_An-Adult-Male.wav\t\t     S25_Only-The-Most.wav\r\n",
      "S08_Any-Organism-That.wav\t     S25_Pam-Gives-Driving.wav\r\n",
      "S08_Are-You-Looking.wav\t\t     S25_Ralph-Prepared-Red.wav\r\n",
      "S08_Before-Thursdays-Exam.wav\t     S25_She-Had-Your.wav\r\n",
      "S08_Carl-Lives-In.wav\t\t     S25_Steve-Collects-Rare.wav\r\n",
      "S08_Combine-All-The.wav\t\t     S25_The-Moisture-In.wav\r\n",
      "S08_Continental-Drift-Is.wav\t     S25_The-Small-Boy.wav\r\n",
      "S08_Did-Shawn-Catch.wav\t\t     S25_The-Surplus-Shoes.wav\r\n",
      "S08_Dont-Ask-Me.wav\t\t     S25_The-Tooth-Fairy.wav\r\n",
      "S08_Gently-Place-Jims.wav\t     S25_They-All-Like.wav\r\n",
      "S08_Gregory-And-Tom.wav\t\t     S25_They-Enjoy-It.wav\r\n",
      "S08_He-Ate-Four.wav\t\t     S25_They-Were-Already.wav\r\n",
      "S08_He-Shrugged-Casually.wav\t     S25_Those-Answers-Will.wav\r\n",
      "S08_How-Oily-Do.wav\t\t     S25_Thus-Technical-Efficiency.wav\r\n",
      "S08_How-Permanent-Are.wav\t     S25_Too-Much-Curiosity.wav\r\n",
      "S08_In-Every-Major.wav\t\t     S25_Tradition-Requires-Parental.wav\r\n",
      "S08_In-The-Long.wav\t\t     S25_Try-To-Recall.wav\r\n",
      "S08_It-Took-Him.wav\t\t     S26_Almost-All-Colleges.wav\r\n",
      "S08_Military-Personnel-Are.wav\t     S26_A-Monstrous-Shadow.wav\r\n",
      "S08_Nothing-Has-Been.wav\t     S26_An-Adult-Male.wav\r\n",
      "S08_Of-Course-Dear.wav\t\t     S26_Any-Organism-That.wav\r\n",
      "S08_Only-The-Most.wav\t\t     S26_Are-You-Looking.wav\r\n",
      "S08_Pam-Gives-Driving.wav\t     S26_Before-Thursdays-Exam.wav\r\n",
      "S08_Ralph-Prepared-Red.wav\t     S26_Carl-Lives-In.wav\r\n",
      "S08_She-Had-Your.wav\t\t     S26_Combine-All-The.wav\r\n",
      "S08_Steve-Collects-Rare.wav\t     S26_Continental-Drift-Is.wav\r\n",
      "S08_The-Moisture-In.wav\t\t     S26_Did-Shawn-Catch.wav\r\n",
      "S08_The-Small-Boy.wav\t\t     S26_Dont-Ask-Me.wav\r\n",
      "S08_The-Surplus-Shoes.wav\t     S26_Gently-Place-Jims.wav\r\n",
      "S08_The-Tooth-Fairy.wav\t\t     S26_Gregory-And-Tom.wav\r\n",
      "S08_They-All-Like.wav\t\t     S26_He-Ate-Four.wav\r\n",
      "S08_They-Enjoy-It.wav\t\t     S26_He-Shrugged-Casually.wav\r\n",
      "S08_They-Were-Already.wav\t     S26_How-Oily-Do.wav\r\n",
      "S08_Those-Answers-Will.wav\t     S26_How-Permanent-Are.wav\r\n",
      "S08_Thus-Technical-Efficiency.wav    S26_In-Every-Major.wav\r\n",
      "S08_Too-Much-Curiosity.wav\t     S26_In-The-Long.wav\r\n",
      "S08_Tradition-Requires-Parental.wav  S26_It-Took-Him.wav\r\n",
      "S08_Try-To-Recall.wav\t\t     S26_Military-Personnel-Are.wav\r\n",
      "S09_Almost-All-Colleges.wav\t     S26_Nothing-Has-Been.wav\r\n",
      "S09_A-Monstrous-Shadow.wav\t     S26_Of-Course-Dear.wav\r\n",
      "S09_An-Adult-Male.wav\t\t     S26_Only-The-Most.wav\r\n",
      "S09_Any-Organism-That.wav\t     S26_Pam-Gives-Driving.wav\r\n",
      "S09_Are-You-Looking.wav\t\t     S26_Ralph-Prepared-Red.wav\r\n",
      "S09_Before-Thursdays-Exam.wav\t     S26_She-Had-Your.wav\r\n",
      "S09_Carl-Lives-In.wav\t\t     S26_Steve-Collects-Rare.wav\r\n",
      "S09_Combine-All-The.wav\t\t     S26_The-Moisture-In.wav\r\n",
      "S09_Continental-Drift-Is.wav\t     S26_The-Small-Boy.wav\r\n",
      "S09_Did-Shawn-Catch.wav\t\t     S26_The-Surplus-Shoes.wav\r\n",
      "S09_Dont-Ask-Me.wav\t\t     S26_The-Tooth-Fairy.wav\r\n",
      "S09_Gently-Place-Jims.wav\t     S26_They-All-Like.wav\r\n",
      "S09_Gregory-And-Tom.wav\t\t     S26_They-Enjoy-It.wav\r\n",
      "S09_He-Ate-Four.wav\t\t     S26_They-Were-Already.wav\r\n",
      "S09_He-Shrugged-Casually.wav\t     S26_Those-Answers-Will.wav\r\n",
      "S09_How-Oily-Do.wav\t\t     S26_Thus-Technical-Efficiency.wav\r\n",
      "S09_How-Permanent-Are.wav\t     S26_Too-Much-Curiosity.wav\r\n",
      "S09_In-Every-Major.wav\t\t     S26_Tradition-Requires-Parental.wav\r\n",
      "S09_In-The-Long.wav\t\t     S26_Try-To-Recall.wav\r\n",
      "S09_It-Took-Him.wav\t\t     S28_Almost-All-Colleges.wav\r\n",
      "S09_Military-Personnel-Are.wav\t     S28_A-Monstrous-Shadow.wav\r\n",
      "S09_Nothing-Has-Been.wav\t     S28_An-Adult-Male.wav\r\n",
      "S09_Of-Course-Dear.wav\t\t     S28_Any-Organism-That.wav\r\n",
      "S09_Only-The-Most.wav\t\t     S28_Are-You-Looking.wav\r\n",
      "S09_Pam-Gives-Driving.wav\t     S28_Before-Thursdays-Exam.wav\r\n",
      "S09_Ralph-Prepared-Red.wav\t     S28_Carl-Lives-In.wav\r\n",
      "S09_She-Had-Your.wav\t\t     S28_Combine-All-The.wav\r\n",
      "S09_Steve-Collects-Rare.wav\t     S28_Continental-Drift-Is.wav\r\n",
      "S09_The-Moisture-In.wav\t\t     S28_Did-Shawn-Catch.wav\r\n",
      "S09_The-Small-Boy.wav\t\t     S28_Dont-Ask-Me.wav\r\n",
      "S09_The-Surplus-Shoes.wav\t     S28_Gently-Place-Jims.wav\r\n",
      "S09_The-Tooth-Fairy.wav\t\t     S28_Gregory-And-Tom.wav\r\n",
      "S09_They-All-Like.wav\t\t     S28_He-Ate-Four.wav\r\n",
      "S09_They-Enjoy-It.wav\t\t     S28_He-Shrugged-Casually.wav\r\n",
      "S09_They-Were-Already.wav\t     S28_How-Oily-Do.wav\r\n",
      "S09_Those-Answers-Will.wav\t     S28_How-Permanent-Are.wav\r\n",
      "S09_Thus-Technical-Efficiency.wav    S28_In-Every-Major.wav\r\n",
      "S09_Too-Much-Curiosity.wav\t     S28_In-The-Long.wav\r\n",
      "S09_Tradition-Requires-Parental.wav  S28_It-Took-Him.wav\r\n",
      "S09_Try-To-Recall.wav\t\t     S28_Military-Personnel-Are.wav\r\n",
      "S19_Almost-All-Colleges.wav\t     S28_Nothing-Has-Been.wav\r\n",
      "S19_A-Monstrous-Shadow.wav\t     S28_Of-Course-Dear.wav\r\n",
      "S19_An-Adult-Male.wav\t\t     S28_Only-The-Most.wav\r\n",
      "S19_Any-Organism-That.wav\t     S28_Pam-Gives-Driving.wav\r\n",
      "S19_Are-You-Looking.wav\t\t     S28_Ralph-Prepared-Red.wav\r\n",
      "S19_Before-Thursdays-Exam.wav\t     S28_She-Had-Your.wav\r\n",
      "S19_Carl-Lives-In.wav\t\t     S28_Steve-Collects-Rare.wav\r\n",
      "S19_Combine-All-The.wav\t\t     S28_The-Moisture-In.wav\r\n",
      "S19_Continental-Drift-Is.wav\t     S28_The-Small-Boy.wav\r\n",
      "S19_Did-Shawn-Catch.wav\t\t     S28_The-Surplus-Shoes.wav\r\n",
      "S19_Dont-Ask-Me.wav\t\t     S28_The-Tooth-Fairy.wav\r\n",
      "S19_Gently-Place-Jims.wav\t     S28_They-All-Like.wav\r\n",
      "S19_Gregory-And-Tom.wav\t\t     S28_They-Enjoy-It.wav\r\n",
      "S19_He-Ate-Four.wav\t\t     S28_They-Were-Already.wav\r\n",
      "S19_He-Shrugged-Casually.wav\t     S28_Those-Answers-Will.wav\r\n",
      "S19_How-Oily-Do.wav\t\t     S28_Thus-Technical-Efficiency.wav\r\n",
      "S19_How-Permanent-Are.wav\t     S28_Too-Much-Curiosity.wav\r\n",
      "S19_In-Every-Major.wav\t\t     S28_Tradition-Requires-Parental.wav\r\n",
      "S19_In-The-Long.wav\t\t     S28_Try-To-Recall.wav\r\n",
      "S19_It-Took-Him.wav\r\n"
     ]
    }
   ],
   "source": [
    "!ls ../audio/wavs"
   ]
  },
  {
   "cell_type": "markdown",
   "metadata": {
    "colab_type": "text",
    "id": "8dPlvT3kkH67"
   },
   "source": [
    "### Check wav files"
   ]
  },
  {
   "cell_type": "code",
   "execution_count": 5,
   "metadata": {
    "colab": {},
    "colab_type": "code",
    "id": "6rbHW-B6kJy8"
   },
   "outputs": [
    {
     "name": "stdout",
     "output_type": "stream",
     "text": [
      "['S09_He-Ate-Four.wav', 'S26_Those-Answers-Will.wav', 'S28_Try-To-Recall.wav', 'S03_Thus-Technical-Efficiency.wav', 'S25_Try-To-Recall.wav', 'S02_A-Monstrous-Shadow.wav', 'S21_A-Monstrous-Shadow.wav', 'S04_The-Small-Boy.wav', 'S28_Gently-Place-Jims.wav', 'S21_Military-Personnel-Are.wav']\n"
     ]
    }
   ],
   "source": [
    "audio_path = '../audio/wavs/'\n",
    "print(os.listdir(audio_path)[:10])"
   ]
  },
  {
   "cell_type": "markdown",
   "metadata": {},
   "source": [
    "### Extract mel-spectrogram and mfcc features"
   ]
  },
  {
   "cell_type": "code",
   "execution_count": 6,
   "metadata": {},
   "outputs": [],
   "source": [
    "wav2idx = {}\n",
    "melspec_dict = {}\n",
    "mfcc_dict = {}\n",
    "\n",
    "wav_names = [wav for wav in os.listdir(audio_path) if wav.endswith(\"wav\")]\n",
    "\n",
    "samples = 132300\n",
    "max_len = 0\n",
    "\n",
    "for i, w in enumerate(wav_names):\n",
    "    wav2idx[w] = i\n",
    "    wav_path = audio_path + w\n",
    "    \n",
    "    y, sr = librosa.load(wav_path) \n",
    "    \n",
    "#     sample = sr * 5\n",
    "    \n",
    "    if 0 < len(y): # workaround: 0 length causes error\n",
    "        y, _ = librosa.effects.trim(y)\n",
    "\n",
    "    if len(y) > samples: # long enough\n",
    "        y = y[0:0+samples]\n",
    "\n",
    "    else: # pad blank\n",
    "        padding = samples - len(y)\n",
    "        offset = padding // 2\n",
    "        y = np.pad(y, (offset, samples - len(y) - offset), 'constant')\n",
    "    \n",
    "    \n",
    "    mel_data = librosa.feature.melspectrogram(y = y, sr= sr)\n",
    "    mfcc_data = librosa.feature.mfcc(y = y, sr = sr, n_mfcc = 13)\n",
    "    mfcc_delta = librosa.feature.delta(mfcc_data)\n",
    "    mfcc_delta2 = librosa.feature.delta(mfcc_data, order = 2)\n",
    "\n",
    "    mfcc = np.vstack((mfcc_data, mfcc_delta, mfcc_delta2))\n",
    "#     if (np.shape(mel_data)[1] > max_len):\n",
    "#         max_len = np.shape(mel_data)[1] \n",
    "    \n",
    "    melspec_dict[i] = mel_data\n",
    "    mfcc_dict[i] = mfcc"
   ]
  },
  {
   "cell_type": "markdown",
   "metadata": {},
   "source": [
    "### Check the shape"
   ]
  },
  {
   "cell_type": "code",
   "execution_count": 7,
   "metadata": {},
   "outputs": [
    {
     "name": "stdout",
     "output_type": "stream",
     "text": [
      "0\n",
      "110250\n",
      "(128, 259)\n",
      "(128, 259)\n",
      "(128, 259)\n",
      "(128, 259)\n",
      "(128, 259)\n",
      "(128, 259)\n",
      "(128, 259)\n",
      "(128, 259)\n",
      "(128, 259)\n",
      "(128, 259)\n"
     ]
    }
   ],
   "source": [
    "print(max_len)\n",
    "print(sr * 5)\n",
    "for i in list(melspec_dict.keys())[:10]:\n",
    "    print(melspec_dict[i].shape)"
   ]
  },
  {
   "cell_type": "code",
   "execution_count": 9,
   "metadata": {},
   "outputs": [],
   "source": [
    "with open(\"../data/accented_data.csv\", \"r\") as f:\n",
    "    data = f.readlines()"
   ]
  },
  {
   "cell_type": "code",
   "execution_count": 10,
   "metadata": {},
   "outputs": [
    {
     "name": "stdout",
     "output_type": "stream",
     "text": [
      "(10806, 39, 259)\n",
      "(10806,)\n",
      "(10806,)\n"
     ]
    }
   ],
   "source": [
    "X = []\n",
    "X_wav = []\n",
    "Y = []\n",
    "\n",
    "zeros = np.zeros(128)\n",
    "for i in range(1, len(data)):\n",
    "    line = data[i].rstrip()\n",
    "    \n",
    "    accented, stim, wav_name = line.split(\",\")\n",
    "    wav_idx = wav2idx[wav_name]\n",
    "    X_wav.append(wav_idx)\n",
    "#     x = np.zeros(shape = (128, max_len))\n",
    "    # x_data = np.vstack((melspec_dict[wav_idx],mfcc_dict[wav_idx]))\n",
    "    x_data = mfcc_dict[wav_idx]\n",
    "\n",
    "#     print(np.shape(x), np.shape(x_data))\n",
    "    \n",
    "#     for i in range(0, np.shape(x_data)[0]):\n",
    "#         for j in range(0, np.shape(x_data)[1]):\n",
    "#             x[i][j] = x_data[i][j]\n",
    "    \n",
    "    X.append(x_data)\n",
    "    Y.append(int(accented)-1)\n",
    "\n",
    "print(np.shape(X))\n",
    "print(np.shape(X_wav))\n",
    "print(np.shape(Y))"
   ]
  },
  {
   "cell_type": "code",
   "execution_count": 11,
   "metadata": {},
   "outputs": [],
   "source": [
    "X_train, X_test, X_wav_train, X_wav_test, y_train, y_test = train_test_split(X, X_wav, Y, test_size=0.3, random_state=42)"
   ]
  },
  {
   "cell_type": "code",
   "execution_count": 12,
   "metadata": {},
   "outputs": [
    {
     "name": "stdout",
     "output_type": "stream",
     "text": [
      "(7564, 39, 259)\n",
      "(3242, 39, 259)\n"
     ]
    }
   ],
   "source": [
    "# reshape\n",
    "X_train = np.array(X_train)\n",
    "X_test = np.array(X_test)\n",
    "X_wav_train = np.array(X_wav_train)\n",
    "X_wav_test = np.array(X_wav_test)\n",
    "y_train = np.array(y_train)\n",
    "y_test = np.array(y_test)\n",
    "\n",
    "# X_train = X_train.reshape(X_train.shape[0], max_time, num_mel, 1)\n",
    "# X_test = X_test.reshape(X_test.shape[0], max_time, num_mel, 1)\n",
    "\n",
    "\n",
    "\n",
    "print(np.shape(X_train))\n",
    "print(np.shape(X_test))"
   ]
  },
  {
   "cell_type": "code",
   "execution_count": 13,
   "metadata": {},
   "outputs": [],
   "source": [
    "# hyperparameters\n",
    "lr = 0.001\n",
    "batch_size = 64\n",
    "drop_out_rate = 0.25\n",
    "num_dense_unit = 256\n",
    "num_epochs = 50\n",
    "\n",
    "num_mel = np.shape(X)[1]\n",
    "max_time = np.shape(X)[2]"
   ]
  },
  {
   "cell_type": "code",
   "execution_count": 14,
   "metadata": {},
   "outputs": [
    {
     "name": "stdout",
     "output_type": "stream",
     "text": [
      "WARNING:tensorflow:From /home/seongjinpark/.conda/envs/pytorch/lib/python3.7/site-packages/keras/backend/tensorflow_backend.py:74: The name tf.get_default_graph is deprecated. Please use tf.compat.v1.get_default_graph instead.\n",
      "\n",
      "WARNING:tensorflow:From /home/seongjinpark/.conda/envs/pytorch/lib/python3.7/site-packages/keras/backend/tensorflow_backend.py:3445: calling dropout (from tensorflow.python.ops.nn_ops) with keep_prob is deprecated and will be removed in a future version.\n",
      "Instructions for updating:\n",
      "Please use `rate` instead of `keep_prob`. Rate should be set to `rate = 1 - keep_prob`.\n",
      "WARNING:tensorflow:From /home/seongjinpark/.conda/envs/pytorch/lib/python3.7/site-packages/keras/optimizers.py:790: The name tf.train.Optimizer is deprecated. Please use tf.compat.v1.train.Optimizer instead.\n",
      "\n",
      "_________________________________________________________________\n",
      "Layer (type)                 Output Shape              Param #   \n",
      "=================================================================\n",
      "bidirectional_1 (Bidirection (None, 39, 1024)          3162112   \n",
      "_________________________________________________________________\n",
      "bidirectional_2 (Bidirection (None, 1024)              6295552   \n",
      "_________________________________________________________________\n",
      "dropout_1 (Dropout)          (None, 1024)              0         \n",
      "_________________________________________________________________\n",
      "dense_1 (Dense)              (None, 256)               262400    \n",
      "_________________________________________________________________\n",
      "dense_2 (Dense)              (None, 128)               32896     \n",
      "_________________________________________________________________\n",
      "dense_3 (Dense)              (None, 1)                 129       \n",
      "=================================================================\n",
      "Total params: 9,753,089\n",
      "Trainable params: 9,753,089\n",
      "Non-trainable params: 0\n",
      "_________________________________________________________________\n"
     ]
    }
   ],
   "source": [
    "input_shape = (num_mel, max_time)\n",
    "\n",
    "model = Sequential()\n",
    "\n",
    "model.add(Bidirectional(LSTM(512, return_sequences=True), input_shape = (num_mel, max_time)))\n",
    "model.add(Bidirectional(LSTM(512)))\n",
    "model.add(Dropout(drop_out_rate))\n",
    "model.add(Dense(num_dense_unit))\n",
    "model.add(Dense(128))\n",
    "model.add(Dense(1, activation='linear'))\n",
    "\n",
    "# use adam optimizer\n",
    "adam = keras.optimizers.Adam(lr = lr)\n",
    "\n",
    "# compile the model\n",
    "model.compile(optimizer=adam, loss=\"mse\", metrics=[\"mse\"])\n",
    "\n",
    "model.summary()"
   ]
  },
  {
   "cell_type": "code",
   "execution_count": 15,
   "metadata": {},
   "outputs": [],
   "source": [
    "from datetime import datetime\n",
    "logdir = \"logs/scalars/accented_mfcc\" + datetime.now().strftime(\"%Y%m%d-%H%M%S\")\n",
    "tensorboard_callback = keras.callbacks.TensorBoard(log_dir=logdir)"
   ]
  },
  {
   "cell_type": "code",
   "execution_count": 16,
   "metadata": {},
   "outputs": [
    {
     "name": "stdout",
     "output_type": "stream",
     "text": [
      "WARNING:tensorflow:From /home/seongjinpark/.conda/envs/pytorch/lib/python3.7/site-packages/tensorflow/python/ops/math_grad.py:1250: add_dispatch_support.<locals>.wrapper (from tensorflow.python.ops.array_ops) is deprecated and will be removed in a future version.\n",
      "Instructions for updating:\n",
      "Use tf.where in 2.0, which has the same broadcast rule as np.where\n",
      "Train on 7564 samples, validate on 3242 samples\n",
      "WARNING:tensorflow:From /home/seongjinpark/.conda/envs/pytorch/lib/python3.7/site-packages/keras/callbacks.py:850: The name tf.summary.merge_all is deprecated. Please use tf.compat.v1.summary.merge_all instead.\n",
      "\n",
      "WARNING:tensorflow:From /home/seongjinpark/.conda/envs/pytorch/lib/python3.7/site-packages/keras/callbacks.py:853: The name tf.summary.FileWriter is deprecated. Please use tf.compat.v1.summary.FileWriter instead.\n",
      "\n",
      "Epoch 1/40\n",
      "7564/7564 [==============================] - 21s 3ms/step - loss: 2.0567 - mean_squared_error: 2.0567 - val_loss: 1.4653 - val_mean_squared_error: 1.4653\n",
      "Epoch 2/40\n",
      "7564/7564 [==============================] - 19s 2ms/step - loss: 1.4979 - mean_squared_error: 1.4979 - val_loss: 1.4911 - val_mean_squared_error: 1.4911\n",
      "Epoch 3/40\n",
      "7564/7564 [==============================] - 19s 3ms/step - loss: 1.4095 - mean_squared_error: 1.4095 - val_loss: 1.4954 - val_mean_squared_error: 1.4954\n",
      "Epoch 4/40\n",
      "7564/7564 [==============================] - 19s 2ms/step - loss: 1.3769 - mean_squared_error: 1.3769 - val_loss: 1.4304 - val_mean_squared_error: 1.4304\n",
      "Epoch 5/40\n",
      "7564/7564 [==============================] - 19s 2ms/step - loss: 1.5263 - mean_squared_error: 1.5263 - val_loss: 1.9686 - val_mean_squared_error: 1.9686\n",
      "Epoch 6/40\n",
      "7564/7564 [==============================] - 19s 3ms/step - loss: 1.5871 - mean_squared_error: 1.5871 - val_loss: 1.3881 - val_mean_squared_error: 1.3881\n",
      "Epoch 7/40\n",
      "7564/7564 [==============================] - 19s 2ms/step - loss: 1.3782 - mean_squared_error: 1.3782 - val_loss: 1.3720 - val_mean_squared_error: 1.3720\n",
      "Epoch 8/40\n",
      "7564/7564 [==============================] - 19s 3ms/step - loss: 1.3468 - mean_squared_error: 1.3468 - val_loss: 1.3626 - val_mean_squared_error: 1.3626\n",
      "Epoch 9/40\n",
      "7564/7564 [==============================] - 19s 3ms/step - loss: 1.3499 - mean_squared_error: 1.3499 - val_loss: 1.3734 - val_mean_squared_error: 1.3734\n",
      "Epoch 10/40\n",
      "7564/7564 [==============================] - 19s 2ms/step - loss: 1.3210 - mean_squared_error: 1.3210 - val_loss: 1.4220 - val_mean_squared_error: 1.4220\n",
      "Epoch 11/40\n",
      "7564/7564 [==============================] - 19s 3ms/step - loss: 1.3036 - mean_squared_error: 1.3036 - val_loss: 1.3774 - val_mean_squared_error: 1.3774\n",
      "Epoch 12/40\n",
      "7564/7564 [==============================] - 19s 3ms/step - loss: 1.2858 - mean_squared_error: 1.2858 - val_loss: 1.3754 - val_mean_squared_error: 1.3754\n",
      "Epoch 13/40\n",
      "7564/7564 [==============================] - 19s 2ms/step - loss: 1.3113 - mean_squared_error: 1.3113 - val_loss: 1.3732 - val_mean_squared_error: 1.3732\n",
      "Epoch 14/40\n",
      "7564/7564 [==============================] - 19s 2ms/step - loss: 1.3168 - mean_squared_error: 1.3168 - val_loss: 1.3844 - val_mean_squared_error: 1.3844\n",
      "Epoch 15/40\n",
      "7564/7564 [==============================] - 19s 3ms/step - loss: 1.3147 - mean_squared_error: 1.3147 - val_loss: 1.3633 - val_mean_squared_error: 1.3633\n",
      "Epoch 16/40\n",
      "7564/7564 [==============================] - 19s 3ms/step - loss: 1.3073 - mean_squared_error: 1.3073 - val_loss: 1.3711 - val_mean_squared_error: 1.3711\n",
      "Epoch 17/40\n",
      "7564/7564 [==============================] - 19s 3ms/step - loss: 1.2801 - mean_squared_error: 1.2801 - val_loss: 1.3679 - val_mean_squared_error: 1.3679\n",
      "Epoch 18/40\n",
      "7564/7564 [==============================] - 19s 3ms/step - loss: 1.2840 - mean_squared_error: 1.2840 - val_loss: 1.3691 - val_mean_squared_error: 1.3691\n",
      "Epoch 19/40\n",
      "7564/7564 [==============================] - 19s 2ms/step - loss: 1.2786 - mean_squared_error: 1.2786 - val_loss: 1.4240 - val_mean_squared_error: 1.4240\n",
      "Epoch 20/40\n",
      "7564/7564 [==============================] - 19s 3ms/step - loss: 1.2502 - mean_squared_error: 1.2502 - val_loss: 1.4389 - val_mean_squared_error: 1.4389\n",
      "Epoch 21/40\n",
      "7564/7564 [==============================] - 19s 3ms/step - loss: 1.2577 - mean_squared_error: 1.2577 - val_loss: 1.3906 - val_mean_squared_error: 1.3906\n",
      "Epoch 22/40\n",
      "7564/7564 [==============================] - 19s 2ms/step - loss: 1.2324 - mean_squared_error: 1.2324 - val_loss: 1.3873 - val_mean_squared_error: 1.3873\n",
      "Epoch 23/40\n",
      "7564/7564 [==============================] - 19s 2ms/step - loss: 1.2473 - mean_squared_error: 1.2473 - val_loss: 1.4580 - val_mean_squared_error: 1.4580\n",
      "Epoch 24/40\n",
      "7564/7564 [==============================] - 19s 3ms/step - loss: 1.2655 - mean_squared_error: 1.2655 - val_loss: 1.3711 - val_mean_squared_error: 1.3711\n",
      "Epoch 25/40\n",
      "7564/7564 [==============================] - 19s 2ms/step - loss: 1.2601 - mean_squared_error: 1.2601 - val_loss: 1.3824 - val_mean_squared_error: 1.3824\n",
      "Epoch 26/40\n",
      "7564/7564 [==============================] - 19s 3ms/step - loss: 1.2704 - mean_squared_error: 1.2704 - val_loss: 1.3861 - val_mean_squared_error: 1.3861\n",
      "Epoch 27/40\n",
      "7564/7564 [==============================] - 19s 2ms/step - loss: 1.2384 - mean_squared_error: 1.2384 - val_loss: 1.3607 - val_mean_squared_error: 1.3607\n",
      "Epoch 28/40\n",
      "7564/7564 [==============================] - 19s 2ms/step - loss: 1.2213 - mean_squared_error: 1.2213 - val_loss: 1.3611 - val_mean_squared_error: 1.3611\n",
      "Epoch 29/40\n",
      "7564/7564 [==============================] - 19s 2ms/step - loss: 1.2181 - mean_squared_error: 1.2181 - val_loss: 1.3596 - val_mean_squared_error: 1.3596\n",
      "Epoch 30/40\n",
      "7564/7564 [==============================] - 19s 2ms/step - loss: 1.2014 - mean_squared_error: 1.2014 - val_loss: 1.3747 - val_mean_squared_error: 1.3747\n",
      "Epoch 31/40\n",
      "7564/7564 [==============================] - 19s 2ms/step - loss: 1.1975 - mean_squared_error: 1.1975 - val_loss: 1.3678 - val_mean_squared_error: 1.3678\n",
      "Epoch 32/40\n",
      "7564/7564 [==============================] - 19s 2ms/step - loss: 1.1952 - mean_squared_error: 1.1952 - val_loss: 1.3838 - val_mean_squared_error: 1.3838\n",
      "Epoch 33/40\n",
      "7564/7564 [==============================] - 19s 2ms/step - loss: 1.1847 - mean_squared_error: 1.1847 - val_loss: 1.3787 - val_mean_squared_error: 1.3787\n",
      "Epoch 34/40\n",
      "7564/7564 [==============================] - 19s 2ms/step - loss: 1.1758 - mean_squared_error: 1.1758 - val_loss: 1.3857 - val_mean_squared_error: 1.3857\n",
      "Epoch 35/40\n",
      "7564/7564 [==============================] - 19s 2ms/step - loss: 1.1680 - mean_squared_error: 1.1680 - val_loss: 1.3811 - val_mean_squared_error: 1.3811\n",
      "Epoch 36/40\n",
      "7564/7564 [==============================] - 19s 2ms/step - loss: 1.1581 - mean_squared_error: 1.1581 - val_loss: 1.3948 - val_mean_squared_error: 1.3948\n",
      "Epoch 37/40\n",
      "7564/7564 [==============================] - 19s 2ms/step - loss: 1.1532 - mean_squared_error: 1.1532 - val_loss: 1.3984 - val_mean_squared_error: 1.3984\n",
      "Epoch 38/40\n",
      "7564/7564 [==============================] - 19s 2ms/step - loss: 1.1533 - mean_squared_error: 1.1533 - val_loss: 1.4430 - val_mean_squared_error: 1.4430\n",
      "Epoch 39/40\n",
      "7564/7564 [==============================] - 19s 2ms/step - loss: 1.1472 - mean_squared_error: 1.1472 - val_loss: 1.4978 - val_mean_squared_error: 1.4978\n",
      "Epoch 40/40\n",
      "7564/7564 [==============================] - 19s 2ms/step - loss: 1.1592 - mean_squared_error: 1.1592 - val_loss: 1.4810 - val_mean_squared_error: 1.4810\n"
     ]
    }
   ],
   "source": [
    "num_epochs = 40\n",
    "# model.load_weights('../data/RNN_model_100.h5')\n",
    "\n",
    "history = model.fit(X_train, y_train, batch_size = batch_size, epochs = num_epochs, shuffle = False, class_weight = None,\n",
    "         verbose = 1, validation_data = (X_test, y_test), callbacks=[tensorboard_callback])\n",
    "\n",
    "model.save('../data/accented_mfcc_model_40.h5')"
   ]
  },
  {
   "cell_type": "code",
   "execution_count": 17,
   "metadata": {},
   "outputs": [
    {
     "name": "stdout",
     "output_type": "stream",
     "text": [
      "MSE: 1.48104\n"
     ]
    }
   ],
   "source": [
    "# Final evaluation of the model\n",
    "scores = model.evaluate(X_test, y_test, verbose=0)\n",
    "print(\"MSE: %.5f\" % (scores[1]))"
   ]
  },
  {
   "cell_type": "markdown",
   "metadata": {},
   "source": [
    "### Plot the training process"
   ]
  },
  {
   "cell_type": "code",
   "execution_count": 18,
   "metadata": {},
   "outputs": [
    {
     "data": {
      "image/png": "[encoded data removed]",
      "text/plain": [
       "<Figure size 432x288 with 1 Axes>"
      ]
     },
     "metadata": {
      "needs_background": "light"
     },
     "output_type": "display_data"
    }
   ],
   "source": [
    "# summarize history for loss\n",
    "plt.plot(history.history['loss'])\n",
    "plt.plot(history.history['val_loss'])\n",
    "plt.title('model loss')\n",
    "plt.ylabel('loss')\n",
    "plt.xlabel('epoch')\n",
    "plt.legend(['train', 'test'], loc='upper left')\n",
    "plt.show()"
   ]
  },
  {
   "cell_type": "markdown",
   "metadata": {},
   "source": [
    "The result looks like the model gets stable after 20 epochs"
   ]
  },
  {
   "cell_type": "code",
   "execution_count": 19,
   "metadata": {},
   "outputs": [],
   "source": [
    "y_prediction = model.predict(X_test)"
   ]
  },
  {
   "cell_type": "code",
   "execution_count": 20,
   "metadata": {},
   "outputs": [],
   "source": [
    "with open(\"../results/mfcc_40_accented_regression.txt\", \"w\") as output:\n",
    "    for i in range(len(y_test)):\n",
    "        result = \"%s\\t%d\\t%f\\n\" % (wav_names[X_wav_test[i]], y_test[i], y_prediction[i][0])\n",
    "        output.write(result)"
   ]
  },
  {
   "cell_type": "markdown",
   "metadata": {},
   "source": [
    "### Train and Test the model with Mel-Spectrogram"
   ]
  },
  {
   "cell_type": "code",
   "execution_count": 21,
   "metadata": {},
   "outputs": [
    {
     "name": "stdout",
     "output_type": "stream",
     "text": [
      "(10806, 39, 259)\n",
      "(10806,)\n"
     ]
    }
   ],
   "source": [
    "X_mel = []\n",
    "X_wav = []\n",
    "Y = []\n",
    "\n",
    "zeros = np.zeros(128)\n",
    "for i in range(1, len(data)):\n",
    "    line = data[i].rstrip()\n",
    "    \n",
    "    accented, stim, wav_name = line.split(\",\")\n",
    "    wav_idx = wav2idx[wav_name]\n",
    "    X_wav.append(wav_idx)\n",
    "    \n",
    "#     x = np.zeros(shape = (128, max_len))\n",
    "    # x_data = np.vstack((melspec_dict[wav_idx],mfcc_dict[wav_idx]))\n",
    "    x_data = melspec_dict[wav_idx]\n",
    "\n",
    "#     print(np.shape(x), np.shape(x_data))\n",
    "    \n",
    "#     for i in range(0, np.shape(x_data)[0]):\n",
    "#         for j in range(0, np.shape(x_data)[1]):\n",
    "#             x[i][j] = x_data[i][j]\n",
    "    \n",
    "    X_mel.append(x_data)\n",
    "    Y.append(int(accented)-1)\n",
    "\n",
    "print(np.shape(X))\n",
    "print(np.shape(Y))"
   ]
  },
  {
   "cell_type": "code",
   "execution_count": 22,
   "metadata": {},
   "outputs": [],
   "source": [
    "X_mel_train, X_mel_test, X_wav_train, X_wav_test, y_train, y_test = train_test_split(X_mel, X_wav, Y, test_size=0.3, random_state=42)"
   ]
  },
  {
   "cell_type": "code",
   "execution_count": 23,
   "metadata": {},
   "outputs": [
    {
     "name": "stdout",
     "output_type": "stream",
     "text": [
      "(7564, 128, 259)\n",
      "(3242, 128, 259)\n"
     ]
    }
   ],
   "source": [
    "# reshape\n",
    "X_mel_train = np.array(X_mel_train)\n",
    "X_mel_test = np.array(X_mel_test)\n",
    "X_wav_train = np.array(X_wav_train)\n",
    "X_wav_test = np.array(X_wav_test)\n",
    "# X_train = X_train.reshape(X_train.shape[0], max_time, num_mel, 1)\n",
    "# X_test = X_test.reshape(X_test.shape[0], max_time, num_mel, 1)\n",
    "\n",
    "\n",
    "\n",
    "print(np.shape(X_mel_train))\n",
    "print(np.shape(X_mel_test))"
   ]
  },
  {
   "cell_type": "code",
   "execution_count": 24,
   "metadata": {},
   "outputs": [],
   "source": [
    "# hyperparameters\n",
    "lr = 0.001\n",
    "batch_size = 64\n",
    "drop_out_rate = 0.25\n",
    "num_dense_unit = 256\n",
    "num_epochs = 50\n",
    "\n",
    "num_melspec = np.shape(X_mel_train)[1]\n",
    "max_time = np.shape(X_mel_train)[2]"
   ]
  },
  {
   "cell_type": "code",
   "execution_count": 25,
   "metadata": {},
   "outputs": [
    {
     "name": "stdout",
     "output_type": "stream",
     "text": [
      "_________________________________________________________________\n",
      "Layer (type)                 Output Shape              Param #   \n",
      "=================================================================\n",
      "bidirectional_3 (Bidirection (None, 128, 1024)         3162112   \n",
      "_________________________________________________________________\n",
      "bidirectional_4 (Bidirection (None, 1024)              6295552   \n",
      "_________________________________________________________________\n",
      "dropout_2 (Dropout)          (None, 1024)              0         \n",
      "_________________________________________________________________\n",
      "dense_4 (Dense)              (None, 256)               262400    \n",
      "_________________________________________________________________\n",
      "dense_5 (Dense)              (None, 128)               32896     \n",
      "_________________________________________________________________\n",
      "dense_6 (Dense)              (None, 1)                 129       \n",
      "=================================================================\n",
      "Total params: 9,753,089\n",
      "Trainable params: 9,753,089\n",
      "Non-trainable params: 0\n",
      "_________________________________________________________________\n"
     ]
    }
   ],
   "source": [
    "input_shape = (num_melspec, max_time)\n",
    "\n",
    "model_mel = Sequential()\n",
    "\n",
    "model_mel.add(Bidirectional(LSTM(512, return_sequences=True), input_shape = (num_melspec, max_time)))\n",
    "model_mel.add(Bidirectional(LSTM(512)))\n",
    "model_mel.add(Dropout(drop_out_rate))\n",
    "model_mel.add(Dense(num_dense_unit))\n",
    "model_mel.add(Dense(128))\n",
    "model_mel.add(Dense(1, activation='linear'))\n",
    "\n",
    "# use adam optimizer\n",
    "adam = keras.optimizers.Adam(lr = lr)\n",
    "\n",
    "# compile the model\n",
    "model_mel.compile(optimizer=adam, loss=\"mse\", metrics=[\"mse\"])\n",
    "\n",
    "model_mel.summary()"
   ]
  },
  {
   "cell_type": "code",
   "execution_count": 26,
   "metadata": {},
   "outputs": [],
   "source": [
    "from datetime import datetime\n",
    "logdir = \"logs/scalars/accented_melspec\" + datetime.now().strftime(\"%Y%m%d-%H%M%S\")\n",
    "tensorboard_callback = keras.callbacks.TensorBoard(log_dir=logdir)"
   ]
  },
  {
   "cell_type": "code",
   "execution_count": 28,
   "metadata": {},
   "outputs": [
    {
     "name": "stdout",
     "output_type": "stream",
     "text": [
      "Train on 7564 samples, validate on 3242 samples\n",
      "Epoch 1/40\n",
      "7564/7564 [==============================] - 61s 8ms/step - loss: 1.7141 - mean_squared_error: 1.7141 - val_loss: 1.4947 - val_mean_squared_error: 1.4947\n",
      "Epoch 2/40\n",
      "7564/7564 [==============================] - 62s 8ms/step - loss: 1.4458 - mean_squared_error: 1.4458 - val_loss: 1.4751 - val_mean_squared_error: 1.4751\n",
      "Epoch 3/40\n",
      "7564/7564 [==============================] - 61s 8ms/step - loss: 1.4187 - mean_squared_error: 1.4187 - val_loss: 1.4143 - val_mean_squared_error: 1.4143\n",
      "Epoch 4/40\n",
      "7564/7564 [==============================] - 61s 8ms/step - loss: 1.3747 - mean_squared_error: 1.3747 - val_loss: 1.3892 - val_mean_squared_error: 1.3892\n",
      "Epoch 5/40\n",
      "7564/7564 [==============================] - 61s 8ms/step - loss: 1.3456 - mean_squared_error: 1.3456 - val_loss: 1.3844 - val_mean_squared_error: 1.3844\n",
      "Epoch 6/40\n",
      "7564/7564 [==============================] - 61s 8ms/step - loss: 1.3307 - mean_squared_error: 1.3307 - val_loss: 1.3876 - val_mean_squared_error: 1.3876\n",
      "Epoch 7/40\n",
      "7564/7564 [==============================] - 61s 8ms/step - loss: 1.3039 - mean_squared_error: 1.3039 - val_loss: 1.3614 - val_mean_squared_error: 1.3614\n",
      "Epoch 8/40\n",
      "7564/7564 [==============================] - 61s 8ms/step - loss: 1.2987 - mean_squared_error: 1.2987 - val_loss: 1.3825 - val_mean_squared_error: 1.3825\n",
      "Epoch 9/40\n",
      "7564/7564 [==============================] - 61s 8ms/step - loss: 1.2833 - mean_squared_error: 1.2833 - val_loss: 1.3847 - val_mean_squared_error: 1.3847\n",
      "Epoch 10/40\n",
      "7564/7564 [==============================] - 61s 8ms/step - loss: 1.2852 - mean_squared_error: 1.2852 - val_loss: 1.3786 - val_mean_squared_error: 1.3786\n",
      "Epoch 11/40\n",
      "7564/7564 [==============================] - 61s 8ms/step - loss: 1.3040 - mean_squared_error: 1.3040 - val_loss: 1.4300 - val_mean_squared_error: 1.4300\n",
      "Epoch 12/40\n",
      "7564/7564 [==============================] - 61s 8ms/step - loss: 1.3219 - mean_squared_error: 1.3219 - val_loss: 1.3589 - val_mean_squared_error: 1.3589\n",
      "Epoch 13/40\n",
      "7564/7564 [==============================] - 61s 8ms/step - loss: 1.3074 - mean_squared_error: 1.3074 - val_loss: 1.3639 - val_mean_squared_error: 1.3639\n",
      "Epoch 14/40\n",
      "7564/7564 [==============================] - 61s 8ms/step - loss: 1.2794 - mean_squared_error: 1.2794 - val_loss: 1.3514 - val_mean_squared_error: 1.3514\n",
      "Epoch 15/40\n",
      "7564/7564 [==============================] - 61s 8ms/step - loss: 1.2623 - mean_squared_error: 1.2623 - val_loss: 1.3649 - val_mean_squared_error: 1.3649\n",
      "Epoch 16/40\n",
      "7564/7564 [==============================] - 62s 8ms/step - loss: 1.2575 - mean_squared_error: 1.2575 - val_loss: 1.3677 - val_mean_squared_error: 1.3677\n",
      "Epoch 17/40\n",
      "7564/7564 [==============================] - 61s 8ms/step - loss: 1.2423 - mean_squared_error: 1.2423 - val_loss: 1.3463 - val_mean_squared_error: 1.3463\n",
      "Epoch 18/40\n",
      "7564/7564 [==============================] - 61s 8ms/step - loss: 1.2383 - mean_squared_error: 1.2383 - val_loss: 1.3445 - val_mean_squared_error: 1.3445\n",
      "Epoch 19/40\n",
      "7564/7564 [==============================] - 61s 8ms/step - loss: 1.3036 - mean_squared_error: 1.3036 - val_loss: 1.7261 - val_mean_squared_error: 1.7261\n",
      "Epoch 20/40\n",
      "7564/7564 [==============================] - 61s 8ms/step - loss: 1.2797 - mean_squared_error: 1.2797 - val_loss: 1.3422 - val_mean_squared_error: 1.3422\n",
      "Epoch 21/40\n",
      "7564/7564 [==============================] - 61s 8ms/step - loss: 1.2907 - mean_squared_error: 1.2907 - val_loss: 1.3397 - val_mean_squared_error: 1.3397\n",
      "Epoch 22/40\n",
      "7564/7564 [==============================] - 61s 8ms/step - loss: 1.2710 - mean_squared_error: 1.2710 - val_loss: 1.3427 - val_mean_squared_error: 1.3427\n",
      "Epoch 23/40\n",
      "7564/7564 [==============================] - 61s 8ms/step - loss: 1.2708 - mean_squared_error: 1.2708 - val_loss: 1.3463 - val_mean_squared_error: 1.3463\n",
      "Epoch 24/40\n",
      "7564/7564 [==============================] - 61s 8ms/step - loss: 1.2757 - mean_squared_error: 1.2757 - val_loss: 1.3797 - val_mean_squared_error: 1.3797\n",
      "Epoch 25/40\n",
      "7564/7564 [==============================] - 61s 8ms/step - loss: 1.2930 - mean_squared_error: 1.2930 - val_loss: 1.3777 - val_mean_squared_error: 1.3777\n",
      "Epoch 26/40\n",
      "7564/7564 [==============================] - 62s 8ms/step - loss: 1.2995 - mean_squared_error: 1.2995 - val_loss: 1.3869 - val_mean_squared_error: 1.3869\n",
      "Epoch 27/40\n",
      "7564/7564 [==============================] - 61s 8ms/step - loss: 1.2669 - mean_squared_error: 1.2669 - val_loss: 1.3962 - val_mean_squared_error: 1.3962\n",
      "Epoch 28/40\n",
      "7564/7564 [==============================] - 61s 8ms/step - loss: 1.2407 - mean_squared_error: 1.2407 - val_loss: 1.3513 - val_mean_squared_error: 1.3513\n",
      "Epoch 29/40\n",
      "7564/7564 [==============================] - 61s 8ms/step - loss: 1.2164 - mean_squared_error: 1.2164 - val_loss: 1.3693 - val_mean_squared_error: 1.3693\n",
      "Epoch 30/40\n",
      "7564/7564 [==============================] - 61s 8ms/step - loss: 1.2404 - mean_squared_error: 1.2404 - val_loss: 1.3633 - val_mean_squared_error: 1.3633\n",
      "Epoch 31/40\n",
      "7564/7564 [==============================] - 61s 8ms/step - loss: 1.2647 - mean_squared_error: 1.2647 - val_loss: 1.3533 - val_mean_squared_error: 1.3533\n",
      "Epoch 32/40\n",
      "7564/7564 [==============================] - 61s 8ms/step - loss: 1.2476 - mean_squared_error: 1.2476 - val_loss: 1.3486 - val_mean_squared_error: 1.3486\n",
      "Epoch 33/40\n",
      "7564/7564 [==============================] - 61s 8ms/step - loss: 1.2383 - mean_squared_error: 1.2383 - val_loss: 1.3519 - val_mean_squared_error: 1.3519\n",
      "Epoch 34/40\n",
      "7564/7564 [==============================] - 61s 8ms/step - loss: 1.2240 - mean_squared_error: 1.2240 - val_loss: 1.4272 - val_mean_squared_error: 1.4272\n",
      "Epoch 35/40\n",
      "7564/7564 [==============================] - 61s 8ms/step - loss: 1.2300 - mean_squared_error: 1.2300 - val_loss: 1.4008 - val_mean_squared_error: 1.4008\n",
      "Epoch 36/40\n",
      "7564/7564 [==============================] - 61s 8ms/step - loss: 1.2189 - mean_squared_error: 1.2189 - val_loss: 1.3845 - val_mean_squared_error: 1.3845\n",
      "Epoch 37/40\n",
      "7564/7564 [==============================] - 62s 8ms/step - loss: 1.2120 - mean_squared_error: 1.2120 - val_loss: 1.3750 - val_mean_squared_error: 1.3750\n",
      "Epoch 38/40\n",
      "7564/7564 [==============================] - 61s 8ms/step - loss: 1.2239 - mean_squared_error: 1.2239 - val_loss: 1.3764 - val_mean_squared_error: 1.3764\n",
      "Epoch 39/40\n",
      "7564/7564 [==============================] - 61s 8ms/step - loss: 1.2249 - mean_squared_error: 1.2249 - val_loss: 1.3885 - val_mean_squared_error: 1.3885\n",
      "Epoch 40/40\n",
      "7564/7564 [==============================] - 61s 8ms/step - loss: 1.2432 - mean_squared_error: 1.2432 - val_loss: 1.3833 - val_mean_squared_error: 1.3833\n"
     ]
    }
   ],
   "source": [
    "num_epochs = 40\n",
    "# model.load_weights('../data/RNN_model_100.h5')\n",
    "\n",
    "history_mel = model_mel.fit(X_mel_train, y_train, batch_size = batch_size, epochs = num_epochs, shuffle = False, class_weight = None,\n",
    "         verbose = 1, validation_data = (X_mel_test, y_test), callbacks=[tensorboard_callback])\n",
    "\n",
    "model.save('../data/accented_melspec_model_40.h5')"
   ]
  },
  {
   "cell_type": "code",
   "execution_count": 29,
   "metadata": {},
   "outputs": [
    {
     "data": {
      "image/png": "[encoded data removed]",
      "text/plain": [
       "<Figure size 432x288 with 1 Axes>"
      ]
     },
     "metadata": {
      "needs_background": "light"
     },
     "output_type": "display_data"
    }
   ],
   "source": [
    "# summarize history for loss\n",
    "plt.plot(history_mel.history['loss'])\n",
    "plt.plot(history_mel.history['val_loss'])\n",
    "plt.title('model loss')\n",
    "plt.ylabel('loss')\n",
    "plt.xlabel('epoch')\n",
    "plt.legend(['train', 'test'], loc='upper left')\n",
    "plt.show()"
   ]
  },
  {
   "cell_type": "code",
   "execution_count": 30,
   "metadata": {},
   "outputs": [],
   "source": [
    "y_mel_prediction = model_mel.predict(X_mel_test)"
   ]
  },
  {
   "cell_type": "code",
   "execution_count": 31,
   "metadata": {},
   "outputs": [
    {
     "name": "stdout",
     "output_type": "stream",
     "text": [
      "S22_Did-Shawn-Catch.wav 0 1.3060137\n",
      "S26_Continental-Drift-Is.wav 3 2.5165117\n",
      "S02_How-Oily-Do.wav 2 2.4040976\n",
      "S25_He-Ate-Four.wav 3 3.0133507\n",
      "S25_He-Ate-Four.wav 2 3.0133507\n",
      "S24_Ralph-Prepared-Red.wav 3 0.79656273\n",
      "S22_The-Moisture-In.wav 0 1.4710206\n",
      "S04_Military-Personnel-Are.wav 5 2.4521656\n",
      "S07_Did-Shawn-Catch.wav 4 4.277281\n",
      "S07_The-Small-Boy.wav 4 3.4283938\n"
     ]
    }
   ],
   "source": [
    "for i in range(10):\n",
    "    print(wav_names[X_wav_test[i]], y_test[i], y_mel_prediction[i][0])"
   ]
  },
  {
   "cell_type": "code",
   "execution_count": 32,
   "metadata": {},
   "outputs": [],
   "source": [
    "with open(\"../results/accented_mel_40_accented_regression.txt\", \"w\") as output:\n",
    "    for i in range(len(y_test)):\n",
    "        result = \"%s\\t%d\\t%f\\n\" % (wav_names[X_wav_test[i]], y_test[i], y_mel_prediction[i][0])\n",
    "        output.write(result)"
   ]
  }
 ],
 "metadata": {
  "colab": {
   "authorship_tag": "ABX9TyNgj1JHcGzGQnCrsiYuWjzf",
   "collapsed_sections": [],
   "name": "RNN_automatic_judgment.ipynb",
   "provenance": []
  },
  "kernelspec": {
   "display_name": "Python 3",
   "language": "python",
   "name": "python3"
  },
  "language_info": {
   "codemirror_mode": {
    "name": "ipython",
    "version": 3
   },
   "file_extension": ".py",
   "mimetype": "text/x-python",
   "name": "python",
   "nbconvert_exporter": "python",
   "pygments_lexer": "ipython3",
   "version": "3.7.5"
  }
 },
 "nbformat": 4,
 "nbformat_minor": 1
}
