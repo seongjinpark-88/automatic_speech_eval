{
 "cells": [
  {
   "cell_type": "markdown",
   "metadata": {
    "colab_type": "text",
    "id": "io3htdIajyFK"
   },
   "source": [
    "### Import modules"
   ]
  },
  {
   "cell_type": "code",
   "execution_count": 4,
   "metadata": {
    "colab": {},
    "colab_type": "code",
    "id": "jY_kKl4oj0wQ"
   },
   "outputs": [],
   "source": [
    "import os\n",
    "import pickle\n",
    "\n",
    "from os.path import isdir, join\n",
    "from pathlib import Path\n",
    "\n",
    "import librosa\n",
    "import librosa.display\n",
    "\n",
    "import matplotlib.pyplot as plt\n",
    "%matplotlib inline\n",
    "\n",
    "import numpy as np\n",
    "import tensorflow as tf\n",
    "import keras\n",
    "from keras.models import Sequential, Model\n",
    "from keras.layers import Dense, Dropout, Flatten\n",
    "from keras.layers import Conv2D, MaxPooling2D, LSTM, GRU, Bidirectional\n",
    "from keras.utils import to_categorical\n",
    "\n",
    "from sklearn.model_selection import KFold, train_test_split"
   ]
  },
  {
   "cell_type": "code",
   "execution_count": 5,
   "metadata": {},
   "outputs": [
    {
     "data": {
      "text/plain": [
       "True"
      ]
     },
     "execution_count": 5,
     "metadata": {},
     "output_type": "execute_result"
    }
   ],
   "source": [
    "tf.test.is_gpu_available()"
   ]
  },
  {
   "cell_type": "code",
   "execution_count": 6,
   "metadata": {},
   "outputs": [
    {
     "name": "stdout",
     "output_type": "stream",
     "text": [
      "WARNING:tensorflow:From /home/seongjinpark/.conda/envs/pytorch/lib/python3.7/site-packages/keras/backend/tensorflow_backend.py:190: The name tf.global_variables is deprecated. Please use tf.compat.v1.global_variables instead.\n",
      "\n"
     ]
    },
    {
     "data": {
      "text/plain": [
       "['/job:localhost/replica:0/task:0/device:GPU:0']"
      ]
     },
     "execution_count": 6,
     "metadata": {},
     "output_type": "execute_result"
    }
   ],
   "source": [
    "from keras import backend as K\n",
    "K.tensorflow_backend._get_available_gpus()"
   ]
  },
  {
   "cell_type": "markdown",
   "metadata": {
    "colab_type": "text",
    "id": "W5ClbVSTkDXs"
   },
   "source": [
    "### Check the location of WAV files"
   ]
  },
  {
   "cell_type": "code",
   "execution_count": 7,
   "metadata": {
    "colab": {},
    "colab_type": "code",
    "id": "3Yxhw3xWkFy-"
   },
   "outputs": [
    {
     "name": "stdout",
     "output_type": "stream",
     "text": [
      "S02_Almost-All-Colleges.wav\t     S19_Military-Personnel-Are.wav\r\n",
      "S02_A-Monstrous-Shadow.wav\t     S19_Nothing-Has-Been.wav\r\n",
      "S02_An-Adult-Male.wav\t\t     S19_Of-Course-Dear.wav\r\n",
      "S02_Any-Organism-That.wav\t     S19_Only-The-Most.wav\r\n",
      "S02_Are-You-Looking.wav\t\t     S19_Pam-Gives-Driving.wav\r\n",
      "S02_Before-Thursdays-Exam.wav\t     S19_Ralph-Prepared-Red.wav\r\n",
      "S02_Carl-Lives-In.wav\t\t     S19_She-Had-Your.wav\r\n",
      "S02_Combine-All-The.wav\t\t     S19_Steve-Collects-Rare.wav\r\n",
      "S02_Continental-Drift-Is.wav\t     S19_The-Moisture-In.wav\r\n",
      "S02_Did-Shawn-Catch.wav\t\t     S19_The-Small-Boy.wav\r\n",
      "S02_Dont-Ask-Me.wav\t\t     S19_The-Surplus-Shoes.wav\r\n",
      "S02_Gently-Place-Jims.wav\t     S19_The-Tooth-Fairy.wav\r\n",
      "S02_George-And-Tom.wav\t\t     S19_They-All-Like.wav\r\n",
      "S02_Gregory-And-Tom.wav\t\t     S19_They-Enjoy-It.wav\r\n",
      "S02_He-Ate-Four.wav\t\t     S19_They-Were-Already.wav\r\n",
      "S02_He-Shrugged-Casually.wav\t     S19_Those-Answers-Will.wav\r\n",
      "S02_How-Oily-Do.wav\t\t     S19_Thus-Technical-Efficiency.wav\r\n",
      "S02_How-Permanent-Are.wav\t     S19_Too-Much-Curiosity.wav\r\n",
      "S02_In-Every-Major.wav\t\t     S19_Tradition-Requires-Parental.wav\r\n",
      "S02_In-The-Long.wav\t\t     S19_Try-To-Recall.wav\r\n",
      "S02_It-Took-Him.wav\t\t     S21_Almost-All-Colleges.wav\r\n",
      "S02_Military-Personnel-Are.wav\t     S21_A-Monstrous-Shadow.wav\r\n",
      "S02_Nothing-Has-Been.wav\t     S21_An-Adult-Male.wav\r\n",
      "S02_Of-Course-Dear.wav\t\t     S21_Any-Organism-That.wav\r\n",
      "S02_Only-The-Most.wav\t\t     S21_Are-You-Looking.wav\r\n",
      "S02_Pam-Gives-Driving.wav\t     S21_Before-Thursdays-Exam.wav\r\n",
      "S02_Ralph-Prepared-Red.wav\t     S21_Carl-Lives-In.wav\r\n",
      "S02_She-Had-Your.wav\t\t     S21_Combine-All-The.wav\r\n",
      "S02_Steve-Collects-Rare.wav\t     S21_Continental-Drift-Is.wav\r\n",
      "S02_The-Moisture-In.wav\t\t     S21_Did-Shawn-Catch.wav\r\n",
      "S02_The-Small-Boy.wav\t\t     S21_Dont-Ask-Me.wav\r\n",
      "S02_The-Surplus-Shoes.wav\t     S21_Gently-Place-Jims.wav\r\n",
      "S02_The-Tooth-Fairy.wav\t\t     S21_Gregory-And-Tom.wav\r\n",
      "S02_They-All-Like.wav\t\t     S21_He-Ate-Four.wav\r\n",
      "S02_They-Enjoy-It.wav\t\t     S21_He-Shrugged-Casually.wav\r\n",
      "S02_They-Were-Already.wav\t     S21_How-Oily-Do.wav\r\n",
      "S02_Those-Answers-Will.wav\t     S21_How-Permanent-Are.wav\r\n",
      "S02_Thus-Technical-Efficiency.wav    S21_In-Every-Major.wav\r\n",
      "S02_Too-Much-Curiosity.wav\t     S21_In-The-Long.wav\r\n",
      "S02_Tradition-Requires-Parental.wav  S21_It-Took-Him.wav\r\n",
      "S02_Try-To-Recall.wav\t\t     S21_Military-Personnel-Are.wav\r\n",
      "S03_Almost-All-Colleges.wav\t     S21_Nothing-Has-Been.wav\r\n",
      "S03_A-Monstrous-Shadow.wav\t     S21_Of-Course-Dear.wav\r\n",
      "S03_An-Adult-Male.wav\t\t     S21_Only-The-Most.wav\r\n",
      "S03_Any-Organism-That.wav\t     S21_Pam-Gives-Driving.wav\r\n",
      "S03_Are-You-Looking.wav\t\t     S21_Ralph-Prepared-Red.wav\r\n",
      "S03_Before-Thursdays-Exam.wav\t     S21_She-Had-Your.wav\r\n",
      "S03_Carl-Lives-In.wav\t\t     S21_Steve-Collects-Rare.wav\r\n",
      "S03_Combine-All-The.wav\t\t     S21_The-Moisture-In.wav\r\n",
      "S03_Continental-Drift-Is.wav\t     S21_The-Small-Boy.wav\r\n",
      "S03_Did-Shawn-Catch.wav\t\t     S21_The-Surplus-Shoes.wav\r\n",
      "S03_Dont-Ask-Me.wav\t\t     S21_The-Tooth-Fairy.wav\r\n",
      "S03_Gently-Place-Jims.wav\t     S21_They-All-Like.wav\r\n",
      "S03_Gregory-And-Tom.wav\t\t     S21_They-Enjoy-It.wav\r\n",
      "S03_He-Ate-Four.wav\t\t     S21_They-Were-Already.wav\r\n",
      "S03_He-Shrugged-Casually.wav\t     S21_Those-Answers-Will.wav\r\n",
      "S03_How-Oily-Do.wav\t\t     S21_Thus-Technical-Efficiency.wav\r\n",
      "S03_How-Permanent-Are.wav\t     S21_Too-Much-Curiosity.wav\r\n",
      "S03_In-Every-Major.wav\t\t     S21_Tradition-Requires-Parental.wav\r\n",
      "S03_In-The-Long.wav\t\t     S21_Try-To-Recall.wav\r\n",
      "S03_It-Took-Him.wav\t\t     S22_Almost-All-Colleges.wav\r\n",
      "S03_Military-Personnel-Are.wav\t     S22_A-Monstrous-Shadow.wav\r\n",
      "S03_Nothing-Has-Been.wav\t     S22_An-Adult-Male.wav\r\n",
      "S03_Of-Course-Dear.wav\t\t     S22_Any-Organism-That.wav\r\n",
      "S03_Only-The-Most.wav\t\t     S22_Are-You-Looking.wav\r\n",
      "S03_Pam-Gives-Driving.wav\t     S22_Before-Thursdays-Exam.wav\r\n",
      "S03_Ralph-Prepared-Red.wav\t     S22_Carl-Lives-In.wav\r\n",
      "S03_She-Had-Your.wav\t\t     S22_Combine-All-The.wav\r\n",
      "S03_Steve-Collects-Rare.wav\t     S22_Continental-Drift-Is.wav\r\n",
      "S03_The-Moisture-In.wav\t\t     S22_Did-Shawn-Catch.wav\r\n",
      "S03_The-Small-Boy.wav\t\t     S22_Dont-Ask-Me.wav\r\n",
      "S03_The-Surplus-Shoes.wav\t     S22_Gently-Place-Jims.wav\r\n",
      "S03_The-Tooth-Fairy.wav\t\t     S22_Gregory-And-Tom.wav\r\n",
      "S03_They-All-Like.wav\t\t     S22_He-Ate-Four.wav\r\n",
      "S03_They-Enjoy-It.wav\t\t     S22_He-Shrugged-Casually.wav\r\n",
      "S03_They-Were-Already.wav\t     S22_How-Oily-Do.wav\r\n",
      "S03_Those-Answers-Will.wav\t     S22_How-Permanent-Are.wav\r\n",
      "S03_Thus-Technical-Efficiency.wav    S22_In-Every-Major.wav\r\n",
      "S03_Too-Much-Curiosity.wav\t     S22_In-The-Long.wav\r\n",
      "S03_Tradition-Requires-Parental.wav  S22_It-Took-Him.wav\r\n",
      "S03_Try-To-Recall.wav\t\t     S22_Military-Personnel-Are.wav\r\n",
      "S04_Almost-All-Colleges.wav\t     S22_Nothing-Has-Been.wav\r\n",
      "S04_A-Monstrous-Shadow.wav\t     S22_Of-Course-Dear.wav\r\n",
      "S04_An-Adult-Male.wav\t\t     S22_Only-The-Most.wav\r\n",
      "S04_Any-Organism-That.wav\t     S22_Pam-Gives-Driving.wav\r\n",
      "S04_Are-You-Looking.wav\t\t     S22_Ralph-Prepared-Red.wav\r\n",
      "S04_Before-Thursdays-Exam.wav\t     S22_She-Had-Your.wav\r\n",
      "S04_Carl-Lives-In.wav\t\t     S22_Steve-Collects-Rare.wav\r\n",
      "S04_Combine-All-The.wav\t\t     S22_The-Moisture-In.wav\r\n",
      "S04_Continental-Drift-Is.wav\t     S22_The-Small-Boy.wav\r\n",
      "S04_Did-Shawn-Catch.wav\t\t     S22_The-Surplus-Shoes.wav\r\n",
      "S04_Dont-Ask-Me.wav\t\t     S22_The-Tooth-Fairy.wav\r\n",
      "S04_Gently-Place-Jims.wav\t     S22_They-All-Like.wav\r\n",
      "S04_Gregory-And-Tom.wav\t\t     S22_They-Enjoy-It.wav\r\n",
      "S04_He-Ate-Four.wav\t\t     S22_They-Were-Already.wav\r\n",
      "S04_He-Shrugged-Casually.wav\t     S22_Those-Answers-Will.wav\r\n",
      "S04_How-Oily-Do.wav\t\t     S22_Thus-Technical-Efficiency.wav\r\n",
      "S04_How-Permanent-Are.wav\t     S22_Too-Much-Curiosity.wav\r\n",
      "S04_In-Every-Major.wav\t\t     S22_Tradition-Requires-Parental.wav\r\n",
      "S04_In-The-Long.wav\t\t     S22_Try-To-Recall.wav\r\n",
      "S04_It-Took-Him.wav\t\t     S23_Almost-All-Colleges.wav\r\n",
      "S04_Military-Personnel-Are.wav\t     S23_A-Monstrous-Shadow.wav\r\n",
      "S04_Nothing-Has-Been.wav\t     S23_An-Adult-Male.wav\r\n",
      "S04_Of-Course-Dear.wav\t\t     S23_Any-Organism-That.wav\r\n",
      "S04_Only-The-Most.wav\t\t     S23_Are-You-Looking.wav\r\n",
      "S04_Pam-Gives-Driving.wav\t     S23_Before-Thursdays-Exam.wav\r\n",
      "S04_Ralph-Prepared-Red.wav\t     S23_Carl-Lives-In.wav\r\n",
      "S04_She-Had-Your.wav\t\t     S23_Combine-All-The.wav\r\n",
      "S04_Steve-Collects-Rare.wav\t     S23_Continental-Drift-Is.wav\r\n",
      "S04_The-Moisture-In.wav\t\t     S23_Did-Shawn-Catch.wav\r\n",
      "S04_The-Small-Boy.wav\t\t     S23_Dont-Ask-Me.wav\r\n",
      "S04_The-Surplus-Shoes.wav\t     S23_Gently-Place-Jims.wav\r\n",
      "S04_The-Tooth-Fairy.wav\t\t     S23_Gregory-And-Tom.wav\r\n",
      "S04_They-All-Like.wav\t\t     S23_He-Ate-Four.wav\r\n",
      "S04_They-Enjoy-It.wav\t\t     S23_He-Shrugged-Casually.wav\r\n",
      "S04_They-Were-Already.wav\t     S23_How-Oily-Do.wav\r\n",
      "S04_Those-Answers-Will.wav\t     S23_How-Permanent-Are.wav\r\n",
      "S04_Thus-Technical-Efficiency.wav    S23_In-Every-Major.wav\r\n",
      "S04_Too-Much-Curiosity.wav\t     S23_In-The-Long.wav\r\n",
      "S04_Tradition-Requires-Parental.wav  S23_It-Took-Him.wav\r\n",
      "S04_Try-To-Recall.wav\t\t     S23_Military-Personnel-Are.wav\r\n",
      "S05_Almost-All-Colleges.wav\t     S23_Nothing-Has-Been.wav\r\n",
      "S05_A-Monstrous-Shadow.wav\t     S23_Of-Course-Dear.wav\r\n",
      "S05_An-Adult-Male.wav\t\t     S23_Only-The-Most.wav\r\n",
      "S05_Any-Organism-That.wav\t     S23_Pam-Gives-Driving.wav\r\n",
      "S05_Are-You-Looking.wav\t\t     S23_Ralph-Prepared-Red.wav\r\n",
      "S05_Before-Thursdays-Exam.wav\t     S23_She-Had-Your.wav\r\n",
      "S05_Carl-Lives-In.wav\t\t     S23_Steve-Collects-Rare.wav\r\n",
      "S05_Combine-All-The.wav\t\t     S23_The-Moisture-In.wav\r\n",
      "S05_Continental-Drift-Is.wav\t     S23_The-Small-Boy.wav\r\n",
      "S05_Did-Shawn-Catch.wav\t\t     S23_The-Surplus-Shoes.wav\r\n",
      "S05_Dont-Ask-Me.wav\t\t     S23_The-Tooth-Fairy.wav\r\n",
      "S05_Gently-Place-Jims.wav\t     S23_They-All-Like.wav\r\n",
      "S05_Gregory-And-Tom.wav\t\t     S23_They-Enjoy-It.wav\r\n",
      "S05_He-Ate-Four.wav\t\t     S23_They-Were-Already.wav\r\n",
      "S05_He-Shrugged-Casually.wav\t     S23_Those-Answers-Will.wav\r\n",
      "S05_How-Oily-Do.wav\t\t     S23_Thus-Technical-Efficiency.wav\r\n",
      "S05_How-Permanent-Are.wav\t     S23_Too-Much-Curiosity.wav\r\n",
      "S05_In-Every-Major.wav\t\t     S23_Tradition-Requires-Parental.wav\r\n",
      "S05_In-The-Long.wav\t\t     S23_Try-To-Recall.wav\r\n",
      "S05_It-Took-Him.wav\t\t     S24_Almost-All-Colleges.wav\r\n",
      "S05_Military-Personnel-Are.wav\t     S24_A-Monstrous-Shadow.wav\r\n",
      "S05_Nothing-Has-Been.wav\t     S24_An-Adult-Male.wav\r\n",
      "S05_Of-Course-Dear.wav\t\t     S24_Any-Organism-That.wav\r\n",
      "S05_Only-The-Most.wav\t\t     S24_Are-You-Looking.wav\r\n",
      "S05_Pam-Gives-Driving.wav\t     S24_Before-Thursdays-Exam.wav\r\n",
      "S05_Ralph-Prepared-Red.wav\t     S24_Carl-Lives-In.wav\r\n",
      "S05_She-Had-Your.wav\t\t     S24_Combine-All-The.wav\r\n",
      "S05_Steve-Collects-Rare.wav\t     S24_Continental-Drift-Is.wav\r\n",
      "S05_The-Moisture-In.wav\t\t     S24_Did-Shawn-Catch.wav\r\n",
      "S05_The-Small-Boy.wav\t\t     S24_Dont-Ask-Me.wav\r\n",
      "S05_The-Surplus-Shoes.wav\t     S24_Gently-Place-Jims.wav\r\n",
      "S05_The-Tooth-Fairy.wav\t\t     S24_Gregory-And-Tom.wav\r\n",
      "S05_They-All-Like.wav\t\t     S24_He-Ate-Four.wav\r\n",
      "S05_They-Enjoy-It.wav\t\t     S24_He-Shrugged-Casually.wav\r\n",
      "S05_They-Were-Already.wav\t     S24_How-Oily-Do.wav\r\n",
      "S05_Those-Answers-Will.wav\t     S24_How-Permanent-Are.wav\r\n",
      "S05_Thus-Technical-Efficiency.wav    S24_In-Every-Major.wav\r\n",
      "S05_Too-Much-Curiosity.wav\t     S24_In-The-Long.wav\r\n",
      "S05_Tradition-Requires-Parental.wav  S24_It-Took-Him.wav\r\n",
      "S05_Try-To-Recall.wav\t\t     S24_Military-Personnel-Are.wav\r\n",
      "S07_Almost-All-Colleges.wav\t     S24_Nothing-Has-Been.wav\r\n",
      "S07_A-Monstrous-Shadow.wav\t     S24_Of-Course-Dear.wav\r\n",
      "S07_An-Adult-Male.wav\t\t     S24_Only-The-Most.wav\r\n",
      "S07_Any-Organism-That.wav\t     S24_Pam-Gives-Driving.wav\r\n",
      "S07_Are-You-Looking.wav\t\t     S24_Ralph-Prepared-Red.wav\r\n",
      "S07_Before-Thursdays-Exam.wav\t     S24_She-Had-Your.wav\r\n",
      "S07_Carl-Lives-In.wav\t\t     S24_Steve-Collects-Rare.wav\r\n",
      "S07_Combine-All-The.wav\t\t     S24_The-Moisture-In.wav\r\n",
      "S07_Continental-Drift-Is.wav\t     S24_The-Small-Boy.wav\r\n",
      "S07_Did-Shawn-Catch.wav\t\t     S24_The-Surplus-Shoes.wav\r\n",
      "S07_Dont-Ask-Me.wav\t\t     S24_The-Tooth-Fairy.wav\r\n",
      "S07_Gently-Place-Jims.wav\t     S24_They-All-Like.wav\r\n",
      "S07_Gregory-And-Tom.wav\t\t     S24_They-Enjoy-It.wav\r\n",
      "S07_He-Ate-Four.wav\t\t     S24_They-Were-Already.wav\r\n",
      "S07_He-Shrugged-Casually.wav\t     S24_Those-Answers-Will.wav\r\n",
      "S07_How-Oily-Do.wav\t\t     S24_Thus-Technical-Efficiency.wav\r\n",
      "S07_How-Permanent-Are.wav\t     S24_Too-Much-Curiosity.wav\r\n",
      "S07_In-Every-Major.wav\t\t     S24_Tradition-Requires-Parental.wav\r\n",
      "S07_In-The-Long.wav\t\t     S24_Try-To-Recall.wav\r\n",
      "S07_It-Took-Him.wav\t\t     S25_Almost-All-Colleges.wav\r\n",
      "S07_Military-Personnel-Are.wav\t     S25_A-Monstrous-Shadow.wav\r\n",
      "S07_Nothing-Has-Been.wav\t     S25_An-Adult-Male.wav\r\n",
      "S07_Of-Course-Dear.wav\t\t     S25_Any-Organism-That.wav\r\n",
      "S07_Only-The-Most.wav\t\t     S25_Are-You-Looking.wav\r\n",
      "S07_Pam-Gives-Driving.wav\t     S25_Before-Thursdays-Exam.wav\r\n",
      "S07_Ralph-Prepared-Red.wav\t     S25_Carl-Lives-In.wav\r\n",
      "S07_She-Had-Your.wav\t\t     S25_Combine-All-The.wav\r\n",
      "S07_Steve-Collects-Rare.wav\t     S25_Continental-Drift-Is.wav\r\n",
      "S07_The-Moisture-In.wav\t\t     S25_Did-Shawn-Catch.wav\r\n",
      "S07_The-Small-Boy.wav\t\t     S25_Dont-Ask-Me.wav\r\n",
      "S07_The-Surplus-Shoes.wav\t     S25_Gently-Place-Jims.wav\r\n",
      "S07_The-Tooth-Fairy.wav\t\t     S25_Gregory-And-Tom.wav\r\n",
      "S07_They-All-Like.wav\t\t     S25_He-Ate-Four.wav\r\n",
      "S07_They-Enjoy-It.wav\t\t     S25_He-Shrugged-Casually.wav\r\n",
      "S07_They-Were-Already.wav\t     S25_How-Oily-Do.wav\r\n",
      "S07_Those-Answers-Will.wav\t     S25_How-Permanent-Are.wav\r\n",
      "S07_Thus-Technical-Efficiency.wav    S25_In-Every-Major.wav\r\n",
      "S07_Too-Much-Curiosity.wav\t     S25_In-The-Long.wav\r\n",
      "S07_Tradition-Requires-Parental.wav  S25_It-Took-Him.wav\r\n",
      "S07_Try-To-Recall.wav\t\t     S25_Military-Personnel-Are.wav\r\n",
      "S08_Almost-All-Colleges.wav\t     S25_Nothing-Has-Been.wav\r\n",
      "S08_A-Monstrous-Shadow.wav\t     S25_Of-Course-Dear.wav\r\n",
      "S08_An-Adult-Male.wav\t\t     S25_Only-The-Most.wav\r\n",
      "S08_Any-Organism-That.wav\t     S25_Pam-Gives-Driving.wav\r\n",
      "S08_Are-You-Looking.wav\t\t     S25_Ralph-Prepared-Red.wav\r\n",
      "S08_Before-Thursdays-Exam.wav\t     S25_She-Had-Your.wav\r\n",
      "S08_Carl-Lives-In.wav\t\t     S25_Steve-Collects-Rare.wav\r\n",
      "S08_Combine-All-The.wav\t\t     S25_The-Moisture-In.wav\r\n",
      "S08_Continental-Drift-Is.wav\t     S25_The-Small-Boy.wav\r\n",
      "S08_Did-Shawn-Catch.wav\t\t     S25_The-Surplus-Shoes.wav\r\n",
      "S08_Dont-Ask-Me.wav\t\t     S25_The-Tooth-Fairy.wav\r\n",
      "S08_Gently-Place-Jims.wav\t     S25_They-All-Like.wav\r\n",
      "S08_Gregory-And-Tom.wav\t\t     S25_They-Enjoy-It.wav\r\n",
      "S08_He-Ate-Four.wav\t\t     S25_They-Were-Already.wav\r\n",
      "S08_He-Shrugged-Casually.wav\t     S25_Those-Answers-Will.wav\r\n",
      "S08_How-Oily-Do.wav\t\t     S25_Thus-Technical-Efficiency.wav\r\n",
      "S08_How-Permanent-Are.wav\t     S25_Too-Much-Curiosity.wav\r\n",
      "S08_In-Every-Major.wav\t\t     S25_Tradition-Requires-Parental.wav\r\n",
      "S08_In-The-Long.wav\t\t     S25_Try-To-Recall.wav\r\n",
      "S08_It-Took-Him.wav\t\t     S26_Almost-All-Colleges.wav\r\n",
      "S08_Military-Personnel-Are.wav\t     S26_A-Monstrous-Shadow.wav\r\n",
      "S08_Nothing-Has-Been.wav\t     S26_An-Adult-Male.wav\r\n",
      "S08_Of-Course-Dear.wav\t\t     S26_Any-Organism-That.wav\r\n",
      "S08_Only-The-Most.wav\t\t     S26_Are-You-Looking.wav\r\n",
      "S08_Pam-Gives-Driving.wav\t     S26_Before-Thursdays-Exam.wav\r\n",
      "S08_Ralph-Prepared-Red.wav\t     S26_Carl-Lives-In.wav\r\n",
      "S08_She-Had-Your.wav\t\t     S26_Combine-All-The.wav\r\n",
      "S08_Steve-Collects-Rare.wav\t     S26_Continental-Drift-Is.wav\r\n",
      "S08_The-Moisture-In.wav\t\t     S26_Did-Shawn-Catch.wav\r\n",
      "S08_The-Small-Boy.wav\t\t     S26_Dont-Ask-Me.wav\r\n",
      "S08_The-Surplus-Shoes.wav\t     S26_Gently-Place-Jims.wav\r\n",
      "S08_The-Tooth-Fairy.wav\t\t     S26_Gregory-And-Tom.wav\r\n",
      "S08_They-All-Like.wav\t\t     S26_He-Ate-Four.wav\r\n",
      "S08_They-Enjoy-It.wav\t\t     S26_He-Shrugged-Casually.wav\r\n",
      "S08_They-Were-Already.wav\t     S26_How-Oily-Do.wav\r\n",
      "S08_Those-Answers-Will.wav\t     S26_How-Permanent-Are.wav\r\n",
      "S08_Thus-Technical-Efficiency.wav    S26_In-Every-Major.wav\r\n",
      "S08_Too-Much-Curiosity.wav\t     S26_In-The-Long.wav\r\n",
      "S08_Tradition-Requires-Parental.wav  S26_It-Took-Him.wav\r\n",
      "S08_Try-To-Recall.wav\t\t     S26_Military-Personnel-Are.wav\r\n",
      "S09_Almost-All-Colleges.wav\t     S26_Nothing-Has-Been.wav\r\n",
      "S09_A-Monstrous-Shadow.wav\t     S26_Of-Course-Dear.wav\r\n",
      "S09_An-Adult-Male.wav\t\t     S26_Only-The-Most.wav\r\n",
      "S09_Any-Organism-That.wav\t     S26_Pam-Gives-Driving.wav\r\n",
      "S09_Are-You-Looking.wav\t\t     S26_Ralph-Prepared-Red.wav\r\n",
      "S09_Before-Thursdays-Exam.wav\t     S26_She-Had-Your.wav\r\n",
      "S09_Carl-Lives-In.wav\t\t     S26_Steve-Collects-Rare.wav\r\n",
      "S09_Combine-All-The.wav\t\t     S26_The-Moisture-In.wav\r\n",
      "S09_Continental-Drift-Is.wav\t     S26_The-Small-Boy.wav\r\n",
      "S09_Did-Shawn-Catch.wav\t\t     S26_The-Surplus-Shoes.wav\r\n",
      "S09_Dont-Ask-Me.wav\t\t     S26_The-Tooth-Fairy.wav\r\n",
      "S09_Gently-Place-Jims.wav\t     S26_They-All-Like.wav\r\n",
      "S09_Gregory-And-Tom.wav\t\t     S26_They-Enjoy-It.wav\r\n",
      "S09_He-Ate-Four.wav\t\t     S26_They-Were-Already.wav\r\n",
      "S09_He-Shrugged-Casually.wav\t     S26_Those-Answers-Will.wav\r\n",
      "S09_How-Oily-Do.wav\t\t     S26_Thus-Technical-Efficiency.wav\r\n",
      "S09_How-Permanent-Are.wav\t     S26_Too-Much-Curiosity.wav\r\n",
      "S09_In-Every-Major.wav\t\t     S26_Tradition-Requires-Parental.wav\r\n",
      "S09_In-The-Long.wav\t\t     S26_Try-To-Recall.wav\r\n",
      "S09_It-Took-Him.wav\t\t     S28_Almost-All-Colleges.wav\r\n",
      "S09_Military-Personnel-Are.wav\t     S28_A-Monstrous-Shadow.wav\r\n",
      "S09_Nothing-Has-Been.wav\t     S28_An-Adult-Male.wav\r\n",
      "S09_Of-Course-Dear.wav\t\t     S28_Any-Organism-That.wav\r\n",
      "S09_Only-The-Most.wav\t\t     S28_Are-You-Looking.wav\r\n",
      "S09_Pam-Gives-Driving.wav\t     S28_Before-Thursdays-Exam.wav\r\n",
      "S09_Ralph-Prepared-Red.wav\t     S28_Carl-Lives-In.wav\r\n",
      "S09_She-Had-Your.wav\t\t     S28_Combine-All-The.wav\r\n",
      "S09_Steve-Collects-Rare.wav\t     S28_Continental-Drift-Is.wav\r\n",
      "S09_The-Moisture-In.wav\t\t     S28_Did-Shawn-Catch.wav\r\n",
      "S09_The-Small-Boy.wav\t\t     S28_Dont-Ask-Me.wav\r\n",
      "S09_The-Surplus-Shoes.wav\t     S28_Gently-Place-Jims.wav\r\n",
      "S09_The-Tooth-Fairy.wav\t\t     S28_Gregory-And-Tom.wav\r\n",
      "S09_They-All-Like.wav\t\t     S28_He-Ate-Four.wav\r\n",
      "S09_They-Enjoy-It.wav\t\t     S28_He-Shrugged-Casually.wav\r\n",
      "S09_They-Were-Already.wav\t     S28_How-Oily-Do.wav\r\n",
      "S09_Those-Answers-Will.wav\t     S28_How-Permanent-Are.wav\r\n",
      "S09_Thus-Technical-Efficiency.wav    S28_In-Every-Major.wav\r\n",
      "S09_Too-Much-Curiosity.wav\t     S28_In-The-Long.wav\r\n",
      "S09_Tradition-Requires-Parental.wav  S28_It-Took-Him.wav\r\n",
      "S09_Try-To-Recall.wav\t\t     S28_Military-Personnel-Are.wav\r\n",
      "S19_Almost-All-Colleges.wav\t     S28_Nothing-Has-Been.wav\r\n",
      "S19_A-Monstrous-Shadow.wav\t     S28_Of-Course-Dear.wav\r\n",
      "S19_An-Adult-Male.wav\t\t     S28_Only-The-Most.wav\r\n",
      "S19_Any-Organism-That.wav\t     S28_Pam-Gives-Driving.wav\r\n",
      "S19_Are-You-Looking.wav\t\t     S28_Ralph-Prepared-Red.wav\r\n",
      "S19_Before-Thursdays-Exam.wav\t     S28_She-Had-Your.wav\r\n",
      "S19_Carl-Lives-In.wav\t\t     S28_Steve-Collects-Rare.wav\r\n",
      "S19_Combine-All-The.wav\t\t     S28_The-Moisture-In.wav\r\n",
      "S19_Continental-Drift-Is.wav\t     S28_The-Small-Boy.wav\r\n",
      "S19_Did-Shawn-Catch.wav\t\t     S28_The-Surplus-Shoes.wav\r\n",
      "S19_Dont-Ask-Me.wav\t\t     S28_The-Tooth-Fairy.wav\r\n",
      "S19_Gently-Place-Jims.wav\t     S28_They-All-Like.wav\r\n",
      "S19_Gregory-And-Tom.wav\t\t     S28_They-Enjoy-It.wav\r\n",
      "S19_He-Ate-Four.wav\t\t     S28_They-Were-Already.wav\r\n",
      "S19_He-Shrugged-Casually.wav\t     S28_Those-Answers-Will.wav\r\n",
      "S19_How-Oily-Do.wav\t\t     S28_Thus-Technical-Efficiency.wav\r\n",
      "S19_How-Permanent-Are.wav\t     S28_Too-Much-Curiosity.wav\r\n",
      "S19_In-Every-Major.wav\t\t     S28_Tradition-Requires-Parental.wav\r\n",
      "S19_In-The-Long.wav\t\t     S28_Try-To-Recall.wav\r\n",
      "S19_It-Took-Him.wav\r\n"
     ]
    }
   ],
   "source": [
    "!ls ../audio/wavs"
   ]
  },
  {
   "cell_type": "markdown",
   "metadata": {
    "colab_type": "text",
    "id": "8dPlvT3kkH67"
   },
   "source": [
    "### Check wav files"
   ]
  },
  {
   "cell_type": "code",
   "execution_count": 8,
   "metadata": {
    "colab": {},
    "colab_type": "code",
    "id": "6rbHW-B6kJy8"
   },
   "outputs": [
    {
     "name": "stdout",
     "output_type": "stream",
     "text": [
      "['S09_He-Ate-Four.wav', 'S26_Those-Answers-Will.wav', 'S28_Try-To-Recall.wav', 'S03_Thus-Technical-Efficiency.wav', 'S25_Try-To-Recall.wav', 'S02_A-Monstrous-Shadow.wav', 'S21_A-Monstrous-Shadow.wav', 'S04_The-Small-Boy.wav', 'S28_Gently-Place-Jims.wav', 'S21_Military-Personnel-Are.wav']\n"
     ]
    }
   ],
   "source": [
    "audio_path = '../audio/wavs/'\n",
    "print(os.listdir(audio_path)[:10])"
   ]
  },
  {
   "cell_type": "markdown",
   "metadata": {},
   "source": [
    "### Extract mel-spectrogram and mfcc features"
   ]
  },
  {
   "cell_type": "code",
   "execution_count": 9,
   "metadata": {},
   "outputs": [],
   "source": [
    "wav2idx = {}\n",
    "melspec_dict = {}\n",
    "mfcc_dict = {}\n",
    "\n",
    "wav_names = [wav for wav in os.listdir(audio_path) if wav.endswith(\"wav\")]\n",
    "\n",
    "samples = 132300\n",
    "max_len = 0\n",
    "\n",
    "for i, w in enumerate(wav_names):\n",
    "    wav2idx[w] = i\n",
    "    wav_path = audio_path + w\n",
    "    \n",
    "    y, sr = librosa.load(wav_path) \n",
    "    \n",
    "#     sample = sr * 5\n",
    "    \n",
    "    if 0 < len(y): # workaround: 0 length causes error\n",
    "        y, _ = librosa.effects.trim(y)\n",
    "\n",
    "    if len(y) > samples: # long enough\n",
    "        y = y[0:0+samples]\n",
    "\n",
    "    else: # pad blank\n",
    "        padding = samples - len(y)\n",
    "        offset = padding // 2\n",
    "        y = np.pad(y, (offset, samples - len(y) - offset), 'constant')\n",
    "    \n",
    "    \n",
    "    mel_data = librosa.feature.melspectrogram(y = y, sr= sr)\n",
    "    mfcc_data = librosa.feature.mfcc(y = y, sr = sr, n_mfcc = 13)\n",
    "    mfcc_delta = librosa.feature.delta(mfcc_data)\n",
    "    mfcc_delta2 = librosa.feature.delta(mfcc_data, order = 2)\n",
    "\n",
    "    mfcc = np.vstack((mfcc_data, mfcc_delta, mfcc_delta2))\n",
    "#     if (np.shape(mel_data)[1] > max_len):\n",
    "#         max_len = np.shape(mel_data)[1] \n",
    "    \n",
    "    melspec_dict[i] = mel_data\n",
    "    mfcc_dict[i] = mfcc"
   ]
  },
  {
   "cell_type": "markdown",
   "metadata": {},
   "source": [
    "### Check the shape"
   ]
  },
  {
   "cell_type": "code",
   "execution_count": 10,
   "metadata": {},
   "outputs": [
    {
     "name": "stdout",
     "output_type": "stream",
     "text": [
      "0\n",
      "110250\n",
      "(128, 259)\n",
      "(128, 259)\n",
      "(128, 259)\n",
      "(128, 259)\n",
      "(128, 259)\n",
      "(128, 259)\n",
      "(128, 259)\n",
      "(128, 259)\n",
      "(128, 259)\n",
      "(128, 259)\n"
     ]
    }
   ],
   "source": [
    "print(max_len)\n",
    "print(sr * 5)\n",
    "for i in list(melspec_dict.keys())[:10]:\n",
    "    print(melspec_dict[i].shape)"
   ]
  },
  {
   "cell_type": "code",
   "execution_count": 11,
   "metadata": {},
   "outputs": [],
   "source": [
    "with open(\"../data/fluency_data.csv\", \"r\") as f:\n",
    "    data = f.readlines()"
   ]
  },
  {
   "cell_type": "code",
   "execution_count": 14,
   "metadata": {},
   "outputs": [
    {
     "name": "stdout",
     "output_type": "stream",
     "text": [
      "(11100, 39, 259)\n",
      "(11100,)\n"
     ]
    }
   ],
   "source": [
    "X = []\n",
    "Y = []\n",
    "X_wav = []\n",
    "\n",
    "zeros = np.zeros(128)\n",
    "for i in range(1, len(data)):\n",
    "    line = data[i].rstrip()\n",
    "    \n",
    "    accented, stim, wav_name = line.split(\",\")\n",
    "    wav_idx = wav2idx[wav_name]\n",
    "    X_wav.append(wav_idx)\n",
    "    \n",
    "#     x = np.zeros(shape = (128, max_len))\n",
    "    # x_data = np.vstack((melspec_dict[wav_idx],mfcc_dict[wav_idx]))\n",
    "    x_data = mfcc_dict[wav_idx]\n",
    "\n",
    "#     print(np.shape(x), np.shape(x_data))\n",
    "    \n",
    "#     for i in range(0, np.shape(x_data)[0]):\n",
    "#         for j in range(0, np.shape(x_data)[1]):\n",
    "#             x[i][j] = x_data[i][j]\n",
    "    \n",
    "    X.append(x_data)\n",
    "    Y.append(int(accented)-1)\n",
    "\n",
    "print(np.shape(X))\n",
    "print(np.shape(Y))"
   ]
  },
  {
   "cell_type": "code",
   "execution_count": 17,
   "metadata": {},
   "outputs": [
    {
     "name": "stdout",
     "output_type": "stream",
     "text": [
      "KFold(n_splits=10, random_state=None, shuffle=False)\n"
     ]
    }
   ],
   "source": [
    "kf = KFold(n_splits = 10)\n",
    "kf.get_n_splits(X)\n",
    "\n",
    "print(kf)"
   ]
  },
  {
   "cell_type": "code",
   "execution_count": 29,
   "metadata": {},
   "outputs": [
    {
     "name": "stdout",
     "output_type": "stream",
     "text": [
      "(11100, 39, 259)\n",
      "(11100,)\n"
     ]
    }
   ],
   "source": [
    "# reshape\n",
    "X = np.array(X)\n",
    "X_wav = np.array(X_wav)\n",
    "print(np.shape(X))\n",
    "print(np.shape(X_wav))"
   ]
  },
  {
   "cell_type": "code",
   "execution_count": 30,
   "metadata": {},
   "outputs": [
    {
     "name": "stdout",
     "output_type": "stream",
     "text": [
      "TRAIN:  [299  55 356 ... 497 577 529]\n",
      "TRAIN:  [400 363 111 ... 497 577 529]\n",
      "TRAIN:  [400 363 111 ... 497 577 529]\n",
      "TRAIN:  [400 363 111 ... 497 577 529]\n",
      "TRAIN:  [400 363 111 ... 497 577 529]\n",
      "TRAIN:  [400 363 111 ... 497 577 529]\n",
      "TRAIN:  [400 363 111 ... 497 577 529]\n",
      "TRAIN:  [400 363 111 ... 497 577 529]\n",
      "TRAIN:  [400 363 111 ... 497 577 529]\n",
      "TRAIN:  [400 363 111 ... 580 130 340]\n"
     ]
    }
   ],
   "source": [
    "for train_index, test_index in kf.split(X):\n",
    "    print(\"TRAIN: \", X_wav[train_index])\n",
    "    # print(\"TEST: \", X[test_index])"
   ]
  },
  {
   "cell_type": "code",
   "execution_count": 19,
   "metadata": {},
   "outputs": [],
   "source": [
    "# hyperparameters\n",
    "lr = 0.001\n",
    "batch_size = 64\n",
    "drop_out_rate = 0.25\n",
    "num_dense_unit = 256\n",
    "num_epochs = 50\n",
    "\n",
    "num_mel = np.shape(X)[1]\n",
    "max_time = np.shape(X)[2]"
   ]
  },
  {
   "cell_type": "code",
   "execution_count": 20,
   "metadata": {},
   "outputs": [
    {
     "name": "stdout",
     "output_type": "stream",
     "text": [
      "WARNING:tensorflow:From /home/seongjinpark/.conda/envs/pytorch/lib/python3.7/site-packages/keras/backend/tensorflow_backend.py:74: The name tf.get_default_graph is deprecated. Please use tf.compat.v1.get_default_graph instead.\n",
      "\n",
      "WARNING:tensorflow:From /home/seongjinpark/.conda/envs/pytorch/lib/python3.7/site-packages/keras/backend/tensorflow_backend.py:3445: calling dropout (from tensorflow.python.ops.nn_ops) with keep_prob is deprecated and will be removed in a future version.\n",
      "Instructions for updating:\n",
      "Please use `rate` instead of `keep_prob`. Rate should be set to `rate = 1 - keep_prob`.\n",
      "WARNING:tensorflow:From /home/seongjinpark/.conda/envs/pytorch/lib/python3.7/site-packages/keras/optimizers.py:790: The name tf.train.Optimizer is deprecated. Please use tf.compat.v1.train.Optimizer instead.\n",
      "\n",
      "_________________________________________________________________\n",
      "Layer (type)                 Output Shape              Param #   \n",
      "=================================================================\n",
      "bidirectional_1 (Bidirection (None, 39, 1024)          3162112   \n",
      "_________________________________________________________________\n",
      "bidirectional_2 (Bidirection (None, 1024)              6295552   \n",
      "_________________________________________________________________\n",
      "dropout_1 (Dropout)          (None, 1024)              0         \n",
      "_________________________________________________________________\n",
      "dense_1 (Dense)              (None, 256)               262400    \n",
      "_________________________________________________________________\n",
      "dense_2 (Dense)              (None, 128)               32896     \n",
      "_________________________________________________________________\n",
      "dense_3 (Dense)              (None, 1)                 129       \n",
      "=================================================================\n",
      "Total params: 9,753,089\n",
      "Trainable params: 9,753,089\n",
      "Non-trainable params: 0\n",
      "_________________________________________________________________\n"
     ]
    }
   ],
   "source": [
    "input_shape = (num_mel, max_time)\n",
    "\n",
    "model = Sequential()\n",
    "\n",
    "model.add(Bidirectional(LSTM(512, return_sequences=True), input_shape = (num_mel, max_time)))\n",
    "model.add(Bidirectional(LSTM(512)))\n",
    "model.add(Dropout(drop_out_rate))\n",
    "model.add(Dense(num_dense_unit))\n",
    "model.add(Dense(128))\n",
    "model.add(Dense(1, activation='linear'))\n",
    "\n",
    "# use adam optimizer\n",
    "adam = keras.optimizers.Adam(lr = lr)\n",
    "\n",
    "# compile the model\n",
    "model.compile(optimizer=adam, loss=\"mse\", metrics=[\"mse\"])\n",
    "\n",
    "model.summary()"
   ]
  },
  {
   "cell_type": "code",
   "execution_count": 32,
   "metadata": {},
   "outputs": [],
   "source": [
    "from datetime import datetime\n",
    "logdir = \"logs/scalars/CV\" + datetime.now().strftime(\"%Y%m%d-%H%M%S\")\n",
    "tensorboard_callback = keras.callbacks.TensorBoard(log_dir=logdir)"
   ]
  },
  {
   "cell_type": "code",
   "execution_count": 24,
   "metadata": {},
   "outputs": [],
   "source": [
    "CV_mse = []\n",
    "CV_histories = []\n",
    "CV_prediction = []"
   ]
  },
  {
   "cell_type": "code",
   "execution_count": null,
   "metadata": {},
   "outputs": [
    {
     "name": "stdout",
     "output_type": "stream",
     "text": [
      "Train on 9990 samples, validate on 1110 samples\n",
      "Epoch 1/40\n",
      "9990/9990 [==============================] - 22s 2ms/step - loss: 3.9783e-05 - mean_squared_error: 3.9783e-05 - val_loss: 1.1020e-05 - val_mean_squared_error: 1.1020e-05\n",
      "Epoch 2/40\n",
      "9990/9990 [==============================] - 22s 2ms/step - loss: 2.2530e-05 - mean_squared_error: 2.2530e-05 - val_loss: 5.0462e-06 - val_mean_squared_error: 5.0462e-06\n",
      "Epoch 3/40\n",
      "9990/9990 [==============================] - 22s 2ms/step - loss: 1.4725e-05 - mean_squared_error: 1.4725e-05 - val_loss: 4.6931e-06 - val_mean_squared_error: 4.6931e-06\n",
      "Epoch 4/40\n",
      "9990/9990 [==============================] - 23s 2ms/step - loss: 1.0947e-05 - mean_squared_error: 1.0947e-05 - val_loss: 3.5138e-06 - val_mean_squared_error: 3.5138e-06\n",
      "Epoch 5/40\n",
      "9990/9990 [==============================] - 24s 2ms/step - loss: 8.3729e-06 - mean_squared_error: 8.3729e-06 - val_loss: 2.8403e-06 - val_mean_squared_error: 2.8403e-06\n",
      "Epoch 6/40\n",
      "9990/9990 [==============================] - 23s 2ms/step - loss: 6.0534e-06 - mean_squared_error: 6.0534e-06 - val_loss: 1.4505e-06 - val_mean_squared_error: 1.4505e-06\n",
      "Epoch 7/40\n",
      "9990/9990 [==============================] - 23s 2ms/step - loss: 4.6168e-06 - mean_squared_error: 4.6168e-06 - val_loss: 2.1889e-06 - val_mean_squared_error: 2.1889e-06\n",
      "Epoch 8/40\n",
      "9990/9990 [==============================] - 23s 2ms/step - loss: 3.8818e-06 - mean_squared_error: 3.8818e-06 - val_loss: 1.4325e-06 - val_mean_squared_error: 1.4325e-06\n",
      "Epoch 9/40\n",
      "9990/9990 [==============================] - 23s 2ms/step - loss: 2.9573e-06 - mean_squared_error: 2.9573e-06 - val_loss: 1.1090e-06 - val_mean_squared_error: 1.1090e-06\n",
      "Epoch 10/40\n",
      "9990/9990 [==============================] - 23s 2ms/step - loss: 2.5419e-06 - mean_squared_error: 2.5419e-06 - val_loss: 1.2328e-06 - val_mean_squared_error: 1.2328e-06\n",
      "Epoch 11/40\n",
      "9990/9990 [==============================] - 23s 2ms/step - loss: 2.4623e-06 - mean_squared_error: 2.4623e-06 - val_loss: 1.2159e-06 - val_mean_squared_error: 1.2159e-06\n",
      "Epoch 12/40\n",
      "9990/9990 [==============================] - 23s 2ms/step - loss: 1.9437e-06 - mean_squared_error: 1.9437e-06 - val_loss: 1.2035e-06 - val_mean_squared_error: 1.2035e-06\n",
      "Epoch 13/40\n",
      "9990/9990 [==============================] - 24s 2ms/step - loss: 3.0130e-06 - mean_squared_error: 3.0130e-06 - val_loss: 1.1480e-06 - val_mean_squared_error: 1.1480e-06\n",
      "Epoch 14/40\n",
      "9990/9990 [==============================] - 23s 2ms/step - loss: 5.9021e-06 - mean_squared_error: 5.9021e-06 - val_loss: 2.4801e-06 - val_mean_squared_error: 2.4801e-06\n",
      "Epoch 15/40\n",
      "9990/9990 [==============================] - 23s 2ms/step - loss: 1.9560e-06 - mean_squared_error: 1.9560e-06 - val_loss: 5.4663e-07 - val_mean_squared_error: 5.4663e-07\n",
      "Epoch 16/40\n",
      "9990/9990 [==============================] - 22s 2ms/step - loss: 3.6756e-06 - mean_squared_error: 3.6756e-06 - val_loss: 1.1230e-06 - val_mean_squared_error: 1.1230e-06\n",
      "Epoch 17/40\n",
      "9990/9990 [==============================] - 23s 2ms/step - loss: 5.4592e-06 - mean_squared_error: 5.4592e-06 - val_loss: 1.9990e-06 - val_mean_squared_error: 1.9990e-06\n",
      "Epoch 18/40\n",
      "8576/9990 [========================>.....] - ETA: 3s - loss: 4.1802e-06 - mean_squared_error: 4.1802e-06"
     ]
    }
   ],
   "source": [
    "num_epochs = 40\n",
    "\n",
    "cv_idx = 1\n",
    "for train_index, test_index in kf.split(X):\n",
    "    X_train, X_test = X[train_index], X[test_index]\n",
    "    X_train_wav, X_test_wav = X_wav[train_index], X_wav[test_index]\n",
    "    y_train, y_test = y[train_index], y[test_index]\n",
    "    \n",
    "    history = model.fit(X_train, y_train, batch_size = batch_size, epochs = num_epochs, shuffle = False,\n",
    "                       class_weight = None, verbose = 1, validation_data = (X_test, y_test), \n",
    "                       callbacks = [tensorboard_callback])\n",
    "    cv_histories.append(history)\n",
    "    scores = model.evaluate(X_test, y_test, verbose=0)\n",
    "    CV_mse.append(scores[1])\n",
    "    y_prediction = model.predict(X_test)\n",
    "    \n",
    "    for i in range(len(y_test)):\n",
    "        result = \"%d\\t%s\\t%d\\t%f\\n\" % (cv_idx, wav_names[X_wav_test[i]], y_test[i], y_prediction[i][0])\n",
    "        CV_prediction.append(result)\n",
    "    \n",
    "    cv_idx += 1"
   ]
  },
  {
   "cell_type": "code",
   "execution_count": 102,
   "metadata": {},
   "outputs": [
    {
     "name": "stdout",
     "output_type": "stream",
     "text": [
      "MSE: 1.15672\n"
     ]
    }
   ],
   "source": [
    "# Final evaluation of the model\n",
    "scores = model.evaluate(X_test, y_test, verbose=0)\n",
    "print(\"MSE: %.5f\" % (scores[1]))"
   ]
  },
  {
   "cell_type": "markdown",
   "metadata": {},
   "source": [
    "### Plot the training process"
   ]
  },
  {
   "cell_type": "code",
   "execution_count": 48,
   "metadata": {},
   "outputs": [
    {
     "data": {
      "image/png": "[encoded data removed]",
      "text/plain": [
       "<Figure size 432x288 with 1 Axes>"
      ]
     },
     "metadata": {
      "needs_background": "light"
     },
     "output_type": "display_data"
    }
   ],
   "source": [
    "# summarize history for loss\n",
    "plt.plot(history.history['loss'])\n",
    "plt.plot(history.history['val_loss'])\n",
    "plt.title('model loss')\n",
    "plt.ylabel('loss')\n",
    "plt.xlabel('epoch')\n",
    "plt.legend(['train', 'test'], loc='upper left')\n",
    "plt.show()"
   ]
  },
  {
   "cell_type": "markdown",
   "metadata": {},
   "source": [
    "The result looks like the model gets stable after 20 epochs"
   ]
  },
  {
   "cell_type": "code",
   "execution_count": 103,
   "metadata": {},
   "outputs": [],
   "source": [
    "y_prediction = model.predict(X_test)"
   ]
  },
  {
   "cell_type": "code",
   "execution_count": 104,
   "metadata": {},
   "outputs": [],
   "source": [
    "with open(\"../results/mfcc_100_fluency_regression.txt\", \"w\") as output:\n",
    "    for i in range(len(y_test)):\n",
    "        result = \"%s\\t%d\\t%f\\n\" % (wav_names[X_wav_test[i]], y_test[i], y_prediction[i][0])\n",
    "        output.write(result)"
   ]
  },
  {
   "cell_type": "markdown",
   "metadata": {},
   "source": [
    "### Train and Test the model with Mel-Spectrogram"
   ]
  },
  {
   "cell_type": "code",
   "execution_count": 85,
   "metadata": {},
   "outputs": [
    {
     "name": "stdout",
     "output_type": "stream",
     "text": [
      "(33300, 128, 259)\n",
      "(11100,)\n"
     ]
    }
   ],
   "source": [
    "X_mel = []\n",
    "X_wav = []\n",
    "Y = []\n",
    "\n",
    "zeros = np.zeros(128)\n",
    "for i in range(1, len(data)):\n",
    "    line = data[i].rstrip()\n",
    "    \n",
    "    accented, stim, wav_name = line.split(\",\")\n",
    "    wav_idx = wav2idx[wav_name]\n",
    "    X_wav.append(wav_idx)\n",
    "    \n",
    "#     x = np.zeros(shape = (128, max_len))\n",
    "    # x_data = np.vstack((melspec_dict[wav_idx],mfcc_dict[wav_idx]))\n",
    "    x_data = melspec_dict[wav_idx]\n",
    "\n",
    "#     print(np.shape(x), np.shape(x_data))\n",
    "    \n",
    "#     for i in range(0, np.shape(x_data)[0]):\n",
    "#         for j in range(0, np.shape(x_data)[1]):\n",
    "#             x[i][j] = x_data[i][j]\n",
    "    \n",
    "    X_mel.append(x_data)\n",
    "    Y.append(int(accented)-1)\n",
    "\n",
    "print(np.shape(X))\n",
    "print(np.shape(Y))"
   ]
  },
  {
   "cell_type": "code",
   "execution_count": 86,
   "metadata": {},
   "outputs": [],
   "source": [
    "X_mel_train, X_mel_test, X_wav_train, X_wav_test, y_train, y_test = train_test_split(X_mel, X_wav, Y, test_size=0.3, random_state=42)"
   ]
  },
  {
   "cell_type": "code",
   "execution_count": 76,
   "metadata": {},
   "outputs": [
    {
     "name": "stdout",
     "output_type": "stream",
     "text": [
      "(7770, 128, 259)\n",
      "(3330, 128, 259)\n"
     ]
    }
   ],
   "source": [
    "# reshape\n",
    "X_mel_train = np.array(X_mel_train)\n",
    "X_mel_test = np.array(X_mel_test)\n",
    "\n",
    "# X_train = X_train.reshape(X_train.shape[0], max_time, num_mel, 1)\n",
    "# X_test = X_test.reshape(X_test.shape[0], max_time, num_mel, 1)\n",
    "\n",
    "\n",
    "\n",
    "print(np.shape(X_mel_train))\n",
    "print(np.shape(X_mel_test))"
   ]
  },
  {
   "cell_type": "code",
   "execution_count": 77,
   "metadata": {},
   "outputs": [],
   "source": [
    "# hyperparameters\n",
    "lr = 0.001\n",
    "batch_size = 64\n",
    "drop_out_rate = 0.25\n",
    "num_dense_unit = 256\n",
    "num_epochs = 50\n",
    "\n",
    "num_melspec = np.shape(X_mel_train)[1]\n",
    "max_time = np.shape(X_mel_train)[2]"
   ]
  },
  {
   "cell_type": "code",
   "execution_count": 78,
   "metadata": {},
   "outputs": [
    {
     "name": "stdout",
     "output_type": "stream",
     "text": [
      "_________________________________________________________________\n",
      "Layer (type)                 Output Shape              Param #   \n",
      "=================================================================\n",
      "bidirectional_30 (Bidirectio (None, 128, 1024)         3162112   \n",
      "_________________________________________________________________\n",
      "bidirectional_31 (Bidirectio (None, 1024)              6295552   \n",
      "_________________________________________________________________\n",
      "dropout_16 (Dropout)         (None, 1024)              0         \n",
      "_________________________________________________________________\n",
      "dense_34 (Dense)             (None, 256)               262400    \n",
      "_________________________________________________________________\n",
      "dense_35 (Dense)             (None, 128)               32896     \n",
      "_________________________________________________________________\n",
      "dense_36 (Dense)             (None, 1)                 129       \n",
      "=================================================================\n",
      "Total params: 9,753,089\n",
      "Trainable params: 9,753,089\n",
      "Non-trainable params: 0\n",
      "_________________________________________________________________\n"
     ]
    }
   ],
   "source": [
    "input_shape = (num_melspec, max_time)\n",
    "\n",
    "model_mel = Sequential()\n",
    "\n",
    "model_mel.add(Bidirectional(LSTM(512, return_sequences=True), input_shape = (num_melspec, max_time)))\n",
    "model_mel.add(Bidirectional(LSTM(512)))\n",
    "model_mel.add(Dropout(drop_out_rate))\n",
    "model_mel.add(Dense(num_dense_unit))\n",
    "model_mel.add(Dense(128))\n",
    "model_mel.add(Dense(1, activation='linear'))\n",
    "\n",
    "# use adam optimizer\n",
    "adam = keras.optimizers.Adam(lr = lr)\n",
    "\n",
    "# compile the model\n",
    "model_mel.compile(optimizer=adam, loss=\"mse\", metrics=[\"mse\"])\n",
    "\n",
    "model_mel.summary()"
   ]
  },
  {
   "cell_type": "code",
   "execution_count": 79,
   "metadata": {},
   "outputs": [],
   "source": [
    "from datetime import datetime\n",
    "logdir = \"logs/scalars/melspec\" + datetime.now().strftime(\"%Y%m%d-%H%M%S\")\n",
    "tensorboard_callback = keras.callbacks.TensorBoard(log_dir=logdir)"
   ]
  },
  {
   "cell_type": "code",
   "execution_count": 80,
   "metadata": {},
   "outputs": [
    {
     "name": "stdout",
     "output_type": "stream",
     "text": [
      "Train on 7770 samples, validate on 3330 samples\n",
      "Epoch 1/50\n",
      "7770/7770 [==============================] - 63s 8ms/step - loss: 2.3017 - mean_squared_error: 2.3017 - val_loss: 1.2723 - val_mean_squared_error: 1.2723\n",
      "Epoch 2/50\n",
      "7770/7770 [==============================] - 62s 8ms/step - loss: 1.2242 - mean_squared_error: 1.2242 - val_loss: 1.1948 - val_mean_squared_error: 1.1948\n",
      "Epoch 3/50\n",
      "7770/7770 [==============================] - 62s 8ms/step - loss: 1.2143 - mean_squared_error: 1.2143 - val_loss: 1.1743 - val_mean_squared_error: 1.1743\n",
      "Epoch 4/50\n",
      "7770/7770 [==============================] - 62s 8ms/step - loss: 1.1119 - mean_squared_error: 1.1119 - val_loss: 1.1616 - val_mean_squared_error: 1.1616\n",
      "Epoch 5/50\n",
      "7770/7770 [==============================] - 62s 8ms/step - loss: 1.1010 - mean_squared_error: 1.1010 - val_loss: 1.1575 - val_mean_squared_error: 1.1575\n",
      "Epoch 6/50\n",
      "7770/7770 [==============================] - 62s 8ms/step - loss: 1.0870 - mean_squared_error: 1.0870 - val_loss: 1.1429 - val_mean_squared_error: 1.1429\n",
      "Epoch 7/50\n",
      "7770/7770 [==============================] - 62s 8ms/step - loss: 1.0772 - mean_squared_error: 1.0772 - val_loss: 1.1326 - val_mean_squared_error: 1.1326\n",
      "Epoch 8/50\n",
      "7770/7770 [==============================] - 62s 8ms/step - loss: 1.0916 - mean_squared_error: 1.0916 - val_loss: 1.1410 - val_mean_squared_error: 1.1410\n",
      "Epoch 9/50\n",
      "7770/7770 [==============================] - 62s 8ms/step - loss: 1.0698 - mean_squared_error: 1.0698 - val_loss: 1.1354 - val_mean_squared_error: 1.1354\n",
      "Epoch 10/50\n",
      "7770/7770 [==============================] - 62s 8ms/step - loss: 1.0618 - mean_squared_error: 1.0618 - val_loss: 1.1225 - val_mean_squared_error: 1.1225\n",
      "Epoch 11/50\n",
      "7770/7770 [==============================] - 62s 8ms/step - loss: 1.0629 - mean_squared_error: 1.0629 - val_loss: 1.1300 - val_mean_squared_error: 1.1300\n",
      "Epoch 12/50\n",
      "7770/7770 [==============================] - 62s 8ms/step - loss: 1.0539 - mean_squared_error: 1.0539 - val_loss: 1.1581 - val_mean_squared_error: 1.1581\n",
      "Epoch 13/50\n",
      "7770/7770 [==============================] - 62s 8ms/step - loss: 1.0398 - mean_squared_error: 1.0398 - val_loss: 1.1794 - val_mean_squared_error: 1.1794\n",
      "Epoch 14/50\n",
      "7770/7770 [==============================] - 62s 8ms/step - loss: 1.0354 - mean_squared_error: 1.0354 - val_loss: 1.1842 - val_mean_squared_error: 1.1842\n",
      "Epoch 15/50\n",
      "7770/7770 [==============================] - 62s 8ms/step - loss: 1.0415 - mean_squared_error: 1.0415 - val_loss: 1.1388 - val_mean_squared_error: 1.1388\n",
      "Epoch 16/50\n",
      "7770/7770 [==============================] - 62s 8ms/step - loss: 1.0315 - mean_squared_error: 1.0315 - val_loss: 1.1257 - val_mean_squared_error: 1.1257\n",
      "Epoch 17/50\n",
      "7770/7770 [==============================] - 62s 8ms/step - loss: 1.0258 - mean_squared_error: 1.0258 - val_loss: 1.1273 - val_mean_squared_error: 1.1273\n",
      "Epoch 18/50\n",
      "7770/7770 [==============================] - 62s 8ms/step - loss: 1.0192 - mean_squared_error: 1.0192 - val_loss: 1.1219 - val_mean_squared_error: 1.1219\n",
      "Epoch 19/50\n",
      "7770/7770 [==============================] - 62s 8ms/step - loss: 1.0274 - mean_squared_error: 1.0274 - val_loss: 1.1343 - val_mean_squared_error: 1.1343\n",
      "Epoch 20/50\n",
      "7770/7770 [==============================] - 62s 8ms/step - loss: 1.0305 - mean_squared_error: 1.0305 - val_loss: 1.1562 - val_mean_squared_error: 1.1562\n",
      "Epoch 21/50\n",
      "7770/7770 [==============================] - 62s 8ms/step - loss: 1.0097 - mean_squared_error: 1.0097 - val_loss: 1.1724 - val_mean_squared_error: 1.1724\n",
      "Epoch 22/50\n",
      "7770/7770 [==============================] - 62s 8ms/step - loss: 1.0117 - mean_squared_error: 1.0117 - val_loss: 1.2078 - val_mean_squared_error: 1.2078\n",
      "Epoch 23/50\n",
      "7770/7770 [==============================] - 62s 8ms/step - loss: 1.0192 - mean_squared_error: 1.0192 - val_loss: 1.1607 - val_mean_squared_error: 1.1607\n",
      "Epoch 24/50\n",
      "7770/7770 [==============================] - 62s 8ms/step - loss: 1.0122 - mean_squared_error: 1.0122 - val_loss: 1.1459 - val_mean_squared_error: 1.1459\n",
      "Epoch 25/50\n",
      "7770/7770 [==============================] - 62s 8ms/step - loss: 1.0268 - mean_squared_error: 1.0268 - val_loss: 1.1717 - val_mean_squared_error: 1.1717\n",
      "Epoch 26/50\n",
      "7770/7770 [==============================] - 62s 8ms/step - loss: 1.0312 - mean_squared_error: 1.0312 - val_loss: 1.1647 - val_mean_squared_error: 1.1647\n",
      "Epoch 27/50\n",
      "7770/7770 [==============================] - 62s 8ms/step - loss: 1.0322 - mean_squared_error: 1.0322 - val_loss: 1.1637 - val_mean_squared_error: 1.1637\n",
      "Epoch 28/50\n",
      "7770/7770 [==============================] - 62s 8ms/step - loss: 1.0171 - mean_squared_error: 1.0171 - val_loss: 1.1971 - val_mean_squared_error: 1.1971\n",
      "Epoch 29/50\n",
      "7770/7770 [==============================] - 62s 8ms/step - loss: 1.0163 - mean_squared_error: 1.0163 - val_loss: 1.1575 - val_mean_squared_error: 1.1575\n",
      "Epoch 30/50\n",
      "7770/7770 [==============================] - 62s 8ms/step - loss: 1.0193 - mean_squared_error: 1.0193 - val_loss: 1.1668 - val_mean_squared_error: 1.1668\n",
      "Epoch 31/50\n",
      "7770/7770 [==============================] - 62s 8ms/step - loss: 1.0642 - mean_squared_error: 1.0642 - val_loss: 1.1127 - val_mean_squared_error: 1.1127\n",
      "Epoch 32/50\n",
      "7770/7770 [==============================] - 62s 8ms/step - loss: 1.0348 - mean_squared_error: 1.0348 - val_loss: 1.1073 - val_mean_squared_error: 1.1073\n",
      "Epoch 33/50\n",
      "7770/7770 [==============================] - 62s 8ms/step - loss: 1.0212 - mean_squared_error: 1.0212 - val_loss: 1.1074 - val_mean_squared_error: 1.1074\n",
      "Epoch 34/50\n",
      "7770/7770 [==============================] - 62s 8ms/step - loss: 1.0066 - mean_squared_error: 1.0066 - val_loss: 1.1219 - val_mean_squared_error: 1.1219\n",
      "Epoch 35/50\n",
      "7770/7770 [==============================] - 62s 8ms/step - loss: 1.0056 - mean_squared_error: 1.0056 - val_loss: 1.1714 - val_mean_squared_error: 1.1714\n",
      "Epoch 36/50\n",
      "7770/7770 [==============================] - 62s 8ms/step - loss: 1.0119 - mean_squared_error: 1.0119 - val_loss: 1.1308 - val_mean_squared_error: 1.1308\n",
      "Epoch 37/50\n",
      "7770/7770 [==============================] - 62s 8ms/step - loss: 1.0091 - mean_squared_error: 1.0091 - val_loss: 1.1436 - val_mean_squared_error: 1.1436\n",
      "Epoch 38/50\n",
      "7770/7770 [==============================] - 62s 8ms/step - loss: 1.0022 - mean_squared_error: 1.0022 - val_loss: 1.1307 - val_mean_squared_error: 1.1307\n",
      "Epoch 39/50\n",
      "7770/7770 [==============================] - 62s 8ms/step - loss: 1.0138 - mean_squared_error: 1.0138 - val_loss: 1.1215 - val_mean_squared_error: 1.1215\n",
      "Epoch 40/50\n",
      "7770/7770 [==============================] - 61s 8ms/step - loss: 1.0172 - mean_squared_error: 1.0172 - val_loss: 1.1267 - val_mean_squared_error: 1.1267\n",
      "Epoch 41/50\n",
      "7770/7770 [==============================] - 62s 8ms/step - loss: 1.0151 - mean_squared_error: 1.0151 - val_loss: 1.1076 - val_mean_squared_error: 1.1076\n",
      "Epoch 42/50\n",
      "7770/7770 [==============================] - 62s 8ms/step - loss: 1.0148 - mean_squared_error: 1.0148 - val_loss: 1.1015 - val_mean_squared_error: 1.1015\n",
      "Epoch 43/50\n",
      "7770/7770 [==============================] - 62s 8ms/step - loss: 1.0038 - mean_squared_error: 1.0038 - val_loss: 1.0976 - val_mean_squared_error: 1.0976\n",
      "Epoch 44/50\n",
      "7770/7770 [==============================] - 62s 8ms/step - loss: 0.9899 - mean_squared_error: 0.9899 - val_loss: 1.1008 - val_mean_squared_error: 1.1008\n",
      "Epoch 45/50\n",
      "7770/7770 [==============================] - 62s 8ms/step - loss: 1.9667 - mean_squared_error: 1.9667 - val_loss: 1.2682 - val_mean_squared_error: 1.2682\n",
      "Epoch 46/50\n",
      "7770/7770 [==============================] - 61s 8ms/step - loss: 2.4611 - mean_squared_error: 2.4611 - val_loss: 1.2529 - val_mean_squared_error: 1.2529\n",
      "Epoch 47/50\n",
      "7770/7770 [==============================] - 62s 8ms/step - loss: 1.1291 - mean_squared_error: 1.1291 - val_loss: 1.1087 - val_mean_squared_error: 1.1087\n",
      "Epoch 48/50\n",
      "7770/7770 [==============================] - 62s 8ms/step - loss: 1.0479 - mean_squared_error: 1.0479 - val_loss: 1.0999 - val_mean_squared_error: 1.0999\n",
      "Epoch 49/50\n",
      "7770/7770 [==============================] - 62s 8ms/step - loss: 1.0285 - mean_squared_error: 1.0285 - val_loss: 1.0975 - val_mean_squared_error: 1.0975\n",
      "Epoch 50/50\n",
      "7770/7770 [==============================] - 62s 8ms/step - loss: 1.0186 - mean_squared_error: 1.0186 - val_loss: 1.1031 - val_mean_squared_error: 1.1031\n"
     ]
    }
   ],
   "source": [
    "num_epochs = 50\n",
    "# model.load_weights('../data/RNN_model_100.h5')\n",
    "\n",
    "history_mel = model_mel.fit(X_mel_train, y_train, batch_size = batch_size, epochs = num_epochs, shuffle = False, class_weight = None,\n",
    "         verbose = 1, validation_data = (X_mel_test, y_test), callbacks=[tensorboard_callback])\n",
    "\n",
    "model.save('../data/RNN_melspec_model_50.h5')"
   ]
  },
  {
   "cell_type": "code",
   "execution_count": 81,
   "metadata": {},
   "outputs": [
    {
     "data": {
      "image/png": "[encoded data removed]",
      "text/plain": [
       "<Figure size 432x288 with 1 Axes>"
      ]
     },
     "metadata": {
      "needs_background": "light"
     },
     "output_type": "display_data"
    }
   ],
   "source": [
    "# summarize history for loss\n",
    "plt.plot(history_mel.history['loss'])\n",
    "plt.plot(history_mel.history['val_loss'])\n",
    "plt.title('model loss')\n",
    "plt.ylabel('loss')\n",
    "plt.xlabel('epoch')\n",
    "plt.legend(['train', 'test'], loc='upper left')\n",
    "plt.show()"
   ]
  },
  {
   "cell_type": "code",
   "execution_count": 83,
   "metadata": {},
   "outputs": [],
   "source": [
    "y_mel_prediction = model_mel.predict(X_mel_test)"
   ]
  },
  {
   "cell_type": "code",
   "execution_count": 88,
   "metadata": {},
   "outputs": [
    {
     "name": "stdout",
     "output_type": "stream",
     "text": [
      "S22_They-All-Like.wav 2 2.6856332\n",
      "S23_Gently-Place-Jims.wav 1 2.4612205\n",
      "S03_Ralph-Prepared-Red.wav 4 4.7549405\n",
      "S07_Too-Much-Curiosity.wav 5 4.0103807\n",
      "S25_How-Oily-Do.wav 5 2.9591658\n",
      "S04_Gregory-And-Tom.wav 3 2.5436985\n",
      "S26_Try-To-Recall.wav 4 3.1693773\n",
      "S19_She-Had-Your.wav 4 1.7288228\n",
      "S07_Tradition-Requires-Parental.wav 4 3.7730925\n",
      "S25_The-Tooth-Fairy.wav 3 2.9995189\n"
     ]
    }
   ],
   "source": [
    "for i in range(10):\n",
    "    print(wav_names[X_wav_test[i]], y_test[i], y_mel_prediction[i][0])"
   ]
  },
  {
   "cell_type": "code",
   "execution_count": 90,
   "metadata": {},
   "outputs": [],
   "source": [
    "with open(\"../results/mel_50_fluency_regression.txt\", \"w\") as output:\n",
    "    for i in range(len(y_test)):\n",
    "        result = \"%s\\t%d\\t%f\\n\" % (wav_names[X_wav_test[i]], y_test[i], y_mel_prediction[i][0])\n",
    "        output.write(result)"
   ]
  }
 ],
 "metadata": {
  "colab": {
   "authorship_tag": "ABX9TyNgj1JHcGzGQnCrsiYuWjzf",
   "collapsed_sections": [],
   "name": "RNN_automatic_judgment.ipynb",
   "provenance": []
  },
  "kernelspec": {
   "display_name": "Python 3",
   "language": "python",
   "name": "python3"
  },
  "language_info": {
   "codemirror_mode": {
    "name": "ipython",
    "version": 3
   },
   "file_extension": ".py",
   "mimetype": "text/x-python",
   "name": "python",
   "nbconvert_exporter": "python",
   "pygments_lexer": "ipython3",
   "version": "3.7.5"
  }
 },
 "nbformat": 4,
 "nbformat_minor": 1
}
