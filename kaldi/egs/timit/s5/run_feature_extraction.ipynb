{
 "cells": [
  {
   "cell_type": "code",
   "execution_count": 2,
   "metadata": {},
   "outputs": [
    {
     "name": "stdout",
     "output_type": "stream",
     "text": [
      "--frame-length=25               # frame length in milliseconds\n",
      "--frame-shift=10                # frame shift in milliseconds\n",
      "--num-ceps=13                   # number of cepstra in computation (incl. C0)\n",
      "--num-mel-bins=23               # number of triangular mel-frequency bins\n",
      "--use-energy=true               # use energy (not C0) in computation\n",
      "--low-freq=20                   # low cutoff frequency for mel bins\n",
      "--high-freq=0                   # high cutoff frequency for mel bins\n",
      "--window-type=povey             # choose \"hamming\", \"hanning\", \"rectangular\"\n",
      "--snip-edges=true               # only output frames that fit in file\n",
      "                                # number of frames depends on frame-length\n",
      "                                        # if false, depends on frame-shift\n",
      "--dither=1                      # random 1bit of noise added\n",
      "                                        # ensures no log(0) calculations\n",
      "--sample-frequency=44100"
     ]
    }
   ],
   "source": [
    "cat conf/mfcc.conf"
   ]
  },
  {
   "cell_type": "code",
   "execution_count": 3,
   "metadata": {},
   "outputs": [
    {
     "name": "stdout",
     "output_type": "stream",
     "text": [
      "#!/usr/bin/env bash\n",
      "\n",
      "# This script generates MFCCs and cmvn statistics\n",
      "\n",
      "# ARGUMENTS\n",
      "# REQUIRED\n",
      "# -c <path> = path to `.conf` file\n",
      "# -d [no argument] = wav file dir is TRUE in kaldi_config.json\n",
      "# Must have *at least* one of `-n` or `-t`\n",
      "# OPTIONAL\n",
      "# -j <int> = number of processors to use, default=8\n",
      "# -q <string> = non-vanilla hyperparameters to `compute_cmvn_stats.sh`, in the form \"--fake-dims 13:14\"\n",
      "\n",
      "# OUTPUTS\n",
      "# Creates:\n",
      "    # `mfcc/` directory for the `mfcc`s from training data\n",
      "    # `exp/` for logs\n",
      "    # `data/{train,test}dir/{feats,cmvn}.scp` which are required when running `run_train_phones.sh`\n",
      "\n",
      "############################\n",
      "##BEGIN parse params##\n"
     ]
    }
   ],
   "source": [
    "head -n 21 run_feature_extraction.sh"
   ]
  },
  {
   "cell_type": "code",
   "execution_count": 4,
   "metadata": {},
   "outputs": [
    {
     "name": "stdout",
     "output_type": "stream",
     "text": [
      "Timestamp in HH:MM:SS (24 hour format)\n",
      "07:43:39\n",
      "\n",
      "./steps/make_mfcc.sh --nj 8 --mfcc-config conf/mfcc.conf data/asr_dir exp/make_mfcc/asr_dir mfcc\n",
      "./steps/make_mfcc.sh: moving data/asr_dir/feats.scp to data/asr_dir/.backup\n",
      "utils/validate_data_dir.sh: Successfully validated data-directory data/asr_dir\n",
      "./steps/make_mfcc.sh: [info]: no segments file exists: assuming wav.scp indexed by utterance.\n",
      "Succeeded creating MFCC features for asr_dir\n",
      "./steps/compute_cmvn_stats.sh data/asr_dir exp/make_mfcc/asr_dir mfcc\n",
      "Succeeded creating CMVN stats for asr_dir\n",
      "Timestamp in HH:MM:SS (24 hour format)\n",
      "07:43:46\n",
      "\n"
     ]
    }
   ],
   "source": [
    "./run_feature_extraction.sh kaldi_config.json"
   ]
  }
 ],
 "metadata": {
  "kernelspec": {
   "display_name": "Bash",
   "language": "bash",
   "name": "bash"
  },
  "language_info": {
   "codemirror_mode": "shell",
   "file_extension": ".sh",
   "mimetype": "text/x-sh",
   "name": "bash"
  }
 },
 "nbformat": 4,
 "nbformat_minor": 2
}
