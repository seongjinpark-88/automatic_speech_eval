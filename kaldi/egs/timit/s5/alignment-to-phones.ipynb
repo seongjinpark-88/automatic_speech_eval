{
 "cells": [
  {
   "cell_type": "code",
   "execution_count": 2,
   "metadata": {},
   "outputs": [],
   "source": [
    ". ./cmd.sh\n",
    "[ -f path.sh ] && . ./path.sh\n",
    "set -e"
   ]
  },
  {
   "cell_type": "code",
   "execution_count": 1,
   "metadata": {},
   "outputs": [
    {
     "name": "stdout",
     "output_type": "stream",
     "text": [
      "#!/bin/bash\n",
      "\n",
      "# Copyright 2012  Johns Hopkins University (Author: Daniel Povey).  Apache 2.0.\n",
      "\n",
      "# This script does decoding with an SGMM system, with speaker vectors.\n",
      "# If the SGMM system was\n",
      "# built on top of fMLLR transforms from a conventional system, you should\n",
      "# provide the --transform-dir option.\n",
      "\n",
      "# Begin configuration section.\n",
      "stage=1\n",
      "transform_dir=    # dir to find fMLLR transforms.\n",
      "nj=4 # number of decoding jobs.\n",
      "acwt=0.1  # Just a default value, used for adaptation and beam-pruning..\n",
      "cmd=run.pl\n",
      "beam=13.0\n",
      "gselect=15  # Number of Gaussian-selection indices for SGMMs.  [Note:\n",
      "            # the first_pass_gselect variable is used for the 1st pass of\n",
      "            # decoding and can be tighter.\n",
      "first_pass_gselect=3 # Use a smaller number of Gaussian-selection indices in\n",
      "            # the 1st pass of decoding (lattice generation).\n",
      "max_active=7000\n",
      "max_mem=50000000\n",
      "#WARNING: This option is renamed lattice_beam (it was renamed to follow the naming\n",
      "#         in the other scripts\n",
      "lattice_beam=6.0 # Beam we use in lattice generation.\n",
      "vecs_beam=4.0 # Beam we use to prune lattices while getting posteriors for\n",
      "    # speaker-vector computation.  Can be quite tight (actually we could\n",
      "    # probably just do best-path.\n",
      "use_fmllr=false\n"
     ]
    }
   ],
   "source": [
    "head -n 30 steps/decode_sgmm2.sh"
   ]
  },
  {
   "cell_type": "code",
   "execution_count": 2,
   "metadata": {},
   "outputs": [
    {
     "name": "stdout",
     "output_type": "stream",
     "text": [
      "#!/bin/bash\n",
      "\n",
      "# Copyright 2012-2015  Johns Hopkins University (Author: Daniel Povey)\n",
      "\n",
      "# Decoding script that does fMLLR.  This can be on top of delta+delta-delta, or\n",
      "# LDA+MLLT features.\n",
      "\n",
      "# There are 3 models involved potentially in this script,\n",
      "# and for a standard, speaker-independent system they will all be the same.\n",
      "# The \"alignment model\" is for the 1st-pass decoding and to get the\n",
      "# Gaussian-level alignments for the \"adaptation model\" the first time we\n",
      "# do fMLLR.  The \"adaptation model\" is used to estimate fMLLR transforms\n",
      "# and to generate state-level lattices.  The lattices are then rescored\n",
      "# with the \"final model\".\n",
      "#\n",
      "# The following table explains where we get these 3 models from.\n",
      "# Note: $srcdir is one level up from the decoding directory.\n",
      "#\n",
      "#   Model              Default source:\n",
      "#\n",
      "#  \"alignment model\"   $srcdir/final.alimdl              --alignment-model <model>\n",
      "#                     (or $srcdir/final.mdl if alimdl absent)\n",
      "#  \"adaptation model\"  $srcdir/final.mdl                 --adapt-model <model>\n",
      "#  \"final model\"       $srcdir/final.mdl                 --final-model <model>\n",
      "\n",
      "\n",
      "# Begin configuration section\n",
      "first_beam=10.0 # Beam used in initial, speaker-indep. pass\n",
      "first_max_active=2000 # max-active used in initial pass.\n",
      "alignment_model=\n"
     ]
    }
   ],
   "source": [
    "head -n 30 steps/decode_fmllr.sh"
   ]
  },
  {
   "cell_type": "code",
   "execution_count": 3,
   "metadata": {},
   "outputs": [],
   "source": [
    "mkdir -p exp/asr_aligned"
   ]
  },
  {
   "cell_type": "code",
   "execution_count": 13,
   "metadata": {},
   "outputs": [
    {
     "name": "stdout",
     "output_type": "stream",
     "text": [
      "./steps/decode_fmllr.sh --nj 8 --cmd run.pl exp/tri3/graph data/asr_dir exp/tri3/asr_aligned\n",
      "steps/decode.sh --scoring-opts  --num-threads 1 --skip-scoring false --acwt 0.083333 --nj 8 --cmd run.pl --beam 10.0 --model exp/tri3/final.alimdl --max-active 2000 exp/tri3/graph data/asr_dir exp/tri3/asr_aligned.si\n",
      "decode.sh: feature type is lda\n",
      "steps/diagnostic/analyze_lats.sh --cmd run.pl exp/tri3/graph exp/tri3/asr_aligned.si\n",
      "analyze_phone_length_stats.py: WARNING: optional-silence sil is seen only 0.0% of the time at utterance begin.  This may not be optimal.\n",
      "analyze_phone_length_stats.py: WARNING: optional-silence sil is seen only 0.0% of the time at utterance end.  This may not be optimal.\n",
      "steps/diagnostic/analyze_lats.sh: see stats in exp/tri3/asr_aligned.si/log/analyze_alignments.log\n",
      "Overall, lattice depth (10,50,90-percentile)=(9,39,164) and mean=75.5\n",
      "steps/diagnostic/analyze_lats.sh: see stats in exp/tri3/asr_aligned.si/log/analyze_lattice_depth_stats.log\n",
      "score.sh: no such file data/asr_dir/text\n",
      "steps/decode.sh: Scoring failed. (ignore by '--skip-scoring true')\n",
      "Restarting Bash"
     ]
    }
   ],
   "source": [
    ". ./cmd.sh\n",
    "[ -f path.sh ] && . ./path.sh\n",
    "set -e\n",
    "\n",
    "./steps/decode_fmllr.sh --nj 8 --cmd run.pl \\\n",
    " exp/tri3/graph data/asr_dir exp/tri3/asr_aligned"
   ]
  },
  {
   "cell_type": "code",
   "execution_count": 14,
   "metadata": {},
   "outputs": [
    {
     "name": "stdout",
     "output_type": "stream",
     "text": [
      "steps/decode_sgmm2.sh --nj 8 --cmd run.pl exp/sgmm2_4/graph data/asr_dir exp/sgmm2_4/asr_aligned\n",
      "steps/decode_sgmm2.sh: feature type is lda\n",
      "# sgmm2-acc-stats --utt2spk=ark:data/train/split8/1/utt2spk --update-flags=vwcSt \"--gselect=ark,s,cs:gunzip -c exp/sgmm2_4/gselect.1.gz|\" --rand-prune=0.1 exp/sgmm2_4/0.mdl \"ark,s,cs:apply-cmvn  --utt2spk=ark:data/train/split8/1/utt2spk scp:data/train/split8/1/cmvn.scp scp:data/train/split8/1/feats.scp ark:- | splice-feats --left-context=3 --right-context=3 ark:- ark:- | transform-feats exp/tri3_ali/final.mat ark:- ark:- | transform-feats --utt2spk=ark:data/train/split8/1/utt2spk ark,s,cs:exp/tri3_ali/trans.1 ark:- ark:- |\" \"ark,s,cs:gunzip -c exp/sgmm2_4/ali.1.gz | ali-to-post ark:- ark:-|\" exp/sgmm2_4/0.1.acc \n",
      "sgmm2-acc-stats --utt2spk=ark:data/train/split8/1/utt2spk --update-flags=vwcSt '--gselect=ark,s,cs:gunzip -c exp/sgmm2_4/gselect.1.gz|' --rand-prune=0.1 exp/sgmm2_4/0.mdl 'ark,s,cs:apply-cmvn  --utt2spk=ark:data/train/split8/1/utt2spk scp:data/train/split8/1/cmvn.scp scp:data/train/split8/1/feats.scp ark:- | splice-feats --left-context=3 --right-context=3 ark:- ark:- | transform-feats exp/tri3_ali/final.mat ark:- ark:- | transform-feats --utt2spk=ark:data/train/split8/1/utt2spk ark,s,cs:exp/tri3_ali/trans.1 ark:- ark:- |' 'ark,s,cs:gunzip -c exp/sgmm2_4/ali.1.gz | ali-to-post ark:- ark:-|' exp/sgmm2_4/0.1.acc \n",
      "transform-feats --utt2spk=ark:data/train/split8/1/utt2spk ark,s,cs:exp/tri3_ali/trans.1 ark:- ark:- \n",
      "steps/decode_sgmm2.sh: **WARNING**: you seem to be using an SGMM system trained with transforms,\n",
      "  but you are not providing the --transform-dir option in test time.\n",
      "steps/diagnostic/analyze_lats.sh --cmd run.pl exp/sgmm2_4/graph exp/sgmm2_4/asr_aligned\n",
      "analyze_phone_length_stats.py: WARNING: optional-silence sil is seen only 0.0% of the time at utterance begin.  This may not be optimal.\n",
      "analyze_phone_length_stats.py: WARNING: optional-silence sil is seen only 0.0% of the time at utterance end.  This may not be optimal.\n",
      "steps/diagnostic/analyze_lats.sh: see stats in exp/sgmm2_4/asr_aligned/log/analyze_alignments.log\n",
      "Overall, lattice depth (10,50,90-percentile)=(7,31,120) and mean=54.1\n",
      "steps/diagnostic/analyze_lats.sh: see stats in exp/sgmm2_4/asr_aligned/log/analyze_lattice_depth_stats.log\n",
      "score.sh: no such file data/asr_dir/text\n"
     ]
    }
   ],
   "source": [
    ". ./cmd.sh\n",
    "[ -f path.sh ] && . ./path.sh\n",
    "set -e\n",
    "\n",
    "steps/decode_sgmm2.sh --nj 8 --cmd run.pl \\\n",
    " exp/sgmm2_4/graph data/asr_dir \\\n",
    " exp/sgmm2_4/asr_aligned"
   ]
  },
  {
   "cell_type": "code",
   "execution_count": 40,
   "metadata": {},
   "outputs": [
    {
     "name": "stdout",
     "output_type": "stream",
     "text": [
      "steps/decode.sh --nj 8 --cmd run.pl exp/tri2/graph data/asr_dir exp/tri2/asr_aligned\n",
      "decode.sh: feature type is lda\n",
      "steps/diagnostic/analyze_lats.sh --cmd run.pl exp/tri2/graph exp/tri2/asr_aligned\n",
      "steps/diagnostic/analyze_lats.sh: see stats in exp/tri2/asr_aligned/log/analyze_alignments.log\n",
      "Overall, lattice depth (10,50,90-percentile)=(9,40,154) and mean=70.6\n",
      "steps/diagnostic/analyze_lats.sh: see stats in exp/tri2/asr_aligned/log/analyze_lattice_depth_stats.log\n",
      "score.sh: no such file data/asr_dir/text\n",
      "steps/decode.sh: Scoring failed. (ignore by '--skip-scoring true')\n"
     ]
    },
    {
     "ename": "",
     "evalue": "1",
     "output_type": "error",
     "traceback": []
    }
   ],
   "source": [
    "steps/decode.sh --nj 8 --cmd run.pl \\\n",
    " exp/tri2/graph data/asr_dir exp/tri2/asr_aligned"
   ]
  },
  {
   "cell_type": "code",
   "execution_count": 15,
   "metadata": {},
   "outputs": [
    {
     "name": "stdout",
     "output_type": "stream",
     "text": [
      "steps/get_ctm.sh data/asr_dir data/lang exp/sgmm2_4/asr_aligned\n"
     ]
    }
   ],
   "source": [
    "steps/get_ctm.sh data/asr_dir data/lang exp/sgmm2_4/asr_aligned"
   ]
  },
  {
   "cell_type": "code",
   "execution_count": 16,
   "metadata": {},
   "outputs": [
    {
     "name": "stdout",
     "output_type": "stream",
     "text": [
      "steps/get_prons.sh data/asr_dir data/lang exp/sgmm2_4/asr_aligned\n",
      "steps/get_prons.sh: exp/sgmm2_4/asr_aligned/lat.1.gz exists, so starting from lattices.\n",
      "steps/get_prons.sh: done writing prons to exp/sgmm2_4/asr_aligned/prons.*.gz, silence counts in \n",
      "steps/get_prons.sh: exp/sgmm2_4/asr_aligned/sil_counts_nowb.txt and pronunciation counts in \n",
      "steps/get_prons.sh: exp/sgmm2_4/asr_aligned/pron_counts.{int,txt}\n",
      "steps/get_prons.sh: ... and also in exp/sgmm2_4/asr_aligned/pron_counts_nowb.txt\n"
     ]
    }
   ],
   "source": [
    "steps/get_prons.sh data/asr_dir data/lang exp/sgmm2_4/asr_aligned"
   ]
  },
  {
   "cell_type": "code",
   "execution_count": 17,
   "metadata": {},
   "outputs": [
    {
     "name": "stdout",
     "output_type": "stream",
     "text": [
      "\u001b[0m\u001b[01;31mgselect.1.gz\u001b[0m  \u001b[01;31mlat.8.gz\u001b[0m                     \u001b[01;31mprons.8.gz\u001b[0m  \u001b[01;34mscore_8\u001b[0m\n",
      "\u001b[01;31mgselect.2.gz\u001b[0m  \u001b[01;34mlog\u001b[0m                          \u001b[01;34mscore_10\u001b[0m    \u001b[01;34mscore_9\u001b[0m\n",
      "\u001b[01;31mgselect.3.gz\u001b[0m  num_jobs                     \u001b[01;34mscore_11\u001b[0m    \u001b[01;34mscoring\u001b[0m\n",
      "\u001b[01;31mgselect.4.gz\u001b[0m  pron_bigram_counts_nowb.txt  \u001b[01;34mscore_12\u001b[0m    sil_counts_nowb.txt\n",
      "\u001b[01;31mgselect.5.gz\u001b[0m  pron_counts.int              \u001b[01;34mscore_13\u001b[0m    vecs.1\n",
      "\u001b[01;31mgselect.6.gz\u001b[0m  pron_counts.txt              \u001b[01;34mscore_14\u001b[0m    vecs.2\n",
      "\u001b[01;31mgselect.7.gz\u001b[0m  pron_counts_nowb.txt         \u001b[01;34mscore_15\u001b[0m    vecs.3\n",
      "\u001b[01;31mgselect.8.gz\u001b[0m  pron_perutt_nowb.txt         \u001b[01;34mscore_16\u001b[0m    vecs.4\n",
      "\u001b[01;31mlat.1.gz\u001b[0m      \u001b[01;31mprons.1.gz\u001b[0m                   \u001b[01;34mscore_17\u001b[0m    vecs.5\n",
      "\u001b[01;31mlat.2.gz\u001b[0m      \u001b[01;31mprons.2.gz\u001b[0m                   \u001b[01;34mscore_18\u001b[0m    vecs.6\n",
      "\u001b[01;31mlat.3.gz\u001b[0m      \u001b[01;31mprons.3.gz\u001b[0m                   \u001b[01;34mscore_19\u001b[0m    vecs.7\n",
      "\u001b[01;31mlat.4.gz\u001b[0m      \u001b[01;31mprons.4.gz\u001b[0m                   \u001b[01;34mscore_20\u001b[0m    vecs.8\n",
      "\u001b[01;31mlat.5.gz\u001b[0m      \u001b[01;31mprons.5.gz\u001b[0m                   \u001b[01;34mscore_5\u001b[0m\n",
      "\u001b[01;31mlat.6.gz\u001b[0m      \u001b[01;31mprons.6.gz\u001b[0m                   \u001b[01;34mscore_6\u001b[0m\n",
      "\u001b[01;31mlat.7.gz\u001b[0m      \u001b[01;31mprons.7.gz\u001b[0m                   \u001b[01;34mscore_7\u001b[0m\n"
     ]
    }
   ],
   "source": [
    "ls exp/sgmm2_4/asr_aligned"
   ]
  },
  {
   "cell_type": "code",
   "execution_count": 21,
   "metadata": {},
   "outputs": [
    {
     "name": "stdout",
     "output_type": "stream",
     "text": [
      "S02_A-Monstrous-Shadow 1 0.000 0.120 sil \n",
      "S02_A-Monstrous-Shadow 1 0.120 0.060 ax \n",
      "S02_A-Monstrous-Shadow 1 0.180 0.140 m \n",
      "S02_A-Monstrous-Shadow 1 0.320 0.060 ow \n",
      "S02_A-Monstrous-Shadow 1 0.380 0.050 n \n",
      "S02_A-Monstrous-Shadow 1 0.430 0.070 sh \n",
      "S02_A-Monstrous-Shadow 1 0.500 0.110 epi \n",
      "S02_A-Monstrous-Shadow 1 0.610 0.030 w \n",
      "S02_A-Monstrous-Shadow 1 0.640 0.100 uw \n",
      "S02_A-Monstrous-Shadow 1 0.740 0.060 n \n",
      "S28_Try-To-Recall 1 2.400 0.110 k \n",
      "S28_Try-To-Recall 1 2.510 0.240 ow \n",
      "S28_Try-To-Recall 1 2.750 0.140 n \n",
      "S28_Try-To-Recall 1 2.890 0.050 ix \n",
      "S28_Try-To-Recall 1 2.940 0.060 cl \n",
      "S28_Try-To-Recall 1 3.000 0.190 k \n",
      "S28_Try-To-Recall 1 3.190 0.030 l \n",
      "S28_Try-To-Recall 1 3.220 0.560 w \n",
      "S28_Try-To-Recall 1 3.780 0.110 el \n",
      "S28_Try-To-Recall 1 3.890 0.090 sil \n"
     ]
    }
   ],
   "source": [
    "head exp/sgmm2_4/asr_aligned/score_20/asr_dir.ctm\n",
    "tail exp/sgmm2_4/asr_aligned/score_20/asr_dir.ctm"
   ]
  },
  {
   "cell_type": "code",
   "execution_count": 23,
   "metadata": {},
   "outputs": [
    {
     "name": "stdout",
     "output_type": "stream",
     "text": [
      "S02_A-Monstrous-Shadow 1 0.000 0.120 sil \n",
      "S02_A-Monstrous-Shadow 1 0.120 0.060 ax \n",
      "S02_A-Monstrous-Shadow 1 0.180 0.140 m \n",
      "S02_A-Monstrous-Shadow 1 0.320 0.060 ow \n",
      "S02_A-Monstrous-Shadow 1 0.380 0.050 n \n",
      "S02_A-Monstrous-Shadow 1 0.430 0.070 sh \n",
      "S02_A-Monstrous-Shadow 1 0.500 0.110 epi \n",
      "S02_A-Monstrous-Shadow 1 0.610 0.030 w \n",
      "S02_A-Monstrous-Shadow 1 0.640 0.100 uw \n",
      "S02_A-Monstrous-Shadow 1 0.740 0.060 n \n",
      "S02_A-Monstrous-Shadow 1 0.800 0.220 sh \n",
      "S02_A-Monstrous-Shadow 1 1.020 0.340 el \n",
      "S02_A-Monstrous-Shadow 1 1.360 0.060 n \n",
      "S02_A-Monstrous-Shadow 1 1.420 0.120 f \n",
      "S02_A-Monstrous-Shadow 1 1.540 0.200 ow \n",
      "S02_A-Monstrous-Shadow 1 1.740 0.030 n \n",
      "S02_A-Monstrous-Shadow 1 1.770 0.040 cl \n",
      "S02_A-Monstrous-Shadow 1 1.810 0.140 k \n",
      "S02_A-Monstrous-Shadow 1 1.950 0.030 w \n",
      "S02_A-Monstrous-Shadow 1 1.980 0.180 ah \n"
     ]
    }
   ],
   "source": [
    "head -n20 exp/sgmm2_4/asr_aligned/score_20/asr_dir.ctm"
   ]
  },
  {
   "cell_type": "code",
   "execution_count": 9,
   "metadata": {},
   "outputs": [],
   "source": [
    "python ./local/ctm2phn.py exp/tri2/asr_aligned/score_20/asr_dir.ctm exp/tri2/asr_aligned/aligned"
   ]
  }
 ],
 "metadata": {
  "kernelspec": {
   "display_name": "Bash",
   "language": "bash",
   "name": "bash"
  },
  "language_info": {
   "codemirror_mode": "shell",
   "file_extension": ".sh",
   "mimetype": "text/x-sh",
   "name": "bash"
  }
 },
 "nbformat": 4,
 "nbformat_minor": 2
}
