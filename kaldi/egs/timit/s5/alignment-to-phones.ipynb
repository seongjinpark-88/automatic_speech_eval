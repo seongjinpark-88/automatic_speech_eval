{
 "cells": [
  {
   "cell_type": "code",
   "execution_count": 2,
   "metadata": {},
   "outputs": [
    {
     "name": "stdout",
     "output_type": "stream",
     "text": [
      "#!/bin/bash\n",
      "# Copyright 2012  Johns Hopkins University (Author: Daniel Povey)\n",
      "# Apache 2.0\n",
      "\n",
      "# Computes training alignments and (if needed) speaker-vectors, given an\n",
      "# SGMM system.  If the system is built on top of SAT, you should supply\n",
      "# transforms with the --transform-dir option.\n",
      "\n",
      "# If you supply the --use-graphs option, it will use the training\n",
      "# graphs from the source directory.\n",
      "\n",
      "# Begin configuration section.\n",
      "stage=0\n",
      "nj=8\n",
      "cmd=run.pl\n",
      "use_graphs=false # use graphs from srcdir\n",
      "use_gselect=false # use gselect info from srcdir [regardless, we use\n",
      "   # Gaussian-selection info, we might have to compute it though.]\n",
      "gselect=15  # Number of Gaussian-selection indices for SGMMs.\n",
      "# Begin configuration.\n",
      "scale_opts=\"--transition-scale=1.0 --acoustic-scale=0.1 --self-loop-scale=0.1\"\n",
      "beam=10\n",
      "retry_beam=40\n",
      "transform_dir=  # directory to find fMLLR transforms in.\n",
      "# End configuration options.\n",
      "\n",
      "echo \"$0 $@\"  # Print the command line for logging\n",
      "\n",
      "[ -f ${KALDI_PATH}/path.sh ] && . ${KALDI_PATH}/path.sh # source the path.\n",
      ". utils/parse_options.sh || exit 1;\n"
     ]
    }
   ],
   "source": [
    "head -n 30 steps/align_sgmm2.sh"
   ]
  },
  {
   "cell_type": "code",
   "execution_count": 3,
   "metadata": {},
   "outputs": [],
   "source": [
    "mkdir -p exp/asr_aligned"
   ]
  },
  {
   "cell_type": "code",
   "execution_count": 11,
   "metadata": {},
   "outputs": [
    {
     "name": "stdout",
     "output_type": "stream",
     "text": [
      "bash: compile-train-graphs: command not found\n"
     ]
    },
    {
     "ename": "",
     "evalue": "127",
     "output_type": "error",
     "traceback": []
    }
   ],
   "source": [
    "compile-train-graphs"
   ]
  },
  {
   "cell_type": "code",
   "execution_count": 12,
   "metadata": {},
   "outputs": [
    {
     "name": "stdout",
     "output_type": "stream",
     "text": [
      "steps/align_si.sh --nj 8 data/asr_dir data/lang exp/tri4 exp/asr_mono_ali\n",
      "steps/align_si.sh: expected file data/asr_dir/text to exist\n"
     ]
    },
    {
     "ename": "",
     "evalue": "1",
     "output_type": "error",
     "traceback": []
    }
   ],
   "source": [
    "mkdir -p exp/asr_mono_ali\n",
    "steps/align_si.sh --nj 8 data/asr_dir data/lang exp/tri4 exp/asr_mono_ali"
   ]
  },
  {
   "cell_type": "code",
   "execution_count": 10,
   "metadata": {},
   "outputs": [
    {
     "name": "stdout",
     "output_type": "stream",
     "text": [
      "steps/align_sgmm2.sh --nj 8 --transform-dir exp/tri3 data/asr_dir data/lang exp/sgmm2_4 exp/asr_aligned\n",
      "steps/align_sgmm2.sh: feature type is lda\n",
      "steps/align_sgmm2.sh: using transforms from exp/tri3\n",
      "steps/align_sgmm2.sh: compiling training graphs\n",
      "run.pl: 8 / 8 failed, log is in exp/asr_aligned/log/compile_graphs.*.log\n"
     ]
    },
    {
     "ename": "",
     "evalue": "1",
     "output_type": "error",
     "traceback": []
    }
   ],
   "source": [
    "steps/align_sgmm2.sh --nj 8 --transform-dir exp/tri3 data/asr_dir data/lang exp/sgmm2_4 exp/asr_aligned"
   ]
  }
 ],
 "metadata": {
  "kernelspec": {
   "display_name": "Bash",
   "language": "bash",
   "name": "bash"
  },
  "language_info": {
   "codemirror_mode": "shell",
   "file_extension": ".sh",
   "mimetype": "text/x-sh",
   "name": "bash"
  }
 },
 "nbformat": 4,
 "nbformat_minor": 2
}
