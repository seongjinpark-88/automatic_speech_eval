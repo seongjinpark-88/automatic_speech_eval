{
 "cells": [
  {
   "cell_type": "code",
   "execution_count": 2,
   "metadata": {},
   "outputs": [],
   "source": [
    ". ./cmd.sh\n",
    "[ -f path.sh ] && . ./path.sh\n",
    "set -e"
   ]
  },
  {
   "cell_type": "code",
   "execution_count": 15,
   "metadata": {},
   "outputs": [
    {
     "name": "stdout",
     "output_type": "stream",
     "text": [
      "#!/bin/bash\n",
      "# Copyright 2012  Johns Hopkins University (Author: Daniel Povey)\n",
      "# Apache 2.0\n",
      "\n",
      "# Computes training alignments and (if needed) speaker-vectors, given an\n",
      "# SGMM system.  If the system is built on top of SAT, you should supply\n",
      "# transforms with the --transform-dir option.\n",
      "\n",
      "# If you supply the --use-graphs option, it will use the training\n",
      "# graphs from the source directory.\n",
      "\n",
      "# Begin configuration section.\n",
      "stage=0\n",
      "nj=8\n",
      "cmd=\n",
      "use_graphs=false # use graphs from srcdir\n",
      "use_gselect=false # use gselect info from srcdir [regardless, we use\n",
      "   # Gaussian-selection info, we might have to compute it though.]\n",
      "gselect=15  # Number of Gaussian-selection indices for SGMMs.\n",
      "# Begin configuration.\n",
      "scale_opts=\"--transition-scale=1.0 --acoustic-scale=0.1 --self-loop-scale=0.1\"\n",
      "beam=10\n",
      "retry_beam=40\n",
      "transform_dir=  # directory to find fMLLR transforms in.\n",
      "# End configuration options.\n",
      "\n",
      "echo \"$0 $@\"  # Print the command line for logging\n",
      "\n",
      "[ -f ${KALDI_PATH}/path.sh ] && . ./path.sh # source the path.\n",
      ". utils/parse_options.sh || exit 1;\n"
     ]
    }
   ],
   "source": [
    "head -n 30 steps/align_sgmm2.sh"
   ]
  },
  {
   "cell_type": "code",
   "execution_count": 16,
   "metadata": {},
   "outputs": [],
   "source": [
    "mkdir -p exp/asr_aligned"
   ]
  },
  {
   "cell_type": "code",
   "execution_count": 17,
   "metadata": {},
   "outputs": [
    {
     "name": "stdout",
     "output_type": "stream",
     "text": [
      "bash: compile-train-graphs: command not found\n"
     ]
    },
    {
     "ename": "",
     "evalue": "127",
     "output_type": "error",
     "traceback": []
    }
   ],
   "source": [
    "compile-train-graphs"
   ]
  },
  {
   "cell_type": "code",
   "execution_count": 40,
   "metadata": {},
   "outputs": [
    {
     "name": "stdout",
     "output_type": "stream",
     "text": [
      "steps/decode.sh --nj 8 --cmd run.pl exp/tri2/graph data/asr_dir exp/tri2/asr_aligned\n",
      "decode.sh: feature type is lda\n",
      "steps/diagnostic/analyze_lats.sh --cmd run.pl exp/tri2/graph exp/tri2/asr_aligned\n",
      "steps/diagnostic/analyze_lats.sh: see stats in exp/tri2/asr_aligned/log/analyze_alignments.log\n",
      "Overall, lattice depth (10,50,90-percentile)=(9,40,154) and mean=70.6\n",
      "steps/diagnostic/analyze_lats.sh: see stats in exp/tri2/asr_aligned/log/analyze_lattice_depth_stats.log\n",
      "score.sh: no such file data/asr_dir/text\n",
      "steps/decode.sh: Scoring failed. (ignore by '--skip-scoring true')\n"
     ]
    },
    {
     "ename": "",
     "evalue": "1",
     "output_type": "error",
     "traceback": []
    }
   ],
   "source": [
    "steps/decode.sh --nj 8 --cmd run.pl \\\n",
    " exp/tri2/graph data/asr_dir exp/tri2/asr_aligned"
   ]
  },
  {
   "cell_type": "code",
   "execution_count": 41,
   "metadata": {},
   "outputs": [
    {
     "name": "stdout",
     "output_type": "stream",
     "text": [
      "steps/get_ctm.sh data/asr_dir data/lang exp/tri2/asr_aligned\n"
     ]
    }
   ],
   "source": [
    "steps/get_ctm.sh data/asr_dir data/lang exp/tri2/asr_aligned"
   ]
  },
  {
   "cell_type": "code",
   "execution_count": 42,
   "metadata": {},
   "outputs": [
    {
     "name": "stdout",
     "output_type": "stream",
     "text": [
      "steps/get_prons.sh data/asr_dir data/lang exp/tri2/asr_aligned\n",
      "steps/get_prons.sh: exp/tri2/asr_aligned/lat.1.gz exists, so starting from lattices.\n",
      "steps/get_prons.sh: done writing prons to exp/tri2/asr_aligned/prons.*.gz, silence counts in \n",
      "steps/get_prons.sh: exp/tri2/asr_aligned/sil_counts_nowb.txt and pronunciation counts in \n",
      "steps/get_prons.sh: exp/tri2/asr_aligned/pron_counts.{int,txt}\n"
     ]
    }
   ],
   "source": [
    "steps/get_prons.sh data/asr_dir data/lang exp/tri2/asr_aligned"
   ]
  },
  {
   "cell_type": "code",
   "execution_count": 43,
   "metadata": {},
   "outputs": [
    {
     "name": "stdout",
     "output_type": "stream",
     "text": [
      "\u001b[0m\u001b[01;31mlat.1.gz\u001b[0m  pron_bigram_counts_nowb.txt  \u001b[01;31mprons.7.gz\u001b[0m  \u001b[01;34mscore_18\u001b[0m\n",
      "\u001b[01;31mlat.2.gz\u001b[0m  pron_counts.int              \u001b[01;31mprons.8.gz\u001b[0m  \u001b[01;34mscore_19\u001b[0m\n",
      "\u001b[01;31mlat.3.gz\u001b[0m  pron_counts.txt              \u001b[01;34mscore_10\u001b[0m    \u001b[01;34mscore_20\u001b[0m\n",
      "\u001b[01;31mlat.4.gz\u001b[0m  pron_perutt_nowb.txt         \u001b[01;34mscore_11\u001b[0m    \u001b[01;34mscore_5\u001b[0m\n",
      "\u001b[01;31mlat.5.gz\u001b[0m  \u001b[01;31mprons.1.gz\u001b[0m                   \u001b[01;34mscore_12\u001b[0m    \u001b[01;34mscore_6\u001b[0m\n",
      "\u001b[01;31mlat.6.gz\u001b[0m  \u001b[01;31mprons.2.gz\u001b[0m                   \u001b[01;34mscore_13\u001b[0m    \u001b[01;34mscore_7\u001b[0m\n",
      "\u001b[01;31mlat.7.gz\u001b[0m  \u001b[01;31mprons.3.gz\u001b[0m                   \u001b[01;34mscore_14\u001b[0m    \u001b[01;34mscore_8\u001b[0m\n",
      "\u001b[01;31mlat.8.gz\u001b[0m  \u001b[01;31mprons.4.gz\u001b[0m                   \u001b[01;34mscore_15\u001b[0m    \u001b[01;34mscore_9\u001b[0m\n",
      "\u001b[01;34mlog\u001b[0m       \u001b[01;31mprons.5.gz\u001b[0m                   \u001b[01;34mscore_16\u001b[0m    \u001b[01;34mscoring\u001b[0m\n",
      "num_jobs  \u001b[01;31mprons.6.gz\u001b[0m                   \u001b[01;34mscore_17\u001b[0m    sil_counts_nowb.txt\n"
     ]
    }
   ],
   "source": [
    "ls exp/tri2/asr_aligned"
   ]
  },
  {
   "cell_type": "code",
   "execution_count": 4,
   "metadata": {},
   "outputs": [
    {
     "name": "stdout",
     "output_type": "stream",
     "text": [
      "S02_A-Monstrous-Shadow 1 0.000 0.170 sil \n",
      "S02_A-Monstrous-Shadow 1 0.170 0.150 m \n",
      "S02_A-Monstrous-Shadow 1 0.320 0.060 ow \n",
      "S02_A-Monstrous-Shadow 1 0.380 0.050 n \n",
      "S02_A-Monstrous-Shadow 1 0.430 0.170 sh \n",
      "S02_A-Monstrous-Shadow 1 0.600 0.040 ax \n",
      "S02_A-Monstrous-Shadow 1 0.640 0.150 r \n",
      "S02_A-Monstrous-Shadow 1 0.790 0.230 sh \n",
      "S02_A-Monstrous-Shadow 1 1.020 0.220 ax \n",
      "S02_A-Monstrous-Shadow 1 1.240 0.180 n \n"
     ]
    }
   ],
   "source": [
    "head exp/tri2/asr_aligned/score_20/asr_dir.ctm"
   ]
  },
  {
   "cell_type": "code",
   "execution_count": 12,
   "metadata": {},
   "outputs": [
    {
     "name": "stdout",
     "output_type": "stream",
     "text": [
      "S02_A-Monstrous-Shadow 1 0.000 0.170 sil \n",
      "S02_A-Monstrous-Shadow 1 0.170 0.150 m \n",
      "S02_A-Monstrous-Shadow 1 0.320 0.060 ow \n",
      "S02_A-Monstrous-Shadow 1 0.380 0.050 n \n",
      "S02_A-Monstrous-Shadow 1 0.430 0.170 sh \n",
      "S02_A-Monstrous-Shadow 1 0.600 0.040 ax \n",
      "S02_A-Monstrous-Shadow 1 0.640 0.150 r \n",
      "S02_A-Monstrous-Shadow 1 0.790 0.230 sh \n",
      "S02_A-Monstrous-Shadow 1 1.020 0.220 ax \n",
      "S02_A-Monstrous-Shadow 1 1.240 0.180 n \n"
     ]
    }
   ],
   "source": [
    "head exp/tri2/asr_aligned/score_20/asr_dir.ctm"
   ]
  },
  {
   "cell_type": "code",
   "execution_count": 9,
   "metadata": {},
   "outputs": [],
   "source": [
    "python ./local/ctm2phn.py exp/tri2/asr_aligned/score_20/asr_dir.ctm exp/tri2/asr_aligned/aligned"
   ]
  }
 ],
 "metadata": {
  "kernelspec": {
   "display_name": "Bash",
   "language": "bash",
   "name": "bash"
  },
  "language_info": {
   "codemirror_mode": "shell",
   "file_extension": ".sh",
   "mimetype": "text/x-sh",
   "name": "bash"
  }
 },
 "nbformat": 4,
 "nbformat_minor": 2
}
