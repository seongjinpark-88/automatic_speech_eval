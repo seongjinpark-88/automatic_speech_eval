{
 "cells": [
  {
   "cell_type": "markdown",
   "metadata": {},
   "source": [
    "# 1.2: Examining the *required* files\n",
    "\n",
    "Before running the script, we need to check whether all the required files are located in the correct locations. \n",
    "\n",
    "At first, you have to put timit data under timit/s5/data"
   ]
  },
  {
   "cell_type": "code",
   "execution_count": 1,
   "metadata": {},
   "outputs": [
    {
     "name": "stdout",
     "output_type": "stream",
     "text": [
      "\u001b[0m\u001b[01;34masr\u001b[0m  \u001b[01;34masr_dir\u001b[0m  \u001b[01;34mdev\u001b[0m  \u001b[01;34mlang\u001b[0m  \u001b[01;34mlang_test_bg\u001b[0m  \u001b[01;34mlocal\u001b[0m  \u001b[01;34mtest\u001b[0m  \u001b[01;34mtimit\u001b[0m  \u001b[01;34mtrain\u001b[0m\n"
     ]
    }
   ],
   "source": [
    "ls data"
   ]
  },
  {
   "cell_type": "markdown",
   "metadata": {},
   "source": [
    "## audio files\n",
    "\n",
    "audio files for training, dev, or test datasets should be located in the same directory"
   ]
  },
  {
   "cell_type": "code",
   "execution_count": 3,
   "metadata": {},
   "outputs": [
    {
     "name": "stdout",
     "output_type": "stream",
     "text": [
      "\u001b[0m\u001b[01;34mDOC\u001b[0m  README.DOC  \u001b[01;34mTEST\u001b[0m  \u001b[01;34mTRAIN\u001b[0m\n"
     ]
    }
   ],
   "source": [
    "ls data/timit/TIMIT"
   ]
  },
  {
   "cell_type": "markdown",
   "metadata": {},
   "source": [
    "The format of the audio files is also important. For the Kaldi, the audio files should be encoded with 16-bit signed little endian format. \n",
    "\n",
    "Sampling rate is also an important hyperparameter when we deal with the data file. We nomally used 44.1kHz, 22.01kHz, or 16kHz when recording participants and recorded phone-calls are usally have 8kHz sampling rate. "
   ]
  },
  {
   "cell_type": "code",
   "execution_count": 7,
   "metadata": {},
   "outputs": [
    {
     "name": "stdout",
     "output_type": "stream",
     "text": [
      "NIST_1A\n",
      "   1024\n",
      "database_id -s5 TIMIT\n",
      "database_version -s3 1.0\n",
      "utterance_id -s8 cjf0_sa1\n",
      "channel_count -i 1\n",
      "sample_count -i 46797\n",
      "sample_rate -i 16000\n",
      "sample_min -i -2191\n",
      "sample_max -i 2790\n",
      "sample_n_bytes -i 2\n",
      "sample_byte_format -s2 01\n",
      "sample_sig_bits -i 16\n",
      "end_head\n",
      "\n"
     ]
    }
   ],
   "source": [
    "head -n15 data/timit/TIMIT/TRAIN/DR1/FCJF0/SA1.WAV"
   ]
  },
  {
   "cell_type": "code",
   "execution_count": 11,
   "metadata": {},
   "outputs": [
    {
     "name": "stdout",
     "output_type": "stream",
     "text": [
      "cmvn.scp   frame_shift  spk2gender  \u001b[0m\u001b[01;34msplit10\u001b[0m  stm   utt2dur  wav.scp\n",
      "feats.scp  glm          spk2utt     \u001b[01;34msplit8\u001b[0m   text  utt2spk\n"
     ]
    }
   ],
   "source": [
    "ls data/train/"
   ]
  },
  {
   "cell_type": "code",
   "execution_count": 12,
   "metadata": {},
   "outputs": [
    {
     "name": "stdout",
     "output_type": "stream",
     "text": [
      "FAEM0_SI1392 sil ax s uw m f ao r ix vcl z ae m cl p uh l ax s ix cl ch uw ey sh en w eh er f aa r m hh eh z ax cl p ae cl k iy ng sh eh vcl d sil ae n vcl d f iy l vcl s sil\n",
      "FAEM0_SI2022 sil w ah dx aw f ix cl d uh sh iy vcl d r ay v f ao sil\n",
      "FAEM0_SI762 sil f ih l s epi m ao l hh ow l ix n vcl b ow l w ih th cl k l ey sil\n",
      "FAEM0_SX132 sil p ax vcl b l ih s ix dx iy eh n ow dx er r ay ix dx iy vcl g ow hh ae n vcl d ix n hh ae n vcl d sil\n",
      "FAEM0_SX222 sil y uw ao l w ix z cl k ax m ah cl p w ix th cl p ae th ax l aa vcl jh ix cl k el ix vcl g z ae m cl p el s sil\n",
      "FAEM0_SX312 sil dh ow z ae n s er z w el vcl b iy s cl t r ey f ao w er dx ix f y uw th iy ng cl k dh ix m th r uw cl k eh r f el iy f er s cl t sil\n",
      "FAEM0_SX402 sil w ih l s er v r uw vcl b aa r vcl p ay ae f cl t er r ey cl ch el z cl t ao cl k sil\n",
      "FAEM0_SX42 sil b ih vcl b l ih cl k el s cl k aa l er z sil aa r vcl g y uw hh ih s cl t r iy sil\n",
      "FAJW0_SI1263 sil b ow th hh ae v eh cl k s el eh n ix n ix vcl g r ey sh en ax dh er f ih s cl k el cl t ae cl s cl k el eh cl sh en y ih er cl k ae l ix n vcl d er z sil\n",
      "FAJW0_SI1893 sil ix cl t uh cl k hh ih m ax l ao ng cl t ay m cl t ax cl k m cl p ow z m s epi eh l f sil\n"
     ]
    }
   ],
   "source": [
    "head data/train/text"
   ]
  },
  {
   "cell_type": "code",
   "execution_count": 8,
   "metadata": {},
   "outputs": [
    {
     "name": "stdout",
     "output_type": "stream",
     "text": [
      "S02_A-Monstrous-Shadow /home/seongjinpark/research/git_repo/automatic_speech_eval/kaldi/egs/timit/s5/data/asr/wav/S02_A-Monstrous-Shadow.wav\n",
      "S02_Almost-All-Colleges /home/seongjinpark/research/git_repo/automatic_speech_eval/kaldi/egs/timit/s5/data/asr/wav/S02_Almost-All-Colleges.wav\n",
      "S02_An-Adult-Male /home/seongjinpark/research/git_repo/automatic_speech_eval/kaldi/egs/timit/s5/data/asr/wav/S02_An-Adult-Male.wav\n",
      "S02_Any-Organism-That /home/seongjinpark/research/git_repo/automatic_speech_eval/kaldi/egs/timit/s5/data/asr/wav/S02_Any-Organism-That.wav\n",
      "S02_Are-You-Looking /home/seongjinpark/research/git_repo/automatic_speech_eval/kaldi/egs/timit/s5/data/asr/wav/S02_Are-You-Looking.wav\n"
     ]
    }
   ],
   "source": [
    "head -n 5 data/asr_dir/wav.scp"
   ]
  },
  {
   "cell_type": "code",
   "execution_count": 9,
   "metadata": {},
   "outputs": [
    {
     "name": "stdout",
     "output_type": "stream",
     "text": [
      "S02_A-Monstrous-Shadow S02\n",
      "S02_Almost-All-Colleges S02\n",
      "S02_An-Adult-Male S02\n",
      "S02_Any-Organism-That S02\n",
      "S02_Are-You-Looking S02\n"
     ]
    }
   ],
   "source": [
    "head -n 5 data/asr_dir/utt2spk"
   ]
  },
  {
   "cell_type": "code",
   "execution_count": 11,
   "metadata": {},
   "outputs": [
    {
     "name": "stdout",
     "output_type": "stream",
     "text": [
      "S02 S02_A-Monstrous-Shadow S02_Almost-All-Colleges S02_An-Adult-Male S02_Any-Organism-That S02_Are-You-Looking S02_Before-Thursdays-Exam S02_Carl-Lives-In S02_Combine-All-The S02_Continental-Drift-Is S02_Did-Shawn-Catch S02_Dont-Ask-Me S02_Gently-Place-Jims S02_George-And-Tom S02_Gregory-And-Tom S02_He-Ate-Four S02_He-Shrugged-Casually S02_How-Oily-Do S02_How-Permanent-Are S02_In-Every-Major S02_In-The-Long S02_It-Took-Him S02_Military-Personnel-Are S02_Nothing-Has-Been S02_Of-Course-Dear S02_Only-The-Most S02_Pam-Gives-Driving S02_Ralph-Prepared-Red S02_She-Had-Your S02_Steve-Collects-Rare S02_The-Moisture-In S02_The-Small-Boy S02_The-Surplus-Shoes S02_The-Tooth-Fairy S02_They-All-Like S02_They-Enjoy-It S02_They-Were-Already S02_Those-Answers-Will S02_Thus-Technical-Efficiency S02_Too-Much-Curiosity S02_Tradition-Requires-Parental S02_Try-To-Recall\n",
      "S03 S03_A-Monstrous-Shadow S03_Almost-All-Colleges S03_An-Adult-Male S03_Any-Organism-That S03_Are-You-Looking S03_Before-Thursdays-Exam S03_Carl-Lives-In S03_Combine-All-The S03_Continental-Drift-Is S03_Did-Shawn-Catch S03_Dont-Ask-Me S03_Gently-Place-Jims S03_Gregory-And-Tom S03_He-Ate-Four S03_He-Shrugged-Casually S03_How-Oily-Do S03_How-Permanent-Are S03_In-Every-Major S03_In-The-Long S03_It-Took-Him S03_Military-Personnel-Are S03_Nothing-Has-Been S03_Of-Course-Dear S03_Only-The-Most S03_Pam-Gives-Driving S03_Ralph-Prepared-Red S03_She-Had-Your S03_Steve-Collects-Rare S03_The-Moisture-In S03_The-Small-Boy S03_The-Surplus-Shoes S03_The-Tooth-Fairy S03_They-All-Like S03_They-Enjoy-It S03_They-Were-Already S03_Those-Answers-Will S03_Thus-Technical-Efficiency S03_Too-Much-Curiosity S03_Tradition-Requires-Parental S03_Try-To-Recall\n",
      "S04 S04_A-Monstrous-Shadow S04_Almost-All-Colleges S04_An-Adult-Male S04_Any-Organism-That S04_Are-You-Looking S04_Before-Thursdays-Exam S04_Carl-Lives-In S04_Combine-All-The S04_Continental-Drift-Is S04_Did-Shawn-Catch S04_Dont-Ask-Me S04_Gently-Place-Jims S04_Gregory-And-Tom S04_He-Ate-Four S04_He-Shrugged-Casually S04_How-Oily-Do S04_How-Permanent-Are S04_In-Every-Major S04_In-The-Long S04_It-Took-Him S04_Military-Personnel-Are S04_Nothing-Has-Been S04_Of-Course-Dear S04_Only-The-Most S04_Pam-Gives-Driving S04_Ralph-Prepared-Red S04_She-Had-Your S04_Steve-Collects-Rare S04_The-Moisture-In S04_The-Small-Boy S04_The-Surplus-Shoes S04_The-Tooth-Fairy S04_They-All-Like S04_They-Enjoy-It S04_They-Were-Already S04_Those-Answers-Will S04_Thus-Technical-Efficiency S04_Too-Much-Curiosity S04_Tradition-Requires-Parental S04_Try-To-Recall\n",
      "S05 S05_A-Monstrous-Shadow S05_Almost-All-Colleges S05_An-Adult-Male S05_Any-Organism-That S05_Are-You-Looking S05_Before-Thursdays-Exam S05_Carl-Lives-In S05_Combine-All-The S05_Continental-Drift-Is S05_Did-Shawn-Catch S05_Dont-Ask-Me S05_Gently-Place-Jims S05_Gregory-And-Tom S05_He-Ate-Four S05_He-Shrugged-Casually S05_How-Oily-Do S05_How-Permanent-Are S05_In-Every-Major S05_In-The-Long S05_It-Took-Him S05_Military-Personnel-Are S05_Nothing-Has-Been S05_Of-Course-Dear S05_Only-The-Most S05_Pam-Gives-Driving S05_Ralph-Prepared-Red S05_She-Had-Your S05_Steve-Collects-Rare S05_The-Moisture-In S05_The-Small-Boy S05_The-Surplus-Shoes S05_The-Tooth-Fairy S05_They-All-Like S05_They-Enjoy-It S05_They-Were-Already S05_Those-Answers-Will S05_Thus-Technical-Efficiency S05_Too-Much-Curiosity S05_Tradition-Requires-Parental S05_Try-To-Recall\n",
      "S07 S07_A-Monstrous-Shadow S07_Almost-All-Colleges S07_An-Adult-Male S07_Any-Organism-That S07_Are-You-Looking S07_Before-Thursdays-Exam S07_Carl-Lives-In S07_Combine-All-The S07_Continental-Drift-Is S07_Did-Shawn-Catch S07_Dont-Ask-Me S07_Gently-Place-Jims S07_Gregory-And-Tom S07_He-Ate-Four S07_He-Shrugged-Casually S07_How-Oily-Do S07_How-Permanent-Are S07_In-Every-Major S07_In-The-Long S07_It-Took-Him S07_Military-Personnel-Are S07_Nothing-Has-Been S07_Of-Course-Dear S07_Only-The-Most S07_Pam-Gives-Driving S07_Ralph-Prepared-Red S07_She-Had-Your S07_Steve-Collects-Rare S07_The-Moisture-In S07_The-Small-Boy S07_The-Surplus-Shoes S07_The-Tooth-Fairy S07_They-All-Like S07_They-Enjoy-It S07_They-Were-Already S07_Those-Answers-Will S07_Thus-Technical-Efficiency S07_Too-Much-Curiosity S07_Tradition-Requires-Parental S07_Try-To-Recall\n",
      "S08 S08_A-Monstrous-Shadow S08_Almost-All-Colleges S08_An-Adult-Male S08_Any-Organism-That S08_Are-You-Looking S08_Before-Thursdays-Exam S08_Carl-Lives-In S08_Combine-All-The S08_Continental-Drift-Is S08_Did-Shawn-Catch S08_Dont-Ask-Me S08_Gently-Place-Jims S08_Gregory-And-Tom S08_He-Ate-Four S08_He-Shrugged-Casually S08_How-Oily-Do S08_How-Permanent-Are S08_In-Every-Major S08_In-The-Long S08_It-Took-Him S08_Military-Personnel-Are S08_Nothing-Has-Been S08_Of-Course-Dear S08_Only-The-Most S08_Pam-Gives-Driving S08_Ralph-Prepared-Red S08_She-Had-Your S08_Steve-Collects-Rare S08_The-Moisture-In S08_The-Small-Boy S08_The-Surplus-Shoes S08_The-Tooth-Fairy S08_They-All-Like S08_They-Enjoy-It S08_They-Were-Already S08_Those-Answers-Will S08_Thus-Technical-Efficiency S08_Too-Much-Curiosity S08_Tradition-Requires-Parental S08_Try-To-Recall\n",
      "S09 S09_A-Monstrous-Shadow S09_Almost-All-Colleges S09_An-Adult-Male S09_Any-Organism-That S09_Are-You-Looking S09_Before-Thursdays-Exam S09_Carl-Lives-In S09_Combine-All-The S09_Continental-Drift-Is S09_Did-Shawn-Catch S09_Dont-Ask-Me S09_Gently-Place-Jims S09_Gregory-And-Tom S09_He-Ate-Four S09_He-Shrugged-Casually S09_How-Oily-Do S09_How-Permanent-Are S09_In-Every-Major S09_In-The-Long S09_It-Took-Him S09_Military-Personnel-Are S09_Nothing-Has-Been S09_Of-Course-Dear S09_Only-The-Most S09_Pam-Gives-Driving S09_Ralph-Prepared-Red S09_She-Had-Your S09_Steve-Collects-Rare S09_The-Moisture-In S09_The-Small-Boy S09_The-Surplus-Shoes S09_The-Tooth-Fairy S09_They-All-Like S09_They-Enjoy-It S09_They-Were-Already S09_Those-Answers-Will S09_Thus-Technical-Efficiency S09_Too-Much-Curiosity S09_Tradition-Requires-Parental S09_Try-To-Recall\n",
      "S19 S19_A-Monstrous-Shadow S19_Almost-All-Colleges S19_An-Adult-Male S19_Any-Organism-That S19_Are-You-Looking S19_Before-Thursdays-Exam S19_Carl-Lives-In S19_Combine-All-The S19_Continental-Drift-Is S19_Did-Shawn-Catch S19_Dont-Ask-Me S19_Gently-Place-Jims S19_Gregory-And-Tom S19_He-Ate-Four S19_He-Shrugged-Casually S19_How-Oily-Do S19_How-Permanent-Are S19_In-Every-Major S19_In-The-Long S19_It-Took-Him S19_Military-Personnel-Are S19_Nothing-Has-Been S19_Of-Course-Dear S19_Only-The-Most S19_Pam-Gives-Driving S19_Ralph-Prepared-Red S19_She-Had-Your S19_Steve-Collects-Rare S19_The-Moisture-In S19_The-Small-Boy S19_The-Surplus-Shoes S19_The-Tooth-Fairy S19_They-All-Like S19_They-Enjoy-It S19_They-Were-Already S19_Those-Answers-Will S19_Thus-Technical-Efficiency S19_Too-Much-Curiosity S19_Tradition-Requires-Parental S19_Try-To-Recall\n",
      "S21 S21_A-Monstrous-Shadow S21_Almost-All-Colleges S21_An-Adult-Male S21_Any-Organism-That S21_Are-You-Looking S21_Before-Thursdays-Exam S21_Carl-Lives-In S21_Combine-All-The S21_Continental-Drift-Is S21_Did-Shawn-Catch S21_Dont-Ask-Me S21_Gently-Place-Jims S21_Gregory-And-Tom S21_He-Ate-Four S21_He-Shrugged-Casually S21_How-Oily-Do S21_How-Permanent-Are S21_In-Every-Major S21_In-The-Long S21_It-Took-Him S21_Military-Personnel-Are S21_Nothing-Has-Been S21_Of-Course-Dear S21_Only-The-Most S21_Pam-Gives-Driving S21_Ralph-Prepared-Red S21_She-Had-Your S21_Steve-Collects-Rare S21_The-Moisture-In S21_The-Small-Boy S21_The-Surplus-Shoes S21_The-Tooth-Fairy S21_They-All-Like S21_They-Enjoy-It S21_They-Were-Already S21_Those-Answers-Will S21_Thus-Technical-Efficiency S21_Too-Much-Curiosity S21_Tradition-Requires-Parental S21_Try-To-Recall\n",
      "S22 S22_A-Monstrous-Shadow S22_Almost-All-Colleges S22_An-Adult-Male S22_Any-Organism-That S22_Are-You-Looking S22_Before-Thursdays-Exam S22_Carl-Lives-In S22_Combine-All-The S22_Continental-Drift-Is S22_Did-Shawn-Catch S22_Dont-Ask-Me S22_Gently-Place-Jims S22_Gregory-And-Tom S22_He-Ate-Four S22_He-Shrugged-Casually S22_How-Oily-Do S22_How-Permanent-Are S22_In-Every-Major S22_In-The-Long S22_It-Took-Him S22_Military-Personnel-Are S22_Nothing-Has-Been S22_Of-Course-Dear S22_Only-The-Most S22_Pam-Gives-Driving S22_Ralph-Prepared-Red S22_She-Had-Your S22_Steve-Collects-Rare S22_The-Moisture-In S22_The-Small-Boy S22_The-Surplus-Shoes S22_The-Tooth-Fairy S22_They-All-Like S22_They-Enjoy-It S22_They-Were-Already S22_Those-Answers-Will S22_Thus-Technical-Efficiency S22_Too-Much-Curiosity S22_Tradition-Requires-Parental S22_Try-To-Recall\n"
     ]
    }
   ],
   "source": [
    "head data/asr_dir/spk2utt"
   ]
  }
 ],
 "metadata": {
  "kernelspec": {
   "display_name": "Bash",
   "language": "bash",
   "name": "bash"
  },
  "language_info": {
   "codemirror_mode": "shell",
   "file_extension": ".sh",
   "mimetype": "text/x-sh",
   "name": "bash"
  }
 },
 "nbformat": 4,
 "nbformat_minor": 2
}
