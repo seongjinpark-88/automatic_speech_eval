{
 "cells": [
  {
   "cell_type": "code",
   "execution_count": 3,
   "metadata": {},
   "outputs": [
    {
     "name": "stdout",
     "output_type": "stream",
     "text": [
      "#!/bin/bash\r\n",
      "# Copyright 2012  Johns Hopkins University (Author: Daniel Povey)\r\n",
      "# Apache 2.0\r\n",
      "\r\n",
      "# Computes training alignments and (if needed) speaker-vectors, given an\r\n",
      "# SGMM system.  If the system is built on top of SAT, you should supply\r\n",
      "# transforms with the --transform-dir option.\r\n",
      "\r\n",
      "# If you supply the --use-graphs option, it will use the training\r\n",
      "# graphs from the source directory.\r\n",
      "\r\n",
      "# Begin configuration section.\r\n",
      "stage=0\r\n",
      "nj=4\r\n",
      "cmd=run.pl\r\n",
      "use_graphs=false # use graphs from srcdir\r\n",
      "use_gselect=false # use gselect info from srcdir [regardless, we use\r\n",
      "   # Gaussian-selection info, we might have to compute it though.]\r\n",
      "gselect=15  # Number of Gaussian-selection indices for SGMMs.\r\n",
      "# Begin configuration.\r\n",
      "scale_opts=\"--transition-scale=1.0 --acoustic-scale=0.1 --self-loop-scale=0.1\"\r\n",
      "beam=10\r\n",
      "retry_beam=40\r\n",
      "transform_dir=  # directory to find fMLLR transforms in.\r\n",
      "# End configuration options.\r\n",
      "\r\n",
      "echo \"$0 $@\"  # Print the command line for logging\r\n",
      "\r\n",
      "[ -f ${KALDI_PATH}/path.sh ] && . ${KALDI_PATH}/path.sh # source the path.\r\n",
      ". ${KALDI_PATH}/utils/parse_options.sh || exit 1;\r\n"
     ]
    }
   ],
   "source": [
    "!head -n 30 steps/align_sgmm2.sh"
   ]
  },
  {
   "cell_type": "code",
   "execution_count": null,
   "metadata": {},
   "outputs": [],
   "source": [
    "%%bash\n",
    "mkdir exp/test_aligned\n",
    "steps/align_sgmm2.sh --nj 4 data/"
   ]
  }
 ],
 "metadata": {
  "kernelspec": {
   "display_name": "Python 2",
   "language": "python",
   "name": "python2"
  },
  "language_info": {
   "codemirror_mode": {
    "name": "ipython",
    "version": 2
   },
   "file_extension": ".py",
   "mimetype": "text/x-python",
   "name": "python",
   "nbconvert_exporter": "python",
   "pygments_lexer": "ipython2",
   "version": "2.7.12"
  }
 },
 "nbformat": 4,
 "nbformat_minor": 2
}
