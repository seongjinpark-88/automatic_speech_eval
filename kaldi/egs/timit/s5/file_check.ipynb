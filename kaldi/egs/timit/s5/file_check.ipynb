{
 "cells": [
  {
   "cell_type": "code",
   "execution_count": 17,
   "metadata": {},
   "outputs": [
    {
     "name": "stdout",
     "output_type": "stream",
     "text": [
      "extra_questions.txt  nonsilence_phones.txt  silence_phones.txt\r\n",
      "lexicon.txt\t     optional_silence.txt\r\n",
      "lexiconp.txt\t     phones.txt\r\n"
     ]
    }
   ],
   "source": [
    "!ls data/local/dict"
   ]
  },
  {
   "cell_type": "code",
   "execution_count": 12,
   "metadata": {},
   "outputs": [
    {
     "name": "stdout",
     "output_type": "stream",
     "text": [
      "DR1  DR2  DR3  DR4  DR5  DR6  DR7  DR8\r\n"
     ]
    }
   ],
   "source": [
    "!ls data/timit/TIMIT/TEST"
   ]
  },
  {
   "cell_type": "code",
   "execution_count": 8,
   "metadata": {},
   "outputs": [
    {
     "name": "stdout",
     "output_type": "stream",
     "text": [
      "SA1.PHN  SA2.WAV     SI2203.PHN  SI943.WAV  SX223.PHN  SX313.WAV  SX43.PHN\r\n",
      "SA1.TXT  SA2.WRD     SI2203.TXT  SI943.WRD  SX223.TXT  SX313.WRD  SX43.TXT\r\n",
      "SA1.WAV  SI1573.PHN  SI2203.WAV  SX133.PHN  SX223.WAV  SX403.PHN  SX43.WAV\r\n",
      "SA1.WRD  SI1573.TXT  SI2203.WRD  SX133.TXT  SX223.WRD  SX403.TXT  SX43.WRD\r\n",
      "SA2.PHN  SI1573.WAV  SI943.PHN\t SX133.WAV  SX313.PHN  SX403.WAV\r\n",
      "SA2.TXT  SI1573.WRD  SI943.TXT\t SX133.WRD  SX313.TXT  SX403.WRD\r\n"
     ]
    }
   ],
   "source": [
    "!ls data/timit/TIMIT/TEST/DR1/FAKS0"
   ]
  },
  {
   "cell_type": "code",
   "execution_count": 11,
   "metadata": {},
   "outputs": [
    {
     "name": "stdout",
     "output_type": "stream",
     "text": [
      "0 63488 She had your dark suit in greasy wash water all year.\n",
      "9640 12783 she\n",
      "12783 17103 had\n",
      "17103 18760 your\n",
      "18760 24104 dark\n",
      "24104 29179 suit\n",
      "29179 31880 in\n",
      "31880 38568 greasy\n",
      "38568 45119 wash\n",
      "45624 51033 water\n",
      "52378 55461 all\n",
      "0 9640 h#\n",
      "9640 11240 sh\n",
      "11240 12783 iy\n",
      "12783 14078 hv\n",
      "14078 16157 ae\n",
      "16157 16880 dcl\n",
      "16880 17103 d\n",
      "17103 17587 y\n",
      "17587 18760 er\n",
      "18760 19720 dcl\n"
     ]
    }
   ],
   "source": [
    "!head data/timit/TIMIT/TEST/DR1/FAKS0/SA1.TXT\n",
    "!head data/timit/TIMIT/TEST/DR1/FAKS0/SA1.WRD\n",
    "!head data/timit/TIMIT/TEST/DR1/FAKS0/SA1.PHN"
   ]
  },
  {
   "cell_type": "code",
   "execution_count": 2,
   "metadata": {},
   "outputs": [
    {
     "name": "stdout",
     "output_type": "stream",
     "text": [
      "cmvn.scp\r\n",
      "feats.scp\r\n",
      "glm\r\n",
      "spk2gender\r\n",
      "spk2utt\r\n",
      "split10\r\n",
      "split4\r\n",
      "stm\r\n",
      "text\r\n",
      "utt2spk\r\n"
     ]
    }
   ],
   "source": [
    "!ls data/test | head"
   ]
  },
  {
   "cell_type": "code",
   "execution_count": 7,
   "metadata": {},
   "outputs": [
    {
     "name": "stdout",
     "output_type": "stream",
     "text": [
      "data/timit/TIMIT/TEST/DR1/FAKS0/SA1.WAV: NIST SPHERE file\r\n"
     ]
    }
   ],
   "source": [
    "!file data/timit/TIMIT/TEST/DR1/FAKS0/SA1.WAV"
   ]
  }
 ],
 "metadata": {
  "kernelspec": {
   "display_name": "Python 2",
   "language": "python",
   "name": "python2"
  },
  "language_info": {
   "codemirror_mode": {
    "name": "ipython",
    "version": 2
   },
   "file_extension": ".py",
   "mimetype": "text/x-python",
   "name": "python",
   "nbconvert_exporter": "python",
   "pygments_lexer": "ipython2",
   "version": "2.7.12"
  }
 },
 "nbformat": 4,
 "nbformat_minor": 2
}
