{
 "cells": [
  {
   "cell_type": "markdown",
   "metadata": {},
   "source": [
    "# 2.1: `run_prepare_data.sh` - Building the `data` directory"
   ]
  },
  {
   "cell_type": "markdown",
   "metadata": {},
   "source": [
    "## Setting `kaldi_config.json`"
   ]
  },
  {
   "cell_type": "markdown",
   "metadata": {},
   "source": [
    "`kaldi_config.json` 파일은 pipeline에서 사용되는 `shell` 스크립트의 논항들을 쉽게 변경할 수 있도록 정리해둔 파일입니다. `kaldi_config.json` 파일의 첫 번째 부분을 변경하여 `run_prepare_data.sh`에 다음과 같이 적절한 논항들이 적용되도록 합시다. \n",
    " - using the `dev-clean` as the `train` subset\n",
    " - using the `test-clean` as the `test` subset\n",
    " - using the `3-gram.pruned.3e-7.arpa` language model\n",
    " \n",
    "**Note:** 이 설정이 가장 좋은 결과를 내는 설정은 아니지만, 워크샵을 위해 가장 빠르게 작동하는 데이터를 사용하도록 설정합니다. \n",
    "\n",
    "`run_prepare_data.sh` 파일의 첫 부분을 확인하면 해당 스크립트가 어떠한 논항을 가지는지 확인할 수 있습니다. "
   ]
  },
  {
   "cell_type": "code",
   "execution_count": null,
   "metadata": {},
   "outputs": [],
   "source": [
    "head -n30 run_prepare_data.sh"
   ]
  },
  {
   "cell_type": "markdown",
   "metadata": {},
   "source": [
    "## Running `run_prepare_data.sh`"
   ]
  },
  {
   "cell_type": "markdown",
   "metadata": {},
   "source": [
    "`run_prepare_data.sh` 파일을 실행하세요. 결과를 쭉 살펴보고, 중간에 에러가 발생하지 않았는지 확인하세요. \n",
    "\n",
    "**Note:** 만약 이 단계를 이전에 실행한 적이 있다면, `data` 폴더를 완전히 제거한 이후 실행해주세요. (`rm -r data/`)"
   ]
  },
  {
   "cell_type": "code",
   "execution_count": null,
   "metadata": {},
   "outputs": [],
   "source": [
    "./run_prepare_data.sh kaldi_config.json"
   ]
  },
  {
   "cell_type": "markdown",
   "metadata": {},
   "source": [
    "다음 `jupyter notebook`에서 결과물을 살펴보도록 하겠습니다. "
   ]
  }
 ],
 "metadata": {
  "kernelspec": {
   "display_name": "Bash",
   "language": "bash",
   "name": "bash"
  },
  "language_info": {
   "codemirror_mode": "shell",
   "file_extension": ".sh",
   "mimetype": "text/x-sh",
   "name": "bash"
  }
 },
 "nbformat": 4,
 "nbformat_minor": 2
}
