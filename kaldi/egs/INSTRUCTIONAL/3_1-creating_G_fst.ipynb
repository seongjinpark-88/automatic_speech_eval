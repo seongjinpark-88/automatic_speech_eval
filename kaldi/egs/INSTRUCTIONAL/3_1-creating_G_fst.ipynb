{
 "cells": [
  {
   "cell_type": "markdown",
   "metadata": {},
   "source": [
    "# 3.1: Creating `G.fst`"
   ]
  },
  {
   "cell_type": "markdown",
   "metadata": {},
   "source": [
    "`kaldi`의 `decoding` 단계(실제로 음성 파일을 `kaldi`에서 인식할 때)는 실제로는 이전에 만들어 놓은 큰 모델을 시작점부터 훑어 나가는 과정입니다. 이 과정은 나중에 더욱 자세하게 살펴보겠지만, 지금은 우리가 구축한 language model을 `FST`의 개념을 이용하여 살펴보도록 하겠습니다. \n",
    "\n",
    "이 과정은 [이 포스트](https://williamhartmann.wordpress.com/2014/02/02/converting-a-language-model-to-a-finite-state-transducer/)에 자세하게 설명되어 있습니다. "
   ]
  },
  {
   "cell_type": "markdown",
   "metadata": {},
   "source": [
    "`C++` 기능들을 편하게 사용하기 위해, `path.sh` 파일을 사용하도록 하겠습니다. "
   ]
  },
  {
   "cell_type": "code",
   "execution_count": null,
   "metadata": {},
   "outputs": [],
   "source": [
    ". path.sh"
   ]
  },
  {
   "cell_type": "markdown",
   "metadata": {},
   "source": [
    "그리고 `arpa2fst`라는 기능을 사용하여서, 이전에 구축한 `ARPA` 포맷의 language model을 `FST`로 변환하도록 하겠습니다. "
   ]
  },
  {
   "cell_type": "code",
   "execution_count": null,
   "metadata": {},
   "outputs": [],
   "source": [
    "arpa2fst"
   ]
  },
  {
   "cell_type": "code",
   "execution_count": null,
   "metadata": {},
   "outputs": [],
   "source": [
    "arpa2fst resource_files/language_model/animal_lm-2_gram.arpa resource_files/fst/animal_fst-2_gram.fst"
   ]
  },
  {
   "cell_type": "markdown",
   "metadata": {},
   "source": [
    "`kaldi`는 `decoding` 과정에서 [`openFST`](http://www.openfst.org/twiki/bin/view/FST/WebHome)를 이용하며, 추가적으로 `arpa2fst`와 같은 기능들을 사용합니다. `FST`를 자세하게 살펴보기 위해서, `openFST`라는 기능을 `python`을 이용해서 사용하겠습니다. 지금은 만들어진 `FST`의 대략적인 정보를 `fstinfo`라는 기능을 이용해서 살펴보겠습니다. \n",
    "\n",
    "**Note:** 이미 `path.sh`를 통해서 경로값들을 미리 설정하였기 때문에, `openFST` 또한 경로를 명시하지 않고 사용할 수 있습니다. "
   ]
  },
  {
   "cell_type": "code",
   "execution_count": null,
   "metadata": {},
   "outputs": [],
   "source": [
    "fstinfo --help"
   ]
  },
  {
   "cell_type": "markdown",
   "metadata": {},
   "source": [
    "`FST` 파일을 새로운 디렉토리인 `resource_files/fst`에 저장하도록 하겠습니다. "
   ]
  },
  {
   "cell_type": "code",
   "execution_count": null,
   "metadata": {},
   "outputs": [],
   "source": [
    "fstinfo resource_files/fst/animal_fst-2_gram.fst"
   ]
  },
  {
   "cell_type": "markdown",
   "metadata": {},
   "source": [
    "다음 `notebook`에서 `FST`의 세부 내용을 살펴보겠습니다. "
   ]
  }
 ],
 "metadata": {
  "kernelspec": {
   "display_name": "Bash",
   "language": "bash",
   "name": "bash"
  },
  "language_info": {
   "codemirror_mode": "shell",
   "file_extension": ".sh",
   "mimetype": "text/x-sh",
   "name": "bash"
  }
 },
 "nbformat": 4,
 "nbformat_minor": 2
}
