{
 "cells": [
  {
   "cell_type": "markdown",
   "metadata": {},
   "source": [
    "# 4.2: `run_test.sh` - Decoding the `test` set using `triphones` acoustic model\n",
    "\n",
    "이번에는 `triphone` acoustic model을 이용하여 decoding을 진행하겠습니다. "
   ]
  },
  {
   "cell_type": "markdown",
   "metadata": {},
   "source": [
    "## Setting `kaldi_config.json`\n",
    "\n",
    "Decoding을 시작하기 전에 `kaldi_config.json` 파일에서 `run_test` 부분을 다음과 같이 수정하겠습니다.\n",
    "\n",
    " - `graph_dir`=`exp/triphones/graph`  # will use the HCLG from the triphones acoustic model\n",
    " - `data_test_dir`=`data/test_dir`     # location of already-processed (during run_prepare_data.sh) test data\n",
    " - `decode_dir`=`exp/triphones/decode_test_dir`         # location to house all logs and output files\n",
    " - `weight`=`10`         # default value for language modeling weight\n",
    " - `beam`=`6.0`          # default value for beam search \n",
    " - `max_active`=`7000`   # default value for max_active nodes\n",
    " - `save_to`=`exp/experiments/default_experiment_triphones`   # location to save results and predicted transcripts\n",
    " - `non_vanilla_lda_mllt_align_hyperparameters`=`null`"
   ]
  },
  {
   "cell_type": "code",
   "execution_count": 1,
   "metadata": {},
   "outputs": [
    {
     "name": "stdout",
     "output_type": "stream",
     "text": [
      "#!/usr/bin/env bash\n",
      "\n",
      "# This script will generate predicted transcriptions for test data found in `data/test_dir`\n",
      "\n",
      "# ARGUMENTS\n",
      "### REQUIRED\n",
      "# -g <path> = full path to graph directory, default=`exp/triphones/graph/`\n",
      "# -t <path> = full path to test data dir, default=`data/test_dir/`\n",
      "# -d <path> = full path to experiment directory; parent directory must contain final.mdl\n",
      "### OPTIONAL\n",
      "# -j <int> = number of processors to use, default=2\n",
      "# -w <int> = language model weight to use when returning transcription, default = `10`\n",
      "# -b <float> = size of beam during graph traversal\n",
      "# -m <int> = maximum number of active nodes in graph\n",
      "# -q <string> = non-vanilla hyperparameters to `decode.sh` or `decode_fmllr.sh`, in the form \"--beam 20\"\n",
      "# -z <string> = full path to experiment folder to save all important data\n",
      "\n",
      "# OUTPUTS\n",
      "# Creates one or more subdirectories in `data/test_dir/split*/` equal to setting of `-j` where\n",
      "# files are copied for each parallel process\n",
      "# Creates a `decode_test_dir` directory, housing logs and all output files\n",
      "\n"
     ]
    }
   ],
   "source": [
    "head -n22 run_test.sh"
   ]
  },
  {
   "cell_type": "markdown",
   "metadata": {},
   "source": [
    "## Running `run_test.sh`\n",
    "\n",
    "`run_test.sh` 스크립트를 실행하겠습니다. "
   ]
  },
  {
   "cell_type": "code",
   "execution_count": 2,
   "metadata": {},
   "outputs": [
    {
     "name": "stdout",
     "output_type": "stream",
     "text": [
      "Timestamp in HH:MM:SS (24 hour format)\n",
      "01:32:08\n",
      "\n",
      "/scratch/kaldi/egs/INSTRUCTIONAL/steps/decode.sh --model exp/triphones/final.mdl --nj 4 --beam 6.0 --max_active 7000 --scoring-opts --min-lmwt 8 --max-lmwt 12 exp/triphones/graph data/test_dir/ exp/triphones/decode_test_dir\n",
      "decode.sh: feature type is delta\n",
      "/scratch/kaldi/egs/INSTRUCTIONAL/steps/diagnostic/analyze_lats.sh --acwt 0.12 exp/triphones/graph exp/triphones/decode_test_dir\n",
      "/scratch/kaldi/egs/INSTRUCTIONAL/steps/diagnostic/analyze_lats.sh: see stats in exp/triphones/decode_test_dir/log/analyze_alignments.log\n",
      "Overall, lattice depth (10,50,90-percentile)=(1,3,12) and mean=5.3\n",
      "/scratch/kaldi/egs/INSTRUCTIONAL/steps/diagnostic/analyze_lats.sh: see stats in exp/triphones/decode_test_dir/log/analyze_lattice_depth_stats.log\n",
      "/scratch/kaldi/egs/INSTRUCTIONAL/steps/diagnostic/analyze_lats.sh --acwt 0.11 exp/triphones/graph exp/triphones/decode_test_dir\n",
      "/scratch/kaldi/egs/INSTRUCTIONAL/steps/diagnostic/analyze_lats.sh: see stats in exp/triphones/decode_test_dir/log/analyze_alignments.log\n",
      "Overall, lattice depth (10,50,90-percentile)=(1,3,12) and mean=5.3\n",
      "/scratch/kaldi/egs/INSTRUCTIONAL/steps/diagnostic/analyze_lats.sh: see stats in exp/triphones/decode_test_dir/log/analyze_lattice_depth_stats.log\n",
      "/scratch/kaldi/egs/INSTRUCTIONAL/steps/diagnostic/analyze_lats.sh --acwt 0.10 exp/triphones/graph exp/triphones/decode_test_dir\n",
      "/scratch/kaldi/egs/INSTRUCTIONAL/steps/diagnostic/analyze_lats.sh: see stats in exp/triphones/decode_test_dir/log/analyze_alignments.log\n",
      "Overall, lattice depth (10,50,90-percentile)=(1,3,12) and mean=5.3\n",
      "/scratch/kaldi/egs/INSTRUCTIONAL/steps/diagnostic/analyze_lats.sh: see stats in exp/triphones/decode_test_dir/log/analyze_lattice_depth_stats.log\n",
      "/scratch/kaldi/egs/INSTRUCTIONAL/steps/diagnostic/analyze_lats.sh --acwt 0.09 exp/triphones/graph exp/triphones/decode_test_dir\n",
      "/scratch/kaldi/egs/INSTRUCTIONAL/steps/diagnostic/analyze_lats.sh: see stats in exp/triphones/decode_test_dir/log/analyze_alignments.log\n",
      "Overall, lattice depth (10,50,90-percentile)=(1,3,12) and mean=5.3\n",
      "/scratch/kaldi/egs/INSTRUCTIONAL/steps/diagnostic/analyze_lats.sh: see stats in exp/triphones/decode_test_dir/log/analyze_lattice_depth_stats.log\n",
      "/scratch/kaldi/egs/INSTRUCTIONAL/steps/diagnostic/analyze_lats.sh --acwt 0.08 exp/triphones/graph exp/triphones/decode_test_dir\n",
      "/scratch/kaldi/egs/INSTRUCTIONAL/steps/diagnostic/analyze_lats.sh: see stats in exp/triphones/decode_test_dir/log/analyze_alignments.log\n",
      "Overall, lattice depth (10,50,90-percentile)=(1,3,12) and mean=5.3\n",
      "/scratch/kaldi/egs/INSTRUCTIONAL/steps/diagnostic/analyze_lats.sh: see stats in exp/triphones/decode_test_dir/log/analyze_lattice_depth_stats.log\n",
      "\n",
      "Time to decode and score in MM:SS\n",
      "2:29\n",
      "\n",
      "exp/triphones/decode_test_dir/wer_10:%WER 39.01 [ 2266 / 5809, 355 ins, 201 del, 1710 sub ] [PARTIAL]\n",
      "exp/triphones/decode_test_dir/wer_11:%WER 38.72 [ 2249 / 5809, 335 ins, 213 del, 1701 sub ] [PARTIAL]\n",
      "exp/triphones/decode_test_dir/wer_12:%WER 38.42 [ 2232 / 5809, 323 ins, 221 del, 1688 sub ] [PARTIAL]\n",
      "exp/triphones/decode_test_dir/wer_8:%WER 40.18 [ 2334 / 5809, 393 ins, 186 del, 1755 sub ] [PARTIAL]\n",
      "exp/triphones/decode_test_dir/wer_9:%WER 39.35 [ 2286 / 5809, 370 ins, 191 del, 1725 sub ] [PARTIAL]\n",
      "\n",
      "exp/triphones/decode_test_dir/wer_10:%SER 96.40 [ 241 / 250 ]\n",
      "exp/triphones/decode_test_dir/wer_11:%SER 96.40 [ 241 / 250 ]\n",
      "exp/triphones/decode_test_dir/wer_12:%SER 96.40 [ 241 / 250 ]\n",
      "exp/triphones/decode_test_dir/wer_8:%SER 96.40 [ 241 / 250 ]\n",
      "exp/triphones/decode_test_dir/wer_9:%SER 96.40 [ 241 / 250 ]\n"
     ]
    }
   ],
   "source": [
    "./run_test.sh kaldi_config.json"
   ]
  }
 ],
 "metadata": {
  "kernelspec": {
   "display_name": "Bash",
   "language": "bash",
   "name": "bash"
  },
  "language_info": {
   "codemirror_mode": "shell",
   "file_extension": ".sh",
   "mimetype": "text/x-sh",
   "name": "bash"
  }
 },
 "nbformat": 4,
 "nbformat_minor": 2
}
