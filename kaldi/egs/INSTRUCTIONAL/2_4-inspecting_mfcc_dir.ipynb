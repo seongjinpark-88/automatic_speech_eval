{
 "cells": [
  {
   "cell_type": "markdown",
   "metadata": {},
   "source": [
    "# 2.4: Inspecting the `mfcc` dir"
   ]
  },
  {
   "cell_type": "markdown",
   "metadata": {},
   "source": [
    "`run_feature_extraction.sh` 파일을 실행하면 `exp`와 `mfcc` 두 개의 디렉토리가 생성됩니다. 각각의 내용을 살펴보겠습니다. "
   ]
  },
  {
   "cell_type": "code",
   "execution_count": null,
   "metadata": {},
   "outputs": [],
   "source": [
    "ls exp"
   ]
  },
  {
   "cell_type": "code",
   "execution_count": null,
   "metadata": {},
   "outputs": [],
   "source": [
    "ls mfcc"
   ]
  },
  {
   "cell_type": "markdown",
   "metadata": {},
   "source": [
    "## `exp/make_mfcc`\n",
    "\n",
    "이 폴더에는 `mfcc`s를 만드는데 사용된 `log` 파일(기록)이 저장되어 있습니다. \n",
    "\n",
    "**Note:** `exp`는 `exp`eriment의 약자입니다. 그러므로 `ASR` pipeline에서 생성된 다른 결과들도 이 디렉토리 아래에 저장됩니다. "
   ]
  },
  {
   "cell_type": "code",
   "execution_count": null,
   "metadata": {},
   "outputs": [],
   "source": [
    "ls exp/make_mfcc"
   ]
  },
  {
   "cell_type": "code",
   "execution_count": null,
   "metadata": {},
   "outputs": [],
   "source": [
    "ls exp/make_mfcc/train_dir"
   ]
  },
  {
   "cell_type": "markdown",
   "metadata": {},
   "source": [
    "**Note:** 가능하다면 우리는 `kaldi`에서 제공하는 `병렬처리`의 장점을 활용할 것입니다. 각각의 thread에서 처리한 내용은 `file_name.JOB.log` 파일에 저장되며, `JOB`은 병렬처리에 사용된 thread의 번호입니다. "
   ]
  },
  {
   "cell_type": "code",
   "execution_count": null,
   "metadata": {},
   "outputs": [],
   "source": [
    "cat exp/make_mfcc/train_dir/make_mfcc_train_dir.1.log"
   ]
  },
  {
   "cell_type": "markdown",
   "metadata": {},
   "source": [
    "내용을 확인해보면 `log`s는 단지 어떤 thread에서 어떤 음성 파일이 처리되었는지의 정보만 담고 있다는 것을 알 수 있습니다. "
   ]
  },
  {
   "cell_type": "markdown",
   "metadata": {},
   "source": [
    "## `mfcc`\n",
    "\n",
    "이 폴더에는 training과 test에 사용될 음성 파일들의 `mfcc`s 정보가 들어있습니다. "
   ]
  },
  {
   "cell_type": "code",
   "execution_count": null,
   "metadata": {},
   "outputs": [],
   "source": [
    "ls mfcc"
   ]
  },
  {
   "cell_type": "markdown",
   "metadata": {},
   "source": [
    "### `mfcc/kaldi_config_args.json` \n",
    "\n",
    "`run_feature_extraction.sh` 파일을 실행할 때, 어떠한 파라미터를 사용하였는지 정보를 확인할 수 있습니다. 우리에게 중요한 것은 어떠한 `mfcc_config` 를 이용하여서 `mfcc`s를 추출하였는지 확인하는 것입니다. "
   ]
  },
  {
   "cell_type": "code",
   "execution_count": null,
   "metadata": {},
   "outputs": [],
   "source": [
    "cat mfcc/kaldi_config_args.json"
   ]
  },
  {
   "cell_type": "markdown",
   "metadata": {},
   "source": [
    "### `.ark` and `.scp` files\n",
    "\n",
    "`kaldi`는 `kaldi`에서 사용되는 `ark`와 `scp` 파일을 독자적으로 가지고 있습니다. \n",
    "\n",
    "대부분의 경우, 병렬처리 과정에서 각각의 thread는 다른 `ark`와 `scp` 파일을 생성합니다. 병렬처리에 사용한 thread 갯수만큼 `ark`와 `scp` 파일 또한 많이 존재할 수 있습니다. 파일에 있는 `숫자`들은 어떠한 thread에서 만들어진 파일인지를 나타냅니다. "
   ]
  },
  {
   "cell_type": "code",
   "execution_count": null,
   "metadata": {},
   "outputs": [],
   "source": [
    "ls mfcc | grep raw_mfcc_train_dir.*.scp"
   ]
  },
  {
   "cell_type": "markdown",
   "metadata": {},
   "source": [
    "해당 파일들에 대한 자세한 내용은 [이 곳](http://kaldi-asr.org/doc/io.html)에서 확인할 수 있습니다. 지금은 아래와 같이 단순히 이해하고 넘어가도록 합시다. \n",
    "\n",
    " - `ark`(`archive`의 약자) 파일은 `C++ objects`를 포함하고 있는 `binary` 파일로써, 주로 하나 이상의 음성 파일이나 발화의 정보를 담고 있습니다. `scp` 파일은 `ark` 파일에 기록된 파일들과 실제 파일을 연결시켜주는 정보를 담고 있습니다. "
   ]
  },
  {
   "cell_type": "code",
   "execution_count": null,
   "metadata": {},
   "outputs": [],
   "source": [
    "head mfcc/raw_mfcc_train_dir.1.scp"
   ]
  },
  {
   "cell_type": "markdown",
   "metadata": {},
   "source": [
    "실제 `mfcc`s는 `ark` 파일에 저장되어 있습니다. `scp` 파일에서는 utterance의 목록과 (1) 어떤 `ark` 파일에 utterances들이 들어있는지 (2) `ark` 파일에 어떤 `줄`(해당 줄의 `:\\d+` 부분)에 해당 utterance가 존재하는지의 정보가 있습니다. "
   ]
  },
  {
   "cell_type": "markdown",
   "metadata": {},
   "source": [
    "`ark` 파일을 자세하게 살펴보기 위해서는 주로 `C++`를 사용하게 됩니다. `MFCC`s의 경우, 우리는 `python`을 이용한 *third-party* 스크립트를 이용하여서 실제 `mfcc` 특성들을 다음 `notebook`에서 살펴보도록 하겠습니다. "
   ]
  },
  {
   "cell_type": "code",
   "execution_count": null,
   "metadata": {},
   "outputs": [],
   "source": [
    "ls mfcc  | grep cmvn"
   ]
  },
  {
   "cell_type": "markdown",
   "metadata": {},
   "source": [
    "일부 파일들은 `cmvn_*`이라는 이름이 붙어있는 것을 확인할 수 있습니다. `cmvn`은 `cepstral mean and variance normalization`의 약자입니다. 이 과정은 단순히 sample들을 정규화하는 과정을 나타냅니다. 이 과정은 우리가 실행할 `ASR` pipeline 마지막에 자동으로 이루어지기 때문에 넘어가도록 하겠습니다. "
   ]
  }
 ],
 "metadata": {
  "kernelspec": {
   "display_name": "Bash",
   "language": "bash",
   "name": "bash"
  },
  "language_info": {
   "codemirror_mode": "shell",
   "file_extension": ".sh",
   "mimetype": "text/x-sh",
   "name": "bash"
  }
 },
 "nbformat": 4,
 "nbformat_minor": 2
}
