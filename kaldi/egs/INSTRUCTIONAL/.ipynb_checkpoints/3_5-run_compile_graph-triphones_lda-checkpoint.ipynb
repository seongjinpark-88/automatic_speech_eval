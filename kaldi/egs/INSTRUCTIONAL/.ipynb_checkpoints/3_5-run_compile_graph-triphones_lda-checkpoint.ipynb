{
 "cells": [
  {
   "cell_type": "markdown",
   "metadata": {},
   "source": [
    "# 3.5: `run_compile_graph.sh` - Building the `HCLG` graph for `triphones_lda`"
   ]
  },
  {
   "cell_type": "markdown",
   "metadata": {},
   "source": [
    "## Setting `kaldi_config.json`"
   ]
  },
  {
   "cell_type": "markdown",
   "metadata": {},
   "source": [
    "`kaldi_config.json`파일에서 `run_compile_graph` 부분을 다음과 같이 변경하여서, `run_compile_graph.sh` 파일에 올바른 `model_dir`을 input으로 사용할 수 있도록 합시다. \n",
    " - `model_dir`=`exp/triphones_lda`\n",
    " \n",
    "이제 `triphone_lda` 모델을 이용하여 `HCLG`를 구축할 수 있습니다. "
   ]
  },
  {
   "cell_type": "code",
   "execution_count": null,
   "metadata": {},
   "outputs": [],
   "source": [
    "head -n27 run_compile_graph.sh"
   ]
  },
  {
   "cell_type": "markdown",
   "metadata": {},
   "source": [
    "## Running `run_compile_graph.sh`"
   ]
  },
  {
   "cell_type": "markdown",
   "metadata": {},
   "source": [
    "우리는 혹시나 이전에 만들어졌을 수도 있는 `temp` 디렉토리를 제거해줄 필요가 있습니다. `temp` 디렉토리는 `data/lang_test_tg/` 아래에 있습니다. "
   ]
  },
  {
   "cell_type": "code",
   "execution_count": null,
   "metadata": {},
   "outputs": [],
   "source": [
    "rm -r data/lang_test_tg/tmp"
   ]
  },
  {
   "cell_type": "markdown",
   "metadata": {},
   "source": [
    "우리는 또한 혹시나 지워지지 않은 graph 파일들이 있는지도 확인해야 합니다. 혹 있을 경우를 대비하여 전체를 제거해줍시다. "
   ]
  },
  {
   "cell_type": "code",
   "execution_count": null,
   "metadata": {},
   "outputs": [],
   "source": [
    "rm -r exp/monophones/triphones_lda/graph"
   ]
  },
  {
   "cell_type": "markdown",
   "metadata": {},
   "source": [
    "**Note:** 만약 위 두 폴더들이 존재하지 않는다면 `rm: cannot remove...` 라는 에러 메시지를 확인할 수 있습니다. 이는 전혀 문제가 없으며, `run_compile_graph.sh`를 실행할 준비가 되었음을 의미합니다. "
   ]
  },
  {
   "cell_type": "markdown",
   "metadata": {},
   "source": [
    "`run_compile_graph.sh` 파일을 실행하겠습니다. 출력되는 값을 잘 살펴보고, 에러는 없는지 꼭 확인하세요. \n",
    "\n",
    "**Note:** 이 과정에서는 `병렬처리`가 지원되지 않습니다. 그러므로 결과를 출력하는데 15분 이상 소요될 수 있습니다. \n",
    "\n"
   ]
  },
  {
   "cell_type": "code",
   "execution_count": null,
   "metadata": {},
   "outputs": [],
   "source": [
    "./run_compile_graph.sh kaldi_config.json"
   ]
  }
 ],
 "metadata": {
  "kernelspec": {
   "display_name": "Bash",
   "language": "bash",
   "name": "bash"
  },
  "language_info": {
   "codemirror_mode": "shell",
   "file_extension": ".sh",
   "mimetype": "text/x-sh",
   "name": "bash"
  }
 },
 "nbformat": 4,
 "nbformat_minor": 2
}
