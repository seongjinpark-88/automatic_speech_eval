{
 "cells": [
  {
   "cell_type": "markdown",
   "metadata": {},
   "source": [
    "# 2.3: `run_feature_extraction.sh` - Generating the acoustic features"
   ]
  },
  {
   "cell_type": "markdown",
   "metadata": {},
   "source": [
    "가공되지 않은 음성 파일을 숫자로 나타내는 가장 널리 쓰이는 방법은 `mel-frequency cepstrum coefficients (MFCCs)`를 추출하는 것입니다. \n",
    "\n",
    "다음은 MFCCs와 관련된 자료입니다. \n",
    "\n",
    " - [Wikipedia entry](https://en.wikipedia.org/wiki/Mel-frequency_cepstrum) \n",
    " - feature extraction in [`kaldi` resources](http://kaldi-asr.org/doc/feat.html)\n",
    " - [slides](https://www.inf.ed.ac.uk/teaching/courses/asr/2016-17/asr02-signal-handout.pdf) from the ASR course at the University of Edinburgh\n"
   ]
  },
  {
   "cell_type": "markdown",
   "metadata": {},
   "source": [
    "## `mfcc.conf`"
   ]
  },
  {
   "cell_type": "markdown",
   "metadata": {},
   "source": [
    "`kaldi`에서는 다루어야 할 파라미터가 많은 경우, `configuration` 파일을 이용하여 파라미터를 조정할 수 있습니다. mfcc.conf 또한 mfcc 특징을 추출하는데 필요한 파라미터를 담고 있는 파일입니다. \n",
    "\n",
    "자세한 내용은 이후에 다루고, 지금은 각각의 논항이 어떠한 내용인지 간략하게 확인하겠습니다. \n"
   ]
  },
  {
   "cell_type": "code",
   "execution_count": null,
   "metadata": {},
   "outputs": [],
   "source": [
    "cat conf/mfcc_defaults.conf"
   ]
  },
  {
   "cell_type": "markdown",
   "metadata": {},
   "source": [
    "## Setting `kaldi_config.json`"
   ]
  },
  {
   "cell_type": "markdown",
   "metadata": {},
   "source": [
    "`kaldi_config.json` 파일을 원하는 Text Editor로 여신 후, `run_feature_extraction` 부분을 `run_feature_extraction.sh` 파일에서 필요로 하는 논항을 가지도록 수정합시다. 지금은 `mfcc_defaults.conf`라는 미리 만들어둔 파일을 사용하도록 하겠습니다. \n",
    "\n",
    "`run_feature_extraction.sh` 파일의 설명을 확인하면 어떠한 논항들이 필요한지 살펴볼 수 있습니다. \n",
    "\n",
    "**Note:** `kaldi`에서 처음으로 `병렬처리`를 하게 됩니다. 자세한 내용을 다루기 보다는 `kaldi_config` 파일에 있는 `num_proc` 변수를 수정함으로써, 몇 개의 thread를 사용하여서 작업을 처리할지 정할 수 있습니다. 사용하시는 환경에서 제공되는 `CPU`의 thread 갯수보다 1 ~ 2 개 적게 설정하는 것이 좋습니다. "
   ]
  },
  {
   "cell_type": "code",
   "execution_count": null,
   "metadata": {},
   "outputs": [],
   "source": [
    "head -n21 run_feature_extraction.sh"
   ]
  },
  {
   "cell_type": "markdown",
   "metadata": {},
   "source": [
    "## Running `run_feature_extraction.sh`"
   ]
  },
  {
   "cell_type": "code",
   "execution_count": null,
   "metadata": {
    "scrolled": true
   },
   "outputs": [],
   "source": [
    "./run_feature_extraction.sh kaldi_config.json"
   ]
  },
  {
   "cell_type": "markdown",
   "metadata": {},
   "source": [
    "다음 `jupyter notebook`에서 결과를 살펴보도록 하겠습니다. "
   ]
  }
 ],
 "metadata": {
  "kernelspec": {
   "display_name": "Bash",
   "language": "bash",
   "name": "bash"
  },
  "language_info": {
   "codemirror_mode": "shell",
   "file_extension": ".sh",
   "mimetype": "text/x-sh",
   "name": "bash"
  }
 },
 "nbformat": 4,
 "nbformat_minor": 2
}
