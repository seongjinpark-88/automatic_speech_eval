{
 "cells": [
  {
   "cell_type": "markdown",
   "metadata": {},
   "source": [
    "# 2.8: `run_train_phones.sh` - Building the acoustic model (`triphones`)\n",
    "\n",
    "두 번째 layer인 `triphone` 모델을 구축하도록 하겠습니다. \n",
    "\n",
    "**Note:** 이 `notebook`을 실행하기 이전에 **반드시** `2_7-run_train_phones-monophones.ipynb`을 실행하였어야 합니다. \n"
   ]
  },
  {
   "cell_type": "markdown",
   "metadata": {},
   "source": [
    "## Setting `kaldi_config.json`\n",
    "\n",
    "`kaldi_config.json` 파일에서 `run_train_phones` 부분을 다음과 같이 수정하여 주세요. \n",
    "\n",
    " - `training_type`=`deltas`    # will build a triphone model on top of our existing monophone model\n",
    " - `num_gaussians`=`10000`     # number of `gaussian`s used to build the model\n",
    " - `num_leaves`=`5000`         # number of leaves in decision tree\n",
    " - `non_vanilla_train_deltas_hyperparameters`=`null`\n",
    " - `non_vanilla_deltas_align_hyperparameters`=`null`\n",
    " \n",
    "다른 `hyperparameters`는 training 과정에 크게 영향을 주지 않습니다. "
   ]
  },
  {
   "cell_type": "code",
   "execution_count": null,
   "metadata": {},
   "outputs": [],
   "source": [
    "head -n30 run_train_phones.sh"
   ]
  },
  {
   "cell_type": "markdown",
   "metadata": {},
   "source": [
    "## Running `run_train_phones.sh`"
   ]
  },
  {
   "cell_type": "markdown",
   "metadata": {},
   "source": [
    "`run_train_phones.sh`을 실행하겠습니다. 결과에 에러가 없는지 잘 확인해주세요. "
   ]
  },
  {
   "cell_type": "code",
   "execution_count": null,
   "metadata": {},
   "outputs": [],
   "source": [
    "./run_train_phones.sh kaldi_config.json"
   ]
  },
  {
   "cell_type": "markdown",
   "metadata": {},
   "source": [
    "다음과 같은 경고 메시지가 발생할 수 있습니다. \n",
    "\n",
    "```\n",
    "WARNING (gmm-init-model[5.2.191~1-48be1]:InitAmGmm():gmm-init-model.cc:55) Tree has pdf-id 50 with no stats; corresponding phone list: 202 203 204 205 \n",
    "** The warnings above about 'no stats' generally mean you have phones **\n",
    "** (or groups of phones) in your phone set that had no corresponding data. **\n",
    "** You should probably figure out whether something went wrong, **\n",
    "** or whether your data just doesn't happen to have examples of those **\n",
    "** phones. **\n",
    "```\n",
    "\n",
    "경고 메시지가 나타난 이유를 확인하도록 하겠습니다. "
   ]
  },
  {
   "cell_type": "code",
   "execution_count": null,
   "metadata": {},
   "outputs": [],
   "source": [
    "cat data/lang/phones.txt | grep -E \"20[2345]\""
   ]
  },
  {
   "cell_type": "markdown",
   "metadata": {},
   "source": [
    "`OY` phone은 세 개의 다른 형태로 저장되어 있습니다. `(OY0, OY1, OY2)`"
   ]
  },
  {
   "cell_type": "code",
   "execution_count": null,
   "metadata": {},
   "outputs": [],
   "source": [
    "cat data/lang/phones.txt | grep -E \"OY.*\""
   ]
  },
  {
   "cell_type": "markdown",
   "metadata": {},
   "source": [
    "경고 메시지가 나타난 이유는, 어떠한 음성 파일에서도 `OY0`이 사용되지 않았기 때문입니다. 이는 에러 메시지가 아니며, 단지 우리가 구축한 acoustic model이 `OY0`을 인식하지 못할 뿐입니다. "
   ]
  }
 ],
 "metadata": {
  "kernelspec": {
   "display_name": "Bash",
   "language": "bash",
   "name": "bash"
  },
  "language_info": {
   "codemirror_mode": "shell",
   "file_extension": ".sh",
   "mimetype": "text/x-sh",
   "name": "bash"
  }
 },
 "nbformat": 4,
 "nbformat_minor": 2
}
