{
 "cells": [
  {
   "cell_type": "code",
   "execution_count": null,
   "metadata": {},
   "outputs": [],
   "source": [
    "cd ${KALDI_INSTRUCTIONAL_PATH} && pwd"
   ]
  },
  {
   "cell_type": "markdown",
   "metadata": {},
   "source": [
    "# 0.0: `shell` Basics"
   ]
  },
  {
   "cell_type": "markdown",
   "metadata": {},
   "source": [
    "`kaldi`는 `C++`를 이용하여 작성되었으며, 주로 `shell`을 이용하여서 실행할 수 있습니다. `C++`를 직접 수정하는 것은 어려운 일일 수도 있지만, `shell` 스크립트를 이해하고 실행할 수 있으며 수정할 수 있게 된다면 `kaldi`를 이해하는데 더욱 도움이 될 것입니다. \n",
    "\n",
    "`shell`에 관련된 자료들은 다음에서 확인하실 수 있습니다: http://www.tldp.org/LDP/Bash-Beginners-Guide/html/index.html"
   ]
  },
  {
   "cell_type": "markdown",
   "metadata": {},
   "source": [
    "`shell` 혹은 `bash`에서 주로 사용되는 아래의 명령어들을 간단히 실행해보도록 하겠습니다. \n",
    "\n",
    "- `echo`\n",
    "- `pwd`\n",
    "- `cd`\n",
    "- `ls`\n",
    "- `mkdir`\n",
    "- `cp`\n",
    "- `mv`\n",
    "- `cat`/`more`\n",
    "- `head`/`tail`\n",
    "- `grep`\n",
    "- `|`\n",
    "- variables\n",
    "- `for` loop\n",
    "- `if`/`then`\n",
    "- `chmod`\n",
    "- `sudo`"
   ]
  },
  {
   "cell_type": "markdown",
   "metadata": {},
   "source": [
    "## `echo`: print"
   ]
  },
  {
   "cell_type": "code",
   "execution_count": 1,
   "metadata": {},
   "outputs": [
    {
     "name": "stdout",
     "output_type": "stream",
     "text": [
      "Hello world\n"
     ]
    }
   ],
   "source": [
    "echo \"Hello world\""
   ]
  },
  {
   "cell_type": "markdown",
   "metadata": {},
   "source": [
    "## `pwd`: print name of current/working directory\n",
    "`pwd` 명령어는 현재 작업하고 있는 위치를 출력합니다. "
   ]
  },
  {
   "cell_type": "code",
   "execution_count": 2,
   "metadata": {},
   "outputs": [
    {
     "name": "stdout",
     "output_type": "stream",
     "text": [
      "/scratch/kaldi/egs/INSTRUCTIONAL\n"
     ]
    }
   ],
   "source": [
    "pwd"
   ]
  },
  {
   "cell_type": "markdown",
   "metadata": {},
   "source": [
    "## `cd`: change directory\n",
    "\n",
    "`cd` 명령어를 이용해서 작업 위치를 변경할 수 있습니다. `cd` 이후에 아무런 위치도 지정하지 않으면, 작업 위치를 `/root`로 이동하게 됩니다. 위치를 지정했을 경우에는 해당 위치로 이동하게 됩니다. "
   ]
  },
  {
   "cell_type": "code",
   "execution_count": 3,
   "metadata": {},
   "outputs": [
    {
     "name": "stdout",
     "output_type": "stream",
     "text": [
      "/root\n"
     ]
    }
   ],
   "source": [
    "cd && pwd    # && can be put between two commands to do them consecutively"
   ]
  },
  {
   "cell_type": "code",
   "execution_count": 4,
   "metadata": {},
   "outputs": [
    {
     "name": "stdout",
     "output_type": "stream",
     "text": [
      "/scratch/kaldi/egs/INSTRUCTIONAL\n"
     ]
    }
   ],
   "source": [
    "cd /scratch/kaldi/egs/INSTRUCTIONAL && pwd"
   ]
  },
  {
   "cell_type": "markdown",
   "metadata": {},
   "source": [
    "상위 폴더로 이동하기 위해서는 `..`을 사용할 수 있습니다. 예를 들어, `cd ..`을 입력하게 되면 작업 위치를 `/home/kaldi/egs/INSTRUCTIONAL`에서 `/home/kaldi/egs`로 이동하게 됩니다. 만약 `cd ../..`를 입력했을 경우에는 작업 위치를 `/home/kaldi`로 이동하게 됩니다. \n",
    "\n",
    "`..` 뒤에 하위 폴더 명을 입력하여서 상위 폴더에 있는 다른 하위 폴더로 작업 위치를 변경할 수 있습니다. "
   ]
  },
  {
   "cell_type": "code",
   "execution_count": 5,
   "metadata": {},
   "outputs": [
    {
     "name": "stdout",
     "output_type": "stream",
     "text": [
      "/scratch/kaldi/egs/mini_librispeech\n"
     ]
    }
   ],
   "source": [
    "cd ../mini_librispeech && pwd"
   ]
  },
  {
   "cell_type": "markdown",
   "metadata": {},
   "source": [
    "## `ls`: list directory contents\n",
    "\n",
    "`ls` 명령어는 해당 위치에 있는 모든 디렉토리 및 파일을 보여줍니다. `ls` 뒤에 아무 내용도 입력하지 않으면 현재 위치에 있는 디렉토리/파일들을 출력하고, `ls` 뒤에 위치를 지정하였을 경우에는 해당 위치에 있는 디렉토리/파일 이름을 출력합니다. "
   ]
  },
  {
   "cell_type": "code",
   "execution_count": 6,
   "metadata": {},
   "outputs": [
    {
     "name": "stdout",
     "output_type": "stream",
     "text": [
      "/scratch/kaldi/egs/mini_librispeech\n",
      "\u001b[0m\u001b[01;34ms5\u001b[0m\n"
     ]
    }
   ],
   "source": [
    "pwd && ls"
   ]
  },
  {
   "cell_type": "code",
   "execution_count": 7,
   "metadata": {
    "scrolled": true
   },
   "outputs": [
    {
     "name": "stdout",
     "output_type": "stream",
     "text": [
      "\u001b[0m\u001b[01;32mRESULTS\u001b[0m  cmd.sh  \u001b[01;34mconf\u001b[0m  \u001b[01;34mlocal\u001b[0m  \u001b[01;32mpath.sh\u001b[0m  \u001b[01;32mrun.sh\u001b[0m  \u001b[01;34msteps\u001b[0m  \u001b[01;34mutils\u001b[0m\n"
     ]
    }
   ],
   "source": [
    "ls ../mini_librispeech/s5"
   ]
  },
  {
   "cell_type": "markdown",
   "metadata": {},
   "source": [
    "`ls` 명령어 뒤에 `-lah`와 같은 3개의 `flag`를 사용할 수 있습니다. \n",
    "  - `-l` 명령어는 디렉토리/파일의 권한, 크기, 그리고 최근 수정 시간을 보여줍니다. \n",
    "  - `-a` 명령어는 숨겨져있는 폴더나 파일들을 모두 출력합니다 (`.` 으로 시작하는 파일 포함)\n",
    "  - `-h` 명령어는 파일 크기를 읽기 편한 형식으로 변경하여서 출력합니다. "
   ]
  },
  {
   "cell_type": "code",
   "execution_count": 9,
   "metadata": {},
   "outputs": [
    {
     "name": "stdout",
     "output_type": "stream",
     "text": [
      "total 12K\n",
      "drwxr-xr-x 3 root root 4.0K May 29 04:30 \u001b[0m\u001b[01;34m.\u001b[0m\n",
      "drwxr-xr-x 4 root root 4.0K May 29 04:30 \u001b[01;34m..\u001b[0m\n",
      "drwxr-xr-x 6 root root 4.0K May 29 04:30 \u001b[01;34ms5\u001b[0m\n"
     ]
    }
   ],
   "source": [
    "ls -lah"
   ]
  },
  {
   "cell_type": "markdown",
   "metadata": {},
   "source": [
    "## `mkdir`: make a new directory\n",
    "\n",
    "`mkdir` 명령어는 새로운 디렉토리 (폴더)를 생성하는 명령어입니다. 폴더를 생성하고 그 내부에 새로운 폴더를 한 번에 생성하려는 경우 (`mkdir -p dir1/dir2`) `-p` flag를 사용하는 것이 에러를 방지할 수 있습니다. "
   ]
  },
  {
   "cell_type": "code",
   "execution_count": 10,
   "metadata": {},
   "outputs": [],
   "source": [
    "mkdir -p empty_folder_1/empty_folder_2"
   ]
  },
  {
   "cell_type": "code",
   "execution_count": 11,
   "metadata": {},
   "outputs": [
    {
     "name": "stdout",
     "output_type": "stream",
     "text": [
      "\u001b[0m\u001b[01;34mempty_folder_2\u001b[0m\n"
     ]
    }
   ],
   "source": [
    "ls empty_folder_1"
   ]
  },
  {
   "cell_type": "code",
   "execution_count": 12,
   "metadata": {},
   "outputs": [],
   "source": [
    "ls empty_folder_1/empty_folder_2"
   ]
  },
  {
   "cell_type": "markdown",
   "metadata": {},
   "source": [
    "## `cp`: copy files/directories\n",
    "\n",
    "`cp` 명령어를 이용하여 파일들을 복사할 수 있으며, `-r` flag를 이용하여 폴더들도 이동할 수 있습니다. `cp` 명령어는 두 개의 논항을 취합니다. 처음 논항은 복사할 대상이며, 두 번째 논항은 복사한 대항을 붙여넣을 위치입니다. "
   ]
  },
  {
   "cell_type": "code",
   "execution_count": 13,
   "metadata": {},
   "outputs": [
    {
     "name": "stdout",
     "output_type": "stream",
     "text": [
      "\u001b[0m\u001b[01;32m0_0-shell_basics.ipynb\u001b[0m\n",
      "\u001b[01;32m0_1-functionality_confirmation.ipynb\u001b[0m\n",
      "10_HW-final_experiment.ipynb\n",
      "\u001b[01;32m1_1-downloading_and_preparing_librispeech_files.ipynb\u001b[0m\n",
      "\u001b[01;32m1_2-examining_required_files.ipynb\u001b[0m\n",
      "\u001b[01;32m1_3-building_language_model.ipynb\u001b[0m\n",
      "1_4-examining-language-model.ipynb\n",
      "1_HW_template-examining_language_model.ipynb\n",
      "\u001b[01;32m2_0-understanding_config_and_scripts.ipynb\u001b[0m\n",
      "\u001b[01;32m2_1-run_prepare_data.ipynb\u001b[0m\n",
      "2_10-inspecting_exp_dir.ipynb\n",
      "2_11-examining_acoustic_models.ipynb\n",
      "2_2-inspecting_data_dir.ipynb\n",
      "2_3-run_feature_extraction.ipynb\n",
      "2_4-inspecting_mfcc_dir.ipynb\n",
      "2_5-examining_mfccs.ipynb\n",
      "2_6-understanding_config.ipynb\n",
      "2_7-run_train_phones-monophones.ipynb\n",
      "2_8-run_train_phones-deltas.ipynb\n",
      "2_9-run_train_phones-lda.ipynb\n",
      "2_HW_template-examining_mfccs.ipynb\n",
      "3_1-creating_G_fst.ipynb\n",
      "3_2-examining_G_fst.ipynb\n",
      "3_3-run_compile_graph-monophones.ipynb\n",
      "3_4-run_compile_graph-triphones.ipynb\n",
      "3_5-run_compile_graph-triphones_lda.ipynb\n",
      "3_6-inspecting_HCLG_fst.ipynb\n",
      "3_HW_template-manipulating_lm_with_openfst.ipynb\n",
      "4_0-test_data_subset.ipynb\n",
      "4_1-run_test-monophones.ipynb\n",
      "4_2-run_test-triphones.ipynb\n",
      "4_3-run_test-triphones_lda.ipynb\n",
      "4_4-inspecting_decode_test_dir_and_experiment_dir.ipynb\n",
      "__init__.py\n",
      "\u001b[01;32mcmd.sh\u001b[0m\n",
      "\u001b[01;34mconf\u001b[0m\n",
      "\u001b[01;32mkaldi_config.json\u001b[0m\n",
      "\u001b[01;34mlocal\u001b[0m\n",
      "\u001b[01;32mpath.sh\u001b[0m\n",
      "\u001b[01;34mresource_files\u001b[0m\n",
      "\u001b[01;32mrun_clear_all.sh\u001b[0m\n",
      "\u001b[01;32mrun_compile_graph.sh\u001b[0m\n",
      "\u001b[01;32mrun_feature_extraction.sh\u001b[0m\n",
      "\u001b[01;32mrun_prepare_data.sh\u001b[0m\n",
      "\u001b[01;32mrun_test.sh\u001b[0m\n",
      "\u001b[01;32mrun_train_phones.sh\u001b[0m\n",
      "\u001b[01;32mstart_jupyter.sh\u001b[0m\n",
      "\u001b[01;34msteps\u001b[0m\n",
      "\u001b[01;34mutils\u001b[0m\n"
     ]
    }
   ],
   "source": [
    "cd ${KALDI_INSTRUCTIONAL_PATH} && ls"
   ]
  },
  {
   "cell_type": "code",
   "execution_count": 14,
   "metadata": {},
   "outputs": [
    {
     "name": "stdout",
     "output_type": "stream",
     "text": [
      "\u001b[0m\u001b[01;32m0_0-shell_basics.ipynb\u001b[0m\n",
      "\u001b[01;32m0_1-functionality_confirmation.ipynb\u001b[0m\n",
      "10_HW-final_experiment.ipynb\n",
      "\u001b[01;32m1_1-downloading_and_preparing_librispeech_files.ipynb\u001b[0m\n",
      "\u001b[01;32m1_2-examining_required_files.ipynb\u001b[0m\n",
      "\u001b[01;32m1_3-building_language_model.ipynb\u001b[0m\n",
      "1_4-examining-language-model.ipynb\n",
      "1_HW_template-examining_language_model.ipynb\n",
      "\u001b[01;32m2_0-understanding_config_and_scripts.ipynb\u001b[0m\n",
      "\u001b[01;32m2_1-run_prepare_data.ipynb\u001b[0m\n",
      "2_10-inspecting_exp_dir.ipynb\n",
      "2_11-examining_acoustic_models.ipynb\n",
      "2_2-inspecting_data_dir.ipynb\n",
      "2_3-run_feature_extraction.ipynb\n",
      "2_4-inspecting_mfcc_dir.ipynb\n",
      "2_5-examining_mfccs.ipynb\n",
      "2_6-understanding_config.ipynb\n",
      "2_7-run_train_phones-monophones.ipynb\n",
      "2_8-run_train_phones-deltas.ipynb\n",
      "2_9-run_train_phones-lda.ipynb\n",
      "2_HW_template-examining_mfccs.ipynb\n",
      "3_1-creating_G_fst.ipynb\n",
      "3_2-examining_G_fst.ipynb\n",
      "3_3-run_compile_graph-monophones.ipynb\n",
      "3_4-run_compile_graph-triphones.ipynb\n",
      "3_5-run_compile_graph-triphones_lda.ipynb\n",
      "3_6-inspecting_HCLG_fst.ipynb\n",
      "3_HW_template-manipulating_lm_with_openfst.ipynb\n",
      "4_0-test_data_subset.ipynb\n",
      "4_1-run_test-monophones.ipynb\n",
      "4_2-run_test-triphones.ipynb\n",
      "4_3-run_test-triphones_lda.ipynb\n",
      "4_4-inspecting_decode_test_dir_and_experiment_dir.ipynb\n",
      "README_copy.txt\n",
      "__init__.py\n",
      "\u001b[01;32mcmd.sh\u001b[0m\n",
      "\u001b[01;34mconf\u001b[0m\n",
      "\u001b[01;32mkaldi_config.json\u001b[0m\n",
      "\u001b[01;34mlocal\u001b[0m\n",
      "\u001b[01;32mpath.sh\u001b[0m\n",
      "\u001b[01;34mresource_files\u001b[0m\n",
      "\u001b[01;32mrun_clear_all.sh\u001b[0m\n",
      "\u001b[01;32mrun_compile_graph.sh\u001b[0m\n",
      "\u001b[01;32mrun_feature_extraction.sh\u001b[0m\n",
      "\u001b[01;32mrun_prepare_data.sh\u001b[0m\n",
      "\u001b[01;32mrun_test.sh\u001b[0m\n",
      "\u001b[01;32mrun_train_phones.sh\u001b[0m\n",
      "\u001b[01;32mstart_jupyter.sh\u001b[0m\n",
      "\u001b[01;34msteps\u001b[0m\n",
      "\u001b[01;34mutils\u001b[0m\n"
     ]
    }
   ],
   "source": [
    "cp ../../README.md README_copy.txt && ls"
   ]
  },
  {
   "cell_type": "markdown",
   "metadata": {},
   "source": [
    "폴더를 복사하는 경우, `-r` flag (i.e., `recursive`)를 사용하시면 됩니다. "
   ]
  },
  {
   "cell_type": "code",
   "execution_count": 15,
   "metadata": {},
   "outputs": [
    {
     "name": "stdout",
     "output_type": "stream",
     "text": [
      "\u001b[0m\u001b[01;34mfeature_viz\u001b[0m  \u001b[01;34mlanguage_model\u001b[0m  \u001b[01;34mresources\u001b[0m  \u001b[01;34musing_atmosphere\u001b[0m\n",
      "\u001b[01;34mfst\u001b[0m          \u001b[01;34mlattices\u001b[0m        \u001b[01;34mtree_viz\u001b[0m\n"
     ]
    }
   ],
   "source": [
    "cp -r resource_files resource_files_copy && ls resource_files_copy"
   ]
  },
  {
   "cell_type": "markdown",
   "metadata": {},
   "source": [
    "## `mv`: move files/directories\n",
    "\n",
    "`mv` 는 파일이나 폴더를 새로운 위치로 이동하는 명령어입니다. 논항 구조는 `cp` 명령어와 동일합니다. "
   ]
  },
  {
   "cell_type": "code",
   "execution_count": 16,
   "metadata": {},
   "outputs": [
    {
     "name": "stdout",
     "output_type": "stream",
     "text": [
      "\u001b[0m\u001b[01;32m0_0-shell_basics.ipynb\u001b[0m\n",
      "\u001b[01;32m0_1-functionality_confirmation.ipynb\u001b[0m\n",
      "10_HW-final_experiment.ipynb\n",
      "\u001b[01;32m1_1-downloading_and_preparing_librispeech_files.ipynb\u001b[0m\n",
      "\u001b[01;32m1_2-examining_required_files.ipynb\u001b[0m\n",
      "\u001b[01;32m1_3-building_language_model.ipynb\u001b[0m\n",
      "1_4-examining-language-model.ipynb\n",
      "1_HW_template-examining_language_model.ipynb\n",
      "\u001b[01;32m2_0-understanding_config_and_scripts.ipynb\u001b[0m\n",
      "\u001b[01;32m2_1-run_prepare_data.ipynb\u001b[0m\n",
      "2_10-inspecting_exp_dir.ipynb\n",
      "2_11-examining_acoustic_models.ipynb\n",
      "2_2-inspecting_data_dir.ipynb\n",
      "2_3-run_feature_extraction.ipynb\n",
      "2_4-inspecting_mfcc_dir.ipynb\n",
      "2_5-examining_mfccs.ipynb\n",
      "2_6-understanding_config.ipynb\n",
      "2_7-run_train_phones-monophones.ipynb\n",
      "2_8-run_train_phones-deltas.ipynb\n",
      "2_9-run_train_phones-lda.ipynb\n",
      "2_HW_template-examining_mfccs.ipynb\n",
      "3_1-creating_G_fst.ipynb\n",
      "3_2-examining_G_fst.ipynb\n",
      "3_3-run_compile_graph-monophones.ipynb\n",
      "3_4-run_compile_graph-triphones.ipynb\n",
      "3_5-run_compile_graph-triphones_lda.ipynb\n",
      "3_6-inspecting_HCLG_fst.ipynb\n",
      "3_HW_template-manipulating_lm_with_openfst.ipynb\n",
      "4_0-test_data_subset.ipynb\n",
      "4_1-run_test-monophones.ipynb\n",
      "4_2-run_test-triphones.ipynb\n",
      "4_3-run_test-triphones_lda.ipynb\n",
      "4_4-inspecting_decode_test_dir_and_experiment_dir.ipynb\n",
      "README_copy.txt\n",
      "__init__.py\n",
      "\u001b[01;32mcmd.sh\u001b[0m\n",
      "\u001b[01;34mconf\u001b[0m\n",
      "\u001b[01;32mkaldi_config.json\u001b[0m\n",
      "\u001b[01;34mlocal\u001b[0m\n",
      "\u001b[01;32mpath.sh\u001b[0m\n",
      "\u001b[01;34mresource_files\u001b[0m\n",
      "\u001b[01;34mresource_files_copy\u001b[0m\n",
      "\u001b[01;32mrun_clear_all.sh\u001b[0m\n",
      "\u001b[01;32mrun_compile_graph.sh\u001b[0m\n",
      "\u001b[01;32mrun_feature_extraction.sh\u001b[0m\n",
      "\u001b[01;32mrun_prepare_data.sh\u001b[0m\n",
      "\u001b[01;32mrun_test.sh\u001b[0m\n",
      "\u001b[01;32mrun_train_phones.sh\u001b[0m\n",
      "\u001b[01;32mstart_jupyter.sh\u001b[0m\n",
      "\u001b[01;34msteps\u001b[0m\n",
      "\u001b[01;34mutils\u001b[0m\n"
     ]
    }
   ],
   "source": [
    "ls"
   ]
  },
  {
   "cell_type": "code",
   "execution_count": 17,
   "metadata": {},
   "outputs": [
    {
     "name": "stdout",
     "output_type": "stream",
     "text": [
      "\u001b[0m\u001b[01;34mINSTRUCTIONAL\u001b[0m  README_copy.txt  \u001b[01;34mmini_librispeech\u001b[0m\n"
     ]
    }
   ],
   "source": [
    "mv README_copy.txt ../ && ls .."
   ]
  },
  {
   "cell_type": "markdown",
   "metadata": {},
   "source": [
    "디렉토리도 동일한 방법으로 이동할 수 있습니다. "
   ]
  },
  {
   "cell_type": "code",
   "execution_count": 18,
   "metadata": {},
   "outputs": [
    {
     "name": "stdout",
     "output_type": "stream",
     "text": [
      "\u001b[0m\u001b[01;32m0_0-shell_basics.ipynb\u001b[0m\n",
      "\u001b[01;32m0_1-functionality_confirmation.ipynb\u001b[0m\n",
      "10_HW-final_experiment.ipynb\n",
      "\u001b[01;32m1_1-downloading_and_preparing_librispeech_files.ipynb\u001b[0m\n",
      "\u001b[01;32m1_2-examining_required_files.ipynb\u001b[0m\n",
      "\u001b[01;32m1_3-building_language_model.ipynb\u001b[0m\n",
      "1_4-examining-language-model.ipynb\n",
      "1_HW_template-examining_language_model.ipynb\n",
      "\u001b[01;32m2_0-understanding_config_and_scripts.ipynb\u001b[0m\n",
      "\u001b[01;32m2_1-run_prepare_data.ipynb\u001b[0m\n",
      "2_10-inspecting_exp_dir.ipynb\n",
      "2_11-examining_acoustic_models.ipynb\n",
      "2_2-inspecting_data_dir.ipynb\n",
      "2_3-run_feature_extraction.ipynb\n",
      "2_4-inspecting_mfcc_dir.ipynb\n",
      "2_5-examining_mfccs.ipynb\n",
      "2_6-understanding_config.ipynb\n",
      "2_7-run_train_phones-monophones.ipynb\n",
      "2_8-run_train_phones-deltas.ipynb\n",
      "2_9-run_train_phones-lda.ipynb\n",
      "2_HW_template-examining_mfccs.ipynb\n",
      "3_1-creating_G_fst.ipynb\n",
      "3_2-examining_G_fst.ipynb\n",
      "3_3-run_compile_graph-monophones.ipynb\n",
      "3_4-run_compile_graph-triphones.ipynb\n",
      "3_5-run_compile_graph-triphones_lda.ipynb\n",
      "3_6-inspecting_HCLG_fst.ipynb\n",
      "3_HW_template-manipulating_lm_with_openfst.ipynb\n",
      "4_0-test_data_subset.ipynb\n",
      "4_1-run_test-monophones.ipynb\n",
      "4_2-run_test-triphones.ipynb\n",
      "4_3-run_test-triphones_lda.ipynb\n",
      "4_4-inspecting_decode_test_dir_and_experiment_dir.ipynb\n",
      "__init__.py\n",
      "\u001b[01;32mcmd.sh\u001b[0m\n",
      "\u001b[01;34mconf\u001b[0m\n",
      "\u001b[01;32mkaldi_config.json\u001b[0m\n",
      "\u001b[01;34mlocal\u001b[0m\n",
      "\u001b[01;32mpath.sh\u001b[0m\n",
      "\u001b[01;34mresource_files\u001b[0m\n",
      "\u001b[01;34mresource_files_copy\u001b[0m\n",
      "\u001b[01;32mrun_clear_all.sh\u001b[0m\n",
      "\u001b[01;32mrun_compile_graph.sh\u001b[0m\n",
      "\u001b[01;32mrun_feature_extraction.sh\u001b[0m\n",
      "\u001b[01;32mrun_prepare_data.sh\u001b[0m\n",
      "\u001b[01;32mrun_test.sh\u001b[0m\n",
      "\u001b[01;32mrun_train_phones.sh\u001b[0m\n",
      "\u001b[01;32mstart_jupyter.sh\u001b[0m\n",
      "\u001b[01;34msteps\u001b[0m\n",
      "\u001b[01;34mutils\u001b[0m\n"
     ]
    }
   ],
   "source": [
    "ls"
   ]
  },
  {
   "cell_type": "code",
   "execution_count": 19,
   "metadata": {},
   "outputs": [
    {
     "name": "stdout",
     "output_type": "stream",
     "text": [
      "\u001b[0m\u001b[01;34mINSTRUCTIONAL\u001b[0m  README_copy.txt  \u001b[01;34mmini_librispeech\u001b[0m  \u001b[01;34mresource_files_copy\u001b[0m\n"
     ]
    }
   ],
   "source": [
    "mv resource_files_copy .. && ls .."
   ]
  },
  {
   "cell_type": "markdown",
   "metadata": {},
   "source": [
    "`mv` 명령어를 이용하여 파일의 이름을 *변경할* 수도 있습니다. "
   ]
  },
  {
   "cell_type": "code",
   "execution_count": 20,
   "metadata": {},
   "outputs": [
    {
     "name": "stdout",
     "output_type": "stream",
     "text": [
      "\u001b[0m\u001b[01;34mINSTRUCTIONAL\u001b[0m  README_copy.txt  \u001b[01;34mmini_librispeech\u001b[0m  \u001b[01;34mresource_files_copy\u001b[0m\n"
     ]
    }
   ],
   "source": [
    "ls .."
   ]
  },
  {
   "cell_type": "code",
   "execution_count": 21,
   "metadata": {},
   "outputs": [
    {
     "name": "stdout",
     "output_type": "stream",
     "text": [
      "\u001b[0m\u001b[01;34mINSTRUCTIONAL\u001b[0m  README_copy_renamed.txt  \u001b[01;34mmini_librispeech\u001b[0m  \u001b[01;34mresource_files_copy\u001b[0m\n"
     ]
    }
   ],
   "source": [
    "mv ../README_copy.txt ../README_copy_renamed.txt && ls .."
   ]
  },
  {
   "cell_type": "markdown",
   "metadata": {},
   "source": [
    "## `cat`: print the contents of a file to the command line\n",
    "\n",
    "`cat` 명령어를 이용하여 파일의 내용을 command-line에 바로 출력할 수 있습니다. "
   ]
  },
  {
   "cell_type": "code",
   "execution_count": 22,
   "metadata": {},
   "outputs": [
    {
     "name": "stdout",
     "output_type": "stream",
     "text": [
      "Kaldi Speech Recognition Toolkit - Instructional version\n",
      "========================================================\n",
      "\n",
      "This repository is a simplified version of the `kaldi` toolkit, used\n",
      "for instructional purposes.\n",
      "\n",
      "Resources\n",
      "---------\n",
      "\n",
      "See the `resources` directory.\n",
      "\n",
      "Installation\n",
      "------------\n",
      "\n",
      "**Atmosphere Users**: Your image will *already* contain the `docker` image.\n",
      "You do *not* need to run the Installation steps below.\n",
      "\n",
      "### Building from `Dockerfile`\n",
      "\n",
      "There is a `Dockerfile` that can be used to build a `docker` image.\n",
      "\n",
      "```\n",
      "cd docker\n",
      "./build_container.sh\n",
      "```\n",
      "\n",
      "### `Pull`ing from `DockerHub`\n",
      "\n",
      "You can also `pull` the built image directly from `docker hub` instead of building with the `Dockerfile`.\n",
      "\n",
      "```\n",
      "docker pull mcapizzi/kaldi_instructional\n",
      "```\n",
      "\n",
      "Running `docker` container\n",
      "--------------------------\n",
      "\n",
      "Once the `docker` container exists, it can be run easily with `./start_container.sh` which is found in the project root (`/home/kaldi`).\n",
      "This will open port `8880` by default to access the `jupyter` kernel.  \n",
      "If you prefer a different port it can be added with the `-p` flag.\n",
      "\n",
      "**Atmosphere Users**: When you `ssh` into your instance make sure you use the command below.\n",
      "\n",
      "```\n",
      "ssh -L 8880:localhost:8880 [username]@[ip_address]\n",
      "```\n",
      "\n",
      "This will open port `8880` on your instance as well so that you can use `jupyter` in your browser.\n",
      "**Note:** If you plan on using a different port, replace `8880` and then be sure to add the `-p` flag when running `.start_container.sh`.\n",
      "\n",
      "```\n",
      "mcapizzi@vm142-92: cd /home/kaldi\n",
      "mcapizzi@vm142-92:/home/kaldi$ sudo ./start_container.sh \n",
      "root@1c35c7b03e94:/home/kaldi/egs/INSTRUCTIONAL#\n",
      "```\n",
      "\n",
      "You'll know your \"inside\" the `container` if you see the `root` as the user and the `#` on command line.\n",
      "\n",
      "Running `jupyter`\n",
      "-----------------\n",
      "\n",
      "Once the `docker` container is running, you can start `jupyter` by running `./start_jupyter.sh`.\n",
      "This will run `jupyter` and show you a `URL` that can be opened in your browser.\n",
      "\n",
      "Below is an example of the output from `./start_jupyter.sh` and the `URL` you'll need.\n",
      "\n",
      "\n",
      "```\n",
      "root@1c35c7b03e94:/home/kaldi/egs/INSTRUCTIONAL# ./start_jupyter.sh \n",
      "[I 19:26:00.626 NotebookApp] Writing notebook server cookie secret to /root/.local/share/jupyter/runtime/notebook_cookie_secret\n",
      "[I 19:26:01.003 NotebookApp] Serving notebooks from local directory: /home/kaldi/egs/INSTRUCTIONAL\n",
      "[I 19:26:01.003 NotebookApp] 0 active kernels\n",
      "[I 19:26:01.003 NotebookApp] The Jupyter Notebook is running at:\n",
      "[I 19:26:01.003 NotebookApp] http://0.0.0.0:8880/?token=ff0590da8903c99aa29e2295d8cdb665a6e5fff2b5509214\n",
      "[I 19:26:01.003 NotebookApp] Use Control-C to stop this server and shut down all kernels (twice to skip confirmation).\n",
      "[C 19:26:01.004 NotebookApp] \n",
      "    \n",
      "    Copy/paste this URL into your browser when you connect for the first time,\n",
      "    to login with a token:\n",
      "        http://0.0.0.0:8880/?token=ff0590da8903c99aa29e2295d8cdb665a6e5fff2b5509214\n",
      "```\n",
      "\n",
      "Now you can copy `http://0.0.0.0:8880/?token=ff0590da8903c99aa29e2295d8cdb665a6e5fff2b5509214` and paste into your browser.\n",
      "\n",
      "Running `jupyter` in `tmux` (optional)\n",
      "--------------------------------------\n",
      "\n",
      "`tmux` is installed on your instance and allows you to easily switch between terminal windows **without closing them**.  You can find how to use `tmux` [here](https://www.sitepoint.com/tmux-a-simple-start/), but it's recommended that you start a  `tmux` window for your `docker` container so that you can easily switch back and forth from a running `jupyter` kernel and a command line.\n",
      "\n",
      "```\n",
      "mcapizzi@vm142-43:~$ cd /home/kaldi/\n",
      "mcapizzi@vm142-43:/home/kaldi$ tmux new-session -s docker\n",
      "```\n",
      "\n",
      "This will create a \"new\" session named `docker` (with a green trim).\n",
      " \n",
      "```\n",
      "mcapizzi@vm142-43:/home/kaldi$ ./start_container.sh \n",
      "root@b05dc5a5939a:/home/kaldi/egs/INSTRUCTIONAL# ./start_jupyter.sh \n",
      "[I 16:28:49.199 NotebookApp] Writing notebook server cookie secret to /root/.local/share/jupyter/runtime/notebook_cookie_secret\n",
      "[I 16:28:49.313 NotebookApp] Serving notebooks from local directory: /home/kaldi/egs/INSTRUCTIONAL\n",
      "[I 16:28:49.313 NotebookApp] 0 active kernels\n",
      "[I 16:28:49.314 NotebookApp] The Jupyter Notebook is running at:\n",
      "[I 16:28:49.314 NotebookApp] http://0.0.0.0:8880/?token=ac856a52bf08b91507d5564b07474f273ed620053b9a3919\n",
      "[I 16:28:49.314 NotebookApp] Use Control-C to stop this server and shut down all kernels (twice to skip confirmation).\n",
      "[C 16:28:49.315 NotebookApp] \n",
      "    \n",
      "    Copy/paste this URL into your browser when you connect for the first time,\n",
      "    to login with a token:\n",
      "        http://0.0.0.0:8880/?token=ac856a52bf08b91507d5564b07474f273ed620053b9a3919\n",
      "```\n",
      "\n",
      "Now I have a running `jupyter` kernel, but I can *also* exit the `tmux session` named `docker` by pushing `Ctrl-b` and then `d`.  This will return me to my \"regular\" terminal window where I can still type commands.\n",
      "\n",
      "To return to the `tmux session`, use:\n",
      "\n",
      "```\n",
      "tmux attach -t [session_name]\n",
      "```\n",
      "\n",
      "You can `kill` any `tmux session` with:\n",
      "\n",
      "```\n",
      "tmux kill-session -t [session_name]\n",
      "```"
     ]
    }
   ],
   "source": [
    "cat ../README_copy_renamed.txt"
   ]
  },
  {
   "cell_type": "markdown",
   "metadata": {},
   "source": [
    "## `head`/`tail`: print the `top` (or `bottom`) `n` lines of a file\n",
    "\n",
    "`head` 명령어는 파일의 시작부터 10번째 줄까지의 내용을 출력하며, `tail` 명령어는 파일 맨 마지막 10개의 줄을 출력합니다. `-n` flag를 이용하여 몇 개의 줄을 출력할지 설정할 수 있습니다. "
   ]
  },
  {
   "cell_type": "code",
   "execution_count": 23,
   "metadata": {},
   "outputs": [
    {
     "name": "stdout",
     "output_type": "stream",
     "text": [
      "Kaldi Speech Recognition Toolkit - Instructional version\n",
      "========================================================\n",
      "\n",
      "This repository is a simplified version of the `kaldi` toolkit, used\n",
      "for instructional purposes.\n",
      "\n",
      "Resources\n",
      "---------\n",
      "\n",
      "See the `resources` directory.\n"
     ]
    }
   ],
   "source": [
    "head ../README_copy_renamed.txt"
   ]
  },
  {
   "cell_type": "code",
   "execution_count": 24,
   "metadata": {},
   "outputs": [
    {
     "name": "stdout",
     "output_type": "stream",
     "text": [
      "Kaldi Speech Recognition Toolkit - Instructional version\n",
      "========================================================\n",
      "You can `kill` any `tmux session` with:\n",
      "\n",
      "```\n",
      "tmux kill-session -t [session_name]\n",
      "```"
     ]
    }
   ],
   "source": [
    "head -n2 ../README_copy_renamed.txt && tail -n5 ../README_copy_renamed.txt"
   ]
  },
  {
   "cell_type": "markdown",
   "metadata": {},
   "source": [
    "## `grep`: find lines matching a pattern\n",
    "`grep` 명령어는 해당하는 `string pattern`을 검색하는 명령어입니다. "
   ]
  },
  {
   "cell_type": "markdown",
   "metadata": {},
   "source": [
    "`grep` 명령어는 찾고자 하는 `string pattern`과 일치하는 내용을 파일에서 검색할 수도 있습니다. "
   ]
  },
  {
   "cell_type": "code",
   "execution_count": 25,
   "metadata": {},
   "outputs": [
    {
     "name": "stdout",
     "output_type": "stream",
     "text": [
      "Kaldi Speech Recognition Toolkit - Instructional version\n",
      "========================================================\n",
      "\n",
      "This repository is a simplified version of the `kaldi` toolkit, used\n",
      "for instructional purposes.\n",
      "\n",
      "Resources\n",
      "---------\n",
      "\n",
      "See the `resources` directory.\n",
      "\n",
      "Installation\n",
      "------------\n",
      "\n",
      "**Atmosphere Users**: Your image will *already* contain the `docker` image.\n",
      "You do *not* need to run the Installation steps below.\n",
      "\n",
      "### Building from `Dockerfile`\n",
      "\n",
      "There is a `Dockerfile` that can be used to build a `docker` image.\n",
      "\n",
      "```\n",
      "cd docker\n",
      "./build_container.sh\n",
      "```\n",
      "\n",
      "### `Pull`ing from `DockerHub`\n",
      "\n",
      "You can also `pull` the built image directly from `docker hub` instead of building with the `Dockerfile`.\n",
      "\n",
      "```\n",
      "docker pull mcapizzi/kaldi_instructional\n",
      "```\n",
      "\n",
      "Running `docker` container\n",
      "--------------------------\n",
      "\n",
      "Once the `docker` container exists, it can be run easily with `./start_container.sh` which is found in the project root (`/home/kaldi`).\n",
      "This will open port `8880` by default to access the `jupyter` kernel.  \n",
      "If you prefer a different port it can be added with the `-p` flag.\n",
      "\n",
      "**Atmosphere Users**: When you `ssh` into your instance make sure you use the command below.\n",
      "\n",
      "```\n",
      "ssh -L 8880:localhost:8880 [username]@[ip_address]\n",
      "```\n",
      "\n",
      "This will open port `8880` on your instance as well so that you can use `jupyter` in your browser.\n",
      "**Note:** If you plan on using a different port, replace `8880` and then be sure to add the `-p` flag when running `.start_container.sh`.\n",
      "\n",
      "```\n",
      "mcapizzi@vm142-92: cd /home/kaldi\n",
      "mcapizzi@vm142-92:/home/kaldi$ sudo ./start_container.sh \n",
      "root@1c35c7b03e94:/home/kaldi/egs/INSTRUCTIONAL#\n",
      "```\n",
      "\n",
      "You'll know your \"inside\" the `container` if you see the `root` as the user and the `#` on command line.\n",
      "\n",
      "Running `jupyter`\n",
      "-----------------\n",
      "\n",
      "Once the `docker` container is running, you can start `jupyter` by running `./start_jupyter.sh`.\n",
      "This will run `jupyter` and show you a `URL` that can be opened in your browser.\n",
      "\n",
      "Below is an example of the output from `./start_jupyter.sh` and the `URL` you'll need.\n",
      "\n",
      "\n",
      "```\n",
      "root@1c35c7b03e94:/home/kaldi/egs/INSTRUCTIONAL# ./start_jupyter.sh \n",
      "[I 19:26:00.626 NotebookApp] Writing notebook server cookie secret to /root/.local/share/jupyter/runtime/notebook_cookie_secret\n",
      "[I 19:26:01.003 NotebookApp] Serving notebooks from local directory: /home/kaldi/egs/INSTRUCTIONAL\n",
      "[I 19:26:01.003 NotebookApp] 0 active kernels\n",
      "[I 19:26:01.003 NotebookApp] The Jupyter Notebook is running at:\n",
      "[I 19:26:01.003 NotebookApp] http://0.0.0.0:8880/?token=ff0590da8903c99aa29e2295d8cdb665a6e5fff2b5509214\n",
      "[I 19:26:01.003 NotebookApp] Use Control-C to stop this server and shut down all kernels (twice to skip confirmation).\n",
      "[C 19:26:01.004 NotebookApp] \n",
      "    \n",
      "    Copy/paste this URL into your browser when you connect for the first time,\n",
      "    to login with a token:\n",
      "        http://0.0.0.0:8880/?token=ff0590da8903c99aa29e2295d8cdb665a6e5fff2b5509214\n",
      "```\n",
      "\n",
      "Now you can copy `http://0.0.0.0:8880/?token=ff0590da8903c99aa29e2295d8cdb665a6e5fff2b5509214` and paste into your browser.\n",
      "\n",
      "Running `jupyter` in `tmux` (optional)\n",
      "--------------------------------------\n",
      "\n",
      "`tmux` is installed on your instance and allows you to easily switch between terminal windows **without closing them**.  You can find how to use `tmux` [here](https://www.sitepoint.com/tmux-a-simple-start/), but it's recommended that you start a  `tmux` window for your `docker` container so that you can easily switch back and forth from a running `jupyter` kernel and a command line.\n",
      "\n",
      "```\n",
      "mcapizzi@vm142-43:~$ cd /home/kaldi/\n",
      "mcapizzi@vm142-43:/home/kaldi$ tmux new-session -s docker\n",
      "```\n",
      "\n",
      "This will create a \"new\" session named `docker` (with a green trim).\n",
      " \n",
      "```\n",
      "mcapizzi@vm142-43:/home/kaldi$ ./start_container.sh \n",
      "root@b05dc5a5939a:/home/kaldi/egs/INSTRUCTIONAL# ./start_jupyter.sh \n",
      "[I 16:28:49.199 NotebookApp] Writing notebook server cookie secret to /root/.local/share/jupyter/runtime/notebook_cookie_secret\n",
      "[I 16:28:49.313 NotebookApp] Serving notebooks from local directory: /home/kaldi/egs/INSTRUCTIONAL\n",
      "[I 16:28:49.313 NotebookApp] 0 active kernels\n",
      "[I 16:28:49.314 NotebookApp] The Jupyter Notebook is running at:\n",
      "[I 16:28:49.314 NotebookApp] http://0.0.0.0:8880/?token=ac856a52bf08b91507d5564b07474f273ed620053b9a3919\n",
      "[I 16:28:49.314 NotebookApp] Use Control-C to stop this server and shut down all kernels (twice to skip confirmation).\n",
      "[C 16:28:49.315 NotebookApp] \n",
      "    \n",
      "    Copy/paste this URL into your browser when you connect for the first time,\n",
      "    to login with a token:\n",
      "        http://0.0.0.0:8880/?token=ac856a52bf08b91507d5564b07474f273ed620053b9a3919\n",
      "```\n",
      "\n",
      "Now I have a running `jupyter` kernel, but I can *also* exit the `tmux session` named `docker` by pushing `Ctrl-b` and then `d`.  This will return me to my \"regular\" terminal window where I can still type commands.\n",
      "\n",
      "To return to the `tmux session`, use:\n",
      "\n",
      "```\n",
      "tmux attach -t [session_name]\n",
      "```\n",
      "\n",
      "You can `kill` any `tmux session` with:\n",
      "\n",
      "```\n",
      "tmux kill-session -t [session_name]\n",
      "```"
     ]
    }
   ],
   "source": [
    "cat ../README_copy_renamed.txt"
   ]
  },
  {
   "cell_type": "code",
   "execution_count": 26,
   "metadata": {},
   "outputs": [
    {
     "name": "stdout",
     "output_type": "stream",
     "text": [
      "This repository is a \u001b[01;31m\u001b[Ksimplified\u001b[m\u001b[K version of the `kaldi` toolkit, used\n"
     ]
    }
   ],
   "source": [
    "grep \"simplified\" ../README_copy_renamed.txt"
   ]
  },
  {
   "cell_type": "markdown",
   "metadata": {},
   "source": [
    "`-E` flag를 사용하여서 `grep`에서 `regular expression`을 이용한 검색을 할 수도 있습니다. "
   ]
  },
  {
   "cell_type": "code",
   "execution_count": 27,
   "metadata": {},
   "outputs": [
    {
     "name": "stdout",
     "output_type": "stream",
     "text": [
      "        \"value\": \"/scratch/kaldi/egs/INSTRUCTIONAL/raw_data/\u001b[01;31m\u001b[K3\u001b[m\u001b[K-gram.pruned.\u001b[01;31m\u001b[K3\u001b[m\u001b[Ke-\u001b[01;31m\u001b[K7\u001b[m\u001b[K.arpa\"\n",
      "        \"value\": \"/scratch/kaldi/egs/INSTRUCTIONAL/raw_data/LibriSpeech/train-clean-\u001b[01;31m\u001b[K100\u001b[m\u001b[K_audio\"\n",
      "        \"value\": \u001b[01;31m\u001b[K4\u001b[m\u001b[K\n",
      "        \"value\": \u001b[01;31m\u001b[K10000\u001b[m\u001b[K\n",
      "        \"value\": \u001b[01;31m\u001b[K5000\u001b[m\u001b[K\n",
      "        \"value\": \u001b[01;31m\u001b[K10\u001b[m\u001b[K\n",
      "        \"value\": \u001b[01;31m\u001b[K4\u001b[m\u001b[K\n",
      "        \"value\": \u001b[01;31m\u001b[K4\u001b[m\u001b[K\n",
      "        \"value\": \u001b[01;31m\u001b[K10\u001b[m\u001b[K\n",
      "        \"value\": \u001b[01;31m\u001b[K13\u001b[m\u001b[K.\u001b[01;31m\u001b[K0\u001b[m\u001b[K\n",
      "        \"value\": \u001b[01;31m\u001b[K7000\u001b[m\u001b[K\n"
     ]
    }
   ],
   "source": [
    "grep -E \"[0-9]+\" kaldi_config.json"
   ]
  },
  {
   "cell_type": "markdown",
   "metadata": {},
   "source": [
    "**Note**: `grep`을 이용해서 할 수 있는 일은 정말 많습니다. 설명한 것 외에도 `grep`으로 할 수 있는 다른 몇 가지 일들을 [이 곳](https://www.panix.com/~elflord/unix/grep.html)에서 확인할 수 있습니다. "
   ]
  },
  {
   "cell_type": "markdown",
   "metadata": {},
   "source": [
    "## `|`: piping commands\n",
    "\n",
    "두 개의 명령어 사이에 `|` (`shift + \\`)를 삽입하게 되면, 첫 번째 명령어의 결과를 두 번째 명령어의 입력으로 사용하게 됩니다. 그리고 두 번째 명령어의 결과를 출력합니다. \n",
    "\n",
    "**Note:** `kaldi`에서는 `pipe`가 정말 많이 사용됩니다. `kaldi`에서 사용된 스크립트를 열어보면 `|`를 빈번하게 볼 수 있습니다. "
   ]
  },
  {
   "cell_type": "code",
   "execution_count": 28,
   "metadata": {},
   "outputs": [
    {
     "name": "stdout",
     "output_type": "stream",
     "text": [
      "\u001b[0m\u001b[01;32m0_0-shell_basics.ipynb\u001b[0m\n",
      "\u001b[01;32m0_1-functionality_confirmation.ipynb\u001b[0m\n",
      "10_HW-final_experiment.ipynb\n",
      "\u001b[01;32m1_1-downloading_and_preparing_librispeech_files.ipynb\u001b[0m\n",
      "\u001b[01;32m1_2-examining_required_files.ipynb\u001b[0m\n",
      "\u001b[01;32m1_3-building_language_model.ipynb\u001b[0m\n",
      "1_4-examining-language-model.ipynb\n",
      "1_HW_template-examining_language_model.ipynb\n",
      "\u001b[01;32m2_0-understanding_config_and_scripts.ipynb\u001b[0m\n",
      "\u001b[01;32m2_1-run_prepare_data.ipynb\u001b[0m\n",
      "2_10-inspecting_exp_dir.ipynb\n",
      "2_11-examining_acoustic_models.ipynb\n",
      "2_2-inspecting_data_dir.ipynb\n",
      "2_3-run_feature_extraction.ipynb\n",
      "2_4-inspecting_mfcc_dir.ipynb\n",
      "2_5-examining_mfccs.ipynb\n",
      "2_6-understanding_config.ipynb\n",
      "2_7-run_train_phones-monophones.ipynb\n",
      "2_8-run_train_phones-deltas.ipynb\n",
      "2_9-run_train_phones-lda.ipynb\n",
      "2_HW_template-examining_mfccs.ipynb\n",
      "3_1-creating_G_fst.ipynb\n",
      "3_2-examining_G_fst.ipynb\n",
      "3_3-run_compile_graph-monophones.ipynb\n",
      "3_4-run_compile_graph-triphones.ipynb\n",
      "3_5-run_compile_graph-triphones_lda.ipynb\n",
      "3_6-inspecting_HCLG_fst.ipynb\n",
      "3_HW_template-manipulating_lm_with_openfst.ipynb\n",
      "4_0-test_data_subset.ipynb\n",
      "4_1-run_test-monophones.ipynb\n",
      "4_2-run_test-triphones.ipynb\n",
      "4_3-run_test-triphones_lda.ipynb\n",
      "4_4-inspecting_decode_test_dir_and_experiment_dir.ipynb\n",
      "__init__.py\n",
      "\u001b[01;32mcmd.sh\u001b[0m\n",
      "\u001b[01;34mconf\u001b[0m\n",
      "\u001b[01;32mkaldi_config.json\u001b[0m\n",
      "\u001b[01;34mlocal\u001b[0m\n",
      "\u001b[01;32mpath.sh\u001b[0m\n",
      "\u001b[01;34mresource_files\u001b[0m\n",
      "\u001b[01;32mrun_clear_all.sh\u001b[0m\n",
      "\u001b[01;32mrun_compile_graph.sh\u001b[0m\n",
      "\u001b[01;32mrun_feature_extraction.sh\u001b[0m\n",
      "\u001b[01;32mrun_prepare_data.sh\u001b[0m\n",
      "\u001b[01;32mrun_test.sh\u001b[0m\n",
      "\u001b[01;32mrun_train_phones.sh\u001b[0m\n",
      "\u001b[01;32mstart_jupyter.sh\u001b[0m\n",
      "\u001b[01;34msteps\u001b[0m\n",
      "\u001b[01;34mutils\u001b[0m\n"
     ]
    }
   ],
   "source": [
    "ls"
   ]
  },
  {
   "cell_type": "code",
   "execution_count": 29,
   "metadata": {},
   "outputs": [
    {
     "name": "stdout",
     "output_type": "stream",
     "text": [
      "0_0-shell_basics.\u001b[01;31m\u001b[Kipynb\u001b[m\u001b[K\n",
      "0_1-functionality_confirmation.\u001b[01;31m\u001b[Kipynb\u001b[m\u001b[K\n",
      "10_HW-final_experiment.\u001b[01;31m\u001b[Kipynb\u001b[m\u001b[K\n",
      "1_1-downloading_and_preparing_librispeech_files.\u001b[01;31m\u001b[Kipynb\u001b[m\u001b[K\n",
      "1_2-examining_required_files.\u001b[01;31m\u001b[Kipynb\u001b[m\u001b[K\n",
      "1_3-building_language_model.\u001b[01;31m\u001b[Kipynb\u001b[m\u001b[K\n",
      "1_4-examining-language-model.\u001b[01;31m\u001b[Kipynb\u001b[m\u001b[K\n",
      "1_HW_template-examining_language_model.\u001b[01;31m\u001b[Kipynb\u001b[m\u001b[K\n",
      "2_0-understanding_config_and_scripts.\u001b[01;31m\u001b[Kipynb\u001b[m\u001b[K\n",
      "2_1-run_prepare_data.\u001b[01;31m\u001b[Kipynb\u001b[m\u001b[K\n",
      "2_10-inspecting_exp_dir.\u001b[01;31m\u001b[Kipynb\u001b[m\u001b[K\n",
      "2_11-examining_acoustic_models.\u001b[01;31m\u001b[Kipynb\u001b[m\u001b[K\n",
      "2_2-inspecting_data_dir.\u001b[01;31m\u001b[Kipynb\u001b[m\u001b[K\n",
      "2_3-run_feature_extraction.\u001b[01;31m\u001b[Kipynb\u001b[m\u001b[K\n",
      "2_4-inspecting_mfcc_dir.\u001b[01;31m\u001b[Kipynb\u001b[m\u001b[K\n",
      "2_5-examining_mfccs.\u001b[01;31m\u001b[Kipynb\u001b[m\u001b[K\n",
      "2_6-understanding_config.\u001b[01;31m\u001b[Kipynb\u001b[m\u001b[K\n",
      "2_7-run_train_phones-monophones.\u001b[01;31m\u001b[Kipynb\u001b[m\u001b[K\n",
      "2_8-run_train_phones-deltas.\u001b[01;31m\u001b[Kipynb\u001b[m\u001b[K\n",
      "2_9-run_train_phones-lda.\u001b[01;31m\u001b[Kipynb\u001b[m\u001b[K\n",
      "2_HW_template-examining_mfccs.\u001b[01;31m\u001b[Kipynb\u001b[m\u001b[K\n",
      "3_1-creating_G_fst.\u001b[01;31m\u001b[Kipynb\u001b[m\u001b[K\n",
      "3_2-examining_G_fst.\u001b[01;31m\u001b[Kipynb\u001b[m\u001b[K\n",
      "3_3-run_compile_graph-monophones.\u001b[01;31m\u001b[Kipynb\u001b[m\u001b[K\n",
      "3_4-run_compile_graph-triphones.\u001b[01;31m\u001b[Kipynb\u001b[m\u001b[K\n",
      "3_5-run_compile_graph-triphones_lda.\u001b[01;31m\u001b[Kipynb\u001b[m\u001b[K\n",
      "3_6-inspecting_HCLG_fst.\u001b[01;31m\u001b[Kipynb\u001b[m\u001b[K\n",
      "3_HW_template-manipulating_lm_with_openfst.\u001b[01;31m\u001b[Kipynb\u001b[m\u001b[K\n",
      "4_0-test_data_subset.\u001b[01;31m\u001b[Kipynb\u001b[m\u001b[K\n",
      "4_1-run_test-monophones.\u001b[01;31m\u001b[Kipynb\u001b[m\u001b[K\n",
      "4_2-run_test-triphones.\u001b[01;31m\u001b[Kipynb\u001b[m\u001b[K\n",
      "4_3-run_test-triphones_lda.\u001b[01;31m\u001b[Kipynb\u001b[m\u001b[K\n",
      "4_4-inspecting_decode_test_dir_and_experiment_dir.\u001b[01;31m\u001b[Kipynb\u001b[m\u001b[K\n"
     ]
    }
   ],
   "source": [
    "ls | grep \"ipynb\""
   ]
  },
  {
   "cell_type": "code",
   "execution_count": 30,
   "metadata": {},
   "outputs": [
    {
     "name": "stdout",
     "output_type": "stream",
     "text": [
      "This repository is a \u001b[01;31m\u001b[Ksimplified\u001b[m\u001b[K version of the `kaldi` toolkit, used\n"
     ]
    }
   ],
   "source": [
    "cat ../README_copy_renamed.txt | grep \"simplified\""
   ]
  },
  {
   "cell_type": "markdown",
   "metadata": {},
   "source": [
    "## `variables`\n",
    "\n",
    "`shell`에서는 다음과 같은 방법으로 `variable` (변수)를 설정할 수 있습니다. \n",
    "\n",
    "```\n",
    "variable_name=\"string or number to capture\"\n",
    "```\n",
    "\n",
    "그리고 `${variable_name}`을 이용하여서 다시 불러올 수 있습니다. `echo` 명령어로 `variable`의 내용을 출력할 수 있습니다. "
   ]
  },
  {
   "cell_type": "code",
   "execution_count": 31,
   "metadata": {},
   "outputs": [
    {
     "name": "stdout",
     "output_type": "stream",
     "text": [
      "I love cats.\n"
     ]
    }
   ],
   "source": [
    "some_variable=\"I love cats.\"\n",
    "echo ${some_variable}        # many people think {} wrapped around variables is a useful convention for clarity"
   ]
  },
  {
   "cell_type": "markdown",
   "metadata": {},
   "source": [
    "## `for` loop\n",
    "\n",
    "\n",
    "`shell`에서 `for` 루프의 문법은 다음과 같습니다. \n",
    "\n",
    "```\n",
    "for [variable] in [list]; do\n",
    "    [some_command]\n",
    "done\n",
    "```"
   ]
  },
  {
   "cell_type": "code",
   "execution_count": 32,
   "metadata": {},
   "outputs": [
    {
     "name": "stdout",
     "output_type": "stream",
     "text": [
      "a\n",
      "b\n",
      "c\n"
     ]
    }
   ],
   "source": [
    "for letter in a b c; do\n",
    "    echo ${letter}        \n",
    "done"
   ]
  },
  {
   "cell_type": "markdown",
   "metadata": {},
   "source": [
    "## `if`/`then`"
   ]
  },
  {
   "cell_type": "markdown",
   "metadata": {},
   "source": [
    "`shell`에서 `if/then`의 문법은 다음과 같습니다. \n",
    "\n",
    "```\n",
    "if [ <condition> ]; then\n",
    "    some_command\n",
    "fi\n",
    "```\n",
    "\n",
    "\n",
    "\n",
    "`condition`에 따라서 `if/then`의 구조는 더욱 복잡해질 수 있습니다. [이 곳](https://ryanstutorials.net/bash-scripting-tutorial/bash-if-statements.php) 에서 `shell`에서 사용되는 `if`/`then` 구조의 예를 볼 수 있습니다."
   ]
  },
  {
   "cell_type": "code",
   "execution_count": 33,
   "metadata": {},
   "outputs": [
    {
     "name": "stdout",
     "output_type": "stream",
     "text": [
      "At least it's not Monday\n"
     ]
    }
   ],
   "source": [
    "today=Tuesday\n",
    "if [ ${today} == \"Tuesday\" ]; then\n",
    "    echo \"At least it's not Monday\"\n",
    "fi"
   ]
  },
  {
   "cell_type": "markdown",
   "metadata": {},
   "source": [
    "`elif` 나 `else` 는 다음과 같이 추가할 수 있습니다."
   ]
  },
  {
   "cell_type": "code",
   "execution_count": 34,
   "metadata": {},
   "outputs": [
    {
     "name": "stdout",
     "output_type": "stream",
     "text": [
      "Can't wait for Friday\n"
     ]
    }
   ],
   "source": [
    "if [ ${today} == \"Monday\" ]; then\n",
    "    echo \"I hate Mondays\"\n",
    "elif [ ${today} == \"Friday\" ]; then\n",
    "    echo \"TGIF!  Woot!\"\n",
    "else\n",
    "    echo \"Can't wait for Friday\"\n",
    "fi"
   ]
  },
  {
   "cell_type": "markdown",
   "metadata": {},
   "source": [
    "## `chmod`: change permissions of file\n",
    "\n",
    "`linux` 체계에서는 파일 권한이 중요합니다. 파일에 실행권한이 제대로 주어져있지 않을 경우, 파일을 어떤 `interpreter`로 실행해야 하는지 명시해주어야 하므로, 조금 귀찮은 일이 생길 수 있습니다.\n",
    "\n",
    "그러한 경우 `chmod` 명령어를 이용하여서 파일의 권한을 변경할 수 있습니다. `chmod` 명령어는 매우 복잡합니다. (참조: http://endlessgeek.com/2014/02/chmod-explained-linux-file-permissions/) 하지만 이번 워크샵에서는 `shell` 스크립트 (`.sh`) 파일들에 실행권한이 있는지만 확인하면 됩니다. \n",
    "\n",
    "실행권한이 주어져있지 않을 경우, `chmod a+rwx [filename]` 의 명령어를 입력하여서 권한을 부여할 수 있습니다. "
   ]
  },
  {
   "cell_type": "code",
   "execution_count": 35,
   "metadata": {},
   "outputs": [],
   "source": [
    "echo \"I love cats\" > sample_executable.sh   # make a quick script"
   ]
  },
  {
   "cell_type": "markdown",
   "metadata": {},
   "source": [
    "`ls -lah` 명령어를 사용해서 보면 `읽기 전용` 권한이 부여되어 있음을 확인할 수 있습니다. "
   ]
  },
  {
   "cell_type": "code",
   "execution_count": 36,
   "metadata": {},
   "outputs": [
    {
     "name": "stdout",
     "output_type": "stream",
     "text": [
      "-rw-r--r-- 1 root root   12 May 29 13:12 \u001b[01;31m\u001b[Ksample_executable.sh\u001b[m\u001b[K\n"
     ]
    }
   ],
   "source": [
    "ls -lah | grep sample_executable.sh"
   ]
  },
  {
   "cell_type": "markdown",
   "metadata": {},
   "source": [
    "`chmod a+rwx` 명령어를 사용하여 다른 권한을 부여할 수 있습니다. "
   ]
  },
  {
   "cell_type": "code",
   "execution_count": 37,
   "metadata": {},
   "outputs": [
    {
     "name": "stdout",
     "output_type": "stream",
     "text": [
      "-rwxrwxrwx 1 root root   12 May 29 13:12 \u001b[01;31m\u001b[Ksample_executable.sh\u001b[m\u001b[K\n"
     ]
    }
   ],
   "source": [
    "chmod a+rwx sample_executable.sh && ls -lah | grep sample_executable.sh"
   ]
  },
  {
   "cell_type": "markdown",
   "metadata": {},
   "source": [
    "## `sudo`: become the super-user\n",
    "\n",
    "Windows의 `관리자권한`과 비슷합니다. 파일을 실행하였을 때 `permission denied`와 같은 에러 메시지가 나온다면, `sudo`를 이용하여 명령어를 실행하거나 파일을 실행하여야 합니다. `sudo`는 모든 명령어 맨 앞부분에 위치하게 되며, 사용자 권한을 확인하기 위해서 비밀번호를 입력하여야 할 수도 있습니다. `kaldi`에서는 `/root`에서 파일을 다루는 경우가 많아, `sudo`를 거의 매 번 사용하게 됩니다. \n",
    "\n",
    "`sudo`에 관한 자세한 내용은 [이 곳](http://aplawrence.com/Basics/sudo.html)에서 확인하실 수 있습니다. "
   ]
  }
 ],
 "metadata": {
  "kernelspec": {
   "display_name": "Bash",
   "language": "bash",
   "name": "bash"
  },
  "language_info": {
   "codemirror_mode": "shell",
   "file_extension": ".sh",
   "mimetype": "text/x-sh",
   "name": "bash"
  }
 },
 "nbformat": 4,
 "nbformat_minor": 2
}
