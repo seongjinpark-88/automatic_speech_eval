{
 "cells": [
  {
   "cell_type": "markdown",
   "metadata": {},
   "source": [
    "# 2.7: `run_train_phones.sh` - Building the acoustic model (`monophones`)\n",
    "\n",
    "지금부터 `ASR` pipeline을 위한 acoustic model을 구축해 보겠습니다. 이 모델은 기존 음성 파일의 구간들에 해당하는 phone들을 예측하는데 사용될 것입니다. \n",
    "\n",
    "Acoustic model에 관한 간략한 설명은 [이 곳](https://www.eleanorchodroff.com/tutorial/kaldi/kaldi-concept.html)에서 확인할 수 있습니다. "
   ]
  },
  {
   "cell_type": "markdown",
   "metadata": {},
   "source": [
    "이 `notebook`에서는 초기 layer인 `monophone`을 이용한 acoustic model을 구축해보도록 하겠습니다. "
   ]
  },
  {
   "cell_type": "markdown",
   "metadata": {},
   "source": [
    "## Setting `kaldi_config.json`\n",
    "\n",
    "`kaldi_config.json` 파일에서 `run_train_phones` 부분을 다음과 같이 수정한 후 실행해주세요. \n",
    "\n",
    " - `training_type`=`mono`      # since we are only doing first layer\n",
    " - `num_gaussians`=`10000`     # number of `gaussian`s used to build the model\n",
    " - `data_reduction_rate`=`10`  # monophone training can be done on subset of data, in this case 1/10th, for speed\n",
    " - `non_vanilla_train_mono_hyperparameters`=`null`\n",
    " - `non_vanilla_mono_align_hyperparameters`=`null`\n",
    " \n",
    "다른 부분들은 크게 신경쓰지 않으셔도 괜찮습니다. "
   ]
  },
  {
   "cell_type": "code",
   "execution_count": null,
   "metadata": {},
   "outputs": [],
   "source": [
    "head -n30 run_train_phones.sh"
   ]
  },
  {
   "cell_type": "markdown",
   "metadata": {},
   "source": [
    "## Running `run_train_phones.sh`"
   ]
  },
  {
   "cell_type": "markdown",
   "metadata": {},
   "source": [
    "`run_train_phones.sh`을 실행하겠습니다. 결과에 에러가 없는지 잘 확인해주세요. "
   ]
  },
  {
   "cell_type": "code",
   "execution_count": null,
   "metadata": {},
   "outputs": [],
   "source": [
    "./run_train_phones.sh kaldi_config.json"
   ]
  }
 ],
 "metadata": {
  "kernelspec": {
   "display_name": "Bash",
   "language": "bash",
   "name": "bash"
  },
  "language_info": {
   "codemirror_mode": "shell",
   "file_extension": ".sh",
   "mimetype": "text/x-sh",
   "name": "bash"
  }
 },
 "nbformat": 4,
 "nbformat_minor": 1
}
