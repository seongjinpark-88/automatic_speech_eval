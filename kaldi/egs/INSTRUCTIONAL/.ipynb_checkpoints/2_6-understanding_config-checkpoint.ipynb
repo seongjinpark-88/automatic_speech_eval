{
 "cells": [
  {
   "cell_type": "markdown",
   "metadata": {},
   "source": [
    "# 2.6: Understanding the `config` file for `run_train_phones.sh`"
   ]
  },
  {
   "cell_type": "markdown",
   "metadata": {},
   "source": [
    "`run_train_phones.sh` 스크립트는 acoustic model을 구축하기 위한 여러 개의 스크립트를 한 번에 실행하게 해 주는 스크립트입니다. 각각의 스크립트는 이어지는 `notebook`에서 살펴보겠습니다."
   ]
  },
  {
   "cell_type": "code",
   "execution_count": null,
   "metadata": {},
   "outputs": [],
   "source": [
    "cat kaldi_config.json | grep -A55 run_train_phones"
   ]
  },
  {
   "cell_type": "markdown",
   "metadata": {},
   "source": [
    "### `training_type`\n",
    "\n",
    "이 코드는 현재 acoustic model을 구축하는 **세** 종류의 layer 중 하나를 고를 수 있게 되어 있습니다. 각각의 `training_type`은 다음과 같습니다. \n",
    "\n",
    " - layer 1: `training_type`=`monophones`\n",
    " - layer 2: `training_type`=`triphones`\n",
    " - layer 3: `training_type`=`lda_mllt`\n",
    " \n",
    "다음 `notebook`에서 각각이 무엇인지 알아보겠습니다. 지금 시점에서 중요한 것은 `training_type`을 설정할 때, 이전 `layer`에 관련된 내용은 실행된 상태여야 한다는 것입니다. 즉, `layer 2`에 해당하는 **triphones**로 세팅하여 스크립트를 실행하기 위해서는 `layer 1`의 **monophones**를 실행한 이후에 실행할 수 있다는 것입니다. \n",
    "\n",
    "또한 이 코드는 이전 `layer`의 모델을 새로 구축하기 이전에, 이미 구축된 것이 있는지 확인합니다. 즉, `training_type=triphones`를 **이미** 실행하여 결과를 얻은 상태에서 `training_type=lda_mllt`를 실행하게 되면, 이전에 구축된 `triphones`를 다시 사용하게 된다는 것입니다. "
   ]
  },
  {
   "cell_type": "markdown",
   "metadata": {},
   "source": [
    "### `num_gaussians` and `num_leaves`"
   ]
  },
  {
   "cell_type": "markdown",
   "metadata": {},
   "source": [
    "이 두 파라미터는 acoustic model의 성능을 결정하는데 중요한 역할을 합니다. 각각의 파라미터는 나중에 자세하게 알아보겠습니다. \n",
    "\n",
    "현재 시점에서 중요한 것은, 이 두 `hyperparameters`를 설정할 때, 이전 레이어에서 사용된 이후 다음 레이어를 구축할 때에는 그 값들이 증가한다는 것입니다. \n",
    "\n",
    "* `num_gaussians`은 처음으로 `training_type`=`monophones`에서 사용되며, 다음 레이어에서 값이 증가합니다.\n",
    "* `num_leaves` 은 처음으로 `training_type`=`triphones`에서 사용되며, 다음 레이어에서 값이 증가합니다. "
   ]
  },
  {
   "cell_type": "markdown",
   "metadata": {},
   "source": [
    "### `non-vanilla hyperparameters`\n",
    "\n",
    "이전에 알아본 것처럼, `kaldi_config.json` 파일에 모든 `hyperparameter`가 포함되어 있지 않습니다. 그러한 경우, `non-vanilla hyperparameters`를 이용하여서 다른 `hyperparameters`도 변경할 수 있습니다. \n",
    "\n",
    "```\n",
    "\"non_vanilla_train_deltas_hyperparameters\": {\n",
    "    \"flag\": \"-s\",\n",
    "    \"value\": \"--num_iters 5 --beam 20\"\n",
    "...\n",
    "```"
   ]
  }
 ],
 "metadata": {
  "kernelspec": {
   "display_name": "Bash",
   "language": "bash",
   "name": "bash"
  },
  "language_info": {
   "codemirror_mode": "shell",
   "file_extension": ".sh",
   "mimetype": "text/x-sh",
   "name": "bash"
  }
 },
 "nbformat": 4,
 "nbformat_minor": 2
}
