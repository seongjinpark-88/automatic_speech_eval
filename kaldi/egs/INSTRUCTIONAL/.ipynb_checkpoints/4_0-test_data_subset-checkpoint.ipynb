{
 "cells": [
  {
   "cell_type": "markdown",
   "metadata": {},
   "source": [
    "# 4.0: Taking a subset of `test_dir`\n",
    "\n",
    "Decoding the entire `test_dir` (~2300 audio samples) takes too long for our purposes here.  So this notebook will take a subset of that directory so that the next few notebooks go faster."
   ]
  },
  {
   "cell_type": "markdown",
   "metadata": {},
   "source": [
    "## Take a subset of data\n",
    "\n",
    "**처음** `n` 개의 샘플을 이용하여서 이후 노트북을 확인하도록 하겠습니다. 전체 데이터를 decoding 할 경우, 많은 시간이 걸리기 때문입니다. `n` 값은 변경하실 수 있지만, 변경하시면 결과가 달라질 수 있습니다. "
   ]
  },
  {
   "cell_type": "code",
   "execution_count": 1,
   "metadata": {},
   "outputs": [],
   "source": [
    "n=250"
   ]
  },
  {
   "cell_type": "markdown",
   "metadata": {},
   "source": [
    "`utils`에는 병렬처리를 위해 데이터를 분리해주는 `split_data`라는 스크립트가 있습니다. 이 스크립트는 `utt2spk` 파일을 이용합니다. 그러므로 우리는 해당 파일의 일부를 가지고 오겠습니다. "
   ]
  },
  {
   "cell_type": "code",
   "execution_count": 2,
   "metadata": {},
   "outputs": [
    {
     "name": "stdout",
     "output_type": "stream",
     "text": [
      "total 1.2M\n",
      "drwxr-xr-x 2 root root 4.0K Mar  2 17:10 \u001b[0m\u001b[01;34m.\u001b[0m\n",
      "drwxr-xr-x 8 root root 4.0K Mar  2 16:31 \u001b[01;34m..\u001b[0m\n",
      "-rw-r--r-- 1 root root 202K Mar  2 16:31 cmvn.scp\n",
      "-rw-r--r-- 1 root root 220K Mar  2 16:31 feats.scp\n",
      "-rw-r--r-- 1 root root  82K Mar  2 16:31 spk2utt\n",
      "-rw-r--r-- 1 root root 319K Mar  2 16:31 text\n",
      "-rw-r--r-- 1 root root  82K Mar  2 16:31 utt2spk\n",
      "-rw-r--r-- 1 root root 274K Mar  2 16:31 wav.scp\n"
     ]
    }
   ],
   "source": [
    "ls -lah data/test_dir"
   ]
  },
  {
   "cell_type": "markdown",
   "metadata": {},
   "source": [
    "아래 명령어는 다음과 같은 작업을 합니다. \n",
    " 1. **기존의** `utt2spk` 파일을 `utt2spk.bak` 파일로 복사합니다. (백업)\n",
    " 2. `utt2spk` 파일을 **기존** 파일에서 일부를 추출한 내용으로 변경합니다. "
   ]
  },
  {
   "cell_type": "code",
   "execution_count": 3,
   "metadata": {},
   "outputs": [],
   "source": [
    "cp data/test_dir/utt2spk data/test_dir/utt2spk.bak"
   ]
  },
  {
   "cell_type": "code",
   "execution_count": 4,
   "metadata": {},
   "outputs": [],
   "source": [
    "head -n${n} data/test_dir/utt2spk.bak > data/test_dir/utt2spk"
   ]
  },
  {
   "cell_type": "markdown",
   "metadata": {},
   "source": [
    "명령어가 제대로 작동하였는지는 전체 파일(`utt2spk`)이 몇 개의 줄로 구성되었는지 출력하여 확인할 수 있습니다. "
   ]
  },
  {
   "cell_type": "code",
   "execution_count": 5,
   "metadata": {},
   "outputs": [
    {
     "name": "stdout",
     "output_type": "stream",
     "text": [
      "250\n"
     ]
    }
   ],
   "source": [
    "cat data/test_dir/utt2spk | wc -l"
   ]
  },
  {
   "cell_type": "markdown",
   "metadata": {},
   "source": [
    "**Note:** 이 subset을 이용하여 이어지는 **모든** `notebook`을 실행할 것이기 때문에, 이 작업은 한 번만 하면 됩니다. "
   ]
  }
 ],
 "metadata": {
  "kernelspec": {
   "display_name": "Bash",
   "language": "bash",
   "name": "bash"
  },
  "language_info": {
   "codemirror_mode": "shell",
   "file_extension": ".sh",
   "mimetype": "text/x-sh",
   "name": "bash"
  }
 },
 "nbformat": 4,
 "nbformat_minor": 2
}
