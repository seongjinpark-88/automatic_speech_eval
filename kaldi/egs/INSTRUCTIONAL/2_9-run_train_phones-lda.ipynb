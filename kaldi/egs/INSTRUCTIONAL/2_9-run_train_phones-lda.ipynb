{
 "cells": [
  {
   "cell_type": "markdown",
   "metadata": {},
   "source": [
    "# 2.9: `run_train_phones.sh` - Building the acoustic model (`LDA_MLLT`)\n",
    "\n",
    "Acoustic model의 세 번째 layer인 `LDA_MLLT`입니다. \n",
    "\n",
    "**Note:**  **반드시** `2_7-run_train_phones-monophones.ipynb` **그리고** `2_8-run_train_phones-deltas.ipynb` 을 이 `notebook`을 실행하기 **이전에** 실행한 상태여야 합니다. "
   ]
  },
  {
   "cell_type": "markdown",
   "metadata": {},
   "source": [
    "## Setting `kaldi_config.json`\n",
    "\n",
    "`kaldi_config.json` 파일에서 `run_train_phones` 부분을 다음과 같이 수정하여 주세요. \n",
    " - `training_type`=`lda_mllt`  # will build an LDA_MLLT model on top of the triphone model\n",
    " - `num_gaussians`=`10000`     # number of `gaussian`s used to build the model\n",
    " - `num_leaves`=`5000`         # number of leaves in decision tree\n",
    " - `non_vanilla_train_lda_mllt_hyperparameters`=`null`\n",
    " - `non_vanilla_lda_mllt_align_hyperparameters`=`null`\n",
    " \n",
    "다른 `hyperparameters`는 training에 큰 영향을 끼치지 않습니다. ."
   ]
  },
  {
   "cell_type": "code",
   "execution_count": null,
   "metadata": {},
   "outputs": [],
   "source": [
    "head -n30 run_train_phones.sh"
   ]
  },
  {
   "cell_type": "markdown",
   "metadata": {},
   "source": [
    "## Running `run_train_phones.sh`"
   ]
  },
  {
   "cell_type": "markdown",
   "metadata": {},
   "source": [
    "`run_train_phones.sh`을 실행하겠습니다. 결과에 에러가 없는지 잘 확인해주세요. "
   ]
  },
  {
   "cell_type": "code",
   "execution_count": null,
   "metadata": {},
   "outputs": [],
   "source": [
    "./run_train_phones.sh kaldi_config.json"
   ]
  },
  {
   "cell_type": "markdown",
   "metadata": {},
   "source": [
    "다음과 같은 경고 메시지가 뜰 수도 있습니다. \n",
    "\n",
    "```\n",
    "WARNING (gmm-init-model[5.2.191~1-48be1]:InitAmGmm():gmm-init-model.cc:55) Tree has pdf-id 50 with no stats; corresponding phone list: 202 203 204 205 \n",
    "This is a bad warning.\n",
    "```\n",
    "\n",
    "이전 `notebook`과 같은 종류의 경고 메시지입니다. "
   ]
  }
 ],
 "metadata": {
  "kernelspec": {
   "display_name": "Bash",
   "language": "bash",
   "name": "bash"
  },
  "language_info": {
   "codemirror_mode": "shell",
   "file_extension": ".sh",
   "mimetype": "text/x-sh",
   "name": "bash"
  }
 },
 "nbformat": 4,
 "nbformat_minor": 2
}
